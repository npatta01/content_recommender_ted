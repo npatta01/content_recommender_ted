{
 "cells": [
  {
   "cell_type": "code",
   "execution_count": 1,
   "metadata": {
    "ExecuteTime": {
     "end_time": "2018-05-18T10:28:41.962673Z",
     "start_time": "2018-05-18T06:28:41.957802-04:00"
    },
    "slideshow": {
     "slide_type": "slide"
    }
   },
   "outputs": [
    {
     "name": "stderr",
     "output_type": "stream",
     "text": [
      "/Users/nidhin.pattaniyil/anaconda3/envs/py36/lib/python3.6/importlib/_bootstrap.py:219: RuntimeWarning: numpy.dtype size changed, may indicate binary incompatibility. Expected 96, got 88\n",
      "  return f(*args, **kwds)\n",
      "/Users/nidhin.pattaniyil/anaconda3/envs/py36/lib/python3.6/importlib/_bootstrap.py:219: RuntimeWarning: numpy.dtype size changed, may indicate binary incompatibility. Expected 96, got 88\n",
      "  return f(*args, **kwds)\n",
      "/Users/nidhin.pattaniyil/anaconda3/envs/py36/lib/python3.6/importlib/_bootstrap.py:219: RuntimeWarning: numpy.dtype size changed, may indicate binary incompatibility. Expected 96, got 88\n",
      "  return f(*args, **kwds)\n",
      "/Users/nidhin.pattaniyil/anaconda3/envs/py36/lib/python3.6/importlib/_bootstrap.py:219: RuntimeWarning: numpy.dtype size changed, may indicate binary incompatibility. Expected 96, got 88\n",
      "  return f(*args, **kwds)\n"
     ]
    }
   ],
   "source": [
    "import pandas as pd\n",
    "import glob\n",
    "import json\n",
    "from tqdm import tqdm\n",
    "import re\n",
    "from datetime import datetime\n",
    "import gensim\n",
    "import logging\n",
    "import os\n",
    "import shutil"
   ]
  },
  {
   "cell_type": "code",
   "execution_count": 2,
   "metadata": {
    "ExecuteTime": {
     "end_time": "2018-05-18T10:28:42.856867Z",
     "start_time": "2018-05-18T06:28:42.853738-04:00"
    },
    "slideshow": {
     "slide_type": "slide"
    }
   },
   "outputs": [],
   "source": [
    "logging.basicConfig(format='%(levelname)s : %(message)s', level=logging.INFO)\n",
    "logging.root.level = logging.INFO  # ipython sometimes messes up the logging setup; restore"
   ]
  },
  {
   "cell_type": "code",
   "execution_count": null,
   "metadata": {
    "ExecuteTime": {
     "end_time": "2018-05-18T02:32:04.944420Z",
     "start_time": "2018-05-17T22:32:01.835176-04:00"
    },
    "scrolled": false
   },
   "outputs": [],
   "source": [
    "!pip install pysrt"
   ]
  },
  {
   "cell_type": "code",
   "execution_count": 3,
   "metadata": {
    "ExecuteTime": {
     "end_time": "2018-05-18T02:32:09.206506Z",
     "start_time": "2018-05-17T22:32:09.195091-04:00"
    }
   },
   "outputs": [],
   "source": [
    "import pysrt"
   ]
  },
  {
   "cell_type": "markdown",
   "metadata": {
    "collapsed": true
   },
   "source": [
    "\n",
    "kaggle datasets download -d goweiting/ted-talks-transcript    \n",
    "Use the Kaggle API to download dataset files.      \n",
    "https://github.com/Kaggle/kaggle-api    \n",
    "\n",
    "https://www.kaggle.com/goweiting/ted-talks-transcript/data\n",
    "\n",
    "Doc2vec   \n",
    "https://medium.com/scaleabout/a-gentle-introduction-to-doc2vec-db3e8c0cce5e"
   ]
  },
  {
   "cell_type": "code",
   "execution_count": null,
   "metadata": {},
   "outputs": [],
   "source": []
  },
  {
   "cell_type": "code",
   "execution_count": null,
   "metadata": {},
   "outputs": [],
   "source": []
  },
  {
   "cell_type": "code",
   "execution_count": null,
   "metadata": {
    "ExecuteTime": {
     "end_time": "2018-05-18T02:03:40.672431Z",
     "start_time": "2018-05-17T22:03:40.548396-04:00"
    }
   },
   "outputs": [],
   "source": [
    "!ls -lah ~/.kaggle/datasets/goweiting/ted-talks-transcript/"
   ]
  },
  {
   "cell_type": "code",
   "execution_count": null,
   "metadata": {
    "ExecuteTime": {
     "end_time": "2018-05-18T02:03:45.933546Z",
     "start_time": "2018-05-17T22:03:45.930834-04:00"
    }
   },
   "outputs": [],
   "source": [
    "#!unzip /Users/nidhin/.kaggle/datasets/goweiting/ted-talks-transcript/tedDirector.zip"
   ]
  },
  {
   "cell_type": "code",
   "execution_count": 4,
   "metadata": {
    "ExecuteTime": {
     "end_time": "2018-05-18T02:22:02.198598Z",
     "start_time": "2018-05-17T22:22:02.195997-04:00"
    }
   },
   "outputs": [],
   "source": [
    "base_path= os.path.expanduser(\"~/.kaggle/datasets/goweiting/ted-talks-transcript/\")"
   ]
  },
  {
   "cell_type": "code",
   "execution_count": null,
   "metadata": {},
   "outputs": [],
   "source": [
    "#shutil.rmtree(base_path, ignore_errors=True)\n",
    "#os.makedirs(base_path)"
   ]
  },
  {
   "cell_type": "code",
   "execution_count": null,
   "metadata": {},
   "outputs": [],
   "source": [
    "!ls /Users/nidhin.pattaniyil/.kaggle/datasets/goweiting/ted-talks-transcript\n"
   ]
  },
  {
   "cell_type": "code",
   "execution_count": null,
   "metadata": {},
   "outputs": [],
   "source": [
    "!kaggle datasets download -d goweiting/ted-talks-transcript -p {base_path}"
   ]
  },
  {
   "cell_type": "code",
   "execution_count": null,
   "metadata": {},
   "outputs": [],
   "source": [
    "!ls /Users/nidhin.pattaniyil/.kaggle/datasets/goweiting/ted-talks-transcript"
   ]
  },
  {
   "cell_type": "code",
   "execution_count": null,
   "metadata": {},
   "outputs": [],
   "source": [
    "!ls {base_path}"
   ]
  },
  {
   "cell_type": "code",
   "execution_count": null,
   "metadata": {},
   "outputs": [],
   "source": [
    "!unzip -o {base_path}/ted-talks-transcript.zip "
   ]
  },
  {
   "cell_type": "code",
   "execution_count": null,
   "metadata": {
    "ExecuteTime": {
     "end_time": "2018-05-18T02:12:24.403615Z",
     "start_time": "2018-05-17T22:12:24.400245-04:00"
    }
   },
   "outputs": [],
   "source": [
    "print(f\"{base_path}subtitles/*.info.json\")"
   ]
  },
  {
   "cell_type": "code",
   "execution_count": 5,
   "metadata": {
    "ExecuteTime": {
     "end_time": "2018-05-18T02:12:52.184796Z",
     "start_time": "2018-05-17T22:12:51.612705-04:00"
    }
   },
   "outputs": [],
   "source": [
    "meta_data_files = glob.glob(f\"{base_path}subtitles/*/*.info.json\")\n",
    "\n",
    "\n"
   ]
  },
  {
   "cell_type": "code",
   "execution_count": 6,
   "metadata": {},
   "outputs": [
    {
     "data": {
      "text/plain": [
       "2531"
      ]
     },
     "execution_count": 6,
     "metadata": {},
     "output_type": "execute_result"
    }
   ],
   "source": [
    "len(meta_data_files)"
   ]
  },
  {
   "cell_type": "code",
   "execution_count": 7,
   "metadata": {
    "ExecuteTime": {
     "end_time": "2018-05-18T02:39:02.919264Z",
     "start_time": "2018-05-17T22:39:02.902780-04:00"
    },
    "code_folding": []
   },
   "outputs": [],
   "source": [
    "def parse_video_info(metadata):\n",
    "    keys = [\"webpage_url\", \"view_count\", \"upload_date\", \"title\", \"thumbnail\" \n",
    "            , \"duration\" , \"dislike_count\" , \"like_count\"\n",
    "            , \"description\", \"categories\" ,\"id\", \"average_rating\"\n",
    "            ]\n",
    "    \n",
    "    new_dict = {}\n",
    "    for key in keys:\n",
    "        new_dict[key] = metadata.get(key,None)\n",
    "        \n",
    "    return new_dict\n",
    "\n",
    "def get_metadata(meta_data_files) -> pd.DataFrame:\n",
    "    parsed_metadatas = []\n",
    "    for file in tqdm(meta_data_files):\n",
    "        with open(file) as f:\n",
    "            content = json.load(f)\n",
    "        \n",
    "        parsed_metadata = parse_video_info(content)\n",
    "        parsed_metadatas.append(parsed_metadata)\n",
    "\n",
    "    return pd.DataFrame(parsed_metadatas)\n"
   ]
  },
  {
   "cell_type": "code",
   "execution_count": 8,
   "metadata": {
    "ExecuteTime": {
     "end_time": "2018-05-18T02:26:17.102927Z",
     "start_time": "2018-05-17T22:26:16.423966-04:00"
    }
   },
   "outputs": [
    {
     "name": "stderr",
     "output_type": "stream",
     "text": [
      "100%|██████████| 2531/2531 [00:02<00:00, 1034.90it/s]\n"
     ]
    }
   ],
   "source": [
    "metadata_df = get_metadata(meta_data_files)"
   ]
  },
  {
   "cell_type": "code",
   "execution_count": 9,
   "metadata": {
    "ExecuteTime": {
     "end_time": "2018-05-18T02:26:17.409498Z",
     "start_time": "2018-05-17T22:26:17.393520-04:00"
    }
   },
   "outputs": [
    {
     "data": {
      "text/html": [
       "<div>\n",
       "<style scoped>\n",
       "    .dataframe tbody tr th:only-of-type {\n",
       "        vertical-align: middle;\n",
       "    }\n",
       "\n",
       "    .dataframe tbody tr th {\n",
       "        vertical-align: top;\n",
       "    }\n",
       "\n",
       "    .dataframe thead th {\n",
       "        text-align: right;\n",
       "    }\n",
       "</style>\n",
       "<table border=\"1\" class=\"dataframe\">\n",
       "  <thead>\n",
       "    <tr style=\"text-align: right;\">\n",
       "      <th></th>\n",
       "      <th>average_rating</th>\n",
       "      <th>categories</th>\n",
       "      <th>description</th>\n",
       "      <th>dislike_count</th>\n",
       "      <th>duration</th>\n",
       "      <th>id</th>\n",
       "      <th>like_count</th>\n",
       "      <th>thumbnail</th>\n",
       "      <th>title</th>\n",
       "      <th>upload_date</th>\n",
       "      <th>view_count</th>\n",
       "      <th>webpage_url</th>\n",
       "    </tr>\n",
       "  </thead>\n",
       "  <tbody>\n",
       "    <tr>\n",
       "      <th>0</th>\n",
       "      <td>4.729469</td>\n",
       "      <td>[Nonprofits &amp; Activism]</td>\n",
       "      <td>http://www.ted.com When German psychologist In...</td>\n",
       "      <td>14.0</td>\n",
       "      <td>830</td>\n",
       "      <td>Jc2F3-nawnI</td>\n",
       "      <td>193.0</td>\n",
       "      <td>https://i.ytimg.com/vi/Jc2F3-nawnI/hqdefault.jpg</td>\n",
       "      <td>Inge Missmahl brings peace to the minds of Afg...</td>\n",
       "      <td>20100929</td>\n",
       "      <td>20695</td>\n",
       "      <td>https://www.youtube.com/watch?v=Jc2F3-nawnI</td>\n",
       "    </tr>\n",
       "    <tr>\n",
       "      <th>1</th>\n",
       "      <td>4.940791</td>\n",
       "      <td>[News &amp; Politics]</td>\n",
       "      <td>As a child growing up in North Korea, Hyeonseo...</td>\n",
       "      <td>2151.0</td>\n",
       "      <td>735</td>\n",
       "      <td>PdxPCeWw75k</td>\n",
       "      <td>143165.0</td>\n",
       "      <td>https://i.ytimg.com/vi/PdxPCeWw75k/maxresdefau...</td>\n",
       "      <td>My escape from North Korea | Hyeonseo Lee</td>\n",
       "      <td>20130320</td>\n",
       "      <td>6702386</td>\n",
       "      <td>https://www.youtube.com/watch?v=PdxPCeWw75k</td>\n",
       "    </tr>\n",
       "    <tr>\n",
       "      <th>2</th>\n",
       "      <td>4.554828</td>\n",
       "      <td>[News &amp; Politics]</td>\n",
       "      <td>http://www.ted.com Every day, in a city the si...</td>\n",
       "      <td>68.0</td>\n",
       "      <td>938</td>\n",
       "      <td>CLWRclarri0</td>\n",
       "      <td>543.0</td>\n",
       "      <td>https://i.ytimg.com/vi/CLWRclarri0/hqdefault.jpg</td>\n",
       "      <td>Carolyn Steel: How food shapes our cities</td>\n",
       "      <td>20091005</td>\n",
       "      <td>125975</td>\n",
       "      <td>https://www.youtube.com/watch?v=CLWRclarri0</td>\n",
       "    </tr>\n",
       "    <tr>\n",
       "      <th>3</th>\n",
       "      <td>4.706122</td>\n",
       "      <td>[Science &amp; Technology]</td>\n",
       "      <td>http://www.ted.com With his team at SENSEable ...</td>\n",
       "      <td>54.0</td>\n",
       "      <td>947</td>\n",
       "      <td>CijsvAGU6-c</td>\n",
       "      <td>681.0</td>\n",
       "      <td>https://i.ytimg.com/vi/CijsvAGU6-c/hqdefault.jpg</td>\n",
       "      <td>Carlo Ratti: Architecture that senses and resp...</td>\n",
       "      <td>20110503</td>\n",
       "      <td>78537</td>\n",
       "      <td>https://www.youtube.com/watch?v=CijsvAGU6-c</td>\n",
       "    </tr>\n",
       "    <tr>\n",
       "      <th>4</th>\n",
       "      <td>4.732777</td>\n",
       "      <td>[Travel &amp; Events]</td>\n",
       "      <td>Almost everything we own and use, at some poin...</td>\n",
       "      <td>96.0</td>\n",
       "      <td>684</td>\n",
       "      <td>j7RsRnYlz7I</td>\n",
       "      <td>1341.0</td>\n",
       "      <td>https://i.ytimg.com/vi/j7RsRnYlz7I/maxresdefau...</td>\n",
       "      <td>Rose George: Inside the secret shipping industry</td>\n",
       "      <td>20131213</td>\n",
       "      <td>144699</td>\n",
       "      <td>https://www.youtube.com/watch?v=j7RsRnYlz7I</td>\n",
       "    </tr>\n",
       "  </tbody>\n",
       "</table>\n",
       "</div>"
      ],
      "text/plain": [
       "   average_rating               categories  \\\n",
       "0        4.729469  [Nonprofits & Activism]   \n",
       "1        4.940791        [News & Politics]   \n",
       "2        4.554828        [News & Politics]   \n",
       "3        4.706122   [Science & Technology]   \n",
       "4        4.732777        [Travel & Events]   \n",
       "\n",
       "                                         description  dislike_count  duration  \\\n",
       "0  http://www.ted.com When German psychologist In...           14.0       830   \n",
       "1  As a child growing up in North Korea, Hyeonseo...         2151.0       735   \n",
       "2  http://www.ted.com Every day, in a city the si...           68.0       938   \n",
       "3  http://www.ted.com With his team at SENSEable ...           54.0       947   \n",
       "4  Almost everything we own and use, at some poin...           96.0       684   \n",
       "\n",
       "            id  like_count                                          thumbnail  \\\n",
       "0  Jc2F3-nawnI       193.0   https://i.ytimg.com/vi/Jc2F3-nawnI/hqdefault.jpg   \n",
       "1  PdxPCeWw75k    143165.0  https://i.ytimg.com/vi/PdxPCeWw75k/maxresdefau...   \n",
       "2  CLWRclarri0       543.0   https://i.ytimg.com/vi/CLWRclarri0/hqdefault.jpg   \n",
       "3  CijsvAGU6-c       681.0   https://i.ytimg.com/vi/CijsvAGU6-c/hqdefault.jpg   \n",
       "4  j7RsRnYlz7I      1341.0  https://i.ytimg.com/vi/j7RsRnYlz7I/maxresdefau...   \n",
       "\n",
       "                                               title upload_date  view_count  \\\n",
       "0  Inge Missmahl brings peace to the minds of Afg...    20100929       20695   \n",
       "1          My escape from North Korea | Hyeonseo Lee    20130320     6702386   \n",
       "2          Carolyn Steel: How food shapes our cities    20091005      125975   \n",
       "3  Carlo Ratti: Architecture that senses and resp...    20110503       78537   \n",
       "4   Rose George: Inside the secret shipping industry    20131213      144699   \n",
       "\n",
       "                                   webpage_url  \n",
       "0  https://www.youtube.com/watch?v=Jc2F3-nawnI  \n",
       "1  https://www.youtube.com/watch?v=PdxPCeWw75k  \n",
       "2  https://www.youtube.com/watch?v=CLWRclarri0  \n",
       "3  https://www.youtube.com/watch?v=CijsvAGU6-c  \n",
       "4  https://www.youtube.com/watch?v=j7RsRnYlz7I  "
      ]
     },
     "execution_count": 9,
     "metadata": {},
     "output_type": "execute_result"
    }
   ],
   "source": [
    "metadata_df.head()"
   ]
  },
  {
   "cell_type": "code",
   "execution_count": null,
   "metadata": {},
   "outputs": [],
   "source": []
  },
  {
   "cell_type": "code",
   "execution_count": 10,
   "metadata": {
    "ExecuteTime": {
     "end_time": "2018-05-18T02:47:03.289072Z",
     "start_time": "2018-05-17T22:47:03.066781-04:00"
    }
   },
   "outputs": [],
   "source": [
    "subtitle_files = glob.glob(f\"{base_path}subtitles/*/*.en.vtt\")\n"
   ]
  },
  {
   "cell_type": "code",
   "execution_count": 11,
   "metadata": {
    "ExecuteTime": {
     "end_time": "2018-05-18T02:47:03.669616Z",
     "start_time": "2018-05-17T22:47:03.665662-04:00"
    }
   },
   "outputs": [
    {
     "data": {
      "text/plain": [
       "['/Users/nidhin.pattaniyil/.kaggle/datasets/goweiting/ted-talks-transcript/subtitles/Jc2F3-nawnI/Jc2F3-nawnI.en.vtt',\n",
       " '/Users/nidhin.pattaniyil/.kaggle/datasets/goweiting/ted-talks-transcript/subtitles/PdxPCeWw75k/PdxPCeWw75k.en.vtt']"
      ]
     },
     "execution_count": 11,
     "metadata": {},
     "output_type": "execute_result"
    }
   ],
   "source": [
    "subtitle_files[0:2]"
   ]
  },
  {
   "cell_type": "code",
   "execution_count": 12,
   "metadata": {
    "ExecuteTime": {
     "end_time": "2018-05-18T02:48:26.027205Z",
     "start_time": "2018-05-17T22:48:26.012361-04:00"
    }
   },
   "outputs": [],
   "source": [
    "def parse_subtitle(file_name) -> str:\n",
    "    subs = pysrt.open(file_name)\n",
    "    content = \"\"\n",
    "    for s in subs:\n",
    "        content = content + s.text_without_tags + \"\\n\"\n",
    "    return content\n",
    "\n",
    "def get_subtitles(subtitle_files) -> pd.DataFrame :\n",
    "    parsed_subtitles = []\n",
    "    for file in tqdm(subtitle_files):\n",
    "        \n",
    "        res = re.match('.*/(.*).en.vtt',file)\n",
    "        talk_id  = res.group(1)\n",
    "        content = parse_subtitle(file)\n",
    "        \n",
    "        parsed_subtitles.append ({'id': talk_id , 'transcript': content})\n",
    "        \n",
    "    return pd.DataFrame(parsed_subtitles)\n",
    "        "
   ]
  },
  {
   "cell_type": "code",
   "execution_count": 13,
   "metadata": {
    "ExecuteTime": {
     "end_time": "2018-05-18T02:48:49.762038Z",
     "start_time": "2018-05-17T22:48:26.899013-04:00"
    }
   },
   "outputs": [
    {
     "name": "stderr",
     "output_type": "stream",
     "text": [
      "100%|██████████| 2490/2490 [00:35<00:00, 69.51it/s]\n"
     ]
    }
   ],
   "source": [
    "subtitle_files_df = get_subtitles(subtitle_files)"
   ]
  },
  {
   "cell_type": "code",
   "execution_count": 14,
   "metadata": {
    "ExecuteTime": {
     "end_time": "2018-05-18T02:49:03.131384Z",
     "start_time": "2018-05-17T22:49:03.123672-04:00"
    }
   },
   "outputs": [
    {
     "data": {
      "text/html": [
       "<div>\n",
       "<style scoped>\n",
       "    .dataframe tbody tr th:only-of-type {\n",
       "        vertical-align: middle;\n",
       "    }\n",
       "\n",
       "    .dataframe tbody tr th {\n",
       "        vertical-align: top;\n",
       "    }\n",
       "\n",
       "    .dataframe thead th {\n",
       "        text-align: right;\n",
       "    }\n",
       "</style>\n",
       "<table border=\"1\" class=\"dataframe\">\n",
       "  <thead>\n",
       "    <tr style=\"text-align: right;\">\n",
       "      <th></th>\n",
       "      <th>id</th>\n",
       "      <th>transcript</th>\n",
       "    </tr>\n",
       "  </thead>\n",
       "  <tbody>\n",
       "    <tr>\n",
       "      <th>0</th>\n",
       "      <td>Jc2F3-nawnI</td>\n",
       "      <td>So I want to tell you a story -- an encouragin...</td>\n",
       "    </tr>\n",
       "    <tr>\n",
       "      <th>1</th>\n",
       "      <td>PdxPCeWw75k</td>\n",
       "      <td>Translator: Joseph Geni\\nReviewer: Morton Bast...</td>\n",
       "    </tr>\n",
       "    <tr>\n",
       "      <th>2</th>\n",
       "      <td>CLWRclarri0</td>\n",
       "      <td>How do you feed a city?\\nIt's one of the great...</td>\n",
       "    </tr>\n",
       "    <tr>\n",
       "      <th>3</th>\n",
       "      <td>CijsvAGU6-c</td>\n",
       "      <td>Good afternoon, everybody.\\nI've got something...</td>\n",
       "    </tr>\n",
       "    <tr>\n",
       "      <th>4</th>\n",
       "      <td>j7RsRnYlz7I</td>\n",
       "      <td>A couple of years ago,\\nHarvard Business Schoo...</td>\n",
       "    </tr>\n",
       "  </tbody>\n",
       "</table>\n",
       "</div>"
      ],
      "text/plain": [
       "            id                                         transcript\n",
       "0  Jc2F3-nawnI  So I want to tell you a story -- an encouragin...\n",
       "1  PdxPCeWw75k  Translator: Joseph Geni\\nReviewer: Morton Bast...\n",
       "2  CLWRclarri0  How do you feed a city?\\nIt's one of the great...\n",
       "3  CijsvAGU6-c  Good afternoon, everybody.\\nI've got something...\n",
       "4  j7RsRnYlz7I  A couple of years ago,\\nHarvard Business Schoo..."
      ]
     },
     "execution_count": 14,
     "metadata": {},
     "output_type": "execute_result"
    }
   ],
   "source": [
    "subtitle_files_df.head()"
   ]
  },
  {
   "cell_type": "code",
   "execution_count": 15,
   "metadata": {
    "ExecuteTime": {
     "end_time": "2018-05-18T02:50:06.394127Z",
     "start_time": "2018-05-17T22:50:06.390244-04:00"
    }
   },
   "outputs": [
    {
     "data": {
      "text/plain": [
       "2531"
      ]
     },
     "execution_count": 15,
     "metadata": {},
     "output_type": "execute_result"
    }
   ],
   "source": [
    "len(metadata_df)"
   ]
  },
  {
   "cell_type": "code",
   "execution_count": 16,
   "metadata": {
    "ExecuteTime": {
     "end_time": "2018-05-18T02:50:12.033470Z",
     "start_time": "2018-05-17T22:50:12.029670-04:00"
    }
   },
   "outputs": [
    {
     "data": {
      "text/plain": [
       "2490"
      ]
     },
     "execution_count": 16,
     "metadata": {},
     "output_type": "execute_result"
    }
   ],
   "source": [
    "len(subtitle_files_df)"
   ]
  },
  {
   "cell_type": "code",
   "execution_count": 17,
   "metadata": {
    "ExecuteTime": {
     "end_time": "2018-05-18T02:50:55.427760Z",
     "start_time": "2018-05-17T22:50:55.418504-04:00"
    }
   },
   "outputs": [],
   "source": [
    "df = pd.merge(metadata_df,subtitle_files_df, on='id')"
   ]
  },
  {
   "cell_type": "code",
   "execution_count": null,
   "metadata": {},
   "outputs": [],
   "source": []
  },
  {
   "cell_type": "code",
   "execution_count": 18,
   "metadata": {
    "ExecuteTime": {
     "end_time": "2018-05-18T02:53:07.948193Z",
     "start_time": "2018-05-17T22:53:07.942283-04:00"
    }
   },
   "outputs": [
    {
     "data": {
      "text/plain": [
       "datetime.datetime(2010, 9, 29, 0, 0)"
      ]
     },
     "execution_count": 18,
     "metadata": {},
     "output_type": "execute_result"
    }
   ],
   "source": [
    "datetime.strptime('20100929', '%Y%m%d')\n"
   ]
  },
  {
   "cell_type": "code",
   "execution_count": 19,
   "metadata": {
    "ExecuteTime": {
     "end_time": "2018-05-18T02:51:06.598202Z",
     "start_time": "2018-05-17T22:51:06.580832-04:00"
    }
   },
   "outputs": [
    {
     "data": {
      "text/html": [
       "<div>\n",
       "<style scoped>\n",
       "    .dataframe tbody tr th:only-of-type {\n",
       "        vertical-align: middle;\n",
       "    }\n",
       "\n",
       "    .dataframe tbody tr th {\n",
       "        vertical-align: top;\n",
       "    }\n",
       "\n",
       "    .dataframe thead th {\n",
       "        text-align: right;\n",
       "    }\n",
       "</style>\n",
       "<table border=\"1\" class=\"dataframe\">\n",
       "  <thead>\n",
       "    <tr style=\"text-align: right;\">\n",
       "      <th></th>\n",
       "      <th>average_rating</th>\n",
       "      <th>categories</th>\n",
       "      <th>description</th>\n",
       "      <th>dislike_count</th>\n",
       "      <th>duration</th>\n",
       "      <th>id</th>\n",
       "      <th>like_count</th>\n",
       "      <th>thumbnail</th>\n",
       "      <th>title</th>\n",
       "      <th>upload_date</th>\n",
       "      <th>view_count</th>\n",
       "      <th>webpage_url</th>\n",
       "      <th>transcript</th>\n",
       "    </tr>\n",
       "  </thead>\n",
       "  <tbody>\n",
       "    <tr>\n",
       "      <th>0</th>\n",
       "      <td>4.729469</td>\n",
       "      <td>[Nonprofits &amp; Activism]</td>\n",
       "      <td>http://www.ted.com When German psychologist In...</td>\n",
       "      <td>14.0</td>\n",
       "      <td>830</td>\n",
       "      <td>Jc2F3-nawnI</td>\n",
       "      <td>193.0</td>\n",
       "      <td>https://i.ytimg.com/vi/Jc2F3-nawnI/hqdefault.jpg</td>\n",
       "      <td>Inge Missmahl brings peace to the minds of Afg...</td>\n",
       "      <td>20100929</td>\n",
       "      <td>20695</td>\n",
       "      <td>https://www.youtube.com/watch?v=Jc2F3-nawnI</td>\n",
       "      <td>So I want to tell you a story -- an encouragin...</td>\n",
       "    </tr>\n",
       "    <tr>\n",
       "      <th>1</th>\n",
       "      <td>4.940791</td>\n",
       "      <td>[News &amp; Politics]</td>\n",
       "      <td>As a child growing up in North Korea, Hyeonseo...</td>\n",
       "      <td>2151.0</td>\n",
       "      <td>735</td>\n",
       "      <td>PdxPCeWw75k</td>\n",
       "      <td>143165.0</td>\n",
       "      <td>https://i.ytimg.com/vi/PdxPCeWw75k/maxresdefau...</td>\n",
       "      <td>My escape from North Korea | Hyeonseo Lee</td>\n",
       "      <td>20130320</td>\n",
       "      <td>6702386</td>\n",
       "      <td>https://www.youtube.com/watch?v=PdxPCeWw75k</td>\n",
       "      <td>Translator: Joseph Geni\\nReviewer: Morton Bast...</td>\n",
       "    </tr>\n",
       "    <tr>\n",
       "      <th>2</th>\n",
       "      <td>4.554828</td>\n",
       "      <td>[News &amp; Politics]</td>\n",
       "      <td>http://www.ted.com Every day, in a city the si...</td>\n",
       "      <td>68.0</td>\n",
       "      <td>938</td>\n",
       "      <td>CLWRclarri0</td>\n",
       "      <td>543.0</td>\n",
       "      <td>https://i.ytimg.com/vi/CLWRclarri0/hqdefault.jpg</td>\n",
       "      <td>Carolyn Steel: How food shapes our cities</td>\n",
       "      <td>20091005</td>\n",
       "      <td>125975</td>\n",
       "      <td>https://www.youtube.com/watch?v=CLWRclarri0</td>\n",
       "      <td>How do you feed a city?\\nIt's one of the great...</td>\n",
       "    </tr>\n",
       "    <tr>\n",
       "      <th>3</th>\n",
       "      <td>4.706122</td>\n",
       "      <td>[Science &amp; Technology]</td>\n",
       "      <td>http://www.ted.com With his team at SENSEable ...</td>\n",
       "      <td>54.0</td>\n",
       "      <td>947</td>\n",
       "      <td>CijsvAGU6-c</td>\n",
       "      <td>681.0</td>\n",
       "      <td>https://i.ytimg.com/vi/CijsvAGU6-c/hqdefault.jpg</td>\n",
       "      <td>Carlo Ratti: Architecture that senses and resp...</td>\n",
       "      <td>20110503</td>\n",
       "      <td>78537</td>\n",
       "      <td>https://www.youtube.com/watch?v=CijsvAGU6-c</td>\n",
       "      <td>Good afternoon, everybody.\\nI've got something...</td>\n",
       "    </tr>\n",
       "    <tr>\n",
       "      <th>4</th>\n",
       "      <td>4.732777</td>\n",
       "      <td>[Travel &amp; Events]</td>\n",
       "      <td>Almost everything we own and use, at some poin...</td>\n",
       "      <td>96.0</td>\n",
       "      <td>684</td>\n",
       "      <td>j7RsRnYlz7I</td>\n",
       "      <td>1341.0</td>\n",
       "      <td>https://i.ytimg.com/vi/j7RsRnYlz7I/maxresdefau...</td>\n",
       "      <td>Rose George: Inside the secret shipping industry</td>\n",
       "      <td>20131213</td>\n",
       "      <td>144699</td>\n",
       "      <td>https://www.youtube.com/watch?v=j7RsRnYlz7I</td>\n",
       "      <td>A couple of years ago,\\nHarvard Business Schoo...</td>\n",
       "    </tr>\n",
       "  </tbody>\n",
       "</table>\n",
       "</div>"
      ],
      "text/plain": [
       "   average_rating               categories  \\\n",
       "0        4.729469  [Nonprofits & Activism]   \n",
       "1        4.940791        [News & Politics]   \n",
       "2        4.554828        [News & Politics]   \n",
       "3        4.706122   [Science & Technology]   \n",
       "4        4.732777        [Travel & Events]   \n",
       "\n",
       "                                         description  dislike_count  duration  \\\n",
       "0  http://www.ted.com When German psychologist In...           14.0       830   \n",
       "1  As a child growing up in North Korea, Hyeonseo...         2151.0       735   \n",
       "2  http://www.ted.com Every day, in a city the si...           68.0       938   \n",
       "3  http://www.ted.com With his team at SENSEable ...           54.0       947   \n",
       "4  Almost everything we own and use, at some poin...           96.0       684   \n",
       "\n",
       "            id  like_count                                          thumbnail  \\\n",
       "0  Jc2F3-nawnI       193.0   https://i.ytimg.com/vi/Jc2F3-nawnI/hqdefault.jpg   \n",
       "1  PdxPCeWw75k    143165.0  https://i.ytimg.com/vi/PdxPCeWw75k/maxresdefau...   \n",
       "2  CLWRclarri0       543.0   https://i.ytimg.com/vi/CLWRclarri0/hqdefault.jpg   \n",
       "3  CijsvAGU6-c       681.0   https://i.ytimg.com/vi/CijsvAGU6-c/hqdefault.jpg   \n",
       "4  j7RsRnYlz7I      1341.0  https://i.ytimg.com/vi/j7RsRnYlz7I/maxresdefau...   \n",
       "\n",
       "                                               title upload_date  view_count  \\\n",
       "0  Inge Missmahl brings peace to the minds of Afg...    20100929       20695   \n",
       "1          My escape from North Korea | Hyeonseo Lee    20130320     6702386   \n",
       "2          Carolyn Steel: How food shapes our cities    20091005      125975   \n",
       "3  Carlo Ratti: Architecture that senses and resp...    20110503       78537   \n",
       "4   Rose George: Inside the secret shipping industry    20131213      144699   \n",
       "\n",
       "                                   webpage_url  \\\n",
       "0  https://www.youtube.com/watch?v=Jc2F3-nawnI   \n",
       "1  https://www.youtube.com/watch?v=PdxPCeWw75k   \n",
       "2  https://www.youtube.com/watch?v=CLWRclarri0   \n",
       "3  https://www.youtube.com/watch?v=CijsvAGU6-c   \n",
       "4  https://www.youtube.com/watch?v=j7RsRnYlz7I   \n",
       "\n",
       "                                          transcript  \n",
       "0  So I want to tell you a story -- an encouragin...  \n",
       "1  Translator: Joseph Geni\\nReviewer: Morton Bast...  \n",
       "2  How do you feed a city?\\nIt's one of the great...  \n",
       "3  Good afternoon, everybody.\\nI've got something...  \n",
       "4  A couple of years ago,\\nHarvard Business Schoo...  "
      ]
     },
     "execution_count": 19,
     "metadata": {},
     "output_type": "execute_result"
    }
   ],
   "source": [
    "df.head()"
   ]
  },
  {
   "cell_type": "code",
   "execution_count": 20,
   "metadata": {
    "ExecuteTime": {
     "end_time": "2018-05-18T09:48:51.860914Z",
     "start_time": "2018-05-18T05:48:51.468274-04:00"
    }
   },
   "outputs": [
    {
     "name": "stderr",
     "output_type": "stream",
     "text": [
      "/Users/nidhin.pattaniyil/anaconda3/envs/py36/lib/python3.6/importlib/_bootstrap.py:219: RuntimeWarning: numpy.dtype size changed, may indicate binary incompatibility. Expected 96, got 88\n",
      "  return f(*args, **kwds)\n",
      "/Users/nidhin.pattaniyil/anaconda3/envs/py36/lib/python3.6/importlib/_bootstrap.py:219: RuntimeWarning: numpy.dtype size changed, may indicate binary incompatibility. Expected 96, got 88\n",
      "  return f(*args, **kwds)\n"
     ]
    }
   ],
   "source": [
    "from nltk import word_tokenize          \n",
    "from nltk.stem import WordNetLemmatizer \n",
    "class LemmaTokenizer(object):\n",
    "    def __init__(self):\n",
    "        self.wnl = WordNetLemmatizer()\n",
    "    def __call__(self, articles):\n",
    "        return [self.wnl.lemmatize(t) for t in word_tokenize(articles)]"
   ]
  },
  {
   "cell_type": "code",
   "execution_count": null,
   "metadata": {
    "ExecuteTime": {
     "end_time": "2018-05-18T09:46:52.104045Z",
     "start_time": "2018-05-18T05:46:52.068479-04:00"
    }
   },
   "outputs": [],
   "source": [
    "?text.TfidfVectorizer"
   ]
  },
  {
   "cell_type": "code",
   "execution_count": 22,
   "metadata": {
    "ExecuteTime": {
     "end_time": "2018-05-18T09:50:31.267248Z",
     "start_time": "2018-05-18T05:49:19.996137-04:00"
    }
   },
   "outputs": [],
   "source": [
    "from sklearn.feature_extraction import text\n",
    "Text=df['transcript'].tolist()\n",
    "tfidf=text.TfidfVectorizer(input=Text,stop_words=\"english\", tokenizer=LemmaTokenizer())\n",
    "matrix=tfidf.fit_transform(Text)\n",
    "#print(matrix.shape)"
   ]
  },
  {
   "cell_type": "code",
   "execution_count": 23,
   "metadata": {
    "ExecuteTime": {
     "end_time": "2018-05-18T09:54:55.481253Z",
     "start_time": "2018-05-18T05:54:54.164335-04:00"
    }
   },
   "outputs": [],
   "source": [
    "### Get Similarity Scores using cosine similarity\n",
    "from sklearn.metrics.pairwise import cosine_similarity\n",
    "sim_unigram=cosine_similarity(matrix)"
   ]
  },
  {
   "cell_type": "code",
   "execution_count": 24,
   "metadata": {
    "ExecuteTime": {
     "end_time": "2018-05-18T09:54:55.890920Z",
     "start_time": "2018-05-18T05:54:55.886232-04:00"
    }
   },
   "outputs": [
    {
     "data": {
      "text/plain": [
       "array([[1.        , 0.42328378, 0.55359966, ..., 0.49388626, 0.53364983,\n",
       "        0.58179026],\n",
       "       [0.42328378, 1.        , 0.4507271 , ..., 0.43143527, 0.42768029,\n",
       "        0.45480349],\n",
       "       [0.55359966, 0.4507271 , 1.        , ..., 0.55640022, 0.57594978,\n",
       "        0.61223904],\n",
       "       ...,\n",
       "       [0.49388626, 0.43143527, 0.55640022, ..., 1.        , 0.51827279,\n",
       "        0.5542238 ],\n",
       "       [0.53364983, 0.42768029, 0.57594978, ..., 0.51827279, 1.        ,\n",
       "        0.56661015],\n",
       "       [0.58179026, 0.45480349, 0.61223904, ..., 0.5542238 , 0.56661015,\n",
       "        1.        ]])"
      ]
     },
     "execution_count": 24,
     "metadata": {},
     "output_type": "execute_result"
    }
   ],
   "source": [
    "sim_unigram"
   ]
  },
  {
   "cell_type": "code",
   "execution_count": 25,
   "metadata": {
    "ExecuteTime": {
     "end_time": "2018-05-18T09:56:10.109373Z",
     "start_time": "2018-05-18T05:56:08.958083-04:00"
    }
   },
   "outputs": [],
   "source": [
    "def get_similar_articles(x):\n",
    "    return \"\\n\".join(df['title'].loc[x.argsort()[-5:-1]])\n",
    "df['similar_articles_unigram']=[get_similar_articles(x) for x in sim_unigram]"
   ]
  },
  {
   "cell_type": "code",
   "execution_count": 26,
   "metadata": {
    "ExecuteTime": {
     "end_time": "2018-05-18T09:56:10.543176Z",
     "start_time": "2018-05-18T05:56:10.538773-04:00"
    }
   },
   "outputs": [
    {
     "data": {
      "text/plain": [
       "'My escape from North Korea | Hyeonseo Lee'"
      ]
     },
     "execution_count": 26,
     "metadata": {},
     "output_type": "execute_result"
    }
   ],
   "source": [
    "df['title'][1]"
   ]
  },
  {
   "cell_type": "code",
   "execution_count": 27,
   "metadata": {
    "ExecuteTime": {
     "end_time": "2018-05-18T09:56:20.048464Z",
     "start_time": "2018-05-18T05:56:20.044660-04:00"
    }
   },
   "outputs": [
    {
     "name": "stdout",
     "output_type": "stream",
     "text": [
      "How I Stopped the Taliban from Shutting Down My School | Sakena Yacoobi | TED Talks\n",
      "This is what it's like to go undercover in North Korea | Suki Kim\n",
      "The family I lost in North Korea. And the family I gained | Joseph Kim\n",
      "What I learned as a prisoner in North Korea | Euna Lee\n"
     ]
    }
   ],
   "source": [
    "print (df['similar_articles_unigram'][1])"
   ]
  },
  {
   "cell_type": "code",
   "execution_count": null,
   "metadata": {},
   "outputs": [],
   "source": []
  },
  {
   "cell_type": "code",
   "execution_count": null,
   "metadata": {},
   "outputs": [],
   "source": []
  },
  {
   "cell_type": "markdown",
   "metadata": {},
   "source": [
    "# Doc2Vec"
   ]
  },
  {
   "cell_type": "code",
   "execution_count": 28,
   "metadata": {
    "ExecuteTime": {
     "end_time": "2018-05-18T10:08:17.246428Z",
     "start_time": "2018-05-18T06:08:17.237292-04:00"
    }
   },
   "outputs": [
    {
     "data": {
      "text/plain": [
       "average_rating                                                        4.72947\n",
       "categories                                            [Nonprofits & Activism]\n",
       "description                 http://www.ted.com When German psychologist In...\n",
       "dislike_count                                                              14\n",
       "duration                                                                  830\n",
       "id                                                                Jc2F3-nawnI\n",
       "like_count                                                                193\n",
       "thumbnail                    https://i.ytimg.com/vi/Jc2F3-nawnI/hqdefault.jpg\n",
       "title                       Inge Missmahl brings peace to the minds of Afg...\n",
       "upload_date                                                          20100929\n",
       "view_count                                                              20695\n",
       "webpage_url                       https://www.youtube.com/watch?v=Jc2F3-nawnI\n",
       "transcript                  So I want to tell you a story -- an encouragin...\n",
       "similar_articles_unigram    Maira Kalman: The illustrated woman\\nOne woman...\n",
       "Name: 0, dtype: object"
      ]
     },
     "execution_count": 28,
     "metadata": {},
     "output_type": "execute_result"
    }
   ],
   "source": [
    "df.iloc[0]"
   ]
  },
  {
   "cell_type": "code",
   "execution_count": 29,
   "metadata": {
    "ExecuteTime": {
     "end_time": "2018-05-18T10:19:50.596510Z",
     "start_time": "2018-05-18T06:19:50.592511-04:00"
    }
   },
   "outputs": [
    {
     "ename": "NameError",
     "evalue": "name 'row' is not defined",
     "output_type": "error",
     "traceback": [
      "\u001b[0;31m---------------------------------------------------------------------------\u001b[0m",
      "\u001b[0;31mNameError\u001b[0m                                 Traceback (most recent call last)",
      "\u001b[0;32m<ipython-input-29-31d91cc6e7af>\u001b[0m in \u001b[0;36m<module>\u001b[0;34m()\u001b[0m\n\u001b[0;32m----> 1\u001b[0;31m \u001b[0;34m[\u001b[0m\u001b[0mrow\u001b[0m\u001b[0;34m[\u001b[0m\u001b[0;34m\"title\"\u001b[0m\u001b[0;34m]\u001b[0m\u001b[0;34m]\u001b[0m \u001b[0;34m+\u001b[0m \u001b[0mrow\u001b[0m\u001b[0;34m[\u001b[0m\u001b[0;34m\"categories\"\u001b[0m\u001b[0;34m]\u001b[0m\u001b[0;34m\u001b[0m\u001b[0m\n\u001b[0m",
      "\u001b[0;31mNameError\u001b[0m: name 'row' is not defined"
     ]
    }
   ],
   "source": [
    "[row[\"title\"]] + row[\"categories\"]"
   ]
  },
  {
   "cell_type": "code",
   "execution_count": 30,
   "metadata": {
    "ExecuteTime": {
     "end_time": "2018-05-18T10:55:09.596484Z",
     "start_time": "2018-05-18T06:55:02.905582-04:00"
    }
   },
   "outputs": [],
   "source": [
    "talk_corpus = []\n",
    "for (index,row) in df.iterrows():\n",
    "    content = gensim.utils.simple_preprocess (row[\"transcript\"])\n",
    "    #tags = [row[\"title\"], row[\"id\"]] + row[\"categories\"]'\n",
    "    #tags = [row[\"title\"]] + row[\"categories\"]\n",
    "    tags = [row[\"title\"]] \n",
    "    tg = gensim.models.doc2vec.TaggedDocument(content,tags)\n",
    "    talk_corpus.append(tg)"
   ]
  },
  {
   "cell_type": "code",
   "execution_count": 31,
   "metadata": {
    "ExecuteTime": {
     "end_time": "2018-05-18T10:55:11.886908Z",
     "start_time": "2018-05-18T06:55:11.882739-04:00"
    }
   },
   "outputs": [
    {
     "data": {
      "text/plain": [
       "TaggedDocument(words=['so', 'want', 'to', 'tell', 'you', 'story', 'an', 'encouraging', 'story', 'about', 'addressing', 'desperation', 'depression', 'and', 'despair', 'in', 'afghanistan', 'and', 'what', 'we', 'have', 'learned', 'from', 'it', 'and', 'how', 'to', 'help', 'people', 'to', 'overcome', 'traumatic', 'experiences', 'and', 'how', 'to', 'help', 'them', 'to', 'regain', 'some', 'confidence', 'in', 'the', 'time', 'ahead', 'in', 'the', 'future', 'and', 'how', 'to', 'participate', 'again', 'in', 'everyday', 'life', 'so', 'am', 'jungian', 'psychoanalyst', 'and', 'went', 'to', 'afghanistan', 'in', 'january', 'by', 'chance', 'on', 'an', 'assignment', 'for', 'medica', 'mondiale', 'jung', 'in', 'afghanistan', 'you', 'get', 'the', 'picture', 'afghanistan', 'is', 'one', 'of', 'the', 'poorest', 'countries', 'in', 'the', 'world', 'and', 'percent', 'of', 'the', 'people', 'are', 'illiterate', 'war', 'and', 'malnutrition', 'kills', 'people', 'together', 'with', 'hope', 'you', 'may', 'know', 'this', 'from', 'the', 'media', 'but', 'what', 'you', 'may', 'not', 'know', 'is', 'that', 'the', 'average', 'age', 'of', 'the', 'afghan', 'people', 'is', 'years', 'old', 'which', 'means', 'they', 'grow', 'up', 'in', 'such', 'an', 'environment', 'and', 'repeat', 'myself', 'in', 'years', 'of', 'war', 'so', 'this', 'translates', 'into', 'ongoing', 'violence', 'foreign', 'interests', 'bribery', 'drugs', 'ethnic', 'conflicts', 'bad', 'health', 'shame', 'fear', 'and', 'cumulative', 'traumatic', 'experiences', 'local', 'and', 'foreign', 'military', 'are', 'supposed', 'to', 'build', 'peace', 'together', 'with', 'the', 'donors', 'and', 'the', 'governmental', 'and', 'non', 'governmental', 'organizations', 'and', 'people', 'had', 'hope', 'yes', 'but', 'until', 'they', 'realized', 'their', 'situation', 'worsens', 'every', 'day', 'either', 'because', 'they', 'are', 'being', 'killed', 'or', 'because', 'somehow', 'they', 'are', 'poorer', 'than', 'eight', 'years', 'ago', 'one', 'figure', 'for', 'that', 'percent', 'of', 'the', 'children', 'under', 'the', 'age', 'of', 'five', 'years', 'suffer', 'from', 'malnutrition', 'yet', 'there', 'is', 'hope', 'one', 'day', 'man', 'told', 'me', 'my', 'future', 'does', 'not', 'look', 'brilliant', 'but', 'want', 'to', 'have', 'brilliant', 'future', 'for', 'my', 'son', 'this', 'is', 'picture', 'took', 'in', 'walking', 'on', 'fridays', 'over', 'the', 'hills', 'in', 'kabul', 'and', 'for', 'me', 'it', 'symbolic', 'picture', 'of', 'an', 'open', 'future', 'for', 'young', 'generation', 'so', 'doctors', 'prescribe', 'medication', 'and', 'donors', 'are', 'supposed', 'to', 'bring', 'peace', 'by', 'building', 'schools', 'and', 'roads', 'military', 'collect', 'weapons', 'and', 'depression', 'stays', 'intact', 'why', 'because', 'people', 'don', 'have', 'tools', 'to', 'cope', 'with', 'it', 'to', 'get', 'over', 'it', 'so', 'soon', 'after', 'my', 'arrival', 'had', 'confirmed', 'something', 'which', 'had', 'already', 'known', 'that', 'my', 'instruments', 'come', 'from', 'the', 'heart', 'of', 'modern', 'europe', 'yes', 'however', 'what', 'can', 'wound', 'us', 'and', 'our', 'reaction', 'to', 'those', 'wounds', 'they', 'are', 'universal', 'and', 'the', 'big', 'challenge', 'was', 'how', 'to', 'understand', 'the', 'meaning', 'of', 'the', 'symptom', 'in', 'this', 'specific', 'cultural', 'context', 'after', 'counseling', 'session', 'woman', 'said', 'to', 'me', 'because', 'you', 'have', 'felt', 'me', 'can', 'feel', 'myself', 'again', 'and', 'want', 'to', 'participate', 'again', 'in', 'my', 'family', 'life', 'this', 'was', 'very', 'important', 'because', 'the', 'family', 'is', 'central', 'in', 'afghans', 'social', 'system', 'no', 'one', 'can', 'survive', 'alone', 'and', 'if', 'people', 'feel', 'used', 'worthless', 'and', 'ashamed', 'because', 'something', 'horrible', 'has', 'happened', 'to', 'them', 'then', 'they', 'retreat', 'and', 'they', 'fall', 'into', 'social', 'isolation', 'and', 'they', 'do', 'not', 'dare', 'to', 'tell', 'this', 'evil', 'to', 'other', 'people', 'or', 'to', 'their', 'loved', 'ones', 'because', 'they', 'do', 'not', 'want', 'to', 'burden', 'them', 'and', 'very', 'often', 'violence', 'is', 'way', 'to', 'cope', 'with', 'it', 'traumatized', 'people', 'also', 'easily', 'lose', 'control', 'symptoms', 'are', 'hyper', 'arousal', 'and', 'memory', 'flashbacks', 'so', 'people', 'are', 'in', 'constant', 'fear', 'that', 'those', 'horrible', 'feelings', 'of', 'that', 'traumatic', 'event', 'might', 'come', 'back', 'unexpectedly', 'suddenly', 'and', 'they', 'cannot', 'control', 'it', 'to', 'compensate', 'this', 'loss', 'of', 'inner', 'control', 'they', 'try', 'to', 'control', 'the', 'outside', 'very', 'understandably', 'mostly', 'the', 'family', 'and', 'unfortunately', 'this', 'fits', 'very', 'well', 'into', 'the', 'traditional', 'side', 'regressive', 'side', 'repressive', 'side', 'restrictive', 'side', 'of', 'the', 'cultural', 'context', 'so', 'husbands', 'start', 'beating', 'wives', 'mothers', 'and', 'fathers', 'beat', 'their', 'children', 'and', 'afterward', 'they', 'feel', 'awful', 'they', 'did', 'not', 'want', 'to', 'do', 'this', 'it', 'just', 'happened', 'they', 'lost', 'control', 'the', 'desperate', 'try', 'to', 'restore', 'order', 'and', 'normality', 'and', 'if', 'we', 'are', 'not', 'able', 'to', 'cut', 'this', 'circle', 'of', 'violence', 'it', 'will', 'be', 'transferred', 'to', 'the', 'next', 'generation', 'without', 'doubt', 'and', 'partly', 'this', 'is', 'already', 'happening', 'so', 'everybody', 'needs', 'sense', 'for', 'the', 'future', 'and', 'the', 'afghan', 'sense', 'of', 'the', 'future', 'is', 'shattered', 'but', 'let', 'me', 'repeat', 'the', 'words', 'of', 'the', 'woman', 'because', 'you', 'have', 'felt', 'me', 'can', 'feel', 'myself', 'again', 'so', 'the', 'key', 'here', 'is', 'empathy', 'somebody', 'has', 'to', 'be', 'witness', 'to', 'what', 'has', 'happened', 'to', 'you', 'somebody', 'has', 'to', 'feel', 'how', 'you', 'felt', 'and', 'somebody', 'has', 'to', 'see', 'you', 'and', 'listen', 'to', 'you', 'everybody', 'must', 'be', 'able', 'to', 'know', 'what', 'he', 'or', 'she', 'has', 'experienced', 'is', 'true', 'and', 'this', 'only', 'goes', 'with', 'another', 'person', 'so', 'everybody', 'must', 'be', 'able', 'to', 'say', 'this', 'happened', 'to', 'me', 'and', 'it', 'did', 'this', 'with', 'me', 'but', 'able', 'to', 'live', 'with', 'it', 'to', 'cope', 'with', 'it', 'and', 'to', 'learn', 'from', 'it', 'and', 'want', 'to', 'engage', 'myself', 'in', 'the', 'bright', 'future', 'for', 'my', 'children', 'and', 'the', 'children', 'of', 'my', 'children', 'and', 'will', 'not', 'marry', 'off', 'my', 'year', 'old', 'daughter', 'what', 'happens', 'too', 'often', 'in', 'afghanistan', 'so', 'something', 'can', 'be', 'done', 'even', 'in', 'such', 'extreme', 'environments', 'as', 'afghanistan', 'and', 'started', 'thinking', 'about', 'counseling', 'program', 'but', 'of', 'course', 'needed', 'help', 'and', 'funds', 'and', 'one', 'evening', 'was', 'sitting', 'next', 'to', 'very', 'nice', 'gentleman', 'in', 'kabul', 'and', 'he', 'asked', 'what', 'thought', 'would', 'be', 'good', 'in', 'afghanistan', 'and', 'explained', 'to', 'him', 'quickly', 'would', 'train', 'psycho', 'social', 'counselors', 'would', 'open', 'centers', 'and', 'explained', 'to', 'him', 'why', 'this', 'man', 'gave', 'me', 'his', 'contact', 'details', 'at', 'the', 'end', 'of', 'the', 'evening', 'and', 'said', 'if', 'you', 'want', 'to', 'do', 'this', 'call', 'me', 'at', 'that', 'time', 'it', 'was', 'the', 'head', 'of', 'caritas', 'germany', 'so', 'was', 'able', 'to', 'launch', 'three', 'year', 'project', 'with', 'caritas', 'germany', 'and', 'we', 'trained', 'afghan', 'women', 'and', 'men', 'and', 'we', 'opened', 'counseling', 'centers', 'in', 'kabul', 'this', 'was', 'our', 'sign', 'it', 'hand', 'painted', 'and', 'we', 'had', 'all', 'over', 'kabul', 'eleven', 'thousand', 'people', 'came', 'more', 'than', 'that', 'and', 'percent', 'regained', 'their', 'lives', 'this', 'was', 'very', 'exciting', 'time', 'developing', 'this', 'with', 'my', 'wonderful', 'afghan', 'team', 'and', 'they', 'are', 'working', 'with', 'me', 'up', 'to', 'today', 'we', 'developed', 'culturally', 'sensitive', 'psycho', 'social', 'counseling', 'approach', 'so', 'from', 'up', 'until', 'today', 'substantial', 'change', 'and', 'step', 'forward', 'has', 'been', 'taking', 'place', 'the', 'european', 'union', 'delegation', 'in', 'kabul', 'came', 'into', 'this', 'and', 'hired', 'me', 'to', 'work', 'inside', 'the', 'ministry', 'of', 'public', 'health', 'to', 'lobby', 'this', 'approach', 'we', 'succeeded', 'we', 'revised', 'the', 'mental', 'health', 'component', 'of', 'the', 'primary', 'health', 'care', 'services', 'by', 'adding', 'psycho', 'social', 'care', 'and', 'psycho', 'social', 'counselors', 'to', 'the', 'system', 'this', 'means', 'certainly', 'to', 'retrain', 'all', 'health', 'staff', 'but', 'for', 'that', 'we', 'already', 'have', 'the', 'training', 'manuals', 'which', 'are', 'approved', 'by', 'the', 'ministry', 'and', 'moreover', 'this', 'approach', 'is', 'now', 'part', 'of', 'the', 'mental', 'health', 'strategy', 'in', 'afghanistan', 'so', 'we', 'also', 'have', 'implemented', 'it', 'already', 'in', 'some', 'selected', 'clinics', 'in', 'three', 'provinces', 'and', 'you', 'are', 'the', 'first', 'to', 'see', 'the', 'results', 'we', 'wanted', 'to', 'know', 'if', 'what', 'is', 'being', 'done', 'is', 'effective', 'and', 'here', 'you', 'can', 'see', 'the', 'patients', 'all', 'had', 'symptoms', 'of', 'depression', 'moderate', 'and', 'severe', 'and', 'the', 'red', 'line', 'is', 'the', 'treatment', 'as', 'usual', 'medication', 'with', 'medical', 'doctor', 'and', 'all', 'the', 'symptoms', 'stayed', 'the', 'same', 'or', 'even', 'got', 'worse', 'and', 'the', 'green', 'line', 'is', 'treatment', 'with', 'psycho', 'social', 'counseling', 'only', 'without', 'medication', 'and', 'you', 'can', 'see', 'the', 'symptoms', 'almost', 'completely', 'go', 'away', 'and', 'the', 'psycho', 'social', 'stress', 'has', 'dropped', 'significantly', 'which', 'is', 'explicable', 'because', 'you', 'cannot', 'take', 'away', 'the', 'psycho', 'social', 'stresses', 'but', 'you', 'can', 'learn', 'how', 'to', 'cope', 'with', 'them', 'so', 'this', 'makes', 'us', 'very', 'happy', 'because', 'now', 'we', 'also', 'have', 'some', 'evidence', 'that', 'this', 'is', 'working', 'so', 'here', 'you', 'see', 'this', 'is', 'health', 'facility', 'in', 'northern', 'afghanistan', 'and', 'every', 'morning', 'it', 'looks', 'like', 'this', 'all', 'over', 'and', 'doctors', 'usually', 'have', 'three', 'to', 'six', 'minutes', 'for', 'the', 'patients', 'but', 'now', 'this', 'will', 'change', 'they', 'go', 'to', 'the', 'clinics', 'because', 'they', 'want', 'to', 'cure', 'their', 'immediate', 'symptoms', 'and', 'they', 'will', 'find', 'somebody', 'to', 'talk', 'to', 'and', 'discuss', 'these', 'issues', 'and', 'talk', 'about', 'what', 'is', 'burdening', 'them', 'and', 'find', 'solutions', 'develop', 'their', 'resources', 'learn', 'tools', 'to', 'solve', 'their', 'family', 'conflicts', 'and', 'gain', 'some', 'confidence', 'in', 'the', 'future', 'and', 'would', 'like', 'to', 'share', 'one', 'short', 'vignette', 'one', 'hazara', 'said', 'to', 'his', 'pashtun', 'counselor', 'if', 'we', 'were', 'to', 'have', 'met', 'some', 'years', 'ago', 'then', 'we', 'would', 'have', 'killed', 'each', 'other', 'and', 'now', 'you', 'are', 'helping', 'me', 'to', 'regain', 'some', 'confidence', 'in', 'the', 'future', 'and', 'another', 'counselor', 'said', 'to', 'me', 'after', 'the', 'training', 'you', 'know', 'never', 'knew', 'why', 'survived', 'the', 'killings', 'in', 'my', 'village', 'but', 'now', 'know', 'because', 'am', 'part', 'of', 'nucleus', 'of', 'new', 'peaceful', 'society', 'in', 'afghanistan', 'so', 'believe', 'this', 'kept', 'me', 'running', 'and', 'this', 'is', 'really', 'emancipatory', 'and', 'political', 'contribution', 'to', 'peace', 'and', 'reconciliation', 'and', 'also', 'think', 'without', 'psycho', 'social', 'therapy', 'and', 'without', 'considering', 'this', 'in', 'all', 'humanitarian', 'projects', 'we', 'cannot', 'build', 'up', 'civil', 'societies', 'thought', 'it', 'was', 'an', 'idea', 'worth', 'spreading', 'and', 'think', 'it', 'must', 'be', 'can', 'be', 'could', 'be', 'replicated', 'elsewhere', 'thank', 'you', 'for', 'your', 'attention', 'applause'], tags=['Inge Missmahl brings peace to the minds of Afghanistan'])"
      ]
     },
     "execution_count": 31,
     "metadata": {},
     "output_type": "execute_result"
    }
   ],
   "source": [
    "talk_corpus[0]"
   ]
  },
  {
   "cell_type": "code",
   "execution_count": null,
   "metadata": {},
   "outputs": [],
   "source": []
  },
  {
   "cell_type": "code",
   "execution_count": null,
   "metadata": {
    "ExecuteTime": {
     "end_time": "2018-05-18T10:55:17.478944Z",
     "start_time": "2018-05-18T06:55:17.475112-04:00"
    }
   },
   "outputs": [],
   "source": [
    "model = gensim.models.Doc2Vec(size = 300, \n",
    "                              min_count = 3, \n",
    "                              iter = 100)"
   ]
  },
  {
   "cell_type": "code",
   "execution_count": null,
   "metadata": {
    "ExecuteTime": {
     "end_time": "2018-05-18T10:55:21.496829Z",
     "start_time": "2018-05-18T06:55:19.818919-04:00"
    }
   },
   "outputs": [],
   "source": [
    "model.build_vocab(talk_corpus)\n",
    "print(\"model's vocabulary length:\", len(model.wv.vocab))"
   ]
  },
  {
   "cell_type": "code",
   "execution_count": null,
   "metadata": {
    "ExecuteTime": {
     "end_time": "2018-05-18T11:02:05.221702Z",
     "start_time": "2018-05-18T06:55:24.308481-04:00"
    }
   },
   "outputs": [],
   "source": [
    "model.train(talk_corpus,total_examples=model.corpus_count,epochs=model.epochs)"
   ]
  },
  {
   "cell_type": "code",
   "execution_count": null,
   "metadata": {
    "ExecuteTime": {
     "end_time": "2018-05-18T11:05:52.839747Z",
     "start_time": "2018-05-18T07:05:52.834339-04:00"
    }
   },
   "outputs": [],
   "source": [
    "model.docvecs.most_similar('My escape from North Korea | Hyeonseo Lee')"
   ]
  },
  {
   "cell_type": "code",
   "execution_count": null,
   "metadata": {
    "ExecuteTime": {
     "end_time": "2018-05-18T11:05:54.825793Z",
     "start_time": "2018-05-18T07:05:54.810010-04:00"
    }
   },
   "outputs": [],
   "source": [
    "df.head(1)"
   ]
  },
  {
   "cell_type": "code",
   "execution_count": null,
   "metadata": {
    "ExecuteTime": {
     "end_time": "2018-05-18T11:05:55.481044Z",
     "start_time": "2018-05-18T07:05:55.475367-04:00"
    }
   },
   "outputs": [],
   "source": [
    "content = gensim.utils.simple_preprocess (df.iloc[0][\"transcript\"])"
   ]
  },
  {
   "cell_type": "code",
   "execution_count": null,
   "metadata": {
    "ExecuteTime": {
     "end_time": "2018-05-18T11:05:56.007282Z",
     "start_time": "2018-05-18T07:05:55.994292-04:00"
    }
   },
   "outputs": [],
   "source": [
    "content"
   ]
  },
  {
   "cell_type": "code",
   "execution_count": null,
   "metadata": {
    "ExecuteTime": {
     "end_time": "2018-05-18T11:05:56.580021Z",
     "start_time": "2018-05-18T07:05:56.561486-04:00"
    }
   },
   "outputs": [],
   "source": [
    "new_vector = model.infer_vector(content)\n",
    "sims = model.docvecs.most_similar([new_vector],topn=20)\n",
    "sims"
   ]
  },
  {
   "cell_type": "code",
   "execution_count": null,
   "metadata": {},
   "outputs": [],
   "source": []
  },
  {
   "cell_type": "code",
   "execution_count": null,
   "metadata": {},
   "outputs": [],
   "source": []
  }
 ],
 "metadata": {
  "celltoolbar": "Slideshow",
  "kernelspec": {
   "display_name": "Python [default]",
   "language": "python",
   "name": "python3"
  },
  "language_info": {
   "codemirror_mode": {
    "name": "ipython",
    "version": 3
   },
   "file_extension": ".py",
   "mimetype": "text/x-python",
   "name": "python",
   "nbconvert_exporter": "python",
   "pygments_lexer": "ipython3",
   "version": "3.6.5"
  }
 },
 "nbformat": 4,
 "nbformat_minor": 2
}
