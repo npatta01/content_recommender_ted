{
 "cells": [
  {
   "cell_type": "code",
   "execution_count": 1,
   "metadata": {
    "ExecuteTime": {
     "end_time": "2018-08-16T02:56:50.215835Z",
     "start_time": "2018-08-16T02:56:48.543480Z"
    },
    "slideshow": {
     "slide_type": "slide"
    }
   },
   "outputs": [],
   "source": [
    "import pandas as pd\n",
    "import glob\n",
    "import json\n",
    "from tqdm import tqdm\n",
    "import re\n",
    "from datetime import datetime\n",
    "import gensim\n",
    "import logging\n",
    "import os\n",
    "import shutil"
   ]
  },
  {
   "cell_type": "code",
   "execution_count": 2,
   "metadata": {
    "ExecuteTime": {
     "end_time": "2018-08-16T02:56:50.221322Z",
     "start_time": "2018-08-16T02:56:50.218006Z"
    },
    "slideshow": {
     "slide_type": "slide"
    }
   },
   "outputs": [],
   "source": [
    "logging.basicConfig(format='%(levelname)s : %(message)s', level=logging.INFO)\n",
    "logging.root.level = logging.INFO  # ipython sometimes messes up the logging setup; restore"
   ]
  },
  {
   "cell_type": "code",
   "execution_count": null,
   "metadata": {},
   "outputs": [],
   "source": []
  },
  {
   "cell_type": "code",
   "execution_count": 4,
   "metadata": {
    "ExecuteTime": {
     "end_time": "2018-08-16T02:57:28.736842Z",
     "start_time": "2018-08-16T02:57:28.272355Z"
    }
   },
   "outputs": [],
   "source": [
    "df = pd.read_csv(\"talks.csv.gzip\", compression=\"gzip\")"
   ]
  },
  {
   "cell_type": "code",
   "execution_count": null,
   "metadata": {},
   "outputs": [],
   "source": []
  },
  {
   "cell_type": "code",
   "execution_count": null,
   "metadata": {},
   "outputs": [],
   "source": []
  },
  {
   "cell_type": "code",
   "execution_count": null,
   "metadata": {
    "ExecuteTime": {
     "end_time": "2018-05-18T02:53:07.948193Z",
     "start_time": "2018-05-17T22:53:07.942283-04:00"
    }
   },
   "outputs": [],
   "source": [
    "datetime.strptime('20100929', '%Y%m%d')\n"
   ]
  },
  {
   "cell_type": "code",
   "execution_count": null,
   "metadata": {
    "ExecuteTime": {
     "end_time": "2018-05-18T02:51:06.598202Z",
     "start_time": "2018-05-17T22:51:06.580832-04:00"
    }
   },
   "outputs": [],
   "source": [
    "df.head()"
   ]
  },
  {
   "cell_type": "code",
   "execution_count": null,
   "metadata": {
    "ExecuteTime": {
     "end_time": "2018-05-18T09:48:51.860914Z",
     "start_time": "2018-05-18T05:48:51.468274-04:00"
    }
   },
   "outputs": [],
   "source": [
    "from nltk import word_tokenize          \n",
    "from nltk.stem import WordNetLemmatizer \n",
    "class LemmaTokenizer(object):\n",
    "    def __init__(self):\n",
    "        self.wnl = WordNetLemmatizer()\n",
    "    def __call__(self, articles):\n",
    "        return [self.wnl.lemmatize(t) for t in word_tokenize(articles)]"
   ]
  },
  {
   "cell_type": "code",
   "execution_count": null,
   "metadata": {
    "ExecuteTime": {
     "end_time": "2018-05-18T09:46:52.104045Z",
     "start_time": "2018-05-18T05:46:52.068479-04:00"
    }
   },
   "outputs": [],
   "source": [
    "?text.TfidfVectorizer"
   ]
  },
  {
   "cell_type": "code",
   "execution_count": null,
   "metadata": {
    "ExecuteTime": {
     "end_time": "2018-05-18T09:50:31.267248Z",
     "start_time": "2018-05-18T05:49:19.996137-04:00"
    }
   },
   "outputs": [],
   "source": [
    "from sklearn.feature_extraction import text\n",
    "Text=df['transcript'].tolist()\n",
    "tfidf=text.TfidfVectorizer(input=Text,stop_words=\"english\", tokenizer=LemmaTokenizer())\n",
    "matrix=tfidf.fit_transform(Text)\n",
    "#print(matrix.shape)"
   ]
  },
  {
   "cell_type": "code",
   "execution_count": null,
   "metadata": {
    "ExecuteTime": {
     "end_time": "2018-05-18T09:54:55.481253Z",
     "start_time": "2018-05-18T05:54:54.164335-04:00"
    }
   },
   "outputs": [],
   "source": [
    "### Get Similarity Scores using cosine similarity\n",
    "from sklearn.metrics.pairwise import cosine_similarity\n",
    "sim_unigram=cosine_similarity(matrix)"
   ]
  },
  {
   "cell_type": "code",
   "execution_count": null,
   "metadata": {
    "ExecuteTime": {
     "end_time": "2018-05-18T09:54:55.890920Z",
     "start_time": "2018-05-18T05:54:55.886232-04:00"
    }
   },
   "outputs": [],
   "source": [
    "sim_unigram"
   ]
  },
  {
   "cell_type": "code",
   "execution_count": null,
   "metadata": {
    "ExecuteTime": {
     "end_time": "2018-05-18T09:56:10.109373Z",
     "start_time": "2018-05-18T05:56:08.958083-04:00"
    }
   },
   "outputs": [],
   "source": [
    "def get_similar_articles(x):\n",
    "    return \"\\n\".join(df['title'].loc[x.argsort()[-5:-1]])\n",
    "df['similar_articles_unigram']=[get_similar_articles(x) for x in sim_unigram]"
   ]
  },
  {
   "cell_type": "code",
   "execution_count": null,
   "metadata": {
    "ExecuteTime": {
     "end_time": "2018-05-18T09:56:10.543176Z",
     "start_time": "2018-05-18T05:56:10.538773-04:00"
    }
   },
   "outputs": [],
   "source": [
    "df['title'][1]"
   ]
  },
  {
   "cell_type": "code",
   "execution_count": null,
   "metadata": {
    "ExecuteTime": {
     "end_time": "2018-05-18T09:56:20.048464Z",
     "start_time": "2018-05-18T05:56:20.044660-04:00"
    }
   },
   "outputs": [],
   "source": [
    "print (df['similar_articles_unigram'][1])"
   ]
  },
  {
   "cell_type": "code",
   "execution_count": null,
   "metadata": {},
   "outputs": [],
   "source": []
  },
  {
   "cell_type": "code",
   "execution_count": null,
   "metadata": {},
   "outputs": [],
   "source": []
  },
  {
   "cell_type": "markdown",
   "metadata": {},
   "source": [
    "# Doc2Vec"
   ]
  },
  {
   "cell_type": "code",
   "execution_count": null,
   "metadata": {
    "ExecuteTime": {
     "end_time": "2018-05-18T10:08:17.246428Z",
     "start_time": "2018-05-18T06:08:17.237292-04:00"
    }
   },
   "outputs": [],
   "source": [
    "df.iloc[0]"
   ]
  },
  {
   "cell_type": "code",
   "execution_count": null,
   "metadata": {
    "ExecuteTime": {
     "end_time": "2018-05-18T10:19:50.596510Z",
     "start_time": "2018-05-18T06:19:50.592511-04:00"
    }
   },
   "outputs": [],
   "source": [
    "[row[\"title\"]] + row[\"categories\"]"
   ]
  },
  {
   "cell_type": "code",
   "execution_count": null,
   "metadata": {
    "ExecuteTime": {
     "end_time": "2018-05-18T10:55:09.596484Z",
     "start_time": "2018-05-18T06:55:02.905582-04:00"
    }
   },
   "outputs": [],
   "source": [
    "talk_corpus = []\n",
    "for (index,row) in df.iterrows():\n",
    "    content = gensim.utils.simple_preprocess (row[\"transcript\"])\n",
    "    #tags = [row[\"title\"], row[\"id\"]] + row[\"categories\"]'\n",
    "    #tags = [row[\"title\"]] + row[\"categories\"]\n",
    "    tags = [row[\"title\"]] \n",
    "    tg = gensim.models.doc2vec.TaggedDocument(content,tags)\n",
    "    talk_corpus.append(tg)"
   ]
  },
  {
   "cell_type": "code",
   "execution_count": null,
   "metadata": {
    "ExecuteTime": {
     "end_time": "2018-05-18T10:55:11.886908Z",
     "start_time": "2018-05-18T06:55:11.882739-04:00"
    }
   },
   "outputs": [],
   "source": [
    "talk_corpus[0]"
   ]
  },
  {
   "cell_type": "code",
   "execution_count": null,
   "metadata": {},
   "outputs": [],
   "source": []
  },
  {
   "cell_type": "code",
   "execution_count": null,
   "metadata": {
    "ExecuteTime": {
     "end_time": "2018-05-18T10:55:17.478944Z",
     "start_time": "2018-05-18T06:55:17.475112-04:00"
    }
   },
   "outputs": [],
   "source": [
    "model = gensim.models.Doc2Vec(size = 300, \n",
    "                              min_count = 3, \n",
    "                              iter = 100)"
   ]
  },
  {
   "cell_type": "code",
   "execution_count": null,
   "metadata": {
    "ExecuteTime": {
     "end_time": "2018-05-18T10:55:21.496829Z",
     "start_time": "2018-05-18T06:55:19.818919-04:00"
    }
   },
   "outputs": [],
   "source": [
    "model.build_vocab(talk_corpus)\n",
    "print(\"model's vocabulary length:\", len(model.wv.vocab))"
   ]
  },
  {
   "cell_type": "code",
   "execution_count": null,
   "metadata": {
    "ExecuteTime": {
     "end_time": "2018-05-18T11:02:05.221702Z",
     "start_time": "2018-05-18T06:55:24.308481-04:00"
    }
   },
   "outputs": [],
   "source": [
    "model.train(talk_corpus,total_examples=model.corpus_count,epochs=model.epochs)"
   ]
  },
  {
   "cell_type": "code",
   "execution_count": null,
   "metadata": {
    "ExecuteTime": {
     "end_time": "2018-05-18T11:05:52.839747Z",
     "start_time": "2018-05-18T07:05:52.834339-04:00"
    }
   },
   "outputs": [],
   "source": [
    "model.docvecs.most_similar('My escape from North Korea | Hyeonseo Lee')"
   ]
  },
  {
   "cell_type": "code",
   "execution_count": null,
   "metadata": {
    "ExecuteTime": {
     "end_time": "2018-05-18T11:05:54.825793Z",
     "start_time": "2018-05-18T07:05:54.810010-04:00"
    }
   },
   "outputs": [],
   "source": [
    "df.head(1)"
   ]
  },
  {
   "cell_type": "code",
   "execution_count": null,
   "metadata": {
    "ExecuteTime": {
     "end_time": "2018-05-18T11:05:55.481044Z",
     "start_time": "2018-05-18T07:05:55.475367-04:00"
    }
   },
   "outputs": [],
   "source": [
    "content = gensim.utils.simple_preprocess (df.iloc[0][\"transcript\"])"
   ]
  },
  {
   "cell_type": "code",
   "execution_count": null,
   "metadata": {
    "ExecuteTime": {
     "end_time": "2018-05-18T11:05:56.007282Z",
     "start_time": "2018-05-18T07:05:55.994292-04:00"
    }
   },
   "outputs": [],
   "source": [
    "content"
   ]
  },
  {
   "cell_type": "code",
   "execution_count": null,
   "metadata": {
    "ExecuteTime": {
     "end_time": "2018-05-18T11:05:56.580021Z",
     "start_time": "2018-05-18T07:05:56.561486-04:00"
    }
   },
   "outputs": [],
   "source": [
    "new_vector = model.infer_vector(content)\n",
    "sims = model.docvecs.most_similar([new_vector],topn=20)\n",
    "sims"
   ]
  },
  {
   "cell_type": "code",
   "execution_count": null,
   "metadata": {},
   "outputs": [],
   "source": []
  },
  {
   "cell_type": "code",
   "execution_count": null,
   "metadata": {},
   "outputs": [],
   "source": []
  }
 ],
 "metadata": {
  "celltoolbar": "Slideshow",
  "kernelspec": {
   "display_name": "Python [default]",
   "language": "python",
   "name": "python3"
  },
  "language_info": {
   "codemirror_mode": {
    "name": "ipython",
    "version": 3
   },
   "file_extension": ".py",
   "mimetype": "text/x-python",
   "name": "python",
   "nbconvert_exporter": "python",
   "pygments_lexer": "ipython3",
   "version": "3.6.5"
  }
 },
 "nbformat": 4,
 "nbformat_minor": 2
}
