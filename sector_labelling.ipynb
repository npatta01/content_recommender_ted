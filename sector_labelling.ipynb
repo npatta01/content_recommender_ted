{
 "cells": [
  {
   "cell_type": "code",
   "execution_count": 1,
   "metadata": {
    "ExecuteTime": {
     "end_time": "2018-06-23T22:11:02.266966Z",
     "start_time": "2018-06-23T22:11:01.628743Z"
    }
   },
   "outputs": [],
   "source": [
    "import pandas as pd\n",
    "import pickle\n",
    "import random\n",
    "pd.set_option('display.max_columns',100)\n",
    "\n",
    "from collections import Counter\n",
    "%matplotlib inline"
   ]
  },
  {
   "cell_type": "code",
   "execution_count": null,
   "metadata": {},
   "outputs": [],
   "source": []
  },
  {
   "cell_type": "code",
   "execution_count": 142,
   "metadata": {
    "ExecuteTime": {
     "end_time": "2018-06-23T23:23:06.034772Z",
     "start_time": "2018-06-23T23:23:06.032220Z"
    }
   },
   "outputs": [],
   "source": [
    "from bokeh.plotting import figure \n",
    "from bokeh.io import output_notebook, show\n",
    "from sklearn.neighbors import NearestNeighbors\n",
    "from sklearn.neighbors import KNeighborsClassifier"
   ]
  },
  {
   "cell_type": "code",
   "execution_count": 3,
   "metadata": {
    "ExecuteTime": {
     "end_time": "2018-06-23T22:11:02.835256Z",
     "start_time": "2018-06-23T22:11:02.826356Z"
    }
   },
   "outputs": [
    {
     "data": {
      "text/html": [
       "\n",
       "    <div class=\"bk-root\">\n",
       "        <a href=\"https://bokeh.pydata.org\" target=\"_blank\" class=\"bk-logo bk-logo-small bk-logo-notebook\"></a>\n",
       "        <span id=\"de4930ce-f65a-4db9-a2f9-471804091a64\">Loading BokehJS ...</span>\n",
       "    </div>"
      ]
     },
     "metadata": {},
     "output_type": "display_data"
    },
    {
     "data": {
      "application/javascript": [
       "\n",
       "(function(root) {\n",
       "  function now() {\n",
       "    return new Date();\n",
       "  }\n",
       "\n",
       "  var force = true;\n",
       "\n",
       "  if (typeof (root._bokeh_onload_callbacks) === \"undefined\" || force === true) {\n",
       "    root._bokeh_onload_callbacks = [];\n",
       "    root._bokeh_is_loading = undefined;\n",
       "  }\n",
       "\n",
       "  var JS_MIME_TYPE = 'application/javascript';\n",
       "  var HTML_MIME_TYPE = 'text/html';\n",
       "  var EXEC_MIME_TYPE = 'application/vnd.bokehjs_exec.v0+json';\n",
       "  var CLASS_NAME = 'output_bokeh rendered_html';\n",
       "\n",
       "  /**\n",
       "   * Render data to the DOM node\n",
       "   */\n",
       "  function render(props, node) {\n",
       "    var script = document.createElement(\"script\");\n",
       "    node.appendChild(script);\n",
       "  }\n",
       "\n",
       "  /**\n",
       "   * Handle when an output is cleared or removed\n",
       "   */\n",
       "  function handleClearOutput(event, handle) {\n",
       "    var cell = handle.cell;\n",
       "\n",
       "    var id = cell.output_area._bokeh_element_id;\n",
       "    var server_id = cell.output_area._bokeh_server_id;\n",
       "    // Clean up Bokeh references\n",
       "    if (id !== undefined) {\n",
       "      Bokeh.index[id].model.document.clear();\n",
       "      delete Bokeh.index[id];\n",
       "    }\n",
       "\n",
       "    if (server_id !== undefined) {\n",
       "      // Clean up Bokeh references\n",
       "      var cmd = \"from bokeh.io.state import curstate; print(curstate().uuid_to_server['\" + server_id + \"'].get_sessions()[0].document.roots[0]._id)\";\n",
       "      cell.notebook.kernel.execute(cmd, {\n",
       "        iopub: {\n",
       "          output: function(msg) {\n",
       "            var element_id = msg.content.text.trim();\n",
       "            Bokeh.index[element_id].model.document.clear();\n",
       "            delete Bokeh.index[element_id];\n",
       "          }\n",
       "        }\n",
       "      });\n",
       "      // Destroy server and session\n",
       "      var cmd = \"import bokeh.io.notebook as ion; ion.destroy_server('\" + server_id + \"')\";\n",
       "      cell.notebook.kernel.execute(cmd);\n",
       "    }\n",
       "  }\n",
       "\n",
       "  /**\n",
       "   * Handle when a new output is added\n",
       "   */\n",
       "  function handleAddOutput(event, handle) {\n",
       "    var output_area = handle.output_area;\n",
       "    var output = handle.output;\n",
       "\n",
       "    // limit handleAddOutput to display_data with EXEC_MIME_TYPE content only\n",
       "    if ((output.output_type != \"display_data\") || (!output.data.hasOwnProperty(EXEC_MIME_TYPE))) {\n",
       "      return\n",
       "    }\n",
       "\n",
       "    var toinsert = output_area.element.find(\".\" + CLASS_NAME.split(' ')[0]);\n",
       "\n",
       "    if (output.metadata[EXEC_MIME_TYPE][\"id\"] !== undefined) {\n",
       "      toinsert[toinsert.length - 1].firstChild.textContent = output.data[JS_MIME_TYPE];\n",
       "      // store reference to embed id on output_area\n",
       "      output_area._bokeh_element_id = output.metadata[EXEC_MIME_TYPE][\"id\"];\n",
       "    }\n",
       "    if (output.metadata[EXEC_MIME_TYPE][\"server_id\"] !== undefined) {\n",
       "      var bk_div = document.createElement(\"div\");\n",
       "      bk_div.innerHTML = output.data[HTML_MIME_TYPE];\n",
       "      var script_attrs = bk_div.children[0].attributes;\n",
       "      for (var i = 0; i < script_attrs.length; i++) {\n",
       "        toinsert[toinsert.length - 1].firstChild.setAttribute(script_attrs[i].name, script_attrs[i].value);\n",
       "      }\n",
       "      // store reference to server id on output_area\n",
       "      output_area._bokeh_server_id = output.metadata[EXEC_MIME_TYPE][\"server_id\"];\n",
       "    }\n",
       "  }\n",
       "\n",
       "  function register_renderer(events, OutputArea) {\n",
       "\n",
       "    function append_mime(data, metadata, element) {\n",
       "      // create a DOM node to render to\n",
       "      var toinsert = this.create_output_subarea(\n",
       "        metadata,\n",
       "        CLASS_NAME,\n",
       "        EXEC_MIME_TYPE\n",
       "      );\n",
       "      this.keyboard_manager.register_events(toinsert);\n",
       "      // Render to node\n",
       "      var props = {data: data, metadata: metadata[EXEC_MIME_TYPE]};\n",
       "      render(props, toinsert[toinsert.length - 1]);\n",
       "      element.append(toinsert);\n",
       "      return toinsert\n",
       "    }\n",
       "\n",
       "    /* Handle when an output is cleared or removed */\n",
       "    events.on('clear_output.CodeCell', handleClearOutput);\n",
       "    events.on('delete.Cell', handleClearOutput);\n",
       "\n",
       "    /* Handle when a new output is added */\n",
       "    events.on('output_added.OutputArea', handleAddOutput);\n",
       "\n",
       "    /**\n",
       "     * Register the mime type and append_mime function with output_area\n",
       "     */\n",
       "    OutputArea.prototype.register_mime_type(EXEC_MIME_TYPE, append_mime, {\n",
       "      /* Is output safe? */\n",
       "      safe: true,\n",
       "      /* Index of renderer in `output_area.display_order` */\n",
       "      index: 0\n",
       "    });\n",
       "  }\n",
       "\n",
       "  // register the mime type if in Jupyter Notebook environment and previously unregistered\n",
       "  if (root.Jupyter !== undefined) {\n",
       "    var events = require('base/js/events');\n",
       "    var OutputArea = require('notebook/js/outputarea').OutputArea;\n",
       "\n",
       "    if (OutputArea.prototype.mime_types().indexOf(EXEC_MIME_TYPE) == -1) {\n",
       "      register_renderer(events, OutputArea);\n",
       "    }\n",
       "  }\n",
       "\n",
       "  \n",
       "  if (typeof (root._bokeh_timeout) === \"undefined\" || force === true) {\n",
       "    root._bokeh_timeout = Date.now() + 5000;\n",
       "    root._bokeh_failed_load = false;\n",
       "  }\n",
       "\n",
       "  var NB_LOAD_WARNING = {'data': {'text/html':\n",
       "     \"<div style='background-color: #fdd'>\\n\"+\n",
       "     \"<p>\\n\"+\n",
       "     \"BokehJS does not appear to have successfully loaded. If loading BokehJS from CDN, this \\n\"+\n",
       "     \"may be due to a slow or bad network connection. Possible fixes:\\n\"+\n",
       "     \"</p>\\n\"+\n",
       "     \"<ul>\\n\"+\n",
       "     \"<li>re-rerun `output_notebook()` to attempt to load from CDN again, or</li>\\n\"+\n",
       "     \"<li>use INLINE resources instead, as so:</li>\\n\"+\n",
       "     \"</ul>\\n\"+\n",
       "     \"<code>\\n\"+\n",
       "     \"from bokeh.resources import INLINE\\n\"+\n",
       "     \"output_notebook(resources=INLINE)\\n\"+\n",
       "     \"</code>\\n\"+\n",
       "     \"</div>\"}};\n",
       "\n",
       "  function display_loaded() {\n",
       "    var el = document.getElementById(\"de4930ce-f65a-4db9-a2f9-471804091a64\");\n",
       "    if (el != null) {\n",
       "      el.textContent = \"BokehJS is loading...\";\n",
       "    }\n",
       "    if (root.Bokeh !== undefined) {\n",
       "      if (el != null) {\n",
       "        el.textContent = \"BokehJS \" + root.Bokeh.version + \" successfully loaded.\";\n",
       "      }\n",
       "    } else if (Date.now() < root._bokeh_timeout) {\n",
       "      setTimeout(display_loaded, 100)\n",
       "    }\n",
       "  }\n",
       "\n",
       "\n",
       "  function run_callbacks() {\n",
       "    try {\n",
       "      root._bokeh_onload_callbacks.forEach(function(callback) { callback() });\n",
       "    }\n",
       "    finally {\n",
       "      delete root._bokeh_onload_callbacks\n",
       "    }\n",
       "    console.info(\"Bokeh: all callbacks have finished\");\n",
       "  }\n",
       "\n",
       "  function load_libs(js_urls, callback) {\n",
       "    root._bokeh_onload_callbacks.push(callback);\n",
       "    if (root._bokeh_is_loading > 0) {\n",
       "      console.log(\"Bokeh: BokehJS is being loaded, scheduling callback at\", now());\n",
       "      return null;\n",
       "    }\n",
       "    if (js_urls == null || js_urls.length === 0) {\n",
       "      run_callbacks();\n",
       "      return null;\n",
       "    }\n",
       "    console.log(\"Bokeh: BokehJS not loaded, scheduling load and callback at\", now());\n",
       "    root._bokeh_is_loading = js_urls.length;\n",
       "    for (var i = 0; i < js_urls.length; i++) {\n",
       "      var url = js_urls[i];\n",
       "      var s = document.createElement('script');\n",
       "      s.src = url;\n",
       "      s.async = false;\n",
       "      s.onreadystatechange = s.onload = function() {\n",
       "        root._bokeh_is_loading--;\n",
       "        if (root._bokeh_is_loading === 0) {\n",
       "          console.log(\"Bokeh: all BokehJS libraries loaded\");\n",
       "          run_callbacks()\n",
       "        }\n",
       "      };\n",
       "      s.onerror = function() {\n",
       "        console.warn(\"failed to load library \" + url);\n",
       "      };\n",
       "      console.log(\"Bokeh: injecting script tag for BokehJS library: \", url);\n",
       "      document.getElementsByTagName(\"head\")[0].appendChild(s);\n",
       "    }\n",
       "  };var element = document.getElementById(\"de4930ce-f65a-4db9-a2f9-471804091a64\");\n",
       "  if (element == null) {\n",
       "    console.log(\"Bokeh: ERROR: autoload.js configured with elementid 'de4930ce-f65a-4db9-a2f9-471804091a64' but no matching script tag was found. \")\n",
       "    return false;\n",
       "  }\n",
       "\n",
       "  var js_urls = [\"https://cdn.pydata.org/bokeh/release/bokeh-0.12.16.min.js\", \"https://cdn.pydata.org/bokeh/release/bokeh-widgets-0.12.16.min.js\", \"https://cdn.pydata.org/bokeh/release/bokeh-tables-0.12.16.min.js\", \"https://cdn.pydata.org/bokeh/release/bokeh-gl-0.12.16.min.js\"];\n",
       "\n",
       "  var inline_js = [\n",
       "    function(Bokeh) {\n",
       "      Bokeh.set_log_level(\"info\");\n",
       "    },\n",
       "    \n",
       "    function(Bokeh) {\n",
       "      \n",
       "    },\n",
       "    function(Bokeh) {\n",
       "      console.log(\"Bokeh: injecting CSS: https://cdn.pydata.org/bokeh/release/bokeh-0.12.16.min.css\");\n",
       "      Bokeh.embed.inject_css(\"https://cdn.pydata.org/bokeh/release/bokeh-0.12.16.min.css\");\n",
       "      console.log(\"Bokeh: injecting CSS: https://cdn.pydata.org/bokeh/release/bokeh-widgets-0.12.16.min.css\");\n",
       "      Bokeh.embed.inject_css(\"https://cdn.pydata.org/bokeh/release/bokeh-widgets-0.12.16.min.css\");\n",
       "      console.log(\"Bokeh: injecting CSS: https://cdn.pydata.org/bokeh/release/bokeh-tables-0.12.16.min.css\");\n",
       "      Bokeh.embed.inject_css(\"https://cdn.pydata.org/bokeh/release/bokeh-tables-0.12.16.min.css\");\n",
       "    }\n",
       "  ];\n",
       "\n",
       "  function run_inline_js() {\n",
       "    \n",
       "    if ((root.Bokeh !== undefined) || (force === true)) {\n",
       "      for (var i = 0; i < inline_js.length; i++) {\n",
       "        inline_js[i].call(root, root.Bokeh);\n",
       "      }if (force === true) {\n",
       "        display_loaded();\n",
       "      }} else if (Date.now() < root._bokeh_timeout) {\n",
       "      setTimeout(run_inline_js, 100);\n",
       "    } else if (!root._bokeh_failed_load) {\n",
       "      console.log(\"Bokeh: BokehJS failed to load within specified timeout.\");\n",
       "      root._bokeh_failed_load = true;\n",
       "    } else if (force !== true) {\n",
       "      var cell = $(document.getElementById(\"de4930ce-f65a-4db9-a2f9-471804091a64\")).parents('.cell').data().cell;\n",
       "      cell.output_area.append_execute_result(NB_LOAD_WARNING)\n",
       "    }\n",
       "\n",
       "  }\n",
       "\n",
       "  if (root._bokeh_is_loading === 0) {\n",
       "    console.log(\"Bokeh: BokehJS loaded, going straight to plotting\");\n",
       "    run_inline_js();\n",
       "  } else {\n",
       "    load_libs(js_urls, function() {\n",
       "      console.log(\"Bokeh: BokehJS plotting callback run at\", now());\n",
       "      run_inline_js();\n",
       "    });\n",
       "  }\n",
       "}(window));"
      ],
      "application/vnd.bokehjs_load.v0+json": "\n(function(root) {\n  function now() {\n    return new Date();\n  }\n\n  var force = true;\n\n  if (typeof (root._bokeh_onload_callbacks) === \"undefined\" || force === true) {\n    root._bokeh_onload_callbacks = [];\n    root._bokeh_is_loading = undefined;\n  }\n\n  \n\n  \n  if (typeof (root._bokeh_timeout) === \"undefined\" || force === true) {\n    root._bokeh_timeout = Date.now() + 5000;\n    root._bokeh_failed_load = false;\n  }\n\n  var NB_LOAD_WARNING = {'data': {'text/html':\n     \"<div style='background-color: #fdd'>\\n\"+\n     \"<p>\\n\"+\n     \"BokehJS does not appear to have successfully loaded. If loading BokehJS from CDN, this \\n\"+\n     \"may be due to a slow or bad network connection. Possible fixes:\\n\"+\n     \"</p>\\n\"+\n     \"<ul>\\n\"+\n     \"<li>re-rerun `output_notebook()` to attempt to load from CDN again, or</li>\\n\"+\n     \"<li>use INLINE resources instead, as so:</li>\\n\"+\n     \"</ul>\\n\"+\n     \"<code>\\n\"+\n     \"from bokeh.resources import INLINE\\n\"+\n     \"output_notebook(resources=INLINE)\\n\"+\n     \"</code>\\n\"+\n     \"</div>\"}};\n\n  function display_loaded() {\n    var el = document.getElementById(\"de4930ce-f65a-4db9-a2f9-471804091a64\");\n    if (el != null) {\n      el.textContent = \"BokehJS is loading...\";\n    }\n    if (root.Bokeh !== undefined) {\n      if (el != null) {\n        el.textContent = \"BokehJS \" + root.Bokeh.version + \" successfully loaded.\";\n      }\n    } else if (Date.now() < root._bokeh_timeout) {\n      setTimeout(display_loaded, 100)\n    }\n  }\n\n\n  function run_callbacks() {\n    try {\n      root._bokeh_onload_callbacks.forEach(function(callback) { callback() });\n    }\n    finally {\n      delete root._bokeh_onload_callbacks\n    }\n    console.info(\"Bokeh: all callbacks have finished\");\n  }\n\n  function load_libs(js_urls, callback) {\n    root._bokeh_onload_callbacks.push(callback);\n    if (root._bokeh_is_loading > 0) {\n      console.log(\"Bokeh: BokehJS is being loaded, scheduling callback at\", now());\n      return null;\n    }\n    if (js_urls == null || js_urls.length === 0) {\n      run_callbacks();\n      return null;\n    }\n    console.log(\"Bokeh: BokehJS not loaded, scheduling load and callback at\", now());\n    root._bokeh_is_loading = js_urls.length;\n    for (var i = 0; i < js_urls.length; i++) {\n      var url = js_urls[i];\n      var s = document.createElement('script');\n      s.src = url;\n      s.async = false;\n      s.onreadystatechange = s.onload = function() {\n        root._bokeh_is_loading--;\n        if (root._bokeh_is_loading === 0) {\n          console.log(\"Bokeh: all BokehJS libraries loaded\");\n          run_callbacks()\n        }\n      };\n      s.onerror = function() {\n        console.warn(\"failed to load library \" + url);\n      };\n      console.log(\"Bokeh: injecting script tag for BokehJS library: \", url);\n      document.getElementsByTagName(\"head\")[0].appendChild(s);\n    }\n  };var element = document.getElementById(\"de4930ce-f65a-4db9-a2f9-471804091a64\");\n  if (element == null) {\n    console.log(\"Bokeh: ERROR: autoload.js configured with elementid 'de4930ce-f65a-4db9-a2f9-471804091a64' but no matching script tag was found. \")\n    return false;\n  }\n\n  var js_urls = [\"https://cdn.pydata.org/bokeh/release/bokeh-0.12.16.min.js\", \"https://cdn.pydata.org/bokeh/release/bokeh-widgets-0.12.16.min.js\", \"https://cdn.pydata.org/bokeh/release/bokeh-tables-0.12.16.min.js\", \"https://cdn.pydata.org/bokeh/release/bokeh-gl-0.12.16.min.js\"];\n\n  var inline_js = [\n    function(Bokeh) {\n      Bokeh.set_log_level(\"info\");\n    },\n    \n    function(Bokeh) {\n      \n    },\n    function(Bokeh) {\n      console.log(\"Bokeh: injecting CSS: https://cdn.pydata.org/bokeh/release/bokeh-0.12.16.min.css\");\n      Bokeh.embed.inject_css(\"https://cdn.pydata.org/bokeh/release/bokeh-0.12.16.min.css\");\n      console.log(\"Bokeh: injecting CSS: https://cdn.pydata.org/bokeh/release/bokeh-widgets-0.12.16.min.css\");\n      Bokeh.embed.inject_css(\"https://cdn.pydata.org/bokeh/release/bokeh-widgets-0.12.16.min.css\");\n      console.log(\"Bokeh: injecting CSS: https://cdn.pydata.org/bokeh/release/bokeh-tables-0.12.16.min.css\");\n      Bokeh.embed.inject_css(\"https://cdn.pydata.org/bokeh/release/bokeh-tables-0.12.16.min.css\");\n    }\n  ];\n\n  function run_inline_js() {\n    \n    if ((root.Bokeh !== undefined) || (force === true)) {\n      for (var i = 0; i < inline_js.length; i++) {\n        inline_js[i].call(root, root.Bokeh);\n      }if (force === true) {\n        display_loaded();\n      }} else if (Date.now() < root._bokeh_timeout) {\n      setTimeout(run_inline_js, 100);\n    } else if (!root._bokeh_failed_load) {\n      console.log(\"Bokeh: BokehJS failed to load within specified timeout.\");\n      root._bokeh_failed_load = true;\n    } else if (force !== true) {\n      var cell = $(document.getElementById(\"de4930ce-f65a-4db9-a2f9-471804091a64\")).parents('.cell').data().cell;\n      cell.output_area.append_execute_result(NB_LOAD_WARNING)\n    }\n\n  }\n\n  if (root._bokeh_is_loading === 0) {\n    console.log(\"Bokeh: BokehJS loaded, going straight to plotting\");\n    run_inline_js();\n  } else {\n    load_libs(js_urls, function() {\n      console.log(\"Bokeh: BokehJS plotting callback run at\", now());\n      run_inline_js();\n    });\n  }\n}(window));"
     },
     "metadata": {},
     "output_type": "display_data"
    }
   ],
   "source": [
    "output_notebook()\n"
   ]
  },
  {
   "cell_type": "code",
   "execution_count": 4,
   "metadata": {
    "ExecuteTime": {
     "end_time": "2018-06-23T22:11:02.842222Z",
     "start_time": "2018-06-23T22:11:02.837169Z"
    }
   },
   "outputs": [],
   "source": [
    "from pylab import rcParams\n",
    "rcParams['figure.figsize'] = 20, 10"
   ]
  },
  {
   "cell_type": "code",
   "execution_count": 5,
   "metadata": {
    "ExecuteTime": {
     "end_time": "2018-06-23T22:11:03.039323Z",
     "start_time": "2018-06-23T22:11:02.849034Z"
    }
   },
   "outputs": [],
   "source": [
    "newsData = pd.read_pickle('../Data/Feedly_Processed_DF_cleaned.pkl')\n",
    "sectorLabels = pd.read_csv('../Data/Labeled_Data/sectors.csv')[['article_id','top_sector','Sectors']]"
   ]
  },
  {
   "cell_type": "code",
   "execution_count": 6,
   "metadata": {
    "ExecuteTime": {
     "end_time": "2018-06-23T22:11:03.973656Z",
     "start_time": "2018-06-23T22:11:03.821768Z"
    }
   },
   "outputs": [
    {
     "data": {
      "text/html": [
       "<div>\n",
       "<style scoped>\n",
       "    .dataframe tbody tr th:only-of-type {\n",
       "        vertical-align: middle;\n",
       "    }\n",
       "\n",
       "    .dataframe tbody tr th {\n",
       "        vertical-align: top;\n",
       "    }\n",
       "\n",
       "    .dataframe thead th {\n",
       "        text-align: right;\n",
       "    }\n",
       "</style>\n",
       "<table border=\"1\" class=\"dataframe\">\n",
       "  <thead>\n",
       "    <tr style=\"text-align: right;\">\n",
       "      <th></th>\n",
       "      <th>article_id</th>\n",
       "      <th>title</th>\n",
       "      <th>article_text</th>\n",
       "      <th>top_sector</th>\n",
       "      <th>content</th>\n",
       "      <th>sector</th>\n",
       "    </tr>\n",
       "  </thead>\n",
       "  <tbody>\n",
       "    <tr>\n",
       "      <th>0</th>\n",
       "      <td>5eca9220</td>\n",
       "      <td>AfDB, GCF partner on 'Desert-to-Power' scheme</td>\n",
       "      <td>The African Development Bank (AfDB), Green Cli...</td>\n",
       "      <td>MISC</td>\n",
       "      <td>AfDB, GCF partner on 'Desert-to-Power' scheme ...</td>\n",
       "      <td>MISC</td>\n",
       "    </tr>\n",
       "    <tr>\n",
       "      <th>1</th>\n",
       "      <td>ee5530a3</td>\n",
       "      <td>AIIB approves $1.5 bln of loans to India for i...</td>\n",
       "      <td>NEW DELHI, Feb 27 (Reuters) - China-based Asia...</td>\n",
       "      <td>transport</td>\n",
       "      <td>AIIB approves $1.5 bln of loans to India for i...</td>\n",
       "      <td>transport</td>\n",
       "    </tr>\n",
       "    <tr>\n",
       "      <th>2</th>\n",
       "      <td>185416ad</td>\n",
       "      <td>India, ADB sign USD 250 million loan agreement...</td>\n",
       "      <td>Here are some suggestions that matches your en...</td>\n",
       "      <td>transport</td>\n",
       "      <td>India, ADB sign USD 250 million loan agreement...</td>\n",
       "      <td>transport</td>\n",
       "    </tr>\n",
       "    <tr>\n",
       "      <th>3</th>\n",
       "      <td>ef56fb55</td>\n",
       "      <td>EIB approves $1.8bn financing for Trans-Adriat...</td>\n",
       "      <td>Compelo is using cookies\\n\\nWe use them to giv...</td>\n",
       "      <td>energy</td>\n",
       "      <td>EIB approves $1.8bn financing for Trans-Adriat...</td>\n",
       "      <td>energy</td>\n",
       "    </tr>\n",
       "    <tr>\n",
       "      <th>4</th>\n",
       "      <td>85f28676</td>\n",
       "      <td>EBRD increases its portfolio in Azerbaijan</td>\n",
       "      <td>Baku, Azerbaijan, April 9\\n\\nBy Anvar Mammadov...</td>\n",
       "      <td>industry and trade</td>\n",
       "      <td>EBRD increases its portfolio in Azerbaijan \\nB...</td>\n",
       "      <td>industry and trade</td>\n",
       "    </tr>\n",
       "  </tbody>\n",
       "</table>\n",
       "</div>"
      ],
      "text/plain": [
       "  article_id                                              title  \\\n",
       "0   5eca9220      AfDB, GCF partner on 'Desert-to-Power' scheme   \n",
       "1   ee5530a3  AIIB approves $1.5 bln of loans to India for i...   \n",
       "2   185416ad  India, ADB sign USD 250 million loan agreement...   \n",
       "3   ef56fb55  EIB approves $1.8bn financing for Trans-Adriat...   \n",
       "4   85f28676         EBRD increases its portfolio in Azerbaijan   \n",
       "\n",
       "                                        article_text          top_sector  \\\n",
       "0  The African Development Bank (AfDB), Green Cli...                MISC   \n",
       "1  NEW DELHI, Feb 27 (Reuters) - China-based Asia...           transport   \n",
       "2  Here are some suggestions that matches your en...           transport   \n",
       "3  Compelo is using cookies\\n\\nWe use them to giv...              energy   \n",
       "4  Baku, Azerbaijan, April 9\\n\\nBy Anvar Mammadov...  industry and trade   \n",
       "\n",
       "                                             content              sector  \n",
       "0  AfDB, GCF partner on 'Desert-to-Power' scheme ...                MISC  \n",
       "1  AIIB approves $1.5 bln of loans to India for i...           transport  \n",
       "2  India, ADB sign USD 250 million loan agreement...           transport  \n",
       "3  EIB approves $1.8bn financing for Trans-Adriat...              energy  \n",
       "4  EBRD increases its portfolio in Azerbaijan \\nB...  industry and trade  "
      ]
     },
     "execution_count": 6,
     "metadata": {},
     "output_type": "execute_result"
    }
   ],
   "source": [
    "articles_df = pd.merge(newsData,sectorLabels, on='article_id')[['article_id','title','article_text','top_sector']]\n",
    "articles_df['content'] = articles_df['title'] + \" \\n\" + articles_df['article_text']\n",
    "articles_df['sector'] = articles_df['top_sector']\n",
    "articles_df.head()"
   ]
  },
  {
   "cell_type": "code",
   "execution_count": 7,
   "metadata": {
    "ExecuteTime": {
     "end_time": "2018-06-23T22:11:04.272954Z",
     "start_time": "2018-06-23T22:11:04.082042Z"
    }
   },
   "outputs": [],
   "source": [
    "projects_df = pd.read_csv('../Data/EWS_Published Project_Listing_DD.csv', encoding='ISO-8859-1')\n"
   ]
  },
  {
   "cell_type": "code",
   "execution_count": 8,
   "metadata": {
    "ExecuteTime": {
     "end_time": "2018-06-23T22:11:04.324553Z",
     "start_time": "2018-06-23T22:11:04.274760Z"
    }
   },
   "outputs": [
    {
     "data": {
      "text/html": [
       "<div>\n",
       "<style scoped>\n",
       "    .dataframe tbody tr th:only-of-type {\n",
       "        vertical-align: middle;\n",
       "    }\n",
       "\n",
       "    .dataframe tbody tr th {\n",
       "        vertical-align: top;\n",
       "    }\n",
       "\n",
       "    .dataframe thead th {\n",
       "        text-align: right;\n",
       "    }\n",
       "</style>\n",
       "<table border=\"1\" class=\"dataframe\">\n",
       "  <thead>\n",
       "    <tr style=\"text-align: right;\">\n",
       "      <th></th>\n",
       "      <th>EWS ID</th>\n",
       "      <th>ProjectNumber</th>\n",
       "      <th>Published</th>\n",
       "      <th>Bank Risk Rating</th>\n",
       "      <th>Project Status</th>\n",
       "      <th>EWS URL</th>\n",
       "      <th>Detailed Analysis URL</th>\n",
       "      <th>Project Name</th>\n",
       "      <th>City</th>\n",
       "      <th>Country Count</th>\n",
       "      <th>Country 1</th>\n",
       "      <th>Country 2</th>\n",
       "      <th>Country 3</th>\n",
       "      <th>Country 4</th>\n",
       "      <th>Country 5</th>\n",
       "      <th>Country 6</th>\n",
       "      <th>Country 7</th>\n",
       "      <th>Country 8</th>\n",
       "      <th>Country 9</th>\n",
       "      <th>Country 10</th>\n",
       "      <th>Country 11</th>\n",
       "      <th>Country 12</th>\n",
       "      <th>Borrower or Client</th>\n",
       "      <th>Private Actor Count</th>\n",
       "      <th>Private Actor 1</th>\n",
       "      <th>Private Actor 2</th>\n",
       "      <th>Private Actor 3</th>\n",
       "      <th>Private Actor 4</th>\n",
       "      <th>Private Actor 5</th>\n",
       "      <th>Private Actor 6</th>\n",
       "      <th>Private Actor 7</th>\n",
       "      <th>Private Actor 8</th>\n",
       "      <th>Private Actor 9</th>\n",
       "      <th>Private Actor 10</th>\n",
       "      <th>Private Actor 11</th>\n",
       "      <th>Private Actor 12</th>\n",
       "      <th>Private Actor 13</th>\n",
       "      <th>Private Actor 14</th>\n",
       "      <th>Private Actor 15</th>\n",
       "      <th>Bank Count</th>\n",
       "      <th>Bank 1</th>\n",
       "      <th>Bank 2</th>\n",
       "      <th>Bank 3</th>\n",
       "      <th>Bank 4</th>\n",
       "      <th>Bank 5</th>\n",
       "      <th>Sector Count</th>\n",
       "      <th>Sector 1</th>\n",
       "      <th>Sector 2</th>\n",
       "      <th>Sector 3</th>\n",
       "      <th>Sector 4</th>\n",
       "      <th>Sector 5</th>\n",
       "      <th>Sector 6</th>\n",
       "      <th>Sector 7</th>\n",
       "      <th>Last Edited</th>\n",
       "      <th>Date Scraped</th>\n",
       "      <th>Date Disclosed</th>\n",
       "      <th>Board Date</th>\n",
       "      <th>Source URL</th>\n",
       "      <th>Project Cost</th>\n",
       "      <th>Investment Amount</th>\n",
       "      <th>Project Description</th>\n",
       "      <th>Contact Information</th>\n",
       "    </tr>\n",
       "  </thead>\n",
       "  <tbody>\n",
       "    <tr>\n",
       "      <th>0</th>\n",
       "      <td>29164</td>\n",
       "      <td>AFDB-P-TN-BB0-007</td>\n",
       "      <td>Published</td>\n",
       "      <td>U</td>\n",
       "      <td>Proposed</td>\n",
       "      <td>https://ews.rightsindevelopment.org/projects/p...</td>\n",
       "      <td>NaN</td>\n",
       "      <td>TUNISIA FERTILIZER PROJECT</td>\n",
       "      <td>NaN</td>\n",
       "      <td>1</td>\n",
       "      <td>Tunisia</td>\n",
       "      <td>NaN</td>\n",
       "      <td>NaN</td>\n",
       "      <td>NaN</td>\n",
       "      <td>NaN</td>\n",
       "      <td>NaN</td>\n",
       "      <td>NaN</td>\n",
       "      <td>NaN</td>\n",
       "      <td>NaN</td>\n",
       "      <td>NaN</td>\n",
       "      <td>NaN</td>\n",
       "      <td>NaN</td>\n",
       "      <td>NaN</td>\n",
       "      <td>0.0</td>\n",
       "      <td>NaN</td>\n",
       "      <td>NaN</td>\n",
       "      <td>NaN</td>\n",
       "      <td>NaN</td>\n",
       "      <td>NaN</td>\n",
       "      <td>NaN</td>\n",
       "      <td>NaN</td>\n",
       "      <td>NaN</td>\n",
       "      <td>NaN</td>\n",
       "      <td>NaN</td>\n",
       "      <td>NaN</td>\n",
       "      <td>NaN</td>\n",
       "      <td>NaN</td>\n",
       "      <td>NaN</td>\n",
       "      <td>NaN</td>\n",
       "      <td>1</td>\n",
       "      <td>African Development Bank (AFDB)</td>\n",
       "      <td>NaN</td>\n",
       "      <td>NaN</td>\n",
       "      <td>NaN</td>\n",
       "      <td>NaN</td>\n",
       "      <td>1</td>\n",
       "      <td>Agriculture and Forestry</td>\n",
       "      <td>NaN</td>\n",
       "      <td>NaN</td>\n",
       "      <td>NaN</td>\n",
       "      <td>NaN</td>\n",
       "      <td>NaN</td>\n",
       "      <td>NaN</td>\n",
       "      <td>9/4/17</td>\n",
       "      <td>8/15/17</td>\n",
       "      <td>12/13/01</td>\n",
       "      <td>12/13/01</td>\n",
       "      <td>http://www.afdb.org/en/projects-and-operations...</td>\n",
       "      <td>NaN</td>\n",
       "      <td>NaN</td>\n",
       "      <td>None</td>\n",
       "      <td>ACCOUNTABILITY MECHANISM OF AfDB\\r\\r\\r\\rThe In...</td>\n",
       "    </tr>\n",
       "    <tr>\n",
       "      <th>1</th>\n",
       "      <td>29166</td>\n",
       "      <td>AFDB-P-SZ-HAA-001</td>\n",
       "      <td>Published</td>\n",
       "      <td>U</td>\n",
       "      <td>Approved</td>\n",
       "      <td>https://ews.rightsindevelopment.org/projects/p...</td>\n",
       "      <td>NaN</td>\n",
       "      <td>LINE OF CREDIT TO SWAZILAND DEVELOPMENT FINANC...</td>\n",
       "      <td>NaN</td>\n",
       "      <td>1</td>\n",
       "      <td>Swaziland</td>\n",
       "      <td>NaN</td>\n",
       "      <td>NaN</td>\n",
       "      <td>NaN</td>\n",
       "      <td>NaN</td>\n",
       "      <td>NaN</td>\n",
       "      <td>NaN</td>\n",
       "      <td>NaN</td>\n",
       "      <td>NaN</td>\n",
       "      <td>NaN</td>\n",
       "      <td>NaN</td>\n",
       "      <td>NaN</td>\n",
       "      <td>NaN</td>\n",
       "      <td>0.0</td>\n",
       "      <td>NaN</td>\n",
       "      <td>NaN</td>\n",
       "      <td>NaN</td>\n",
       "      <td>NaN</td>\n",
       "      <td>NaN</td>\n",
       "      <td>NaN</td>\n",
       "      <td>NaN</td>\n",
       "      <td>NaN</td>\n",
       "      <td>NaN</td>\n",
       "      <td>NaN</td>\n",
       "      <td>NaN</td>\n",
       "      <td>NaN</td>\n",
       "      <td>NaN</td>\n",
       "      <td>NaN</td>\n",
       "      <td>NaN</td>\n",
       "      <td>1</td>\n",
       "      <td>African Development Bank (AFDB)</td>\n",
       "      <td>NaN</td>\n",
       "      <td>NaN</td>\n",
       "      <td>NaN</td>\n",
       "      <td>NaN</td>\n",
       "      <td>2</td>\n",
       "      <td>Finance</td>\n",
       "      <td>Industry and Trade</td>\n",
       "      <td>NaN</td>\n",
       "      <td>NaN</td>\n",
       "      <td>NaN</td>\n",
       "      <td>NaN</td>\n",
       "      <td>NaN</td>\n",
       "      <td>9/4/17</td>\n",
       "      <td>8/15/17</td>\n",
       "      <td>12/13/01</td>\n",
       "      <td>5/12/17</td>\n",
       "      <td>http://www.afdb.org/en/projects-and-operations...</td>\n",
       "      <td>4.76</td>\n",
       "      <td>1.36</td>\n",
       "      <td>None</td>\n",
       "      <td>MACHARIA Lilian Wanjiru - PIFD1\\r\\r\\r\\rACCOUNT...</td>\n",
       "    </tr>\n",
       "    <tr>\n",
       "      <th>2</th>\n",
       "      <td>29931</td>\n",
       "      <td>IADB-UR-T1100</td>\n",
       "      <td>Pending</td>\n",
       "      <td>C</td>\n",
       "      <td>Approved</td>\n",
       "      <td>https://ews.rightsindevelopment.org/projects/u...</td>\n",
       "      <td>NaN</td>\n",
       "      <td>Supporting INEFOP in Improving Labor Training ...</td>\n",
       "      <td>NaN</td>\n",
       "      <td>1</td>\n",
       "      <td>Uruguay</td>\n",
       "      <td>NaN</td>\n",
       "      <td>NaN</td>\n",
       "      <td>NaN</td>\n",
       "      <td>NaN</td>\n",
       "      <td>NaN</td>\n",
       "      <td>NaN</td>\n",
       "      <td>NaN</td>\n",
       "      <td>NaN</td>\n",
       "      <td>NaN</td>\n",
       "      <td>NaN</td>\n",
       "      <td>NaN</td>\n",
       "      <td>NaN</td>\n",
       "      <td>0.0</td>\n",
       "      <td>NaN</td>\n",
       "      <td>NaN</td>\n",
       "      <td>NaN</td>\n",
       "      <td>NaN</td>\n",
       "      <td>NaN</td>\n",
       "      <td>NaN</td>\n",
       "      <td>NaN</td>\n",
       "      <td>NaN</td>\n",
       "      <td>NaN</td>\n",
       "      <td>NaN</td>\n",
       "      <td>NaN</td>\n",
       "      <td>NaN</td>\n",
       "      <td>NaN</td>\n",
       "      <td>NaN</td>\n",
       "      <td>NaN</td>\n",
       "      <td>1</td>\n",
       "      <td>Inter-American Development Bank (IADB)</td>\n",
       "      <td>NaN</td>\n",
       "      <td>NaN</td>\n",
       "      <td>NaN</td>\n",
       "      <td>NaN</td>\n",
       "      <td>0</td>\n",
       "      <td>NaN</td>\n",
       "      <td>NaN</td>\n",
       "      <td>NaN</td>\n",
       "      <td>NaN</td>\n",
       "      <td>NaN</td>\n",
       "      <td>NaN</td>\n",
       "      <td>NaN</td>\n",
       "      <td>NaN</td>\n",
       "      <td>10/3/17</td>\n",
       "      <td>12/31/99</td>\n",
       "      <td>7/16/13</td>\n",
       "      <td>http://www.iadb.org/en/projects/project-descri...</td>\n",
       "      <td>0.44</td>\n",
       "      <td>0.44</td>\n",
       "      <td>NaN</td>\n",
       "      <td>NaN</td>\n",
       "    </tr>\n",
       "    <tr>\n",
       "      <th>3</th>\n",
       "      <td>30104</td>\n",
       "      <td>IADB-BR-T1279</td>\n",
       "      <td>Pending</td>\n",
       "      <td>C</td>\n",
       "      <td>Approved</td>\n",
       "      <td>https://ews.rightsindevelopment.org/projects/b...</td>\n",
       "      <td>NaN</td>\n",
       "      <td>Racial Equality and Social, Economic, Politica...</td>\n",
       "      <td>NaN</td>\n",
       "      <td>1</td>\n",
       "      <td>Brazil</td>\n",
       "      <td>NaN</td>\n",
       "      <td>NaN</td>\n",
       "      <td>NaN</td>\n",
       "      <td>NaN</td>\n",
       "      <td>NaN</td>\n",
       "      <td>NaN</td>\n",
       "      <td>NaN</td>\n",
       "      <td>NaN</td>\n",
       "      <td>NaN</td>\n",
       "      <td>NaN</td>\n",
       "      <td>NaN</td>\n",
       "      <td>NaN</td>\n",
       "      <td>0.0</td>\n",
       "      <td>NaN</td>\n",
       "      <td>NaN</td>\n",
       "      <td>NaN</td>\n",
       "      <td>NaN</td>\n",
       "      <td>NaN</td>\n",
       "      <td>NaN</td>\n",
       "      <td>NaN</td>\n",
       "      <td>NaN</td>\n",
       "      <td>NaN</td>\n",
       "      <td>NaN</td>\n",
       "      <td>NaN</td>\n",
       "      <td>NaN</td>\n",
       "      <td>NaN</td>\n",
       "      <td>NaN</td>\n",
       "      <td>NaN</td>\n",
       "      <td>1</td>\n",
       "      <td>Inter-American Development Bank (IADB)</td>\n",
       "      <td>NaN</td>\n",
       "      <td>NaN</td>\n",
       "      <td>NaN</td>\n",
       "      <td>NaN</td>\n",
       "      <td>0</td>\n",
       "      <td>NaN</td>\n",
       "      <td>NaN</td>\n",
       "      <td>NaN</td>\n",
       "      <td>NaN</td>\n",
       "      <td>NaN</td>\n",
       "      <td>NaN</td>\n",
       "      <td>NaN</td>\n",
       "      <td>NaN</td>\n",
       "      <td>10/3/17</td>\n",
       "      <td>12/31/99</td>\n",
       "      <td>6/4/13</td>\n",
       "      <td>http://www.iadb.org/en/projects/project-descri...</td>\n",
       "      <td>0.97</td>\n",
       "      <td>0.82</td>\n",
       "      <td>NaN</td>\n",
       "      <td>NaN</td>\n",
       "    </tr>\n",
       "    <tr>\n",
       "      <th>4</th>\n",
       "      <td>30322</td>\n",
       "      <td>IADB-PE-T1297</td>\n",
       "      <td>Pending</td>\n",
       "      <td>C</td>\n",
       "      <td>Approved</td>\n",
       "      <td>https://ews.rightsindevelopment.org/projects/p...</td>\n",
       "      <td>NaN</td>\n",
       "      <td>Adaptation to Climate Change of the Fishery Se...</td>\n",
       "      <td>NaN</td>\n",
       "      <td>1</td>\n",
       "      <td>Peru</td>\n",
       "      <td>NaN</td>\n",
       "      <td>NaN</td>\n",
       "      <td>NaN</td>\n",
       "      <td>NaN</td>\n",
       "      <td>NaN</td>\n",
       "      <td>NaN</td>\n",
       "      <td>NaN</td>\n",
       "      <td>NaN</td>\n",
       "      <td>NaN</td>\n",
       "      <td>NaN</td>\n",
       "      <td>NaN</td>\n",
       "      <td>NaN</td>\n",
       "      <td>0.0</td>\n",
       "      <td>NaN</td>\n",
       "      <td>NaN</td>\n",
       "      <td>NaN</td>\n",
       "      <td>NaN</td>\n",
       "      <td>NaN</td>\n",
       "      <td>NaN</td>\n",
       "      <td>NaN</td>\n",
       "      <td>NaN</td>\n",
       "      <td>NaN</td>\n",
       "      <td>NaN</td>\n",
       "      <td>NaN</td>\n",
       "      <td>NaN</td>\n",
       "      <td>NaN</td>\n",
       "      <td>NaN</td>\n",
       "      <td>NaN</td>\n",
       "      <td>1</td>\n",
       "      <td>Inter-American Development Bank (IADB)</td>\n",
       "      <td>NaN</td>\n",
       "      <td>NaN</td>\n",
       "      <td>NaN</td>\n",
       "      <td>NaN</td>\n",
       "      <td>0</td>\n",
       "      <td>NaN</td>\n",
       "      <td>NaN</td>\n",
       "      <td>NaN</td>\n",
       "      <td>NaN</td>\n",
       "      <td>NaN</td>\n",
       "      <td>NaN</td>\n",
       "      <td>NaN</td>\n",
       "      <td>NaN</td>\n",
       "      <td>10/3/17</td>\n",
       "      <td>12/31/99</td>\n",
       "      <td>12/4/13</td>\n",
       "      <td>http://www.iadb.org/en/projects/project-descri...</td>\n",
       "      <td>1.50</td>\n",
       "      <td>1.50</td>\n",
       "      <td>NaN</td>\n",
       "      <td>NaN</td>\n",
       "    </tr>\n",
       "  </tbody>\n",
       "</table>\n",
       "</div>"
      ],
      "text/plain": [
       "   EWS ID      ProjectNumber  Published Bank Risk Rating Project Status  \\\n",
       "0   29164  AFDB-P-TN-BB0-007  Published                U       Proposed   \n",
       "1   29166  AFDB-P-SZ-HAA-001  Published                U       Approved   \n",
       "2   29931      IADB-UR-T1100    Pending                C       Approved   \n",
       "3   30104      IADB-BR-T1279    Pending                C       Approved   \n",
       "4   30322      IADB-PE-T1297    Pending                C       Approved   \n",
       "\n",
       "                                             EWS URL  Detailed Analysis URL  \\\n",
       "0  https://ews.rightsindevelopment.org/projects/p...                    NaN   \n",
       "1  https://ews.rightsindevelopment.org/projects/p...                    NaN   \n",
       "2  https://ews.rightsindevelopment.org/projects/u...                    NaN   \n",
       "3  https://ews.rightsindevelopment.org/projects/b...                    NaN   \n",
       "4  https://ews.rightsindevelopment.org/projects/p...                    NaN   \n",
       "\n",
       "                                        Project Name City  Country Count  \\\n",
       "0                         TUNISIA FERTILIZER PROJECT  NaN              1   \n",
       "1  LINE OF CREDIT TO SWAZILAND DEVELOPMENT FINANC...  NaN              1   \n",
       "2  Supporting INEFOP in Improving Labor Training ...  NaN              1   \n",
       "3  Racial Equality and Social, Economic, Politica...  NaN              1   \n",
       "4  Adaptation to Climate Change of the Fishery Se...  NaN              1   \n",
       "\n",
       "   Country 1 Country 2 Country 3 Country 4 Country 5 Country 6 Country 7  \\\n",
       "0    Tunisia       NaN       NaN       NaN       NaN       NaN       NaN   \n",
       "1  Swaziland       NaN       NaN       NaN       NaN       NaN       NaN   \n",
       "2    Uruguay       NaN       NaN       NaN       NaN       NaN       NaN   \n",
       "3     Brazil       NaN       NaN       NaN       NaN       NaN       NaN   \n",
       "4       Peru       NaN       NaN       NaN       NaN       NaN       NaN   \n",
       "\n",
       "  Country 8 Country 9 Country 10 Country 11 Country 12 Borrower or Client  \\\n",
       "0       NaN       NaN        NaN        NaN        NaN                NaN   \n",
       "1       NaN       NaN        NaN        NaN        NaN                NaN   \n",
       "2       NaN       NaN        NaN        NaN        NaN                NaN   \n",
       "3       NaN       NaN        NaN        NaN        NaN                NaN   \n",
       "4       NaN       NaN        NaN        NaN        NaN                NaN   \n",
       "\n",
       "   Private Actor Count Private Actor 1 Private Actor 2 Private Actor 3  \\\n",
       "0                  0.0             NaN             NaN             NaN   \n",
       "1                  0.0             NaN             NaN             NaN   \n",
       "2                  0.0             NaN             NaN             NaN   \n",
       "3                  0.0             NaN             NaN             NaN   \n",
       "4                  0.0             NaN             NaN             NaN   \n",
       "\n",
       "  Private Actor 4 Private Actor 5 Private Actor 6 Private Actor 7  \\\n",
       "0             NaN             NaN             NaN             NaN   \n",
       "1             NaN             NaN             NaN             NaN   \n",
       "2             NaN             NaN             NaN             NaN   \n",
       "3             NaN             NaN             NaN             NaN   \n",
       "4             NaN             NaN             NaN             NaN   \n",
       "\n",
       "  Private Actor 8  Private Actor 9  Private Actor 10  Private Actor 11  \\\n",
       "0             NaN              NaN               NaN               NaN   \n",
       "1             NaN              NaN               NaN               NaN   \n",
       "2             NaN              NaN               NaN               NaN   \n",
       "3             NaN              NaN               NaN               NaN   \n",
       "4             NaN              NaN               NaN               NaN   \n",
       "\n",
       "   Private Actor 12  Private Actor 13  Private Actor 14  Private Actor 15  \\\n",
       "0               NaN               NaN               NaN               NaN   \n",
       "1               NaN               NaN               NaN               NaN   \n",
       "2               NaN               NaN               NaN               NaN   \n",
       "3               NaN               NaN               NaN               NaN   \n",
       "4               NaN               NaN               NaN               NaN   \n",
       "\n",
       "   Bank Count                                  Bank 1 Bank 2 Bank 3 Bank 4  \\\n",
       "0           1         African Development Bank (AFDB)    NaN    NaN    NaN   \n",
       "1           1         African Development Bank (AFDB)    NaN    NaN    NaN   \n",
       "2           1  Inter-American Development Bank (IADB)    NaN    NaN    NaN   \n",
       "3           1  Inter-American Development Bank (IADB)    NaN    NaN    NaN   \n",
       "4           1  Inter-American Development Bank (IADB)    NaN    NaN    NaN   \n",
       "\n",
       "   Bank 5  Sector Count                  Sector 1            Sector 2  \\\n",
       "0     NaN             1  Agriculture and Forestry                 NaN   \n",
       "1     NaN             2                   Finance  Industry and Trade   \n",
       "2     NaN             0                       NaN                 NaN   \n",
       "3     NaN             0                       NaN                 NaN   \n",
       "4     NaN             0                       NaN                 NaN   \n",
       "\n",
       "  Sector 3 Sector 4 Sector 5 Sector 6 Sector 7 Last Edited Date Scraped  \\\n",
       "0      NaN      NaN      NaN      NaN      NaN      9/4/17      8/15/17   \n",
       "1      NaN      NaN      NaN      NaN      NaN      9/4/17      8/15/17   \n",
       "2      NaN      NaN      NaN      NaN      NaN         NaN      10/3/17   \n",
       "3      NaN      NaN      NaN      NaN      NaN         NaN      10/3/17   \n",
       "4      NaN      NaN      NaN      NaN      NaN         NaN      10/3/17   \n",
       "\n",
       "  Date Disclosed Board Date  \\\n",
       "0       12/13/01   12/13/01   \n",
       "1       12/13/01    5/12/17   \n",
       "2       12/31/99    7/16/13   \n",
       "3       12/31/99     6/4/13   \n",
       "4       12/31/99    12/4/13   \n",
       "\n",
       "                                          Source URL  Project Cost  \\\n",
       "0  http://www.afdb.org/en/projects-and-operations...           NaN   \n",
       "1  http://www.afdb.org/en/projects-and-operations...          4.76   \n",
       "2  http://www.iadb.org/en/projects/project-descri...          0.44   \n",
       "3  http://www.iadb.org/en/projects/project-descri...          0.97   \n",
       "4  http://www.iadb.org/en/projects/project-descri...          1.50   \n",
       "\n",
       "   Investment Amount Project Description  \\\n",
       "0                NaN                None   \n",
       "1               1.36                None   \n",
       "2               0.44                 NaN   \n",
       "3               0.82                 NaN   \n",
       "4               1.50                 NaN   \n",
       "\n",
       "                                 Contact Information  \n",
       "0  ACCOUNTABILITY MECHANISM OF AfDB\\r\\r\\r\\rThe In...  \n",
       "1  MACHARIA Lilian Wanjiru - PIFD1\\r\\r\\r\\rACCOUNT...  \n",
       "2                                                NaN  \n",
       "3                                                NaN  \n",
       "4                                                NaN  "
      ]
     },
     "execution_count": 8,
     "metadata": {},
     "output_type": "execute_result"
    }
   ],
   "source": [
    "projects_df.head()"
   ]
  },
  {
   "cell_type": "code",
   "execution_count": 9,
   "metadata": {
    "ExecuteTime": {
     "end_time": "2018-06-23T22:11:04.624519Z",
     "start_time": "2018-06-23T22:11:04.619051Z"
    }
   },
   "outputs": [],
   "source": [
    "projects_df['Project Description'] = projects_df['Project Description'].fillna(\"\")"
   ]
  },
  {
   "cell_type": "code",
   "execution_count": 10,
   "metadata": {
    "ExecuteTime": {
     "end_time": "2018-06-23T22:11:04.892707Z",
     "start_time": "2018-06-23T22:11:04.835655Z"
    }
   },
   "outputs": [],
   "source": [
    "detailed_projects_df = projects_df[ projects_df['Project Description'].apply(lambda x : len(x.split())) > 300 ]"
   ]
  },
  {
   "cell_type": "code",
   "execution_count": 11,
   "metadata": {
    "ExecuteTime": {
     "end_time": "2018-06-23T22:11:05.144190Z",
     "start_time": "2018-06-23T22:11:05.094765Z"
    }
   },
   "outputs": [
    {
     "data": {
      "text/html": [
       "<div>\n",
       "<style scoped>\n",
       "    .dataframe tbody tr th:only-of-type {\n",
       "        vertical-align: middle;\n",
       "    }\n",
       "\n",
       "    .dataframe tbody tr th {\n",
       "        vertical-align: top;\n",
       "    }\n",
       "\n",
       "    .dataframe thead th {\n",
       "        text-align: right;\n",
       "    }\n",
       "</style>\n",
       "<table border=\"1\" class=\"dataframe\">\n",
       "  <thead>\n",
       "    <tr style=\"text-align: right;\">\n",
       "      <th></th>\n",
       "      <th>Project Name</th>\n",
       "      <th>Sector 1</th>\n",
       "      <th>Project Description</th>\n",
       "      <th>content</th>\n",
       "    </tr>\n",
       "  </thead>\n",
       "  <tbody>\n",
       "    <tr>\n",
       "      <th>40</th>\n",
       "      <td>India: National Cyclone Risk Mitigation Projec...</td>\n",
       "      <td>Climate and Environment</td>\n",
       "      <td>The National Cyclone Risk Mitigation Project I...</td>\n",
       "      <td>India: National Cyclone Risk Mitigation Projec...</td>\n",
       "    </tr>\n",
       "    <tr>\n",
       "      <th>43</th>\n",
       "      <td>Cusco Regional Development</td>\n",
       "      <td>Industry and Trade</td>\n",
       "      <td>The Cusco Regional Development Project is loca...</td>\n",
       "      <td>Cusco Regional Development\\nThe Cusco Regional...</td>\n",
       "    </tr>\n",
       "    <tr>\n",
       "      <th>60</th>\n",
       "      <td>IN Uttar Pradesh Water Sector Restructuring Pr...</td>\n",
       "      <td>Water and Sanitation</td>\n",
       "      <td>World Bank documentation indicates that this p...</td>\n",
       "      <td>IN Uttar Pradesh Water Sector Restructuring Pr...</td>\n",
       "    </tr>\n",
       "    <tr>\n",
       "      <th>95</th>\n",
       "      <td>Abidjan-Lagos Trade and Transport Facilitation...</td>\n",
       "      <td>Technical Cooperation</td>\n",
       "      <td>The development objective of the Second Adapta...</td>\n",
       "      <td>Abidjan-Lagos Trade and Transport Facilitation...</td>\n",
       "    </tr>\n",
       "    <tr>\n",
       "      <th>101</th>\n",
       "      <td>Coastal Watersheds Conservation in the Context...</td>\n",
       "      <td>Agriculture and Forestry</td>\n",
       "      <td>According to The Bank, the goal of the project...</td>\n",
       "      <td>Coastal Watersheds Conservation in the Context...</td>\n",
       "    </tr>\n",
       "  </tbody>\n",
       "</table>\n",
       "</div>"
      ],
      "text/plain": [
       "                                          Project Name  \\\n",
       "40   India: National Cyclone Risk Mitigation Projec...   \n",
       "43                          Cusco Regional Development   \n",
       "60   IN Uttar Pradesh Water Sector Restructuring Pr...   \n",
       "95   Abidjan-Lagos Trade and Transport Facilitation...   \n",
       "101  Coastal Watersheds Conservation in the Context...   \n",
       "\n",
       "                     Sector 1  \\\n",
       "40    Climate and Environment   \n",
       "43         Industry and Trade   \n",
       "60       Water and Sanitation   \n",
       "95      Technical Cooperation   \n",
       "101  Agriculture and Forestry   \n",
       "\n",
       "                                   Project Description  \\\n",
       "40   The National Cyclone Risk Mitigation Project I...   \n",
       "43   The Cusco Regional Development Project is loca...   \n",
       "60   World Bank documentation indicates that this p...   \n",
       "95   The development objective of the Second Adapta...   \n",
       "101  According to The Bank, the goal of the project...   \n",
       "\n",
       "                                               content  \n",
       "40   India: National Cyclone Risk Mitigation Projec...  \n",
       "43   Cusco Regional Development\\nThe Cusco Regional...  \n",
       "60   IN Uttar Pradesh Water Sector Restructuring Pr...  \n",
       "95   Abidjan-Lagos Trade and Transport Facilitation...  \n",
       "101  Coastal Watersheds Conservation in the Context...  "
      ]
     },
     "execution_count": 11,
     "metadata": {},
     "output_type": "execute_result"
    }
   ],
   "source": [
    "detailed_projects_df = detailed_projects_df[['Project Name','Sector 1','Project Description']]\n",
    "detailed_projects_df['content'] = detailed_projects_df['Project Name'] + \"\\n\" +  detailed_projects_df['Project Description']\n",
    "detailed_projects_df.head()"
   ]
  },
  {
   "cell_type": "code",
   "execution_count": 12,
   "metadata": {
    "ExecuteTime": {
     "end_time": "2018-06-23T22:11:05.327623Z",
     "start_time": "2018-06-23T22:11:05.323938Z"
    }
   },
   "outputs": [],
   "source": [
    "detailed_projects_df = detailed_projects_df.rename(columns = {'Project Name':'title','Sector 1': 'sector'})\n",
    "#detailed_projects_df['sector'] = detailed_projects_df['Sector 1']"
   ]
  },
  {
   "cell_type": "code",
   "execution_count": 13,
   "metadata": {
    "ExecuteTime": {
     "end_time": "2018-06-23T22:11:05.607206Z",
     "start_time": "2018-06-23T22:11:05.602590Z"
    }
   },
   "outputs": [
    {
     "data": {
      "text/plain": [
       "Index(['title', 'sector', 'Project Description', 'content'], dtype='object')"
      ]
     },
     "execution_count": 13,
     "metadata": {},
     "output_type": "execute_result"
    }
   ],
   "source": [
    "detailed_projects_df.columns"
   ]
  },
  {
   "cell_type": "code",
   "execution_count": 14,
   "metadata": {
    "ExecuteTime": {
     "end_time": "2018-06-23T22:11:06.015685Z",
     "start_time": "2018-06-23T22:11:06.004836Z"
    }
   },
   "outputs": [
    {
     "data": {
      "text/html": [
       "<div>\n",
       "<style scoped>\n",
       "    .dataframe tbody tr th:only-of-type {\n",
       "        vertical-align: middle;\n",
       "    }\n",
       "\n",
       "    .dataframe tbody tr th {\n",
       "        vertical-align: top;\n",
       "    }\n",
       "\n",
       "    .dataframe thead th {\n",
       "        text-align: right;\n",
       "    }\n",
       "</style>\n",
       "<table border=\"1\" class=\"dataframe\">\n",
       "  <thead>\n",
       "    <tr style=\"text-align: right;\">\n",
       "      <th></th>\n",
       "      <th>article_id</th>\n",
       "      <th>title</th>\n",
       "      <th>article_text</th>\n",
       "      <th>top_sector</th>\n",
       "      <th>content</th>\n",
       "      <th>sector</th>\n",
       "    </tr>\n",
       "  </thead>\n",
       "  <tbody>\n",
       "    <tr>\n",
       "      <th>0</th>\n",
       "      <td>5eca9220</td>\n",
       "      <td>AfDB, GCF partner on 'Desert-to-Power' scheme</td>\n",
       "      <td>The African Development Bank (AfDB), Green Cli...</td>\n",
       "      <td>MISC</td>\n",
       "      <td>AfDB, GCF partner on 'Desert-to-Power' scheme ...</td>\n",
       "      <td>MISC</td>\n",
       "    </tr>\n",
       "    <tr>\n",
       "      <th>1</th>\n",
       "      <td>ee5530a3</td>\n",
       "      <td>AIIB approves $1.5 bln of loans to India for i...</td>\n",
       "      <td>NEW DELHI, Feb 27 (Reuters) - China-based Asia...</td>\n",
       "      <td>transport</td>\n",
       "      <td>AIIB approves $1.5 bln of loans to India for i...</td>\n",
       "      <td>transport</td>\n",
       "    </tr>\n",
       "    <tr>\n",
       "      <th>2</th>\n",
       "      <td>185416ad</td>\n",
       "      <td>India, ADB sign USD 250 million loan agreement...</td>\n",
       "      <td>Here are some suggestions that matches your en...</td>\n",
       "      <td>transport</td>\n",
       "      <td>India, ADB sign USD 250 million loan agreement...</td>\n",
       "      <td>transport</td>\n",
       "    </tr>\n",
       "    <tr>\n",
       "      <th>3</th>\n",
       "      <td>ef56fb55</td>\n",
       "      <td>EIB approves $1.8bn financing for Trans-Adriat...</td>\n",
       "      <td>Compelo is using cookies\\n\\nWe use them to giv...</td>\n",
       "      <td>energy</td>\n",
       "      <td>EIB approves $1.8bn financing for Trans-Adriat...</td>\n",
       "      <td>energy</td>\n",
       "    </tr>\n",
       "    <tr>\n",
       "      <th>4</th>\n",
       "      <td>85f28676</td>\n",
       "      <td>EBRD increases its portfolio in Azerbaijan</td>\n",
       "      <td>Baku, Azerbaijan, April 9\\n\\nBy Anvar Mammadov...</td>\n",
       "      <td>industry and trade</td>\n",
       "      <td>EBRD increases its portfolio in Azerbaijan \\nB...</td>\n",
       "      <td>industry and trade</td>\n",
       "    </tr>\n",
       "  </tbody>\n",
       "</table>\n",
       "</div>"
      ],
      "text/plain": [
       "  article_id                                              title  \\\n",
       "0   5eca9220      AfDB, GCF partner on 'Desert-to-Power' scheme   \n",
       "1   ee5530a3  AIIB approves $1.5 bln of loans to India for i...   \n",
       "2   185416ad  India, ADB sign USD 250 million loan agreement...   \n",
       "3   ef56fb55  EIB approves $1.8bn financing for Trans-Adriat...   \n",
       "4   85f28676         EBRD increases its portfolio in Azerbaijan   \n",
       "\n",
       "                                        article_text          top_sector  \\\n",
       "0  The African Development Bank (AfDB), Green Cli...                MISC   \n",
       "1  NEW DELHI, Feb 27 (Reuters) - China-based Asia...           transport   \n",
       "2  Here are some suggestions that matches your en...           transport   \n",
       "3  Compelo is using cookies\\n\\nWe use them to giv...              energy   \n",
       "4  Baku, Azerbaijan, April 9\\n\\nBy Anvar Mammadov...  industry and trade   \n",
       "\n",
       "                                             content              sector  \n",
       "0  AfDB, GCF partner on 'Desert-to-Power' scheme ...                MISC  \n",
       "1  AIIB approves $1.5 bln of loans to India for i...           transport  \n",
       "2  India, ADB sign USD 250 million loan agreement...           transport  \n",
       "3  EIB approves $1.8bn financing for Trans-Adriat...              energy  \n",
       "4  EBRD increases its portfolio in Azerbaijan \\nB...  industry and trade  "
      ]
     },
     "execution_count": 14,
     "metadata": {},
     "output_type": "execute_result"
    }
   ],
   "source": [
    "articles_df.head()"
   ]
  },
  {
   "cell_type": "code",
   "execution_count": 89,
   "metadata": {
    "ExecuteTime": {
     "end_time": "2018-06-23T22:52:20.663019Z",
     "start_time": "2018-06-23T22:52:20.657836Z"
    }
   },
   "outputs": [],
   "source": [
    "merged_df = pd.concat(\n",
    "    \n",
    "    [\n",
    "        detailed_projects_df[['title','content','sector']]\n",
    "        , articles_df[['title','content','sector']]\n",
    "    ])"
   ]
  },
  {
   "cell_type": "code",
   "execution_count": 90,
   "metadata": {
    "ExecuteTime": {
     "end_time": "2018-06-23T22:52:23.116580Z",
     "start_time": "2018-06-23T22:52:23.112571Z"
    }
   },
   "outputs": [],
   "source": [
    "merged_df = merged_df[~pd.isnull(merged_df['sector'])]"
   ]
  },
  {
   "cell_type": "code",
   "execution_count": 91,
   "metadata": {
    "ExecuteTime": {
     "end_time": "2018-06-23T22:52:23.569626Z",
     "start_time": "2018-06-23T22:52:23.519967Z"
    }
   },
   "outputs": [],
   "source": [
    "merged_df['sector'] = merged_df['sector'].apply(lambda x : x.lower())"
   ]
  },
  {
   "cell_type": "code",
   "execution_count": 94,
   "metadata": {
    "ExecuteTime": {
     "end_time": "2018-06-23T22:52:28.811115Z",
     "start_time": "2018-06-23T22:52:28.807015Z"
    }
   },
   "outputs": [],
   "source": [
    "merged_df=merged_df.drop_duplicates(['title'])"
   ]
  },
  {
   "cell_type": "code",
   "execution_count": 95,
   "metadata": {
    "ExecuteTime": {
     "end_time": "2018-06-23T22:52:29.140135Z",
     "start_time": "2018-06-23T22:52:29.136792Z"
    }
   },
   "outputs": [
    {
     "data": {
      "text/plain": [
       "569"
      ]
     },
     "execution_count": 95,
     "metadata": {},
     "output_type": "execute_result"
    }
   ],
   "source": [
    "len(merged_df)"
   ]
  },
  {
   "cell_type": "code",
   "execution_count": 96,
   "metadata": {
    "ExecuteTime": {
     "end_time": "2018-06-23T22:52:31.241693Z",
     "start_time": "2018-06-23T22:52:31.233247Z"
    }
   },
   "outputs": [
    {
     "data": {
      "text/html": [
       "<div>\n",
       "<style scoped>\n",
       "    .dataframe tbody tr th:only-of-type {\n",
       "        vertical-align: middle;\n",
       "    }\n",
       "\n",
       "    .dataframe tbody tr th {\n",
       "        vertical-align: top;\n",
       "    }\n",
       "\n",
       "    .dataframe thead th {\n",
       "        text-align: right;\n",
       "    }\n",
       "</style>\n",
       "<table border=\"1\" class=\"dataframe\">\n",
       "  <thead>\n",
       "    <tr style=\"text-align: right;\">\n",
       "      <th></th>\n",
       "      <th>title</th>\n",
       "      <th>content</th>\n",
       "      <th>sector</th>\n",
       "    </tr>\n",
       "  </thead>\n",
       "  <tbody>\n",
       "    <tr>\n",
       "      <th>40</th>\n",
       "      <td>India: National Cyclone Risk Mitigation Projec...</td>\n",
       "      <td>India: National Cyclone Risk Mitigation Projec...</td>\n",
       "      <td>climate and environment</td>\n",
       "    </tr>\n",
       "    <tr>\n",
       "      <th>43</th>\n",
       "      <td>Cusco Regional Development</td>\n",
       "      <td>Cusco Regional Development\\nThe Cusco Regional...</td>\n",
       "      <td>industry and trade</td>\n",
       "    </tr>\n",
       "    <tr>\n",
       "      <th>60</th>\n",
       "      <td>IN Uttar Pradesh Water Sector Restructuring Pr...</td>\n",
       "      <td>IN Uttar Pradesh Water Sector Restructuring Pr...</td>\n",
       "      <td>water and sanitation</td>\n",
       "    </tr>\n",
       "    <tr>\n",
       "      <th>95</th>\n",
       "      <td>Abidjan-Lagos Trade and Transport Facilitation...</td>\n",
       "      <td>Abidjan-Lagos Trade and Transport Facilitation...</td>\n",
       "      <td>technical cooperation</td>\n",
       "    </tr>\n",
       "    <tr>\n",
       "      <th>101</th>\n",
       "      <td>Coastal Watersheds Conservation in the Context...</td>\n",
       "      <td>Coastal Watersheds Conservation in the Context...</td>\n",
       "      <td>agriculture and forestry</td>\n",
       "    </tr>\n",
       "  </tbody>\n",
       "</table>\n",
       "</div>"
      ],
      "text/plain": [
       "                                                 title  \\\n",
       "40   India: National Cyclone Risk Mitigation Projec...   \n",
       "43                          Cusco Regional Development   \n",
       "60   IN Uttar Pradesh Water Sector Restructuring Pr...   \n",
       "95   Abidjan-Lagos Trade and Transport Facilitation...   \n",
       "101  Coastal Watersheds Conservation in the Context...   \n",
       "\n",
       "                                               content  \\\n",
       "40   India: National Cyclone Risk Mitigation Projec...   \n",
       "43   Cusco Regional Development\\nThe Cusco Regional...   \n",
       "60   IN Uttar Pradesh Water Sector Restructuring Pr...   \n",
       "95   Abidjan-Lagos Trade and Transport Facilitation...   \n",
       "101  Coastal Watersheds Conservation in the Context...   \n",
       "\n",
       "                       sector  \n",
       "40    climate and environment  \n",
       "43         industry and trade  \n",
       "60       water and sanitation  \n",
       "95      technical cooperation  \n",
       "101  agriculture and forestry  "
      ]
     },
     "execution_count": 96,
     "metadata": {},
     "output_type": "execute_result"
    }
   ],
   "source": [
    "merged_df.head()"
   ]
  },
  {
   "cell_type": "code",
   "execution_count": null,
   "metadata": {},
   "outputs": [],
   "source": []
  },
  {
   "cell_type": "code",
   "execution_count": null,
   "metadata": {},
   "outputs": [],
   "source": []
  },
  {
   "cell_type": "code",
   "execution_count": 97,
   "metadata": {
    "ExecuteTime": {
     "end_time": "2018-06-23T22:52:32.443799Z",
     "start_time": "2018-06-23T22:52:32.441022Z"
    }
   },
   "outputs": [],
   "source": [
    "import pandas as pd\n",
    "from sklearn.feature_extraction.text import TfidfVectorizer, CountVectorizer\n",
    "from sklearn import manifold\n",
    "from yellowbrick.text import TSNEVisualizer\n",
    "from sklearn.feature_extraction.text import TfidfVectorizer\n"
   ]
  },
  {
   "cell_type": "code",
   "execution_count": 98,
   "metadata": {
    "ExecuteTime": {
     "end_time": "2018-06-23T22:52:32.701196Z",
     "start_time": "2018-06-23T22:52:32.698573Z"
    }
   },
   "outputs": [],
   "source": [
    "import matplotlib.pyplot as plt\n",
    "plt.rcParams[\"figure.figsize\"] = (20,5)"
   ]
  },
  {
   "cell_type": "code",
   "execution_count": 99,
   "metadata": {
    "ExecuteTime": {
     "end_time": "2018-06-23T22:52:32.932620Z",
     "start_time": "2018-06-23T22:52:32.923920Z"
    }
   },
   "outputs": [],
   "source": [
    "?TfidfVectorizer"
   ]
  },
  {
   "cell_type": "code",
   "execution_count": 100,
   "metadata": {
    "ExecuteTime": {
     "end_time": "2018-06-23T22:52:33.232596Z",
     "start_time": "2018-06-23T22:52:33.228062Z"
    }
   },
   "outputs": [
    {
     "data": {
      "text/plain": [
       "['energy',\n",
       " 'finance',\n",
       " 'transport',\n",
       " 'infrastructure',\n",
       " 'agriculture and forestry',\n",
       " 'education and health']"
      ]
     },
     "execution_count": 100,
     "metadata": {},
     "output_type": "execute_result"
    }
   ],
   "source": [
    "from collections import Counter\n",
    "c = Counter(merged_df['sector'])\n",
    "most_common_sectors = [ sector for (sector, count) in c.most_common(6) ]\n",
    "most_common_sectors"
   ]
  },
  {
   "cell_type": "code",
   "execution_count": 101,
   "metadata": {
    "ExecuteTime": {
     "end_time": "2018-06-23T22:52:33.794200Z",
     "start_time": "2018-06-23T22:52:33.790725Z"
    }
   },
   "outputs": [],
   "source": [
    "common_sectors_df = merged_df[merged_df['sector'].isin(most_common_sectors)]"
   ]
  },
  {
   "cell_type": "code",
   "execution_count": 102,
   "metadata": {
    "ExecuteTime": {
     "end_time": "2018-06-23T22:52:37.091623Z",
     "start_time": "2018-06-23T22:52:36.928728Z"
    }
   },
   "outputs": [],
   "source": [
    "tfidf  = TfidfVectorizer(stop_words='english', min_df=5, max_df=0.9)\n",
    "\n",
    "#data = merged_df['content'] \n",
    "#docs   = tfidf.fit_transform(data)\n",
    "#labels = merged_df['sector']\n",
    "\n",
    "\n",
    "data = common_sectors_df['content'] \n",
    "docs   = tfidf.fit_transform(data)\n",
    "labels = common_sectors_df['sector']\n"
   ]
  },
  {
   "cell_type": "code",
   "execution_count": null,
   "metadata": {},
   "outputs": [],
   "source": []
  },
  {
   "cell_type": "code",
   "execution_count": 128,
   "metadata": {
    "ExecuteTime": {
     "end_time": "2018-06-23T23:01:54.807468Z",
     "start_time": "2018-06-23T23:01:54.803469Z"
    }
   },
   "outputs": [
    {
     "data": {
      "text/plain": [
       "<436x3037 sparse matrix of type '<class 'numpy.float64'>'\n",
       "\twith 63304 stored elements in Compressed Sparse Row format>"
      ]
     },
     "execution_count": 128,
     "metadata": {},
     "output_type": "execute_result"
    }
   ],
   "source": [
    "X"
   ]
  },
  {
   "cell_type": "code",
   "execution_count": 103,
   "metadata": {
    "ExecuteTime": {
     "end_time": "2018-06-23T22:52:46.641250Z",
     "start_time": "2018-06-23T22:52:38.120831Z"
    }
   },
   "outputs": [
    {
     "data": {
      "image/png": "[encoded data removed]",
      "text/plain": [
       "<Figure size 1440x360 with 1 Axes>"
      ]
     },
     "metadata": {},
     "output_type": "display_data"
    }
   ],
   "source": [
    "# Create the visualizer and draw the vectors\n",
    "tsne = TSNEVisualizer()\n",
    "tsne.fit(docs, labels)\n",
    "tsne.poof()"
   ]
  },
  {
   "cell_type": "code",
   "execution_count": 140,
   "metadata": {
    "ExecuteTime": {
     "end_time": "2018-06-23T23:22:38.137268Z",
     "start_time": "2018-06-23T23:22:38.133374Z"
    }
   },
   "outputs": [
    {
     "data": {
      "text/plain": [
       "404"
      ]
     },
     "execution_count": 140,
     "metadata": {},
     "output_type": "execute_result"
    }
   ],
   "source": [
    "len(labels)"
   ]
  },
  {
   "cell_type": "code",
   "execution_count": 145,
   "metadata": {
    "ExecuteTime": {
     "end_time": "2018-06-23T23:24:03.342591Z",
     "start_time": "2018-06-23T23:23:55.088356Z"
    }
   },
   "outputs": [
    {
     "data": {
      "text/plain": [
       "(404, 2)"
      ]
     },
     "execution_count": 145,
     "metadata": {},
     "output_type": "execute_result"
    }
   ],
   "source": [
    "import numpy as np\n",
    "from sklearn.manifold import TSNE\n",
    "X = docs\n",
    "X_embedded = TSNE(n_components=2, random_state=0).fit_transform(X.todense())\n",
    "X_embedded.shape"
   ]
  },
  {
   "cell_type": "code",
   "execution_count": null,
   "metadata": {},
   "outputs": [],
   "source": [
    "X.shapeape"
   ]
  },
  {
   "cell_type": "code",
   "execution_count": 144,
   "metadata": {
    "ExecuteTime": {
     "end_time": "2018-06-23T23:23:47.970442Z",
     "start_time": "2018-06-23T23:23:47.967074Z"
    }
   },
   "outputs": [
    {
     "data": {
      "text/plain": [
       "404"
      ]
     },
     "execution_count": 144,
     "metadata": {},
     "output_type": "execute_result"
    }
   ],
   "source": [
    "len(labels)"
   ]
  },
  {
   "cell_type": "code",
   "execution_count": 126,
   "metadata": {
    "ExecuteTime": {
     "end_time": "2018-06-23T22:56:59.607467Z",
     "start_time": "2018-06-23T22:56:59.600670Z"
    }
   },
   "outputs": [],
   "source": [
    "TSNEVisualizer(ax=None, decompose='svd', decompose_by=50, labels=None, classes=None, colors=None, colormap=None, random_state=None, **kwargs)"
   ]
  },
  {
   "cell_type": "code",
   "execution_count": 127,
   "metadata": {
    "ExecuteTime": {
     "end_time": "2018-06-23T22:57:06.472666Z",
     "start_time": "2018-06-23T22:57:06.466347Z"
    }
   },
   "outputs": [],
   "source": [
    "?TSNE"
   ]
  },
  {
   "cell_type": "code",
   "execution_count": null,
   "metadata": {},
   "outputs": [],
   "source": []
  },
  {
   "cell_type": "code",
   "execution_count": 104,
   "metadata": {
    "ExecuteTime": {
     "end_time": "2018-06-23T22:52:46.646126Z",
     "start_time": "2018-06-23T22:52:46.643537Z"
    }
   },
   "outputs": [],
   "source": []
  },
  {
   "cell_type": "code",
   "execution_count": 106,
   "metadata": {
    "ExecuteTime": {
     "end_time": "2018-06-23T22:52:51.283609Z",
     "start_time": "2018-06-23T22:52:51.279828Z"
    }
   },
   "outputs": [
    {
     "data": {
      "text/plain": [
       "['energy',\n",
       " 'finance',\n",
       " 'transport',\n",
       " 'infrastructure',\n",
       " 'agriculture and forestry',\n",
       " 'education and health']"
      ]
     },
     "execution_count": 106,
     "metadata": {},
     "output_type": "execute_result"
    }
   ],
   "source": [
    "most_common_sectors"
   ]
  },
  {
   "cell_type": "code",
   "execution_count": null,
   "metadata": {
    "ExecuteTime": {
     "end_time": "2018-06-23T22:35:50.751061Z",
     "start_time": "2018-06-23T22:35:50.746116Z"
    }
   },
   "outputs": [],
   "source": []
  },
  {
   "cell_type": "code",
   "execution_count": 109,
   "metadata": {
    "ExecuteTime": {
     "end_time": "2018-06-23T22:52:55.813381Z",
     "start_time": "2018-06-23T22:52:55.810971Z"
    }
   },
   "outputs": [],
   "source": [
    "from bokeh.palettes import Spectral6"
   ]
  },
  {
   "cell_type": "code",
   "execution_count": 110,
   "metadata": {
    "ExecuteTime": {
     "end_time": "2018-06-23T22:52:56.002752Z",
     "start_time": "2018-06-23T22:52:56.000132Z"
    }
   },
   "outputs": [],
   "source": [
    "import bokeh.palettes"
   ]
  },
  {
   "cell_type": "code",
   "execution_count": 111,
   "metadata": {
    "ExecuteTime": {
     "end_time": "2018-06-23T22:52:56.180448Z",
     "start_time": "2018-06-23T22:52:56.176133Z"
    }
   },
   "outputs": [
    {
     "data": {
      "text/plain": [
       "['#7fc97f',\n",
       " '#beaed4',\n",
       " '#fdc086',\n",
       " '#ffff99',\n",
       " '#386cb0',\n",
       " '#f0027f',\n",
       " '#bf5b17',\n",
       " '#666666']"
      ]
     },
     "execution_count": 111,
     "metadata": {},
     "output_type": "execute_result"
    }
   ],
   "source": [
    "bokeh.palettes.Accent8"
   ]
  },
  {
   "cell_type": "code",
   "execution_count": 123,
   "metadata": {
    "ExecuteTime": {
     "end_time": "2018-06-23T22:55:41.838535Z",
     "start_time": "2018-06-23T22:55:41.696780Z"
    }
   },
   "outputs": [
    {
     "name": "stderr",
     "output_type": "stream",
     "text": [
      "/usr/local/anaconda3/envs/datakind/lib/python3.6/site-packages/bokeh/models/sources.py:110: BokehUserWarning: ColumnDataSource's columns must be of the same length. Current lengths: ('label', 404), ('title', 404), ('x', 436), ('y', 436)\n",
      "  \"Current lengths: %s\" % \", \".join(sorted(str((k, len(v))) for k, v in data.items())), BokehUserWarning))\n"
     ]
    },
    {
     "data": {
      "text/html": [
       "\n",
       "<div class=\"bk-root\">\n",
       "    <div class=\"bk-plotdiv\" id=\"d3aaeca5-50ad-4edb-be8b-4c601e129e9a\"></div>\n",
       "</div>"
      ]
     },
     "metadata": {},
     "output_type": "display_data"
    },
    {
     "data": {
      "application/javascript": [
       "(function(root) {\n",
       "  function embed_document(root) {\n",
       "    \n",
       "  var docs_json = {\"3666a1b6-95b2-40fb-ae87-0808994e8578\":{\"roots\":{\"references\":[{\"attributes\":{\"factors\":[\"agriculture and forestry\",\"energy\",\"finance\",\"education and health\",\"transport\",\"infrastructure\"],\"palette\":[\"#7fc97f\",\"#beaed4\",\"#fdc086\",\"#ffff99\",\"#386cb0\",\"#f0027f\",\"#bf5b17\",\"#666666\"]},\"id\":\"d2952efb-3034-4ded-8ab7-a2ad59cb1e8f\",\"type\":\"CategoricalColorMapper\"},{\"attributes\":{\"plot\":{\"id\":\"99d6fb05-e8a3-4176-8da4-2e00f7e7c88c\",\"subtype\":\"Figure\",\"type\":\"Plot\"},\"ticker\":{\"id\":\"59d60877-705a-431b-a292-a1997153459b\",\"type\":\"BasicTicker\"}},\"id\":\"503fdb93-b14a-4ac9-85fd-83be2297e9f9\",\"type\":\"Grid\"},{\"attributes\":{},\"id\":\"59d60877-705a-431b-a292-a1997153459b\",\"type\":\"BasicTicker\"},{\"attributes\":{\"formatter\":{\"id\":\"f3a51865-386f-4298-8a47-90069601e8c7\",\"type\":\"BasicTickFormatter\"},\"plot\":{\"id\":\"99d6fb05-e8a3-4176-8da4-2e00f7e7c88c\",\"subtype\":\"Figure\",\"type\":\"Plot\"},\"ticker\":{\"id\":\"c5bb547e-f344-4e06-83d1-00deb551088c\",\"type\":\"BasicTicker\"}},\"id\":\"58df532c-2094-4ea7-bb1b-fb7df8dc3b8c\",\"type\":\"LinearAxis\"},{\"attributes\":{\"callback\":null},\"id\":\"b81b2862-c9e7-4392-a148-0d159796fb19\",\"type\":\"DataRange1d\"},{\"attributes\":{\"fill_color\":{\"field\":\"label\",\"transform\":{\"id\":\"d2952efb-3034-4ded-8ab7-a2ad59cb1e8f\",\"type\":\"CategoricalColorMapper\"}},\"line_color\":{\"field\":\"label\",\"transform\":{\"id\":\"d2952efb-3034-4ded-8ab7-a2ad59cb1e8f\",\"type\":\"CategoricalColorMapper\"}},\"size\":{\"units\":\"screen\",\"value\":10},\"x\":{\"field\":\"x\"},\"y\":{\"field\":\"y\"}},\"id\":\"ead54b3d-4bcb-434e-97cc-5891172d968c\",\"type\":\"Circle\"},{\"attributes\":{\"source\":{\"id\":\"7816dc1e-09fb-4f2d-8890-56a154f770a7\",\"type\":\"ColumnDataSource\"}},\"id\":\"220aa46c-cae1-4443-88b6-2c6f59585885\",\"type\":\"CDSView\"},{\"attributes\":{\"fill_alpha\":{\"value\":0.1},\"fill_color\":{\"value\":\"#1f77b4\"},\"line_alpha\":{\"value\":0.1},\"line_color\":{\"value\":\"#1f77b4\"},\"size\":{\"units\":\"screen\",\"value\":10},\"x\":{\"field\":\"x\"},\"y\":{\"field\":\"y\"}},\"id\":\"15b3b0fd-eb55-4c13-bf42-598cb9908c09\",\"type\":\"Circle\"},{\"attributes\":{\"callback\":null},\"id\":\"be6d414b-eda7-4d57-b144-59b3febfaf1f\",\"type\":\"DataRange1d\"},{\"attributes\":{\"callback\":null,\"renderers\":\"auto\",\"tooltips\":[[\"index\",\"$index\"],[\"(x,y)\",\"(@x, @y)\"],[\"title\",\"@title\"],[\"label\",\"@label\"]]},\"id\":\"f4fcd572-2698-4f0b-83e1-96fef1eef134\",\"type\":\"HoverTool\"},{\"attributes\":{},\"id\":\"37aac029-44ac-4956-92dc-724086be35d2\",\"type\":\"UnionRenderers\"},{\"attributes\":{},\"id\":\"6d7fbee7-ac23-4bf1-80c8-fcee13dceec6\",\"type\":\"BasicTickFormatter\"},{\"attributes\":{\"items\":[{\"id\":\"d56c1045-de16-463e-9702-f49c985eaf89\",\"type\":\"LegendItem\"}],\"plot\":{\"id\":\"99d6fb05-e8a3-4176-8da4-2e00f7e7c88c\",\"subtype\":\"Figure\",\"type\":\"Plot\"}},\"id\":\"570813c1-978c-44e1-8e4c-0ed9d693132e\",\"type\":\"Legend\"},{\"attributes\":{\"dimension\":1,\"plot\":{\"id\":\"99d6fb05-e8a3-4176-8da4-2e00f7e7c88c\",\"subtype\":\"Figure\",\"type\":\"Plot\"},\"ticker\":{\"id\":\"c5bb547e-f344-4e06-83d1-00deb551088c\",\"type\":\"BasicTicker\"}},\"id\":\"3750d2ac-9c1d-4457-a63b-981aed41eebe\",\"type\":\"Grid\"},{\"attributes\":{\"data_source\":{\"id\":\"7816dc1e-09fb-4f2d-8890-56a154f770a7\",\"type\":\"ColumnDataSource\"},\"glyph\":{\"id\":\"ead54b3d-4bcb-434e-97cc-5891172d968c\",\"type\":\"Circle\"},\"hover_glyph\":null,\"muted_glyph\":null,\"nonselection_glyph\":{\"id\":\"15b3b0fd-eb55-4c13-bf42-598cb9908c09\",\"type\":\"Circle\"},\"selection_glyph\":null,\"view\":{\"id\":\"220aa46c-cae1-4443-88b6-2c6f59585885\",\"type\":\"CDSView\"}},\"id\":\"d76e8558-888b-4881-8338-f95d9a80fc06\",\"type\":\"GlyphRenderer\"},{\"attributes\":{\"label\":{\"field\":\"label\"},\"renderers\":[{\"id\":\"d76e8558-888b-4881-8338-f95d9a80fc06\",\"type\":\"GlyphRenderer\"}]},\"id\":\"d56c1045-de16-463e-9702-f49c985eaf89\",\"type\":\"LegendItem\"},{\"attributes\":{\"below\":[{\"id\":\"4ec6cdbc-2599-4383-a83f-ba6b173bddc2\",\"type\":\"LinearAxis\"}],\"left\":[{\"id\":\"58df532c-2094-4ea7-bb1b-fb7df8dc3b8c\",\"type\":\"LinearAxis\"}],\"plot_height\":1000,\"plot_width\":1200,\"renderers\":[{\"id\":\"4ec6cdbc-2599-4383-a83f-ba6b173bddc2\",\"type\":\"LinearAxis\"},{\"id\":\"503fdb93-b14a-4ac9-85fd-83be2297e9f9\",\"type\":\"Grid\"},{\"id\":\"58df532c-2094-4ea7-bb1b-fb7df8dc3b8c\",\"type\":\"LinearAxis\"},{\"id\":\"3750d2ac-9c1d-4457-a63b-981aed41eebe\",\"type\":\"Grid\"},{\"id\":\"570813c1-978c-44e1-8e4c-0ed9d693132e\",\"type\":\"Legend\"},{\"id\":\"d76e8558-888b-4881-8338-f95d9a80fc06\",\"type\":\"GlyphRenderer\"}],\"title\":{\"id\":\"150a64da-6469-4657-a21e-257474bf3bc2\",\"type\":\"Title\"},\"toolbar\":{\"id\":\"ba996c2a-2849-4700-a003-234d510bed13\",\"type\":\"Toolbar\"},\"x_range\":{\"id\":\"b81b2862-c9e7-4392-a148-0d159796fb19\",\"type\":\"DataRange1d\"},\"x_scale\":{\"id\":\"41c5bf97-df20-4679-a458-d77c73837672\",\"type\":\"LinearScale\"},\"y_range\":{\"id\":\"be6d414b-eda7-4d57-b144-59b3febfaf1f\",\"type\":\"DataRange1d\"},\"y_scale\":{\"id\":\"618898a9-9ba0-4356-9868-11bcee2d8b89\",\"type\":\"LinearScale\"}},\"id\":\"99d6fb05-e8a3-4176-8da4-2e00f7e7c88c\",\"subtype\":\"Figure\",\"type\":\"Plot\"},{\"attributes\":{},\"id\":\"cdfe6488-c694-44b8-a01d-3f0ff6687837\",\"type\":\"Selection\"},{\"attributes\":{\"callback\":null,\"data\":{\"label\":[\"agriculture and forestry\",\"energy\",\"energy\",\"energy\",\"energy\",\"energy\",\"energy\",\"finance\",\"energy\",\"agriculture and forestry\",\"energy\",\"agriculture and forestry\",\"agriculture and forestry\",\"finance\",\"education and health\",\"energy\",\"education and health\",\"energy\",\"energy\",\"finance\",\"energy\",\"agriculture and forestry\",\"education and health\",\"energy\",\"education and health\",\"agriculture and forestry\",\"education and health\",\"energy\",\"agriculture and forestry\",\"transport\",\"education and health\",\"energy\",\"transport\",\"finance\",\"transport\",\"energy\",\"agriculture and forestry\",\"energy\",\"agriculture and forestry\",\"infrastructure\",\"energy\",\"agriculture and forestry\",\"agriculture and forestry\",\"education and health\",\"infrastructure\",\"education and health\",\"transport\",\"transport\",\"energy\",\"finance\",\"education and health\",\"energy\",\"transport\",\"infrastructure\",\"education and health\",\"finance\",\"infrastructure\",\"agriculture and forestry\",\"agriculture and forestry\",\"transport\",\"transport\",\"transport\",\"transport\",\"transport\",\"infrastructure\",\"agriculture and forestry\",\"finance\",\"infrastructure\",\"infrastructure\",\"energy\",\"infrastructure\",\"infrastructure\",\"transport\",\"transport\",\"energy\",\"agriculture and forestry\",\"agriculture and forestry\",\"agriculture and forestry\",\"finance\",\"finance\",\"infrastructure\",\"transport\",\"education and health\",\"infrastructure\",\"infrastructure\",\"infrastructure\",\"transport\",\"agriculture and forestry\",\"education and health\",\"agriculture and forestry\",\"infrastructure\",\"energy\",\"transport\",\"agriculture and forestry\",\"transport\",\"finance\",\"finance\",\"energy\",\"energy\",\"transport\",\"energy\",\"agriculture and forestry\",\"transport\",\"agriculture and forestry\",\"education and health\",\"education and health\",\"finance\",\"infrastructure\",\"education and health\",\"infrastructure\",\"energy\",\"energy\",\"energy\",\"energy\",\"transport\",\"agriculture and forestry\",\"education and health\",\"energy\",\"agriculture and forestry\",\"education and health\",\"education and health\",\"infrastructure\",\"education and health\",\"infrastructure\",\"energy\",\"education and health\",\"energy\",\"agriculture and forestry\",\"energy\",\"transport\",\"infrastructure\",\"energy\",\"infrastructure\",\"agriculture and forestry\",\"transport\",\"agriculture and forestry\",\"infrastructure\",\"energy\",\"energy\",\"energy\",\"energy\",\"finance\",\"finance\",\"finance\",\"finance\",\"energy\",\"education and health\",\"agriculture and forestry\",\"energy\",\"education and health\",\"education and health\",\"energy\",\"agriculture and forestry\",\"energy\",\"finance\",\"energy\",\"energy\",\"energy\",\"agriculture and forestry\",\"transport\",\"agriculture and forestry\",\"finance\",\"agriculture and forestry\",\"energy\",\"agriculture and forestry\",\"infrastructure\",\"energy\",\"agriculture and forestry\",\"education and health\",\"transport\",\"education and health\",\"agriculture and forestry\",\"energy\",\"education and health\",\"agriculture and forestry\",\"energy\",\"education and health\",\"energy\",\"agriculture and forestry\",\"finance\",\"energy\",\"agriculture and forestry\",\"education and health\",\"education and health\",\"agriculture and forestry\",\"finance\",\"energy\",\"finance\",\"agriculture and forestry\",\"transport\",\"agriculture and forestry\",\"energy\",\"energy\",\"infrastructure\",\"finance\",\"transport\",\"infrastructure\",\"education and health\",\"finance\",\"education and health\",\"agriculture and forestry\",\"finance\",\"agriculture and forestry\",\"education and health\",\"finance\",\"finance\",\"agriculture and forestry\",\"agriculture and forestry\",\"transport\",\"energy\",\"transport\",\"transport\",\"energy\",\"energy\",\"infrastructure\",\"energy\",\"infrastructure\",\"energy\",\"infrastructure\",\"finance\",\"energy\",\"finance\",\"transport\",\"infrastructure\",\"transport\",\"finance\",\"transport\",\"energy\",\"finance\",\"transport\",\"transport\",\"energy\",\"infrastructure\",\"energy\",\"agriculture and forestry\",\"transport\",\"energy\",\"finance\",\"energy\",\"infrastructure\",\"finance\",\"energy\",\"finance\",\"energy\",\"finance\",\"transport\",\"infrastructure\",\"education and health\",\"energy\",\"energy\",\"energy\",\"energy\",\"energy\",\"finance\",\"infrastructure\",\"infrastructure\",\"education and health\",\"finance\",\"infrastructure\",\"finance\",\"agriculture and forestry\",\"infrastructure\",\"energy\",\"infrastructure\",\"finance\",\"energy\",\"finance\",\"energy\",\"energy\",\"transport\",\"energy\",\"energy\",\"energy\",\"finance\",\"energy\",\"energy\",\"transport\",\"finance\",\"finance\",\"transport\",\"finance\",\"finance\",\"finance\",\"energy\",\"energy\",\"education and health\",\"infrastructure\",\"transport\",\"energy\",\"energy\",\"transport\",\"energy\",\"energy\",\"transport\",\"energy\",\"transport\",\"energy\",\"finance\",\"infrastructure\",\"education and health\",\"energy\",\"energy\",\"education and health\",\"infrastructure\",\"energy\",\"agriculture and forestry\",\"finance\",\"energy\",\"finance\",\"education and health\",\"education and health\",\"infrastructure\",\"energy\",\"energy\",\"energy\",\"transport\",\"energy\",\"finance\",\"finance\",\"infrastructure\",\"infrastructure\",\"transport\",\"infrastructure\",\"finance\",\"finance\",\"finance\",\"energy\",\"energy\",\"transport\",\"finance\",\"finance\",\"energy\",\"education and health\",\"education and health\",\"education and health\",\"infrastructure\",\"finance\",\"energy\",\"energy\",\"agriculture and forestry\",\"finance\",\"infrastructure\",\"transport\",\"finance\",\"energy\",\"infrastructure\",\"finance\",\"energy\",\"energy\",\"finance\",\"finance\",\"transport\",\"energy\",\"energy\",\"transport\",\"infrastructure\",\"energy\",\"energy\",\"finance\",\"finance\",\"energy\",\"finance\",\"transport\",\"energy\",\"infrastructure\",\"energy\",\"transport\",\"infrastructure\",\"energy\",\"energy\",\"energy\",\"energy\",\"energy\",\"transport\",\"transport\",\"education and health\",\"education and health\",\"energy\",\"transport\",\"energy\",\"energy\",\"finance\",\"transport\",\"transport\",\"finance\",\"finance\",\"transport\",\"transport\",\"finance\",\"finance\",\"energy\",\"infrastructure\",\"energy\",\"infrastructure\",\"finance\",\"energy\",\"finance\",\"infrastructure\",\"infrastructure\",\"energy\",\"energy\",\"energy\",\"energy\",\"energy\"],\"title\":[\"Coastal Watersheds Conservation in the Context of Climate Change Project\",\"Senegal Banda Gas to Power Guarantee\",\"7 Energy\",\"Ghana Grid Company Limited\",\"China Three Gorges South Asia Investment Limited\",\"Adjaristsqali Hydro Project\",\"FRV Solar Jordan\",\"Secure ID\",\"Mocuba Solar\",\"Barry Callebaut Cote d'Ivoire RSF\",\"OAWPL and OAPWPL\",\"ESIP Lenskart\",\"Myanma Awba Group Company Limited\",\"Lionbridge Loan\",\"HCG\",\"AES Panama LNG\",\"SIS school\",\"Power Distribution Enhancement Investment Program - Tranche 2\",\"Second Power Distribution Enhancement Investment Program\",\"Subregional Transport Project Preparatory Facility - Additional Financing\",\"Power Distribution Enhancement Investment Program - Tranche 3\",\"Etoile du Nord S.A. (EDN)\",\"Atma Jaya Uni\",\"PowerMex\",\"Regency Hospital\",\"Anagram Equity\",\"China Health Reform Program\",\"Delta Solar\",\"Nespresso East African Coffee Project\",\"Air Transport Connectivity Enhancement Project-Additional Financing\",\"Apollo Specialty\",\"Summit Mezzanine\",\"Rural Infrastructure Maintenance Program (PDA)\",\"United Asia Loan Funding\",\"Road Asset Management Project\",\"Planta Hidroelectrica Ituango\",\"Apurimac Mining Agriculture\",\"Distributed Commercial Solar Power Project\",\"Mahaweli Water Security Investment Program - Tranche 1\",\"Xinjiang Hetian Comprehensive Urban Development and Environmental Improvement\",\"Power Transmission and Distribution Efficiency Enhancement Project\",\"Market and Value Chain Infrastructure Development Project\",\"Madhya Pradesh Irrigation Efficiency Investment Program\",\"Preparing Urban Primary Health Care Services Delivery Project - Additional Financing\",\"Integrated Urban Development and Resilience Project for Greater Antananarivo\",\"Information Technology Parks for Employment and Innovation\",\"Preparation of Central Asia Regional Economic Cooperation Corridors 5 and 6 (Salang Corridor) Projec\",\"National Port Master Plan\",\"Interstate Natural Gas Pipeline Investment Program\",\"Mobilizing Pension Fund Financing for Public-Private Partnerships\",\"Baidu MCC Loan\",\"Leapfrogging of Clean Technology in CAREC Countries through Market Transformation\",\"Uttar Pradesh Major District Roads Improvement Project\",\"Kulhudhuffushi Harbor Expansion Project\",\"Policy Analysis and Assessment of Reforming Education Mode for Promoting Employment of Graduates\",\"Greater Colombo Water and Wastewater Management Improvement Investment Program (Tranche 3)\",\"Second Issyk-kul Sustainable Development Project\",\"Flood Emergency Reconstruction and Resilience Project\",\"Northern Province Sustainable Fisheries Development Project\",\"Central Asia Regional Economic Cooperation Corridor Development Investment Program\",\"Railway Rolling Stock Project\",\"National Motorway M-4 Gojra-Shorkot Section Project\",\"Central Asia Regional Economic Cooperation Regional Improving Border Services Project\",\"Post-Flood National Highways Rehabilitation Project\",\"Regional Improvement of Border Services\",\"Xinjiang Akesu Integrated Urban Development and Environment Improvement Project\",\"Pilot Program for Establishing a Support Framework for Sustainable Village Community Funds\",\"Shandong Groundwater Protection Project\",\"Study of the Belt and Road Initiative\",\"Accelerating Investment in Distributed Energy in Rural Qingdao\",\"Xinjiang Tacheng Border Cities and Counties Development Project\",\"Promotion of Environmentally Sustainable Infrastructure Investment in Asia and the Pacific\",\"Bihar New Ganga Bridge Project\",\"Dhaka Metro Project\",\"Visakhapatnam-Chennai Industrial Corridor Development Program - Project 1\",\"Jalalpur Irrigation PDA\",\"Supporting Natural Resources Operations\",\"Rural Economic Transformation and Upgrading by the Integration with Internet Plus\",\"Promoting the Decisive Role of the Market in Resource Allocation\",\"Municipality-Level Public-Private Partnership Operational Framework for Chongqing\",\"Concessions for Ulaanbaatar's Municipal Services\",\"Colombo Suburban Railway Project\",\"Implementing the Senior High School Support Program\",\"Multipartner Financing Facility for the Highlands Highway\",\"Water Sector Investment Program - Tranche 3\",\"Strengthening Institutions for Investments in Mindanao\",\"Davao Public Transport Modernization Project\",\"Agriculture and Rural Development Project - Additional Financing\",\"Improving Access to Affordable Medicines in Public Hospitals\",\"Study on Building an Ecological Security System for the National Core Grain Growing Area of Henan\",\"Ulaanbaatar Affordable Housing and Urban Renewal Project\",\"Power Sector Development Project\",\"South Asia Subregional Economic Cooperation Chittagong-Cox's Bazar Railway Project, Phase 1 - Tranch\",\"Research on Innovative Mechanism for Open Agricultural Investment\",\"Khyber Pakhtunkhwa Provincial Roads Improvement Project\",\"Solar Rooftop Investment Program - Tranche 1\",\"Enhancing Competition in Public Service Delivery\",\"Enabling Poor Women's Benefits from Enhanced Access to Energy in Hatiya Island\",\"Solar Rooftop Investment Program\",\"Madhya Pradesh District Roads II Sector Project\",\"Demand-Side Energy Efficiency Sector Project\",\"Local Government Enhancement Sector Project - Additional Financing\",\"Thimphu Road Improvement Project\",\"Accelerating Infrastructure Delivery through Better Engineering Services Project\",\"Vocational Education-Enterprise Collaboration for Student Employment-Based Poverty Reduction\",\"Sustaining Access to and Quality of Education during Economic Difficulties\",\"National Disaster Risk Management Fund\",\"Creating Enabling Environments for Gradual Rural-Urban Migration and Urban Settlements Development \",\"Skills for Employment Investment Program - Tranche 2\",\"Peshawar Sustainable Bus Rapid Transit Corridor Project Project Design Advance\",\"Sustainable Hydropower Project\",\"Madhya Pradesh Transmission System Expansion and Strengthening Project\",\"Strengthening Capacity in the Implementation of the Green Financing Platform for the Greater Beijing\",\"Rajasthan Renewable Energy Transmission Investment Program - Tranche 2\",\"Port Vila Urban Development Project (additional financing)\",\"Sustainable Tourism Development Project\",\"Public-Private Partnerships Demonstration Program to Transform Delivery of Elderly Care Services \",\"Air Quality Improvement in the Greater Beijing-Tianjin-Hebei Region--China National Investment\",\"Climate Adaptation in Vennar Subbasin in Cauvery Delta Project\",\"Support to Primary Education Development\",\"Education and Skills Development Project\",\"City Region Development Project II (PDA)\",\"Lisungi Safety Nets System Project Additional Financing\",\"Plan Belgrano Water Supply and Sanitation Services Development Project\",\"Xenel Wind Jordan\",\"Bounty\",\"SS Zambia 2\",\"OLEANA\",\"Atlantic II - Lagoa do Barro\",\"Constructora Santa Fe Ltda.\",\"Great North Mall\",\"Cubico Alten Aguascalientes Solar PV Project\",\"Myanmar Southeast Asia Disaster Risk Management Project\",\"Frutas & Legumes GB\",\"CAREC Transport Corridor I (Bishkek-Torugart Road) Project 3 - Additional Financing\",\"Shanxi Urban-Rural Water Source Protection and Environmental Demonstration Project\",\"Cordoba Infra\",\"Ciclo Combinado Tierra Mojada S.A. de R.L. de CV.\",\"MENA Regional Power Advisory\",\"MENA Regional Resource Efficiency\",\"Bangla LNG\",\"Radiowealth Loan\",\"Prestamo de BHD Leon a Pequenas y Medianas Empresas Lideradas por Mujeres\",\"Support for ASEAN+3 Bond Market Forum under the New Asian Bond Markets Initiative\",\"Advans DRC II\",\"Jinko - PERC\",\"Rede Dor Growth\",\"ESIP Power2SME\",\"CP Achiras S.A.\",\"Biological E\",\"CDP SMART HOUSING INVESTMENT PLATFORM\",\"SP Energy Egypt S.A.E\",\"Agrocorp II\",\"Al Subh Solar Power \",\"AfSME West & C\",\"SECI Benban 2 Arinna\",\"Acciona Benban 2\",\"Acciona Benban 3\",\"Jalles Machado\",\"Main Roads Reconstruction Project\",\"CEDIAM\",\"Koin\",\"Irrigated Agriculture Improvement Project\",\"Alcazar Solar 3\",\"Fenglin III\",\"Bujagali 2 (Refi)\",\"Sustainable Energy Access in Eastern Indonesia-Electricity Grid Development Program\",\"Subati\",\"Preparing Health Sector Assessment\",\"Road Asset Management Project - Additional Financing\",\"Preparing the Advanced Knowledge and Skills for Sustainable Growth Project\",\"Second Agriculture Sector Wide Approach Support Project\",\"MFF Power Transmission Enhancement Investment Program II Tranche 2\",\"Preparing the Second Upper Secondary Education Sector Development Program\",\"Almarai\",\"X-Elio's Solar Projects\",\"Preparing the Health System Enhancement Project\",\"Guinea Alumina Corporation\",\"Gobind Sugar Mills Limited\",\"ESRM Ghana\",\"SS Zambia\",\"Afghanistan Rikweda Raisins\",\"Supporting Egypt Education Reform Project\",\"Sindh Secondary Education Improvement Project\",\"Sustaining the Gains of Regional Cooperation in the Greater Mekong Subregion\",\"Solar Rooftop 4All\",\"BAYNOUNA SOLAR ENERGY COMPANY PSC\",\"CG Egypt&Levant\",\"Rikweda Fruit Process Company\",\"South Asia Subregional Economic Cooperation Dhaka-Northwest Corridor Road Project, Phase 2 - Tranche\",\"Hyundai Motor Pakistan Project\",\"FRV Andhra Pradesh Solar Farm - I Private Limited\",\"Capacity Building and Sector Reform for Renewable Energy Investments in the Pacific\",\"Jaffna and Kilinochchi Water Supply Project-Additonal Financing\",\"ESRM SouthAfrica\",\"Laos PDR: National Road 13 Improvement and Maintenance Project\",\"Rewa Mahindra\",\"Genomma Lab\",\"SME V - CASF&ARF\",\"Trivitron Africa\",\"PRAN Agro Business Ltd\",\"IFC - GIPDF 3\",\"MIC TAF GRANT YOUTH IN AGRIBUSINESS AND AGRICULTURE COMMODITY CORRIDORS\",\"Pharmoscar Ltd\",\"ARISE B.V.\",\"SANAD FUND FOR MSME\",\"BABBAN GONA FARMER SERVICES NIGERIA LIMITED\",\"RURAL LIVELIHOODS' ADAPTATION TO CLIMATE CHANGE IN THE HORN OF AFRICA II (RLACC II)-SUDAN\",\"Lao National Road 13 Improvement and Maintenance\",\"Myanmar: Myingyan Power Plant Project\",\"AIIB approves $1.5 bln of loans to India for infrastructure projects\",\"India, ADB sign USD 250 million loan agreement for rural roads - Ministry\",\"EIB approves $1.8bn financing for Trans-Adriatic Pipeline\",\"AIIB approves loan to Bangladesh Independent Power Project\",\"AIIB approves $1.5 billion in loans to India for infrastructure projects\",\"ADB commits US$175.3 million in geothermal energy development in Western Indonesia\",\"Minsk, EBRD launch Green City project\",\"AfDB approves $1.5 million for Jigawa power project\",\"AIIB approves $1.5bn in loans to India for infrastructure projects\",\"IDB invests USD 5 mn in MONI Online in its first operation with Fintech company\",\"EBRD, partners extend funds for 30-MW solar project in Mongolia\",\"EBRD loans Turkish agricultural firm $48M for expansion\",\"IDB approves another loan for Quito metro\",\"/ ADB pledges USD 100 million to upgrade rural roads in Nepal\",\"ADB, India Sign $120 Million Loan to Improve Rail Infrastructure\",\"Asia Pacific Microgrid Market Anticipated to Reach $22560.4 Million by 2026\",\"AIIB grants $140 mn loan to improve Madhya Pradesh's rural roads\",\"ADB to Advise on Philippines' First LNG Hub Project\",\"Citi Inks $100 Million Trade Finance Deal With Asian Development Bank\",\"$180m agreement signed for roads, water and poverty\",\"Public Works Defends Itself Over Highway Construction Delays\",\"ADB Supports Over $1 Billion in Clean Energy Investments in the Pacific Until 2021 \\u2014 Report\",\"AIIB approves infra loans worth $1.5 billion to India\",\"IREDA, EIB ink 150mn-euro loan agreement for renewable energy\",\"World Bank to fund $ 420 mn for climate resilient farming in Maharashtra\",\"ADB to lend $120 mn for improving Indian rail infrastructure\",\"EBRD announces time of discussing TAP loan (Exclusive)\",\"EBRD launches health bond\",\"ADB finances Vena's 42MW of large-scale solar projects in Indonesia\",\"AIIB approves USD 1.5 billion in loans to India for infrastructure projects in 2018\",\"AfDB okays energy loans fund\",\"Prez. Sirleaf Dedicates US$8M Water Treatment Plant\",\"EBRD declares effective 218 mln euro loan for Albania's KESH restructuring\",\"GCF approves AfDB's funding for renewable energy in Zambia\",\"World Bank approves $180 mln loan guarantee for Kenya's energy sector\",\"BMRCL may tweak packages, tunnel length on Dairy Circle-Nagawara route\",\"ADB director reaffirms support for Afghanistan's infrastructure development\",\"ADB to provide Mongolia $130 million loan to help improve public health\",\"EBRD finances largest solar power plant in Mongolia\",\"Asian Development Bank, International Solar Alliance sign pact to promote solar energy\",\"AfDB approves $1.5m for Jigawa solar power programme\",\"EBRD finances 45MW wind farm in Jordan\",\"Centum affiliate firm to get Sh19.5bn for geothermal plant\",\"AfDB provides $1 million to support Sudan's preparation for debt relief\",\"UPDATE 1-AIIB approves $1.5 bln in loans to India for infrastructure projects\",\"ADB raises Bangladesh aid package to $8 bln\",\"Asian Development Bank Finances Mongolia To Improve Air Quality, Education\",\"Moroccan bank, AfDB allocate 100 mln USD to promote intra-african trade\",\"ADB Provides Support for Three Infrastructure Projects in Cambodia\",\"AfDB Approves $10m Loan To Boost Fund'S Portfolio In Africa\",\"EBRD loans $48M to Turkey's leading agricultural firm Tirkyaki Agro\",\"AIIB approves $1.5 billion of loans to India for infrastructure projects\",\"AIIB approves $285 million of loans to Bangladesh for power, energy\",\"Andhra land acquisition law passed under World Bank \\\"direction\\\" to build capital Amravati, as land pooling system fails\",\"AfDB approves $10 million loan to ALCB Fund\",\"ADB finances first ever utility-scale solar PV plant in Indonesia\",\"AfDB approves USD 15 mn loan for better access to mortgage financing in Ghana\",\"TAP Gas Pipeline To Get 1.2B Euros In Loans From EBRD In 2018\",\"EBRD to allocate 1.2B euros for TAP in 2018\",\"Centre, ADB ink $120mn loan agreement to improve rail infrastructure\",\"AIIB approves $285m in loans to Bangladesh for power projects\",\"Ukraine to launch its first solar plant at Chernobyl\",\"ADB Pledges To Finance TAP Project\",\"AfDB extends $25m loan facility to private sector\",\"EIB Approves \\u20ac1.5bn TAP Loan\",\"EBRD to support capacity building of Azerbaijan's energy regulator\",\"ADB APPROVES US$360 MLN LOAN TO IMPROVE BANGLADESH RAILWAY\",\"ADB Provides Additional Funds to Support SME Development in Sri Lanka\",\"AfDB approves $10m loan to boost fund's portfolio in Africa\",\"BMRCL signs project agreement with EIB\",\"Nigeria: AfDB Signs $700 Million Development Loan Agreement With Japan\",\"ADB Boosts Support to Governments to Combat Money Laundering in Asia\",\"Bulgarian EU Presidency begins with EIB loan of 100M euro under Juncker Plan for agri-pharma firm\",\"ADB ready to assist development of Armenia's energy sector\",\"EIB pumps $25m into off-grid solar project\",\"ADB gives healthcare in Papua New Guinea a shot in the arm\",\"World Bank inks $510m Iraq infrastructure project deal\",\"ADB to prepare work plan for BRT station at Numaish\",\"$260m accord inked with ADB to improve power transmission network\",\"AIIB approves 60 mln USD loan for Bangladesh power project\",\"ADB Support to Boost Road Connectivity in Timor-Leste\",\"TAP gas pipeline to get 1.2 bln euros in loans from EBRD in 2018\",\"ADB providing funds for 42 MW of utility-scale solar in Indonesia\",\"EBRD gives 20-mln-euro loan to Turkish-run Port of Bar in Montenegro\",\"EBRD provides \\u20ac28 million to rehabilitate Georgia's Enguri HPP\",\"ADB, Green Climate Fund, Australia Help Upgrade, Climate-Proof Port in Nauru\",\"EBRD approves $31.6m loan for solar plant in Mongolia\",\"EBRD provides \\u20ac6 million loan to PeopleCert\",\"Philippines, Asian Development Bank put up $164-million funding for infrastructure studies\",\"Mongolia: ADB Projects $207 Million to Improve Air Quality, Education and Inclusiveness\",\"EIB approves 1.5 billion euro loan to TAP gas pipeline\",\"AfDB approves $1.5m for Jigawa power project\",\"Government secures $40m from World Bank to support free SHS\",\"AIIB approves $1.5b in loans to India for infrastructure projects\",\"Energy, Transport Lead the Way as Performance of 2017 ADB-Funded Projects in Tajikistan Remains Strong\",\"ADB, JICA to Support 20,000 Smallholder Farmers with $163 Million Inclusive Agribusiness Deal\",\"AFDB approves third $500 mln tranche in support for Egypt's reform program\",\"AIIB approves $285m of loans to Bangladesh for power, energy\",\"New EBRD financing to Bulgaria's ProCredit Bank\",\"ADB unveils new vocational training project\",\"ADB approves 130 mln USD loan to improve air quality in Ulan Bator\",\"Telangana seeks ADB funding for infra projects\",\"AIIB approves $60mn loan for Bangladesh power project\",\"EBRD finances modernisation of Enguri power plant\",\"EIB approves 1.5 billion euro loan for TAP gas pipeline\",\"ADB assures commercial co-financing for Pak Railways' projects\",\"AIIB approves $60 million for Bangladesh power plant, considering investing $885m more\",\"EBRD PROVIDES EUR 1.15 BLN TO SUPPORT SMES IN UKRAINE, GEORGIA, MOLDOVA\",\"The ADB to support Zimbabwe with credit lines and tackling its arrears\",\"JK fails to avail ADB offer of Rs 4000 Cr loan\",\"With Port Project, Georgia Seeks Place on China's Belt and Road\",\"European investment bank & BMRCL sign project pact on funding metro phase 2 line\",\"EBRD Finances Infrastructure Investment Program\",\"African Development Bank Board approves third sovereign lending instrument\",\"AfDB approves $10m for the African Local Currency Bond Fund\",\"EBRD acquires 2.5-pct stake in Bank Audi\",\"Valmet signs Euro 45 million loan agreement with European Investment Bank\",\"AfDB Approves $1.5m For Jigawa Power Project \\u2013 Independent Newspapers Limited\",\"ADB funds Bangladesh rail improvements\",\"EBRD provides Cairo Amman Bank with 20 million loan to boost small businesses in Jordan\",\"ADB considered Tajikistan's main international donor\",\"AIIB approves loan for Bangladesh Bhola IPP energy project\",\"ADB grants 195 mln dollars loan to support Papua New Guinea's health program\",\"EBRD to Finance Armenian Healthcare Reform\",\"ADB $195 Million Loans to Support PNG's Efforts Towards Achieving Universal Health Coverage\",\"AIIB approves $1.5-bn in loans to India for infrastructure projects\",\"AfDB approves $10m for African local currency bond Fund\",\"EBRD may finance Astana gasification project\",\"AfDB Grants $1.5 million for Jigawa IPP\",\"AfDB Funds USD 101 Million Angola Projects\",\"Wema Bank secures $35m AfDB, ICD funds for SMEs\",\"2017: A bad year for major South Asian infrastructure projects\",\"CPEC Western route to be completed by end of this year\",\"Burkina Faso: World Bank Approves $50 Million to Boost Private Investment and Job Creation\",\"World Bank approves $486m to improve Nigeria's electricity transmission network\",\"AIIB approves $1.5 billion in loans to India\",\"ADB, Ameriabank sign $30 mln equity investment agreement\",\"PNOC taps ADB to study LNG project proposals\",\"AfDB Approves $1.5m For Jigawa Solar Power Programme\",\"African Development Bank Approves US $500-Million Third and Final Tranche Budget Support Loan for Governance ...\",\"AFDB APPROVES FINCORP'S E300M LOAN\",\"ADB Provides $360 Million for Rolling Stock to Boost Bangladesh Railway\",\"AfDB obtains $52.5m Green Climate Fund for Zambia Renewable Energy\",\"ADB to Finance Solar Projects Worth $40 Million in Indonesia\",\"India-Myanmar-Thailand Trilateral Highway by 2019: Nitin Gadkari\",\"Crowding in Asia's private sector to accelerate infra development\",\"EIB approves Eur1.5 bil TAP natural gas link loan after 'enhanced' corruption probe\",\"ADB Finances First Ever Utility-Scale Solar PV Plants in Indonesia in $160 Million Renewables Deal\",\"ADB loan, equity to Ameriabank to help promote financial inclusion in Armenia\",\"AfDB to launch 12 projects for agricultural SMEs in 6 African countries on March 27-29\",\"EIB approves 1.5 bln euro loan to TAP gas pipline\",\"ADB Loan, Equity to Ameriabank to Help Promote Financial Inclusion in Armenia\",\"EBRD supports modernization of Albania transportation\",\"Asian Development on developing Indonesia's geothermal power potential\",\"AfDB agrees $93.1m financing for Rwandan road improvement project\",\"EIB reveals details of loan for TANAP (Exclusive)\",\"EBRD providing 20 mln euro loan to Montenegro's Port of Adria\",\"Arup to help Philippines build $11bn worth of infrastructure\",\"EBRD Board of Directors Unanimously Approves Nenskra HPP Project Financing\",\"African Development Bank Approves $1.5 Million USD for Jigiwa On-Grid IPP Solar Power Procurement Program\",\"ADB Helps Inaugurate New Power Distribution Network in Southwest Kabul\",\"EBRD provides \\u20ac5 million for energy efficiency in Bosnia\",\"AIIB seeks to strengthen co-op with Azerbaijan\",\"Riding the Rails: Phnom Penh's Airport Train Is a Milestone for Cambodia\",\"ADB provides $90 million to Tajikistan to rehabilitate major road\",\"Health bond worth 317 mln zlotys issued by EBRD\",\"ADB hopes loan will restore public confidence in PNG health\",\"EIB gives TAP 1.5 bn loan (3)\",\"ADB Grant to Further Improve Transport Connectivity and Safety in Tajikistan\",\"Egypt signs agreement to receive last $500M tranche of AFDB loan\",\"CPPIB acquires 6.3% stake in India's ReNew Power for US$144 million\",\"AfDB board approves third sovereign lending instrument\",\"EIB to lend 130 mln euro for Serbia's Nis-Dimitrovgrad railway overhaul\",\"IDB approves USD 250 mln loan to help build a metro line in Quito\",\"Rwanda Innovation Fund project to receive US $30-million loan from African Development Bank\",\"Asiamoney best bank awards 2017: Mongolia\",\"South Asia's first underground bus station to be constructed at Numaish\",\"AIIB to invest $140mn to perk up rural roads in Madhya Pradesh\",\"AfDB, Korea agree to partner on Korea-Africa Energy Investment Facility\",\"AfDB promotes better access to mortgage finance in Ghana\",\"ADB aid for Sri Lanka power system reliability study\",\"IDB provides US$248m for key gov't initiatives\",\"AIIB approves $60m for 220MW plant in Bhola\",\"Plem construction of Polytechnic College annex taking shape: Funded by AfDB\",\"Africa: Italy Commits $1.2 Million to the Somalia Infrastructure Fund\",\"ADB may consider financing Turkmen gas field development (Exclusive)\",\"AfDB okays $10million bond support fund\",\"Gov't secures $20m AfDB cash to construct link road, facilitate 2nd 'Adomi Bridge'\",\"US$100m for Beitbridge border rehabilitation\",\"ADB, ISA sign pact to promote solar energy\",\"IDB Invest, IFC finance Achiras wind farm in Argentina\",\"Energean to get $180 million loan from EBRD\",\"ADB talks importance of Southern Gas Corridor (Exclusive)\",\"Afghanistan awards 50 MW of hybrid solar projects\"],\"x\":{\"__ndarray__\":\"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\",\"dtype\":\"float32\",\"shape\":[436]},\"y\":{\"__ndarray__\":\"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\",\"dtype\":\"float32\",\"shape\":[436]}},\"selected\":{\"id\":\"cdfe6488-c694-44b8-a01d-3f0ff6687837\",\"type\":\"Selection\"},\"selection_policy\":{\"id\":\"37aac029-44ac-4956-92dc-724086be35d2\",\"type\":\"UnionRenderers\"}},\"id\":\"7816dc1e-09fb-4f2d-8890-56a154f770a7\",\"type\":\"ColumnDataSource\"},{\"attributes\":{},\"id\":\"c5bb547e-f344-4e06-83d1-00deb551088c\",\"type\":\"BasicTicker\"},{\"attributes\":{},\"id\":\"f3a51865-386f-4298-8a47-90069601e8c7\",\"type\":\"BasicTickFormatter\"},{\"attributes\":{},\"id\":\"41c5bf97-df20-4679-a458-d77c73837672\",\"type\":\"LinearScale\"},{\"attributes\":{\"active_drag\":\"auto\",\"active_inspect\":\"auto\",\"active_scroll\":\"auto\",\"active_tap\":\"auto\",\"tools\":[{\"id\":\"f4fcd572-2698-4f0b-83e1-96fef1eef134\",\"type\":\"HoverTool\"}]},\"id\":\"ba996c2a-2849-4700-a003-234d510bed13\",\"type\":\"Toolbar\"},{\"attributes\":{\"formatter\":{\"id\":\"6d7fbee7-ac23-4bf1-80c8-fcee13dceec6\",\"type\":\"BasicTickFormatter\"},\"plot\":{\"id\":\"99d6fb05-e8a3-4176-8da4-2e00f7e7c88c\",\"subtype\":\"Figure\",\"type\":\"Plot\"},\"ticker\":{\"id\":\"59d60877-705a-431b-a292-a1997153459b\",\"type\":\"BasicTicker\"}},\"id\":\"4ec6cdbc-2599-4383-a83f-ba6b173bddc2\",\"type\":\"LinearAxis\"},{\"attributes\":{},\"id\":\"618898a9-9ba0-4356-9868-11bcee2d8b89\",\"type\":\"LinearScale\"},{\"attributes\":{\"plot\":null,\"text\":\"TSNE\"},\"id\":\"150a64da-6469-4657-a21e-257474bf3bc2\",\"type\":\"Title\"}],\"root_ids\":[\"99d6fb05-e8a3-4176-8da4-2e00f7e7c88c\"]},\"title\":\"Bokeh Application\",\"version\":\"0.12.16\"}};\n",
       "  var render_items = [{\"docid\":\"3666a1b6-95b2-40fb-ae87-0808994e8578\",\"elementid\":\"d3aaeca5-50ad-4edb-be8b-4c601e129e9a\",\"modelid\":\"99d6fb05-e8a3-4176-8da4-2e00f7e7c88c\"}];\n",
       "  root.Bokeh.embed.embed_items_notebook(docs_json, render_items);\n",
       "\n",
       "  }\n",
       "  if (root.Bokeh !== undefined) {\n",
       "    embed_document(root);\n",
       "  } else {\n",
       "    var attempts = 0;\n",
       "    var timer = setInterval(function(root) {\n",
       "      if (root.Bokeh !== undefined) {\n",
       "        embed_document(root);\n",
       "        clearInterval(timer);\n",
       "      }\n",
       "      attempts++;\n",
       "      if (attempts > 100) {\n",
       "        console.log(\"Bokeh: ERROR: Unable to run BokehJS code because BokehJS library is missing\")\n",
       "        clearInterval(timer);\n",
       "      }\n",
       "    }, 10, root)\n",
       "  }\n",
       "})(window);"
      ],
      "application/vnd.bokehjs_exec.v0+json": ""
     },
     "metadata": {
      "application/vnd.bokehjs_exec.v0+json": {
       "id": "99d6fb05-e8a3-4176-8da4-2e00f7e7c88c"
      }
     },
     "output_type": "display_data"
    }
   ],
   "source": [
    "from math import sin\n",
    "from random import random\n",
    "\n",
    "from bokeh.io import output_file, show\n",
    "from bokeh.models import ColumnDataSource, HoverTool, LinearColorMapper\n",
    "from bokeh.palettes import plasma\n",
    "from bokeh.plotting import figure\n",
    "from bokeh.transform import transform\n",
    "\n",
    "\n",
    "source = ColumnDataSource(dict(\n",
    "    x=X_embedded[:,0],\n",
    "    y=X_embedded[:,1],\n",
    "    title=common_sectors_df['title'],\n",
    "    label=labels\n",
    "))\n",
    "\n",
    "\n",
    "hover = HoverTool(tooltips=[\n",
    "    (\"index\", \"$index\"),\n",
    "    (\"(x,y)\", \"(@x, @y)\"),\n",
    "    ('title', '@title'),\n",
    "    ('label', '@label'),\n",
    "])\n",
    "color_mapper = CategoricalColorMapper(factors=labels.unique(), palette=bokeh.palettes.Accent8)\n",
    "\n",
    "p = figure(plot_width=1200, plot_height=1000, tools=[hover], title=\"TSNE\")\n",
    "p.circle('x', 'y', size=10, source=source,\n",
    "         color={'field': 'label', 'transform': color_mapper},\n",
    "         legend='label')\n",
    "\n",
    "#output_file('test.html')\n",
    "show(p)"
   ]
  },
  {
   "cell_type": "code",
   "execution_count": null,
   "metadata": {},
   "outputs": [],
   "source": []
  },
  {
   "cell_type": "code",
   "execution_count": 133,
   "metadata": {
    "ExecuteTime": {
     "end_time": "2018-06-23T23:18:35.805267Z",
     "start_time": "2018-06-23T23:18:35.802663Z"
    }
   },
   "outputs": [],
   "source": []
  },
  {
   "cell_type": "code",
   "execution_count": 146,
   "metadata": {
    "ExecuteTime": {
     "end_time": "2018-06-23T23:24:41.195357Z",
     "start_time": "2018-06-23T23:24:41.191695Z"
    }
   },
   "outputs": [
    {
     "data": {
      "text/plain": [
       "(404, 2940)"
      ]
     },
     "execution_count": 146,
     "metadata": {},
     "output_type": "execute_result"
    }
   ],
   "source": [
    "X.shape"
   ]
  },
  {
   "cell_type": "code",
   "execution_count": 147,
   "metadata": {
    "ExecuteTime": {
     "end_time": "2018-06-23T23:24:45.204048Z",
     "start_time": "2018-06-23T23:24:45.199884Z"
    }
   },
   "outputs": [
    {
     "data": {
      "text/plain": [
       "404"
      ]
     },
     "execution_count": 147,
     "metadata": {},
     "output_type": "execute_result"
    }
   ],
   "source": [
    "len(labels)"
   ]
  },
  {
   "cell_type": "code",
   "execution_count": 163,
   "metadata": {
    "ExecuteTime": {
     "end_time": "2018-06-23T23:29:18.906315Z",
     "start_time": "2018-06-23T23:29:18.900807Z"
    }
   },
   "outputs": [
    {
     "data": {
      "text/plain": [
       "energy                      129\n",
       "finance                      71\n",
       "transport                    58\n",
       "infrastructure               53\n",
       "agriculture and forestry     49\n",
       "education and health         44\n",
       "Name: sector, dtype: int64"
      ]
     },
     "execution_count": 163,
     "metadata": {},
     "output_type": "execute_result"
    }
   ],
   "source": [
    "labels.value_counts()"
   ]
  },
  {
   "cell_type": "code",
   "execution_count": 158,
   "metadata": {
    "ExecuteTime": {
     "end_time": "2018-06-23T23:28:26.196046Z",
     "start_time": "2018-06-23T23:28:26.192348Z"
    }
   },
   "outputs": [],
   "source": [
    "neigh = KNeighborsClassifier(n_neighbors=6).fit(X,labels)"
   ]
  },
  {
   "cell_type": "code",
   "execution_count": 159,
   "metadata": {
    "ExecuteTime": {
     "end_time": "2018-06-23T23:28:26.804578Z",
     "start_time": "2018-06-23T23:28:26.799819Z"
    }
   },
   "outputs": [
    {
     "data": {
      "text/plain": [
       "101    agriculture and forestry\n",
       "235                      energy\n",
       "399                      energy\n",
       "403                      energy\n",
       "406                      energy\n",
       "Name: sector, dtype: object"
      ]
     },
     "execution_count": 159,
     "metadata": {},
     "output_type": "execute_result"
    }
   ],
   "source": [
    "labels[0:5]"
   ]
  },
  {
   "cell_type": "code",
   "execution_count": 160,
   "metadata": {
    "ExecuteTime": {
     "end_time": "2018-06-23T23:28:27.978842Z",
     "start_time": "2018-06-23T23:28:27.959839Z"
    }
   },
   "outputs": [
    {
     "data": {
      "text/plain": [
       "array(['infrastructure', 'energy', 'energy', 'energy', 'energy'],\n",
       "      dtype=object)"
      ]
     },
     "execution_count": 160,
     "metadata": {},
     "output_type": "execute_result"
    }
   ],
   "source": [
    "neigh.predict(X)[0:5]"
   ]
  },
  {
   "cell_type": "code",
   "execution_count": 161,
   "metadata": {
    "ExecuteTime": {
     "end_time": "2018-06-23T23:28:28.562318Z",
     "start_time": "2018-06-23T23:28:28.559445Z"
    }
   },
   "outputs": [],
   "source": [
    "from sklearn.metrics import accuracy_score"
   ]
  },
  {
   "cell_type": "code",
   "execution_count": 162,
   "metadata": {
    "ExecuteTime": {
     "end_time": "2018-06-23T23:28:29.579214Z",
     "start_time": "2018-06-23T23:28:29.559863Z"
    }
   },
   "outputs": [
    {
     "data": {
      "text/plain": [
       "0.7846534653465347"
      ]
     },
     "execution_count": 162,
     "metadata": {},
     "output_type": "execute_result"
    }
   ],
   "source": [
    "accuracy_score(y_true= labels, y_pred=neigh.predict(X))"
   ]
  },
  {
   "cell_type": "code",
   "execution_count": 167,
   "metadata": {
    "ExecuteTime": {
     "end_time": "2018-06-23T23:56:06.658500Z",
     "start_time": "2018-06-23T23:56:06.653756Z"
    }
   },
   "outputs": [
    {
     "data": {
      "text/plain": [
       "235    Senegal Banda Gas to Power Guarantee\\nAccordin...\n",
       "484    Adjaristsqali Hydro Project\\nThe investment pr...\n",
       "Name: content, dtype: object"
      ]
     },
     "execution_count": 167,
     "metadata": {},
     "output_type": "execute_result"
    }
   ],
   "source": [
    "data.iloc[[1,5]]"
   ]
  },
  {
   "cell_type": "code",
   "execution_count": 164,
   "metadata": {
    "ExecuteTime": {
     "end_time": "2018-06-23T23:53:44.962490Z",
     "start_time": "2018-06-23T23:53:44.959163Z"
    }
   },
   "outputs": [
    {
     "data": {
      "text/plain": [
       "<404x2940 sparse matrix of type '<class 'numpy.float64'>'\n",
       "\twith 59594 stored elements in Compressed Sparse Row format>"
      ]
     },
     "execution_count": 164,
     "metadata": {},
     "output_type": "execute_result"
    }
   ],
   "source": [
    "X"
   ]
  },
  {
   "cell_type": "code",
   "execution_count": 149,
   "metadata": {
    "ExecuteTime": {
     "end_time": "2018-06-23T23:25:13.446843Z",
     "start_time": "2018-06-23T23:25:13.429891Z"
    }
   },
   "outputs": [],
   "source": [
    "A = neigh.kneighbors_graph(X)"
   ]
  },
  {
   "cell_type": "code",
   "execution_count": 150,
   "metadata": {
    "ExecuteTime": {
     "end_time": "2018-06-23T23:25:16.001486Z",
     "start_time": "2018-06-23T23:25:15.997560Z"
    }
   },
   "outputs": [
    {
     "data": {
      "text/plain": [
       "<404x404 sparse matrix of type '<class 'numpy.float64'>'\n",
       "\twith 1616 stored elements in Compressed Sparse Row format>"
      ]
     },
     "execution_count": 150,
     "metadata": {},
     "output_type": "execute_result"
    }
   ],
   "source": []
  },
  {
   "cell_type": "code",
   "execution_count": null,
   "metadata": {},
   "outputs": [],
   "source": []
  },
  {
   "cell_type": "code",
   "execution_count": 131,
   "metadata": {
    "ExecuteTime": {
     "end_time": "2018-06-23T23:06:05.772754Z",
     "start_time": "2018-06-23T23:06:05.747109Z"
    }
   },
   "outputs": [
    {
     "name": "stderr",
     "output_type": "stream",
     "text": [
      "/usr/local/anaconda3/envs/datakind/lib/python3.6/site-packages/sklearn/neighbors/base.py:212: UserWarning: cannot use tree with sparse input: using brute force\n",
      "  warnings.warn(\"cannot use tree with sparse input: \"\n"
     ]
    }
   ],
   "source": [
    "nbrs = NearestNeighbors(n_neighbors=4, algorithm='ball_tree').fit(X)\n",
    "distances, indices = nbrs.kneighbors(X)"
   ]
  },
  {
   "cell_type": "code",
   "execution_count": null,
   "metadata": {},
   "outputs": [],
   "source": [
    "nbrs.q"
   ]
  },
  {
   "cell_type": "code",
   "execution_count": null,
   "metadata": {},
   "outputs": [],
   "source": []
  },
  {
   "cell_type": "code",
   "execution_count": null,
   "metadata": {},
   "outputs": [],
   "source": [
    ">>> X = np.array([[-1, -1], [-2, -1], [-3, -2], [1, 1], [2, 1], [3, 2]])\n",
    ">>> nbrs = NearestNeighbors(n_neighbors=2, algorithm='ball_tree').fit(X)\n",
    ">>> distances, indices = nbrs.kneighbors(X)"
   ]
  }
 ],
 "metadata": {
  "kernelspec": {
   "display_name": "Python 3",
   "language": "python",
   "name": "python3"
  },
  "language_info": {
   "codemirror_mode": {
    "name": "ipython",
    "version": 3
   },
   "file_extension": ".py",
   "mimetype": "text/x-python",
   "name": "python",
   "nbconvert_exporter": "python",
   "pygments_lexer": "ipython3",
   "version": "3.6.5"
  },
  "toc": {
   "base_numbering": 1,
   "nav_menu": {},
   "number_sections": false,
   "sideBar": false,
   "skip_h1_title": false,
   "title_cell": "Table of Contents",
   "title_sidebar": "Contents",
   "toc_cell": false,
   "toc_position": {},
   "toc_section_display": false,
   "toc_window_display": false
  }
 },
 "nbformat": 4,
 "nbformat_minor": 2
}
