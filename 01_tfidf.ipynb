{
 "cells": [
  {
   "cell_type": "code",
   "execution_count": null,
   "metadata": {
    "ExecuteTime": {
     "end_time": "2018-08-17T05:20:59.418483Z",
     "start_time": "2018-08-17T05:20:59.254099Z"
    }
   },
   "outputs": [],
   "source": [
    "!ls"
   ]
  },
  {
   "cell_type": "markdown",
   "metadata": {},
   "source": [
    "Install additional libraries"
   ]
  },
  {
   "cell_type": "code",
   "execution_count": null,
   "metadata": {
    "ExecuteTime": {
     "end_time": "2018-08-17T05:21:03.963121Z",
     "start_time": "2018-08-17T05:21:02.726581Z"
    }
   },
   "outputs": [],
   "source": [
    "!pip install -q tqdm gensim swifter "
   ]
  },
  {
   "cell_type": "markdown",
   "metadata": {
    "ExecuteTime": {
     "end_time": "2018-08-17T12:43:26.498099Z",
     "start_time": "2018-08-17T12:43:26.495185Z"
    }
   },
   "source": [
    "# Imports"
   ]
  },
  {
   "cell_type": "code",
   "execution_count": 1,
   "metadata": {
    "ExecuteTime": {
     "end_time": "2018-08-17T13:06:29.809561Z",
     "start_time": "2018-08-17T13:06:28.947547Z"
    },
    "slideshow": {
     "slide_type": "slide"
    }
   },
   "outputs": [],
   "source": [
    "import pandas as pd\n",
    "import swifter\n",
    "import pprint\n",
    "import glob\n",
    "import json\n",
    "from tqdm import tqdm\n",
    "import re\n",
    "from datetime import datetime\n",
    "import gensim\n",
    "import logging\n",
    "import os\n",
    "import shutil\n",
    "import pprint\n",
    "import numpy as np\n",
    "import scipy\n",
    "from ipywidgets import interact\n",
    "from swifter import swiftapply\n"
   ]
  },
  {
   "cell_type": "code",
   "execution_count": 2,
   "metadata": {
    "ExecuteTime": {
     "end_time": "2018-08-17T13:06:29.814138Z",
     "start_time": "2018-08-17T13:06:29.811441Z"
    },
    "slideshow": {
     "slide_type": "slide"
    }
   },
   "outputs": [],
   "source": [
    "logging.basicConfig(format='%(levelname)s : %(message)s', level=logging.INFO)\n",
    "logging.root.level = logging.INFO  # ipython sometimes messes up the logging setup; restore"
   ]
  },
  {
   "cell_type": "markdown",
   "metadata": {},
   "source": [
    "# Load Data"
   ]
  },
  {
   "cell_type": "code",
   "execution_count": 3,
   "metadata": {
    "ExecuteTime": {
     "end_time": "2018-08-17T13:06:30.680687Z",
     "start_time": "2018-08-17T13:06:30.205557Z"
    }
   },
   "outputs": [
    {
     "data": {
      "application/vnd.jupyter.widget-view+json": {
       "model_id": "3312f748f38b4d4f817d4182445f2aad",
       "version_major": 2,
       "version_minor": 0
      }
     },
     "metadata": {},
     "output_type": "display_data"
    }
   ],
   "source": [
    "df = pd.read_csv(\"talks.csv.gzip\", compression=\"gzip\")\n",
    "df.head(10)"
   ]
  },
  {
   "cell_type": "markdown",
   "metadata": {
    "ExecuteTime": {
     "end_time": "2018-08-17T10:41:57.756561Z",
     "start_time": "2018-08-17T10:41:57.740188Z"
    }
   },
   "source": [
    "Look at one record in our data frame"
   ]
  },
  {
   "cell_type": "code",
   "execution_count": 4,
   "metadata": {
    "ExecuteTime": {
     "end_time": "2018-08-17T13:06:30.884109Z",
     "start_time": "2018-08-17T13:06:30.870995Z"
    }
   },
   "outputs": [
    {
     "name": "stdout",
     "output_type": "stream",
     "text": [
      "{'average_rating': 4.72946882248,\n",
      " 'categories': \"['Nonprofits & Activism']\",\n",
      " 'description': 'http://www.ted.com When German psychologist Inge Missmahl '\n",
      "                'went to Afghanistan, she saw universal wounds of the human '\n",
      "                'heart -- despair and trauma. She tackled this widespread '\n",
      "                'depression with psychosocial counseling, and in return '\n",
      "                'witnessed remarkable individual and social healing and new '\n",
      "                'hope for families and communities.\\n'\n",
      "                '\\n'\n",
      "                'TEDTalks is a daily video podcast of the best talks and '\n",
      "                \"performances from the TED Conference, where the world's \"\n",
      "                'leading thinkers and doers give the talk of their lives in 18 '\n",
      "                'minutes. Featured speakers have included Al Gore on climate '\n",
      "                'change, Philippe Starck on design, Jill Bolte Taylor on '\n",
      "                'observing her own stroke, Nicholas Negroponte on One Laptop '\n",
      "                'per Child, Jane Goodall on chimpanzees, Bill Gates on malaria '\n",
      "                'and mosquitoes, Pattie Maes on the \"Sixth Sense\" wearable '\n",
      "                'tech, and \"Lost\" producer JJ Abrams on the allure of mystery. '\n",
      "                'TED stands for Technology, Entertainment, Design, and '\n",
      "                'TEDTalks cover these topics as well as science, business, '\n",
      "                'development and the arts. Closed captions and translated '\n",
      "                'subtitles in a variety of languages are now available on '\n",
      "                'TED.com, at http://www.ted.com/translate. Watch a highlight '\n",
      "                'reel of the Top 10 TEDTalks at '\n",
      "                'http://www.ted.com/index.php/talks/top10',\n",
      " 'dislike_count': 14.0,\n",
      " 'duration': 830,\n",
      " 'id': 'Jc2F3-nawnI',\n",
      " 'like_count': 193.0,\n",
      " 'thumbnail': 'https://i.ytimg.com/vi/Jc2F3-nawnI/hqdefault.jpg',\n",
      " 'title': 'Inge Missmahl brings peace to the minds of Afghanistan',\n",
      " 'transcript': 'So I want to tell you a story -- an encouraging story --\\n'\n",
      "               'about addressing\\n'\n",
      "               'desperation, depression and despair in Afghanistan,\\n'\n",
      "               'and what we have learned from it,\\n'\n",
      "               'and how to help people\\n'\n",
      "               'to overcome traumatic experiences\\n'\n",
      "               'and how to help them to regain some confidence\\n'\n",
      "               'in the time ahead -- in the future --\\n'\n",
      "               'and how to participate again in everyday life.\\n'\n",
      "               'So, I am a Jungian psychoanalyst,\\n'\n",
      "               'and I went to Afghanistan in January 2004, by chance,\\n'\n",
      "               'on an assignment for Medica Mondiale.\\n'\n",
      "               'Jung in Afghanistan --\\n'\n",
      "               'you get the picture.\\n'\n",
      "               'Afghanistan is one of the poorest countries in the world,\\n'\n",
      "               'and 70 percent of the people are illiterate.\\n'\n",
      "               'War and malnutrition kills people\\n'\n",
      "               'together with hope.\\n'\n",
      "               'You may know this from the media,\\n'\n",
      "               'but what you may not know\\n'\n",
      "               'is that the average age of the Afghan people is 17 years old,\\n'\n",
      "               'which means they grow up in such an environment\\n'\n",
      "               'and -- I repeat myself --\\n'\n",
      "               'in 30 years of war.\\n'\n",
      "               'So this translates\\n'\n",
      "               'into ongoing violence,\\n'\n",
      "               'foreign interests, bribery,\\n'\n",
      "               'drugs, ethnic conflicts,\\n'\n",
      "               'bad health, shame, fear\\n'\n",
      "               'and cumulative traumatic experiences.\\n'\n",
      "               'Local and foreign military\\n'\n",
      "               'are supposed to build peace together with the donors\\n'\n",
      "               'and the governmental and non-governmental organizations.\\n'\n",
      "               'And people had hope, yes,\\n'\n",
      "               'but until they realized\\n'\n",
      "               'their situation worsens every day --\\n'\n",
      "               'either because they are being killed\\n'\n",
      "               'or because, somehow,\\n'\n",
      "               'they are poorer than eight years ago.\\n'\n",
      "               'One figure for that:\\n'\n",
      "               '54 percent of the children under the age of five years\\n'\n",
      "               'suffer from malnutrition.\\n'\n",
      "               'Yet, there is hope.\\n'\n",
      "               'One day a man told me,\\n'\n",
      "               '\"My future does not look brilliant,\\n'\n",
      "               'but I want to have a brilliant future for my son.\"\\n'\n",
      "               'This is a picture I took in 2005,\\n'\n",
      "               'walking on Fridays over the hills in Kabul,\\n'\n",
      "               \"and for me it's a symbolic picture\\n\"\n",
      "               'of an open future for a young generation.\\n'\n",
      "               'So, doctors prescribe medication.\\n'\n",
      "               'And donors\\n'\n",
      "               'are supposed to bring peace\\n'\n",
      "               'by building schools and roads.\\n'\n",
      "               'Military collect weapons,\\n'\n",
      "               'and depression stays intact.\\n'\n",
      "               'Why?\\n'\n",
      "               \"Because people don't have tools\\n\"\n",
      "               'to cope with it, to get over it.\\n'\n",
      "               'So, soon after my arrival,\\n'\n",
      "               'I had confirmed something which I had already known;\\n'\n",
      "               'that my instruments come from the heart of modern Europe, '\n",
      "               'yes.\\n'\n",
      "               'However, what can wound us\\n'\n",
      "               'and our reaction to those wounds --\\n'\n",
      "               'they are universal.\\n'\n",
      "               'And the big challenge\\n'\n",
      "               'was how to understand the meaning of the symptom\\n'\n",
      "               'in this specific cultural context.\\n'\n",
      "               'After a counseling session, a woman said to me,\\n'\n",
      "               '\"Because you have felt me, I can feel myself again,\\n'\n",
      "               'and I want to participate again\\n'\n",
      "               'in my family life.\"\\n'\n",
      "               'This was very important,\\n'\n",
      "               'because the family is central\\n'\n",
      "               \"in Afghans' social system.\\n\"\n",
      "               'No one can survive alone.\\n'\n",
      "               'And if people feel used, worthless and ashamed,\\n'\n",
      "               'because something horrible has happened to them,\\n'\n",
      "               'then they retreat, and they fall into social isolation,\\n'\n",
      "               'and they do not dare to tell this evil\\n'\n",
      "               'to other people or to their loved ones,\\n'\n",
      "               'because they do not want to burden them.\\n'\n",
      "               'And very often violence is a way to cope with it.\\n'\n",
      "               'Traumatized people also easily lose control --\\n'\n",
      "               'symptoms are hyper-arousal and memory flashbacks --\\n'\n",
      "               'so people are in a constant fear\\n'\n",
      "               'that those horrible feelings of that traumatic event\\n'\n",
      "               'might come back unexpectedly,\\n'\n",
      "               'suddenly,\\n'\n",
      "               'and they cannot control it.\\n'\n",
      "               'To compensate this loss of inner control,\\n'\n",
      "               'they try to control the outside,\\n'\n",
      "               'very understandably -- mostly the family --\\n'\n",
      "               'and unfortunately,\\n'\n",
      "               'this fits very well\\n'\n",
      "               'into the traditional side,\\n'\n",
      "               'regressive side, repressive side,\\n'\n",
      "               'restrictive side of the cultural context.\\n'\n",
      "               'So, husbands start beating wives,\\n'\n",
      "               'mothers and fathers beat their children,\\n'\n",
      "               'and afterward, they feel awful.\\n'\n",
      "               'They did not want to do this, it just happened --\\n'\n",
      "               'they lost control.\\n'\n",
      "               'The desperate try\\n'\n",
      "               'to restore order and normality,\\n'\n",
      "               'and if we are not able to cut this circle of violence,\\n'\n",
      "               'it will be transferred to the next generation without a '\n",
      "               'doubt.\\n'\n",
      "               'And partly this is already happening.\\n'\n",
      "               'So everybody needs a sense for the future,\\n'\n",
      "               'and the Afghan sense of the future\\n'\n",
      "               'is shattered.\\n'\n",
      "               'But let me repeat the words of the woman.\\n'\n",
      "               '\"Because you have felt me,\\n'\n",
      "               'I can feel myself again.\"\\n'\n",
      "               'So the key here is empathy.\\n'\n",
      "               'Somebody has to be a witness\\n'\n",
      "               'to what has happened to you.\\n'\n",
      "               'Somebody has to feel how you felt.\\n'\n",
      "               'And somebody has to see you and listen to you.\\n'\n",
      "               'Everybody must be able\\n'\n",
      "               'to know what he or she has experienced is true,\\n'\n",
      "               'and this only goes with another person.\\n'\n",
      "               'So everybody must be able to say,\\n'\n",
      "               '\"This happened to me, and it did this with me,\\n'\n",
      "               \"but I'm able to live with it, to cope with it,\\n\"\n",
      "               'and to learn from it.\\n'\n",
      "               'And I want to engage myself\\n'\n",
      "               'in the bright future for my children\\n'\n",
      "               'and the children of my children,\\n'\n",
      "               'and I will not marry-off my 13 year-old daughter,\" --\\n'\n",
      "               'what happens too often in Afghanistan.\\n'\n",
      "               'So something can be done,\\n'\n",
      "               'even in such extreme environments as Afghanistan.\\n'\n",
      "               'And I started thinking about a counseling program.\\n'\n",
      "               'But, of course, I needed help and funds.\\n'\n",
      "               'And one evening,\\n'\n",
      "               'I was sitting next to a very nice gentleman in Kabul,\\n'\n",
      "               'and he asked what I thought would be good in Afghanistan.\\n'\n",
      "               'And I explained to him quickly,\\n'\n",
      "               'I would train psycho-social counselors,\\n'\n",
      "               'I would open centers, and I explained to him why.\\n'\n",
      "               'This man gave me his contact details at the end of the '\n",
      "               'evening\\n'\n",
      "               'and said, \"If you want to do this, call me.\"\\n'\n",
      "               'At that time, it was the head of Caritas Germany.\\n'\n",
      "               'So, I was able to launch a three-year project with Caritas '\n",
      "               'Germany,\\n'\n",
      "               'and we trained 30 Afghan women and men,\\n'\n",
      "               'and we opened 15 counseling centers in Kabul.\\n'\n",
      "               \"This was our sign -- it's hand-painted,\\n\"\n",
      "               'and we had 45 all over Kabul.\\n'\n",
      "               'Eleven thousand people came -- more than that.\\n'\n",
      "               'And 70 percent regained their lives.\\n'\n",
      "               'This was a very exciting time,\\n'\n",
      "               'developing this with my wonderful Afghan team.\\n'\n",
      "               'And they are working with me up to today.\\n'\n",
      "               'We developed a culturally-sensitive\\n'\n",
      "               'psycho-social counseling approach.\\n'\n",
      "               'So, from 2008 up until today,\\n'\n",
      "               'a substantial change and step forward\\n'\n",
      "               'has been taking place.\\n'\n",
      "               'The European Union delegation in Kabul\\n'\n",
      "               'came into this and hired me to work\\n'\n",
      "               'inside the Ministry of Public Health,\\n'\n",
      "               'to lobby this approach --\\n'\n",
      "               'we succeeded.\\n'\n",
      "               'We revised the mental health component\\n'\n",
      "               'of the primary health care services\\n'\n",
      "               'by adding psycho-social care\\n'\n",
      "               'and psycho-social counselors to the system.\\n'\n",
      "               'This means, certainly, to retrain all health staff.\\n'\n",
      "               'But for that, we already have the training manuals,\\n'\n",
      "               'which are approved by the Ministry\\n'\n",
      "               'and moreover, this approach is now part\\n'\n",
      "               'of the mental health strategy in Afghanistan.\\n'\n",
      "               'So we also have implemented it already\\n'\n",
      "               'in some selected clinics in three provinces,\\n'\n",
      "               'and you are the first to see the results.\\n'\n",
      "               'We wanted to know if what is being done is effective.\\n'\n",
      "               'And here you can see\\n'\n",
      "               'the patients all had symptoms of depression,\\n'\n",
      "               'moderate and severe.\\n'\n",
      "               'And the red line is the treatment as usual --\\n'\n",
      "               'medication with a medical doctor.\\n'\n",
      "               'And all the symptoms\\n'\n",
      "               'stayed the same or even got worse.\\n'\n",
      "               'And the green line is treatment with psycho-social counseling '\n",
      "               'only,\\n'\n",
      "               'without medication.\\n'\n",
      "               'And you can see the symptoms almost completely go away,\\n'\n",
      "               'and the psycho-social stress has dropped significantly,\\n'\n",
      "               'which is explicable,\\n'\n",
      "               'because you cannot take away the psycho-social stresses,\\n'\n",
      "               'but you can learn how to cope with them.\\n'\n",
      "               'So this makes us very happy,\\n'\n",
      "               'because now we also have some evidence\\n'\n",
      "               'that this is working.\\n'\n",
      "               'So here you see,\\n'\n",
      "               'this is a health facility in Northern Afghanistan,\\n'\n",
      "               'and every morning it looks like this all over.\\n'\n",
      "               'And doctors usually have three to six minutes for the '\n",
      "               'patients,\\n'\n",
      "               'but now this will change.\\n'\n",
      "               'They go to the clinics,\\n'\n",
      "               'because they want to cure their immediate symptoms,\\n'\n",
      "               'and they will find somebody to talk to\\n'\n",
      "               'and discuss these issues\\n'\n",
      "               'and talk about what is burdening them\\n'\n",
      "               'and find solutions, develop their resources,\\n'\n",
      "               'learn tools to solve their family conflicts\\n'\n",
      "               'and gain some confidence in the future.\\n'\n",
      "               'And I would like to share one short vignette.\\n'\n",
      "               'One Hazara said to his Pashtun counselor,\\n'\n",
      "               '\"If we were to have met some years ago,\\n'\n",
      "               'then we would have killed each other.\\n'\n",
      "               'And now you are helping me\\n'\n",
      "               'to regain some confidence in the future.\"\\n'\n",
      "               'And another counselor said to me after the training,\\n'\n",
      "               '\"You know, I never knew why I survived the killings in my '\n",
      "               'village,\\n'\n",
      "               'but now I know,\\n'\n",
      "               'because I am part of a nucleus\\n'\n",
      "               'of a new peaceful society in Afghanistan.\"\\n'\n",
      "               'So I believe this kept me running.\\n'\n",
      "               'And this is a really emancipatory and political contribution\\n'\n",
      "               'to peace and reconciliation.\\n'\n",
      "               'And also -- I think --\\n'\n",
      "               'without psycho-social therapy,\\n'\n",
      "               'and without considering this\\n'\n",
      "               'in all humanitarian projects,\\n'\n",
      "               'we cannot build-up civil societies.\\n'\n",
      "               'I thought it was an idea worth spreading,\\n'\n",
      "               'and I think it must be,\\n'\n",
      "               'can be, could be replicated elsewhere.\\n'\n",
      "               'I thank you for your attention.\\n'\n",
      "               '(Applause)\\n',\n",
      " 'upload_date': '2010-09-29',\n",
      " 'view_count': 20695,\n",
      " 'webpage_url': 'https://www.youtube.com/watch?v=Jc2F3-nawnI'}\n"
     ]
    }
   ],
   "source": [
    "pprint.pprint(df.iloc[0].to_dict())"
   ]
  },
  {
   "cell_type": "markdown",
   "metadata": {},
   "source": [
    "Look at just the description"
   ]
  },
  {
   "cell_type": "code",
   "execution_count": 5,
   "metadata": {
    "ExecuteTime": {
     "end_time": "2018-08-17T13:06:31.403807Z",
     "start_time": "2018-08-17T13:06:31.398453Z"
    }
   },
   "outputs": [
    {
     "name": "stdout",
     "output_type": "stream",
     "text": [
      "http://www.ted.com When German psychologist Inge Missmahl went to Afghanistan, she saw universal wounds of the human heart -- despair and trauma. She tackled this widespread depression with psychosocial counseling, and in return witnessed remarkable individual and social healing and new hope for families and communities.\n",
      "\n",
      "TEDTalks is a daily video podcast of the best talks and performances from the TED Conference, where the world's leading thinkers and doers give the talk of their lives in 18 minutes. Featured speakers have included Al Gore on climate change, Philippe Starck on design, Jill Bolte Taylor on observing her own stroke, Nicholas Negroponte on One Laptop per Child, Jane Goodall on chimpanzees, Bill Gates on malaria and mosquitoes, Pattie Maes on the \"Sixth Sense\" wearable tech, and \"Lost\" producer JJ Abrams on the allure of mystery. TED stands for Technology, Entertainment, Design, and TEDTalks cover these topics as well as science, business, development and the arts. Closed captions and translated subtitles in a variety of languages are now available on TED.com, at http://www.ted.com/translate. Watch a highlight reel of the Top 10 TEDTalks at http://www.ted.com/index.php/talks/top10\n"
     ]
    }
   ],
   "source": [
    "print(df.iloc[0].to_dict()['description'])"
   ]
  },
  {
   "cell_type": "markdown",
   "metadata": {},
   "source": [
    "Look at the transcript"
   ]
  },
  {
   "cell_type": "code",
   "execution_count": 6,
   "metadata": {
    "ExecuteTime": {
     "end_time": "2018-08-17T13:06:31.897725Z",
     "start_time": "2018-08-17T13:06:31.894115Z"
    }
   },
   "outputs": [
    {
     "name": "stdout",
     "output_type": "stream",
     "text": [
      "So I want to tell you a story -- an encouraging story --\n",
      "about addressing\n",
      "desperation, depression and despair in Afghanistan,\n",
      "and what we have learned from it,\n",
      "and how to help people\n",
      "to overcome traumatic experiences\n",
      "and how to help them to regain some confidence\n",
      "in the time ahead -- in the future --\n",
      "and how to participate again in everyday life.\n",
      "So, I am a Jungian psychoanalyst,\n",
      "and I went to Afghanistan in January 2004, by chance,\n",
      "on an assignment for Medica Mondiale.\n",
      "Jung in Afghanistan --\n",
      "you get the picture.\n",
      "Afghanistan is one of the poorest countries in the world,\n",
      "and 70 percent of the people are illiterate.\n",
      "War and malnutrition kills people\n",
      "together with hope.\n",
      "You may know this from the media,\n",
      "but what you may not know\n",
      "is that the average age of the Afghan people is 17 years old,\n",
      "which means they grow up in such an environment\n",
      "and -- I repeat myself --\n",
      "in 30 years of war.\n",
      "So this translates\n",
      "into ongoing violence,\n",
      "foreign interests, bribery,\n",
      "drugs, ethnic conflicts,\n",
      "bad health, shame, fear\n",
      "and cumulative traumatic experiences.\n",
      "Local and foreign military\n",
      "are supposed to build peace together with the donors\n",
      "and the governmental and non-governmental organizations.\n",
      "And people had hope, yes,\n",
      "but until they realized\n",
      "their situation worsens every day --\n",
      "either because they are being killed\n",
      "or because, somehow,\n",
      "they are poorer than eight years ago.\n",
      "One figure for that:\n",
      "54 percent of the children under the age of five years\n",
      "suffer from malnutrition.\n",
      "Yet, there is hope.\n",
      "One day a man told me,\n",
      "\"My future does not look brilliant,\n",
      "but I want to have a brilliant future for my son.\"\n",
      "This is a picture I took in 2005,\n",
      "walking on Fridays over the hills in Kabul,\n",
      "and for me it's a symbolic picture\n",
      "of an open future for a young generation.\n",
      "So, doctors prescribe medication.\n",
      "And donors\n",
      "are supposed to bring peace\n",
      "by building schools and roads.\n",
      "Military collect weapons,\n",
      "and depression stays intact.\n",
      "Why?\n",
      "Because people don't have tools\n",
      "to cope with it, to get over it.\n",
      "So, soon after my arrival,\n",
      "I had confirmed something which I had already known;\n",
      "that my instruments come from the heart of modern Europe, yes.\n",
      "However, what can wound us\n",
      "and our reaction to those wounds --\n",
      "they are universal.\n",
      "And the big challenge\n",
      "was how to understand the meaning of the symptom\n",
      "in this specific cultural context.\n",
      "After a counseling session, a woman said to me,\n",
      "\"Because you have felt me, I can feel myself again,\n",
      "and I want to participate again\n",
      "in my family life.\"\n",
      "This was very important,\n",
      "because the family is central\n",
      "in Afghans' social system.\n",
      "No one can survive alone.\n",
      "And if people feel used, worthless and ashamed,\n",
      "because something horrible has happened to them,\n",
      "then they retreat, and they fall into social isolation,\n",
      "and they do not dare to tell this evil\n",
      "to other people or to their loved ones,\n",
      "because they do not want to burden them.\n",
      "And very often violence is a way to cope with it.\n",
      "Traumatized people also easily lose control --\n",
      "symptoms are hyper-arousal and memory flashbacks --\n",
      "so people are in a constant fear\n",
      "that those horrible feelings of that traumatic event\n",
      "might come back unexpectedly,\n",
      "suddenly,\n",
      "and they cannot control it.\n",
      "To compensate this loss of inner control,\n",
      "they try to control the outside,\n",
      "very understandably -- mostly the family --\n",
      "and unfortunately,\n",
      "this fits very well\n",
      "into the traditional side,\n",
      "regressive side, repressive side,\n",
      "restrictive side of the cultural context.\n",
      "So, husbands start beating wives,\n",
      "mothers and fathers beat their children,\n",
      "and afterward, they feel awful.\n",
      "They did not want to do this, it just happened --\n",
      "they lost control.\n",
      "The desperate try\n",
      "to restore order and normality,\n",
      "and if we are not able to cut this circle of violence,\n",
      "it will be transferred to the next generation without a doubt.\n",
      "And partly this is already happening.\n",
      "So everybody needs a sense for the future,\n",
      "and the Afghan sense of the future\n",
      "is shattered.\n",
      "But let me repeat the words of the woman.\n",
      "\"Because you have felt me,\n",
      "I can feel myself again.\"\n",
      "So the key here is empathy.\n",
      "Somebody has to be a witness\n",
      "to what has happened to you.\n",
      "Somebody has to feel how you felt.\n",
      "And somebody has to see you and listen to you.\n",
      "Everybody must be able\n",
      "to know what he or she has experienced is true,\n",
      "and this only goes with another person.\n",
      "So everybody must be able to say,\n",
      "\"This happened to me, and it did this with me,\n",
      "but I'm able to live with it, to cope with it,\n",
      "and to learn from it.\n",
      "And I want to engage myself\n",
      "in the bright future for my children\n",
      "and the children of my children,\n",
      "and I will not marry-off my 13 year-old daughter,\" --\n",
      "what happens too often in Afghanistan.\n",
      "So something can be done,\n",
      "even in such extreme environments as Afghanistan.\n",
      "And I started thinking about a counseling program.\n",
      "But, of course, I needed help and funds.\n",
      "And one evening,\n",
      "I was sitting next to a very nice gentleman in Kabul,\n",
      "and he asked what I thought would be good in Afghanistan.\n",
      "And I explained to him quickly,\n",
      "I would train psycho-social counselors,\n",
      "I would open centers, and I explained to him why.\n",
      "This man gave me his contact details at the end of the evening\n",
      "and said, \"If you want to do this, call me.\"\n",
      "At that time, it was the head of Caritas Germany.\n",
      "So, I was able to launch a three-year project with Caritas Germany,\n",
      "and we trained 30 Afghan women and men,\n",
      "and we opened 15 counseling centers in Kabul.\n",
      "This was our sign -- it's hand-painted,\n",
      "and we had 45 all over Kabul.\n",
      "Eleven thousand people came -- more than that.\n",
      "And 70 percent regained their lives.\n",
      "This was a very exciting time,\n",
      "developing this with my wonderful Afghan team.\n",
      "And they are working with me up to today.\n",
      "We developed a culturally-sensitive\n",
      "psycho-social counseling approach.\n",
      "So, from 2008 up until today,\n",
      "a substantial change and step forward\n",
      "has been taking place.\n",
      "The European Union delegation in Kabul\n",
      "came into this and hired me to work\n",
      "inside the Ministry of Public Health,\n",
      "to lobby this approach --\n",
      "we succeeded.\n",
      "We revised the mental health component\n",
      "of the primary health care services\n",
      "by adding psycho-social care\n",
      "and psycho-social counselors to the system.\n",
      "This means, certainly, to retrain all health staff.\n",
      "But for that, we already have the training manuals,\n",
      "which are approved by the Ministry\n",
      "and moreover, this approach is now part\n",
      "of the mental health strategy in Afghanistan.\n",
      "So we also have implemented it already\n",
      "in some selected clinics in three provinces,\n",
      "and you are the first to see the results.\n",
      "We wanted to know if what is being done is effective.\n",
      "And here you can see\n",
      "the patients all had symptoms of depression,\n",
      "moderate and severe.\n",
      "And the red line is the treatment as usual --\n",
      "medication with a medical doctor.\n",
      "And all the symptoms\n",
      "stayed the same or even got worse.\n",
      "And the green line is treatment with psycho-social counseling only,\n",
      "without medication.\n",
      "And you can see the symptoms almost completely go away,\n",
      "and the psycho-social stress has dropped significantly,\n",
      "which is explicable,\n",
      "because you cannot take away the psycho-social stresses,\n",
      "but you can learn how to cope with them.\n",
      "So this makes us very happy,\n",
      "because now we also have some evidence\n",
      "that this is working.\n",
      "So here you see,\n",
      "this is a health facility in Northern Afghanistan,\n",
      "and every morning it looks like this all over.\n",
      "And doctors usually have three to six minutes for the patients,\n",
      "but now this will change.\n",
      "They go to the clinics,\n",
      "because they want to cure their immediate symptoms,\n",
      "and they will find somebody to talk to\n",
      "and discuss these issues\n",
      "and talk about what is burdening them\n",
      "and find solutions, develop their resources,\n",
      "learn tools to solve their family conflicts\n",
      "and gain some confidence in the future.\n",
      "And I would like to share one short vignette.\n",
      "One Hazara said to his Pashtun counselor,\n",
      "\"If we were to have met some years ago,\n",
      "then we would have killed each other.\n",
      "And now you are helping me\n",
      "to regain some confidence in the future.\"\n",
      "And another counselor said to me after the training,\n",
      "\"You know, I never knew why I survived the killings in my village,\n",
      "but now I know,\n",
      "because I am part of a nucleus\n",
      "of a new peaceful society in Afghanistan.\"\n",
      "So I believe this kept me running.\n",
      "And this is a really emancipatory and political contribution\n",
      "to peace and reconciliation.\n",
      "And also -- I think --\n",
      "without psycho-social therapy,\n",
      "and without considering this\n",
      "in all humanitarian projects,\n",
      "we cannot build-up civil societies.\n",
      "I thought it was an idea worth spreading,\n",
      "and I think it must be,\n",
      "can be, could be replicated elsewhere.\n",
      "I thank you for your attention.\n",
      "(Applause)\n",
      "\n"
     ]
    }
   ],
   "source": [
    "print(df.iloc[0].to_dict()['transcript'])"
   ]
  },
  {
   "cell_type": "code",
   "execution_count": null,
   "metadata": {},
   "outputs": [],
   "source": []
  },
  {
   "cell_type": "markdown",
   "metadata": {},
   "source": [
    "# Preprocessing in Natural Language Processing"
   ]
  },
  {
   "cell_type": "code",
   "execution_count": 7,
   "metadata": {
    "ExecuteTime": {
     "end_time": "2018-08-17T13:06:32.716013Z",
     "start_time": "2018-08-17T13:06:32.713815Z"
    }
   },
   "outputs": [],
   "source": [
    "# Spacy NLP"
   ]
  },
  {
   "cell_type": "code",
   "execution_count": 8,
   "metadata": {
    "ExecuteTime": {
     "end_time": "2018-08-17T13:06:34.222162Z",
     "start_time": "2018-08-17T13:06:32.959328Z"
    }
   },
   "outputs": [],
   "source": [
    "import spacy #popular nlp library"
   ]
  },
  {
   "cell_type": "markdown",
   "metadata": {},
   "source": [
    "load a pretrained english language model"
   ]
  },
  {
   "cell_type": "code",
   "execution_count": 9,
   "metadata": {
    "ExecuteTime": {
     "end_time": "2018-08-17T13:06:37.312906Z",
     "start_time": "2018-08-17T13:06:34.225721Z"
    }
   },
   "outputs": [],
   "source": [
    "nlp = spacy.load(\"en\")"
   ]
  },
  {
   "cell_type": "markdown",
   "metadata": {
    "ExecuteTime": {
     "end_time": "2018-08-17T12:50:33.737776Z",
     "start_time": "2018-08-17T12:50:33.734444Z"
    }
   },
   "source": [
    "** Parts of Speech **"
   ]
  },
  {
   "cell_type": "code",
   "execution_count": 10,
   "metadata": {
    "ExecuteTime": {
     "end_time": "2018-08-17T13:06:37.317977Z",
     "start_time": "2018-08-17T13:06:37.314951Z"
    }
   },
   "outputs": [],
   "source": [
    "sample_sentence = 'Apple is looking at buying U.K. startup for $1 billion.'"
   ]
  },
  {
   "cell_type": "code",
   "execution_count": 11,
   "metadata": {
    "ExecuteTime": {
     "end_time": "2018-08-17T13:06:37.354515Z",
     "start_time": "2018-08-17T13:06:37.321293Z"
    }
   },
   "outputs": [
    {
     "data": {
      "application/vnd.jupyter.widget-view+json": {
       "model_id": "9403af30e62f49a2b948838166ad89f2",
       "version_major": 2,
       "version_minor": 0
      }
     },
     "metadata": {},
     "output_type": "display_data"
    }
   ],
   "source": [
    "doc = nlp(sample_sentence)\n",
    "\n",
    "data=[]\n",
    "columns = ['original', 'lemma', 'part_of_speech', 'syntantic_dependency', 'alpha_character', 'is_stop_word']\n",
    "for token in doc:\n",
    "    data.append([token.text, token.lemma_, token.pos_,  token.dep_,token.is_alpha, token.is_stop])\n",
    "pd.DataFrame.from_records(data=data, columns = columns)"
   ]
  },
  {
   "cell_type": "markdown",
   "metadata": {},
   "source": [
    "- What tokens/ words do you keep?\n",
    "- Is look and looking the same thing ?\n",
    "- Do we care about puncutation, adverbs?\n",
    "- Do we care about stopwords; words that occur frequently"
   ]
  },
  {
   "cell_type": "code",
   "execution_count": null,
   "metadata": {},
   "outputs": [],
   "source": []
  },
  {
   "cell_type": "code",
   "execution_count": 12,
   "metadata": {
    "ExecuteTime": {
     "end_time": "2018-08-17T13:06:38.170105Z",
     "start_time": "2018-08-17T13:06:38.167054Z"
    }
   },
   "outputs": [],
   "source": [
    "def prepare(docs):\n",
    "    \"\"\"\n",
    "    Use Spacy pipleines to \n",
    "    - ignore stopwords\n",
    "    - take word lemma\n",
    "    \"\"\"\n",
    "    #all_doc_tokens = \n",
    "    for doc in nlp.pipe(tqdm(docs)):\n",
    "        doc_tokens = []\n",
    "        for token in doc:\n",
    "            if not token.is_stop:\n",
    "                doc_tokens.append(token.lemma_)\n",
    "        yield \" \".join(doc_tokens)\n",
    "    #return all_doc_tokens"
   ]
  },
  {
   "cell_type": "code",
   "execution_count": 13,
   "metadata": {
    "ExecuteTime": {
     "end_time": "2018-08-17T13:06:38.518905Z",
     "start_time": "2018-08-17T13:06:38.507176Z"
    }
   },
   "outputs": [
    {
     "name": "stderr",
     "output_type": "stream",
     "text": [
      "100%|██████████| 1/1 [00:00<00:00, 2206.37it/s]\n"
     ]
    },
    {
     "data": {
      "text/plain": [
       "'apple look buy u.k. startup $ 1 billion .'"
      ]
     },
     "execution_count": 13,
     "metadata": {},
     "output_type": "execute_result"
    }
   ],
   "source": [
    "next(prepare([sample_sentence]))"
   ]
  },
  {
   "cell_type": "markdown",
   "metadata": {
    "ExecuteTime": {
     "end_time": "2018-08-17T12:54:50.207384Z",
     "start_time": "2018-08-17T12:54:50.203838Z"
    }
   },
   "source": [
    "** What text do u take? **    \n",
    "Ted Talk definitely has a title.        \n",
    "It most likely has a description.    \n",
    "Does it always have a transcript.   "
   ]
  },
  {
   "cell_type": "markdown",
   "metadata": {},
   "source": [
    "Create a new column with the fields you think might be important.  "
   ]
  },
  {
   "cell_type": "code",
   "execution_count": 14,
   "metadata": {
    "ExecuteTime": {
     "end_time": "2018-08-17T13:06:41.205918Z",
     "start_time": "2018-08-17T13:06:41.170113Z"
    }
   },
   "outputs": [],
   "source": [
    "#TEXT = df['title']  # take only title \n",
    "#TEXT = df['title'].str.cat(df['description'] , sep='\\n')  # take title  and description\n",
    "TEXT = df['title'] +\"\\n\" + df['description'] + \"\\n\" + df[\"transcript\"] # take all text field\n",
    "\n",
    "df[\"all_text\"] = TEXT # save concated field as new column"
   ]
  },
  {
   "cell_type": "code",
   "execution_count": 15,
   "metadata": {
    "ExecuteTime": {
     "end_time": "2018-08-17T13:06:41.427114Z",
     "start_time": "2018-08-17T13:06:41.423261Z"
    }
   },
   "outputs": [
    {
     "data": {
      "text/plain": [
       "Index(['average_rating', 'categories', 'description', 'dislike_count',\n",
       "       'duration', 'id', 'like_count', 'thumbnail', 'title', 'upload_date',\n",
       "       'view_count', 'webpage_url', 'transcript', 'all_text'],\n",
       "      dtype='object')"
      ]
     },
     "execution_count": 15,
     "metadata": {},
     "output_type": "execute_result"
    }
   ],
   "source": [
    "df.columns"
   ]
  },
  {
   "cell_type": "markdown",
   "metadata": {},
   "source": [
    "# Algorithm One: Text Frequency - Inverse Document Frequency (tf-idf)"
   ]
  },
  {
   "cell_type": "markdown",
   "metadata": {},
   "source": [
    "This is a common algorithm.     \n",
    "In, fact there are databases that implement this algorithm under the hood(Elastic Search/Solr/Lucene). "
   ]
  },
  {
   "cell_type": "markdown",
   "metadata": {},
   "source": [
    "## Theory"
   ]
  },
  {
   "cell_type": "code",
   "execution_count": 21,
   "metadata": {
    "ExecuteTime": {
     "end_time": "2018-08-17T13:09:04.054430Z",
     "start_time": "2018-08-17T13:09:04.031137Z"
    }
   },
   "outputs": [],
   "source": [
    "import sklearn # very popular machine learning library\n",
    "from sklearn.feature_extraction.text import TfidfVectorizer"
   ]
  },
  {
   "cell_type": "code",
   "execution_count": 22,
   "metadata": {
    "ExecuteTime": {
     "end_time": "2018-08-17T13:09:13.245689Z",
     "start_time": "2018-08-17T13:09:09.565849Z"
    }
   },
   "outputs": [],
   "source": [
    "tfidf = TfidfVectorizer()\n",
    "tfidf_matrix = tfidf.fit_transform(df[\"all_text\"])"
   ]
  },
  {
   "cell_type": "markdown",
   "metadata": {},
   "source": [
    "Here are the default parameters.   \n",
    "Here are some frequently tweaked parameters.     \n",
    "- min_df: minimum number of documents a word needs to be in, for it to be included; If a word occurs in only 1 doc, is it a mispeeling ?\n",
    "- max_df: maximim percent of documents a word can be in. If a word is in all docs, does it add value"
   ]
  },
  {
   "cell_type": "code",
   "execution_count": 24,
   "metadata": {
    "ExecuteTime": {
     "end_time": "2018-08-17T13:09:43.127057Z",
     "start_time": "2018-08-17T13:09:43.122941Z"
    }
   },
   "outputs": [
    {
     "data": {
      "text/plain": [
       "TfidfVectorizer(analyzer='word', binary=False, decode_error='strict',\n",
       "        dtype=<class 'numpy.int64'>, encoding='utf-8', input='content',\n",
       "        lowercase=True, max_df=1.0, max_features=None, min_df=1,\n",
       "        ngram_range=(1, 1), norm='l2', preprocessor=None, smooth_idf=True,\n",
       "        stop_words=None, strip_accents=None, sublinear_tf=False,\n",
       "        token_pattern='(?u)\\\\b\\\\w\\\\w+\\\\b', tokenizer=None, use_idf=True,\n",
       "        vocabulary=None)"
      ]
     },
     "execution_count": 24,
     "metadata": {},
     "output_type": "execute_result"
    }
   ],
   "source": [
    "tfidf"
   ]
  },
  {
   "cell_type": "code",
   "execution_count": null,
   "metadata": {
    "ExecuteTime": {
     "end_time": "2018-08-17T05:34:19.489734Z",
     "start_time": "2018-08-17T05:34:19.484489Z"
    }
   },
   "outputs": [],
   "source": [
    "len(tfidf.vocabulary_)"
   ]
  },
  {
   "cell_type": "code",
   "execution_count": null,
   "metadata": {
    "ExecuteTime": {
     "end_time": "2018-08-17T10:21:51.075974Z",
     "start_time": "2018-08-17T10:21:51.056981Z"
    },
    "scrolled": true
   },
   "outputs": [],
   "source": [
    "tfidf.vocabulary_"
   ]
  },
  {
   "cell_type": "code",
   "execution_count": null,
   "metadata": {
    "ExecuteTime": {
     "end_time": "2018-08-17T05:34:19.874791Z",
     "start_time": "2018-08-17T05:34:19.872063Z"
    }
   },
   "outputs": [],
   "source": [
    "### Get Similarity Scores using cosine similarity\n",
    "from sklearn.metrics.pairwise import cosine_similarity"
   ]
  },
  {
   "cell_type": "code",
   "execution_count": null,
   "metadata": {
    "ExecuteTime": {
     "end_time": "2018-08-17T05:34:20.289956Z",
     "start_time": "2018-08-17T05:34:20.286089Z"
    }
   },
   "outputs": [],
   "source": [
    "type(tfidf)"
   ]
  },
  {
   "cell_type": "code",
   "execution_count": null,
   "metadata": {
    "ExecuteTime": {
     "end_time": "2018-08-17T10:25:48.232133Z",
     "start_time": "2018-08-17T10:25:48.227969Z"
    }
   },
   "outputs": [],
   "source": [
    "def get_similar_articles_tfidf(text:str, tfidf:sklearn.feature_extraction.text.TfidfVectorizer\n",
    "                         , corpus:scipy.sparse.csr.csr_matrix\n",
    "                         , df:pd.DataFrame, num_results=5 ):\n",
    "    # apply the same transformations , used by  tf-idf ; note: converts to a matrix\n",
    "    tokenized_text = tfidf.transform([text])\n",
    "    \n",
    "    # get similairty of passed text, with entire corpus\n",
    "    sims = sklearn.metrics.pairwise.cosine_similarity(tokenized_text,corpus )\n",
    "    \n",
    "    # convert matrix to just vector\n",
    "    sim = sims[0]\n",
    "    # get the sorted indices of the highest scoring in descending order\n",
    "    sorted_indices = sim.argsort()[::-1]\n",
    "    # get the first n elements\n",
    "    top_n_indices = sorted_indices[:num_results]\n",
    "    \n",
    "    # get title of top talks\n",
    "    titles = df['title'].loc[top_n_indices]\n",
    "    # get scores of top talks\n",
    "    scores = sim[top_n_indices]\n",
    "    #return \"HI\"\n",
    "    return pd.DataFrame({'title': titles, 'scores': scores})"
   ]
  },
  {
   "cell_type": "code",
   "execution_count": null,
   "metadata": {
    "ExecuteTime": {
     "end_time": "2018-08-17T10:25:48.684690Z",
     "start_time": "2018-08-17T10:25:48.681067Z"
    }
   },
   "outputs": [],
   "source": [
    "[5,6][::-1]"
   ]
  },
  {
   "cell_type": "code",
   "execution_count": null,
   "metadata": {
    "ExecuteTime": {
     "end_time": "2018-08-17T10:25:49.735923Z",
     "start_time": "2018-08-17T10:25:49.728495Z"
    }
   },
   "outputs": [],
   "source": [
    "tfidf_sims = cosine_similarity (tfidf.transform([\"North Korea\"]), matrix)\n",
    "\n",
    "#df['title'].loc[sims.argsort()[-5:-1]]"
   ]
  },
  {
   "cell_type": "code",
   "execution_count": null,
   "metadata": {
    "ExecuteTime": {
     "end_time": "2018-08-17T10:25:50.105962Z",
     "start_time": "2018-08-17T10:25:50.102299Z"
    }
   },
   "outputs": [],
   "source": [
    "tfidf_sims"
   ]
  },
  {
   "cell_type": "code",
   "execution_count": null,
   "metadata": {
    "ExecuteTime": {
     "end_time": "2018-08-17T10:25:50.935051Z",
     "start_time": "2018-08-17T10:25:50.930807Z"
    }
   },
   "outputs": [],
   "source": [
    "tfidf_sims.argsort()[-5:]"
   ]
  },
  {
   "cell_type": "code",
   "execution_count": null,
   "metadata": {
    "ExecuteTime": {
     "end_time": "2018-08-17T10:25:52.319893Z",
     "start_time": "2018-08-17T10:25:52.315311Z"
    }
   },
   "outputs": [],
   "source": [
    "tfidf_sims.argsort()[0][-5:]"
   ]
  },
  {
   "cell_type": "code",
   "execution_count": null,
   "metadata": {
    "ExecuteTime": {
     "end_time": "2018-08-17T10:25:53.178778Z",
     "start_time": "2018-08-17T10:25:53.163632Z"
    }
   },
   "outputs": [],
   "source": [
    "get_similar_articles_tfidf(text=\"brain\", tfidf=tfidf, corpus=tfidf_matrix, df=df, num_results=5)"
   ]
  },
  {
   "cell_type": "code",
   "execution_count": null,
   "metadata": {
    "ExecuteTime": {
     "end_time": "2018-08-17T10:22:21.376507Z",
     "start_time": "2018-08-17T10:22:21.373667Z"
    }
   },
   "outputs": [],
   "source": [
    "from ipywidgets import interact, interact_manual"
   ]
  },
  {
   "cell_type": "code",
   "execution_count": null,
   "metadata": {
    "ExecuteTime": {
     "end_time": "2018-08-17T10:27:53.413483Z",
     "start_time": "2018-08-17T10:27:53.388328Z"
    }
   },
   "outputs": [],
   "source": [
    "@interact_manual(text=\"north korea\")\n",
    "def get_similar_articles_helper_tfidf(text:str):\n",
    "    return get_similar_articles_tfidf(text=text, tfidf=tfidf, corpus=tfidf_matrix, df=df)"
   ]
  },
  {
   "cell_type": "code",
   "execution_count": null,
   "metadata": {},
   "outputs": [],
   "source": []
  },
  {
   "cell_type": "markdown",
   "metadata": {},
   "source": [
    "# Word2vec"
   ]
  },
  {
   "cell_type": "markdown",
   "metadata": {},
   "source": [
    "**Notes**:     \n",
    "[Facebook's Embedding](https://github.com/facebookresearch/fastText/blob/master/pretrained-vectors.md)"
   ]
  },
  {
   "cell_type": "code",
   "execution_count": null,
   "metadata": {
    "ExecuteTime": {
     "end_time": "2018-08-17T10:29:06.467370Z",
     "start_time": "2018-08-17T10:29:06.464685Z"
    }
   },
   "outputs": [],
   "source": [
    "import  logging\n",
    "import gensim.downloader as api\n",
    "from gensim.models.word2vec import Word2Vec"
   ]
  },
  {
   "cell_type": "code",
   "execution_count": null,
   "metadata": {
    "ExecuteTime": {
     "end_time": "2018-08-17T10:29:16.519835Z",
     "start_time": "2018-08-17T10:29:16.440919Z"
    },
    "scrolled": true
   },
   "outputs": [],
   "source": [
    "import json\n",
    "data_list = api.info()\n",
    "print(json.dumps(data_list, indent=4))"
   ]
  },
  {
   "cell_type": "code",
   "execution_count": null,
   "metadata": {
    "ExecuteTime": {
     "end_time": "2018-08-17T10:31:12.214668Z",
     "start_time": "2018-08-17T10:29:18.704294Z"
    }
   },
   "outputs": [],
   "source": [
    "word2vec_model = api.load(\"glove-wiki-gigaword-300\")\n",
    "#model = api.load(\"fasttext-wiki-news-subwords-300\")\n",
    "word2vec_model.most_similar(\"glass\")"
   ]
  },
  {
   "cell_type": "code",
   "execution_count": null,
   "metadata": {
    "ExecuteTime": {
     "end_time": "2018-08-17T09:37:47.442097Z",
     "start_time": "2018-08-17T09:37:47.439999Z"
    }
   },
   "outputs": [],
   "source": [
    "# queen = (king - man) + woman"
   ]
  },
  {
   "cell_type": "code",
   "execution_count": null,
   "metadata": {
    "ExecuteTime": {
     "end_time": "2018-08-17T10:31:12.258362Z",
     "start_time": "2018-08-17T10:31:12.216622Z"
    }
   },
   "outputs": [],
   "source": [
    "word2vec_model.most_similar(positive=[\"king\",\"man\"] , negative=['man'])"
   ]
  },
  {
   "cell_type": "code",
   "execution_count": null,
   "metadata": {
    "ExecuteTime": {
     "end_time": "2018-08-17T10:31:12.308006Z",
     "start_time": "2018-08-17T10:31:12.261353Z"
    }
   },
   "outputs": [],
   "source": [
    "word2vec_model.most_similar(\"democrats\")"
   ]
  },
  {
   "cell_type": "code",
   "execution_count": null,
   "metadata": {
    "ExecuteTime": {
     "end_time": "2018-08-17T10:31:12.352733Z",
     "start_time": "2018-08-17T10:31:12.310115Z"
    }
   },
   "outputs": [],
   "source": [
    "word2vec_model.most_similar(positive=[\"barack\",\"obama\", \"republicans\"] ,negative=[\"democrats\"] )"
   ]
  },
  {
   "cell_type": "code",
   "execution_count": null,
   "metadata": {
    "ExecuteTime": {
     "end_time": "2018-08-17T11:01:03.932639Z",
     "start_time": "2018-08-17T11:01:03.928952Z"
    }
   },
   "outputs": [],
   "source": [
    "word2vec_model[\"obama\"].shape"
   ]
  },
  {
   "cell_type": "code",
   "execution_count": null,
   "metadata": {
    "ExecuteTime": {
     "end_time": "2018-08-17T11:01:57.108641Z",
     "start_time": "2018-08-17T11:01:57.104585Z"
    }
   },
   "outputs": [],
   "source": []
  },
  {
   "cell_type": "code",
   "execution_count": null,
   "metadata": {
    "ExecuteTime": {
     "end_time": "2018-08-17T11:05:21.548606Z",
     "start_time": "2018-08-17T11:05:21.544715Z"
    }
   },
   "outputs": [],
   "source": [
    "def document_vector(word2vec_model, doc:str):\n",
    "    words = doc.split(\" \")\n",
    "    # remove out-of-vocabulary words\n",
    "    \n",
    "    #for word in doc:\n",
    "    #    print (word, word in word2vec_model.vocab)\n",
    "    \n",
    "    valid_words = [word for word in words if word in word2vec_model.vocab]\n",
    "    missing_words = [word for word in words if word not in word2vec_model.vocab]\n",
    "    \n",
    "    if len(valid_words)==0:\n",
    "        print (\"No words in vocab\")\n",
    "        return np.zeros(word2vec_model.vector_size)\n",
    "    else:\n",
    "        return np.mean(word2vec_model[valid_words], axis=0)"
   ]
  },
  {
   "cell_type": "code",
   "execution_count": null,
   "metadata": {
    "ExecuteTime": {
     "end_time": "2018-08-17T10:42:32.285977Z",
     "start_time": "2018-08-17T10:42:32.281943Z"
    }
   },
   "outputs": [],
   "source": [
    "print (TEXT[0])"
   ]
  },
  {
   "cell_type": "code",
   "execution_count": null,
   "metadata": {
    "ExecuteTime": {
     "end_time": "2018-08-17T10:42:33.078873Z",
     "start_time": "2018-08-17T10:42:33.076395Z"
    },
    "scrolled": true
   },
   "outputs": [],
   "source": [
    "#[word for word in doc if word not in model.vocab]"
   ]
  },
  {
   "cell_type": "code",
   "execution_count": null,
   "metadata": {
    "ExecuteTime": {
     "end_time": "2018-08-17T10:42:33.931215Z",
     "start_time": "2018-08-17T10:42:33.917402Z"
    }
   },
   "outputs": [],
   "source": [
    "np.matrix([document_vector(model, TEXT[1]),document_vector(model, TEXT[0])]).shape"
   ]
  },
  {
   "cell_type": "code",
   "execution_count": null,
   "metadata": {
    "ExecuteTime": {
     "end_time": "2018-08-17T10:35:35.013755Z",
     "start_time": "2018-08-17T10:35:35.006166Z"
    }
   },
   "outputs": [],
   "source": [
    "document_vector(model, TEXT[1])"
   ]
  },
  {
   "cell_type": "code",
   "execution_count": null,
   "metadata": {
    "ExecuteTime": {
     "end_time": "2018-08-17T10:38:40.589119Z",
     "start_time": "2018-08-17T10:38:40.585910Z"
    }
   },
   "outputs": [],
   "source": [
    "len(tfidf.vocabulary_)"
   ]
  },
  {
   "cell_type": "code",
   "execution_count": null,
   "metadata": {
    "ExecuteTime": {
     "end_time": "2018-08-17T10:38:17.051012Z",
     "start_time": "2018-08-17T10:38:17.047357Z"
    }
   },
   "outputs": [],
   "source": [
    "tfidf_matrix.shape"
   ]
  },
  {
   "cell_type": "code",
   "execution_count": null,
   "metadata": {
    "ExecuteTime": {
     "end_time": "2018-08-17T10:42:43.289362Z",
     "start_time": "2018-08-17T10:42:43.278847Z"
    }
   },
   "outputs": [],
   "source": [
    "document_vector(model, TEXT[0])"
   ]
  },
  {
   "cell_type": "code",
   "execution_count": null,
   "metadata": {
    "ExecuteTime": {
     "end_time": "2018-08-17T10:44:35.175805Z",
     "start_time": "2018-08-17T10:44:35.056082Z"
    }
   },
   "outputs": [],
   "source": [
    "swiftapply(df['all_text'].head(), lambda text: document_vector(word2vec_model=word2vec_model, doc=text))"
   ]
  },
  {
   "cell_type": "code",
   "execution_count": null,
   "metadata": {
    "ExecuteTime": {
     "end_time": "2018-08-17T10:50:45.216692Z",
     "start_time": "2018-08-17T10:50:45.080758Z"
    }
   },
   "outputs": [],
   "source": [
    "swiftapply(df['all_text'].head(), lambda text: document_vector(word2vec_model=word2vec_model, doc=text)).tolist()"
   ]
  },
  {
   "cell_type": "code",
   "execution_count": null,
   "metadata": {
    "ExecuteTime": {
     "end_time": "2018-08-17T10:51:28.247326Z",
     "start_time": "2018-08-17T10:51:00.837204Z"
    }
   },
   "outputs": [],
   "source": [
    "word2vec_matrix = np.matrix (\n",
    "                        swiftapply(df['all_text']\n",
    "                             , lambda text: document_vector(word2vec_model=word2vec_model, doc=text)).tolist()\n",
    "                        \n",
    "                    )\n",
    "word2vec_matrix.shape"
   ]
  },
  {
   "cell_type": "code",
   "execution_count": null,
   "metadata": {
    "ExecuteTime": {
     "end_time": "2018-08-17T10:57:34.884215Z",
     "start_time": "2018-08-17T10:57:34.869720Z"
    }
   },
   "outputs": [],
   "source": [
    "?document_vector"
   ]
  },
  {
   "cell_type": "code",
   "execution_count": null,
   "metadata": {
    "ExecuteTime": {
     "end_time": "2018-08-17T11:43:18.935214Z",
     "start_time": "2018-08-17T11:43:18.907762Z"
    }
   },
   "outputs": [],
   "source": [
    "def get_similar_articles_word2vec(text:str,word2vec_matrix=word2vec_matrix, df=df\n",
    "                                         , word2vec_model=word2vec_model\n",
    "                                         , num_results=5\n",
    "                                        ):\n",
    "    \n",
    "    vec = document_vector(doc=text,word2vec_model=word2vec_model)\n",
    "\n",
    "    vec = vec.reshape(1, -1)\n",
    "    # get similairty of passed text, with entire corpus\n",
    "    sims = sklearn.metrics.pairwise.cosine_similarity(vec,word2vec_matrix )\n",
    "    \n",
    "    # convert matrix to just vector\n",
    "    sim = sims[0]\n",
    "    # get the sorted indices of the highest scoring in descending order\n",
    "    sorted_indices = sim.argsort()[::-1]\n",
    "    # get the first n elements\n",
    "    top_n_indices = sorted_indices[:num_results]\n",
    "    \n",
    "    # get title of top talks\n",
    "    titles = df['title'].loc[top_n_indices]\n",
    "    # get scores of top talks\n",
    "    scores = sim[top_n_indices]\n",
    "    #return \"HI\"\n",
    "    return pd.DataFrame({'title': titles, 'scores': scores})\n",
    "\n",
    "\n",
    "\n",
    "@interact_manual(text=\"north korea\")\n",
    "def get_similar_articles_helper_word2vec(text:str):\n",
    "    return get_similar_articles_word2vec(text=text,word2vec_matrix=word2vec_matrix, df=df\n",
    "                                         , word2vec_model=word2vec_model\n",
    "                                         , num_results=20)"
   ]
  },
  {
   "cell_type": "code",
   "execution_count": null,
   "metadata": {},
   "outputs": [],
   "source": []
  },
  {
   "cell_type": "code",
   "execution_count": null,
   "metadata": {},
   "outputs": [],
   "source": []
  },
  {
   "cell_type": "code",
   "execution_count": null,
   "metadata": {},
   "outputs": [],
   "source": []
  },
  {
   "cell_type": "code",
   "execution_count": null,
   "metadata": {
    "ExecuteTime": {
     "end_time": "2018-08-17T11:09:24.772461Z",
     "start_time": "2018-08-17T11:09:24.765695Z"
    }
   },
   "outputs": [],
   "source": [
    "document_vector(doc=\"brain\",word2vec_model=word2vec_model)"
   ]
  },
  {
   "cell_type": "code",
   "execution_count": null,
   "metadata": {
    "ExecuteTime": {
     "end_time": "2018-08-17T11:26:00.382410Z",
     "start_time": "2018-08-17T11:26:00.361863Z"
    }
   },
   "outputs": [],
   "source": [
    "get_similar_articles_word2vec(\"nort_korea\")"
   ]
  },
  {
   "cell_type": "code",
   "execution_count": null,
   "metadata": {},
   "outputs": [],
   "source": [
    "@interact_manual(text=\"north korea\")\n",
    "def get_similar_articles_helper_tfidf(text:str):\n",
    "    return get_similar_articles_tfidf(text=text, tfidf=tfidf, corpus=tfidf_matrix, df=df)"
   ]
  },
  {
   "cell_type": "code",
   "execution_count": null,
   "metadata": {},
   "outputs": [],
   "source": [
    "@interact_manual(text=\"north korea\")\n",
    "def get_similar_articles_helper_tfidf(text:str):\n",
    "    return get_similar_articles_tfidf(text=text, tfidf=tfidf, corpus=tfidf_matrix, df=df)"
   ]
  },
  {
   "cell_type": "code",
   "execution_count": null,
   "metadata": {
    "ExecuteTime": {
     "end_time": "2018-08-17T10:41:22.518490Z",
     "start_time": "2018-08-17T10:41:22.298671Z"
    }
   },
   "outputs": [],
   "source": []
  },
  {
   "cell_type": "code",
   "execution_count": null,
   "metadata": {
    "ExecuteTime": {
     "end_time": "2018-08-17T11:29:19.952660Z",
     "start_time": "2018-08-17T11:29:19.932308Z"
    }
   },
   "outputs": [],
   "source": [
    "df.head(10)"
   ]
  },
  {
   "cell_type": "code",
   "execution_count": null,
   "metadata": {},
   "outputs": [],
   "source": [
    "df['']"
   ]
  },
  {
   "cell_type": "code",
   "execution_count": null,
   "metadata": {},
   "outputs": [],
   "source": []
  },
  {
   "cell_type": "code",
   "execution_count": null,
   "metadata": {
    "ExecuteTime": {
     "end_time": "2018-08-17T11:33:33.014709Z",
     "start_time": "2018-08-17T11:33:33.008090Z"
    }
   },
   "outputs": [],
   "source": [
    "df.columns"
   ]
  },
  {
   "cell_type": "code",
   "execution_count": null,
   "metadata": {
    "ExecuteTime": {
     "end_time": "2018-08-17T11:34:57.641021Z",
     "start_time": "2018-08-17T11:34:57.630637Z"
    }
   },
   "outputs": [],
   "source": [
    "df['categories']"
   ]
  },
  {
   "cell_type": "code",
   "execution_count": null,
   "metadata": {
    "ExecuteTime": {
     "end_time": "2018-08-17T11:36:41.118826Z",
     "start_time": "2018-08-17T11:36:40.805289Z"
    }
   },
   "outputs": [],
   "source": [
    "df.where(df['categories'].isin(['Science & Technology']))"
   ]
  },
  {
   "cell_type": "code",
   "execution_count": null,
   "metadata": {
    "ExecuteTime": {
     "end_time": "2018-08-17T11:33:54.964389Z",
     "start_time": "2018-08-17T11:33:54.852929Z"
    }
   },
   "outputs": [],
   "source": [
    "df[['id','title','upload_date']].sort_values(['upload_date'], ascending=False)"
   ]
  },
  {
   "cell_type": "code",
   "execution_count": null,
   "metadata": {},
   "outputs": [],
   "source": []
  },
  {
   "cell_type": "code",
   "execution_count": null,
   "metadata": {
    "ExecuteTime": {
     "end_time": "2018-08-17T10:06:13.733297Z",
     "start_time": "2018-08-17T10:06:13.729615Z"
    }
   },
   "outputs": [],
   "source": [
    "document_vector(model,doc=TEXT[0].split(\" \"))"
   ]
  },
  {
   "cell_type": "code",
   "execution_count": null,
   "metadata": {},
   "outputs": [],
   "source": []
  },
  {
   "cell_type": "markdown",
   "metadata": {},
   "source": [
    "# Tensorflow Hub"
   ]
  },
  {
   "cell_type": "code",
   "execution_count": null,
   "metadata": {
    "ExecuteTime": {
     "end_time": "2018-08-17T12:10:13.723172Z",
     "start_time": "2018-08-17T12:10:11.566914Z"
    }
   },
   "outputs": [],
   "source": [
    "!pip install --quiet tensorflow-hub\n",
    "!pip install --quiet seaborn"
   ]
  },
  {
   "cell_type": "code",
   "execution_count": null,
   "metadata": {
    "ExecuteTime": {
     "end_time": "2018-08-17T12:33:02.682154Z",
     "start_time": "2018-08-17T12:33:00.697455Z"
    }
   },
   "outputs": [],
   "source": [
    "import tensorflow as tf\n",
    "import tensorflow_hub as hub\n",
    "import matplotlib.pyplot as plt\n",
    "import numpy as np\n",
    "import os\n",
    "import pandas as pd\n",
    "import re\n",
    "import seaborn as sns"
   ]
  },
  {
   "cell_type": "code",
   "execution_count": null,
   "metadata": {
    "ExecuteTime": {
     "end_time": "2018-08-17T12:33:14.443168Z",
     "start_time": "2018-08-17T12:33:14.440940Z"
    }
   },
   "outputs": [],
   "source": [
    "module_url = \"https://tfhub.dev/google/universal-sentence-encoder/2\" #@param [\"https://tfhub.dev/google/universal-sentence-encoder/2\", \"https://tfhub.dev/google/universal-sentence-encoder-large/3\"]        "
   ]
  },
  {
   "cell_type": "code",
   "execution_count": null,
   "metadata": {
    "ExecuteTime": {
     "end_time": "2018-08-17T12:33:31.025732Z",
     "start_time": "2018-08-17T12:33:17.713260Z"
    }
   },
   "outputs": [],
   "source": [
    "# Import the Universal Sentence Encoder's TF Hub module\n",
    "embed = hub.Module(module_url)\n",
    "\n",
    "# Compute a representation for each message, showing various lengths supported.\n",
    "word = \"Elephant\"\n",
    "sentence = \"I am a sentence for which I would like to get its embedding.\"\n",
    "paragraph = (\n",
    "    \"Universal Sentence Encoder embeddings also support short paragraphs. \"\n",
    "    \"There is no hard limit on how long the paragraph is. Roughly, the longer \"\n",
    "    \"the more 'diluted' the embedding will be.\")\n",
    "messages = [word, sentence, paragraph]\n",
    "\n",
    "# Reduce logging output.\n",
    "tf.logging.set_verbosity(tf.logging.ERROR)\n",
    "\n",
    "with tf.Session() as session:\n",
    "  session.run([tf.global_variables_initializer(), tf.tables_initializer()])\n",
    "  message_embeddings = session.run(embed(messages))\n",
    "\n",
    "  for i, message_embedding in enumerate(np.array(message_embeddings).tolist()):\n",
    "    print(\"Message: {}\".format(messages[i]))\n",
    "    print(\"Embedding size: {}\".format(len(message_embedding)))\n",
    "    message_embedding_snippet = \", \".join(\n",
    "        (str(x) for x in message_embedding[:3]))\n",
    "    print(\"Embedding: [{}, ...]\\n\".format(message_embedding_snippet))"
   ]
  },
  {
   "cell_type": "code",
   "execution_count": null,
   "metadata": {},
   "outputs": [],
   "source": []
  },
  {
   "cell_type": "code",
   "execution_count": null,
   "metadata": {
    "ExecuteTime": {
     "end_time": "2018-08-17T12:14:34.141015Z",
     "start_time": "2018-08-17T12:12:01.317Z"
    }
   },
   "outputs": [],
   "source": [
    "def plot_similarity(labels, features, rotation):\n",
    "  corr = np.inner(features, features)\n",
    "  sns.set(font_scale=1.2)\n",
    "  g = sns.heatmap(\n",
    "      corr,\n",
    "      xticklabels=labels,\n",
    "      yticklabels=labels,\n",
    "      vmin=0,\n",
    "      vmax=1,\n",
    "      cmap=\"YlOrRd\")\n",
    "  g.set_xticklabels(labels, rotation=rotation)\n",
    "  g.set_title(\"Semantic Textual Similarity\")\n",
    "\n",
    "\n",
    "def run_and_plot(session_, input_tensor_, messages_, encoding_tensor):\n",
    "  message_embeddings_ = session_.run(\n",
    "      encoding_tensor, feed_dict={input_tensor_: messages_})\n",
    "  plot_similarity(messages_, message_embeddings_, 90)"
   ]
  },
  {
   "cell_type": "code",
   "execution_count": null,
   "metadata": {
    "ExecuteTime": {
     "end_time": "2018-08-17T12:14:34.142048Z",
     "start_time": "2018-08-17T12:12:10.483Z"
    }
   },
   "outputs": [],
   "source": [
    "messages = [\n",
    "    # Smartphones\n",
    "    \"I like my phone\",\n",
    "    \"My phone is not good.\",\n",
    "    \"Your cellphone looks great.\",\n",
    "\n",
    "    # Weather\n",
    "    \"Will it snow tomorrow?\",\n",
    "    \"Recently a lot of hurricanes have hit the US\",\n",
    "    \"Global warming is real\",\n",
    "\n",
    "    # Food and health\n",
    "    \"An apple a day, keeps the doctors away\",\n",
    "    \"Eating strawberries is healthy\",\n",
    "    \"Is paleo better than keto?\",\n",
    "\n",
    "    # Asking about age\n",
    "    \"How old are you?\",\n",
    "    \"what is your age?\",\n",
    "]\n",
    "\n",
    "similarity_input_placeholder = tf.placeholder(tf.string, shape=(None))\n",
    "similarity_message_encodings = embed(similarity_input_placeholder)\n",
    "with tf.Session() as session:\n",
    "  session.run(tf.global_variables_initializer())\n",
    "  session.run(tf.tables_initializer())\n",
    "  run_and_plot(session, similarity_input_placeholder, messages,\n",
    "               similarity_message_encodings)"
   ]
  },
  {
   "cell_type": "code",
   "execution_count": null,
   "metadata": {},
   "outputs": [],
   "source": []
  },
  {
   "cell_type": "code",
   "execution_count": null,
   "metadata": {},
   "outputs": [],
   "source": []
  },
  {
   "cell_type": "code",
   "execution_count": null,
   "metadata": {},
   "outputs": [],
   "source": []
  },
  {
   "cell_type": "code",
   "execution_count": null,
   "metadata": {},
   "outputs": [],
   "source": []
  },
  {
   "cell_type": "code",
   "execution_count": null,
   "metadata": {},
   "outputs": [],
   "source": []
  },
  {
   "cell_type": "code",
   "execution_count": null,
   "metadata": {},
   "outputs": [],
   "source": []
  },
  {
   "cell_type": "code",
   "execution_count": null,
   "metadata": {},
   "outputs": [],
   "source": []
  },
  {
   "cell_type": "code",
   "execution_count": null,
   "metadata": {
    "ExecuteTime": {
     "end_time": "2018-08-17T09:19:44.927308Z",
     "start_time": "2018-08-17T09:19:44.855734Z"
    }
   },
   "outputs": [],
   "source": [
    "from gensim.models.wrappers import FastText\n",
    "\n",
    "model = FastText.load_fasttext_format('wiki.simple')\n",
    "\n",
    "print(model.most_similar('teacher'))\n",
    "# Output = [('headteacher', 0.8075869083404541), ('schoolteacher', 0.7955552339553833), ('teachers', 0.733420729637146), ('teaches', 0.6839243173599243), ('meacher', 0.6825737357139587), ('teach', 0.6285147070884705), ('taught', 0.6244685649871826), ('teaching', 0.6199781894683838), ('schoolmaster', 0.6037642955780029), ('lessons', 0.5812176465988159)]\n",
    "\n",
    "\n",
    "print(model.similarity('teacher', 'teaches'))\n",
    "# Output = 0.683924396754"
   ]
  },
  {
   "cell_type": "code",
   "execution_count": null,
   "metadata": {},
   "outputs": [],
   "source": []
  },
  {
   "cell_type": "code",
   "execution_count": null,
   "metadata": {},
   "outputs": [],
   "source": []
  },
  {
   "cell_type": "code",
   "execution_count": null,
   "metadata": {
    "ExecuteTime": {
     "end_time": "2018-08-17T03:02:05.057810Z",
     "start_time": "2018-08-17T03:02:05.022284Z"
    }
   },
   "outputs": [],
   "source": [
    "matrix=tfidf.fit_transform(Text)\n"
   ]
  },
  {
   "cell_type": "code",
   "execution_count": null,
   "metadata": {
    "ExecuteTime": {
     "end_time": "2018-08-17T03:02:08.929209Z",
     "start_time": "2018-08-17T03:02:08.925509Z"
    }
   },
   "outputs": [],
   "source": [
    "matrix.shape"
   ]
  },
  {
   "cell_type": "code",
   "execution_count": null,
   "metadata": {
    "ExecuteTime": {
     "end_time": "2018-08-17T03:01:30.331764Z",
     "start_time": "2018-08-17T03:01:30.328088Z"
    }
   },
   "outputs": [],
   "source": [
    "matrix.shape"
   ]
  },
  {
   "cell_type": "code",
   "execution_count": null,
   "metadata": {},
   "outputs": [],
   "source": []
  },
  {
   "cell_type": "code",
   "execution_count": null,
   "metadata": {
    "ExecuteTime": {
     "end_time": "2018-08-17T02:57:10.047082Z",
     "start_time": "2018-08-17T02:57:10.042692Z"
    }
   },
   "outputs": [],
   "source": [
    "sklearn.feature_extraction.text.TfidfVectorizer"
   ]
  },
  {
   "cell_type": "code",
   "execution_count": null,
   "metadata": {
    "ExecuteTime": {
     "end_time": "2018-08-17T02:59:41.084680Z",
     "start_time": "2018-08-17T02:59:41.078574Z"
    }
   },
   "outputs": [],
   "source": [
    "?sklearn.feature_extraction.text.TfidfVectorizer"
   ]
  },
  {
   "cell_type": "code",
   "execution_count": null,
   "metadata": {},
   "outputs": [],
   "source": []
  },
  {
   "cell_type": "code",
   "execution_count": null,
   "metadata": {
    "ExecuteTime": {
     "end_time": "2018-05-18T02:51:06.598202Z",
     "start_time": "2018-05-17T22:51:06.580832-04:00"
    }
   },
   "outputs": [],
   "source": [
    "df.head()"
   ]
  },
  {
   "cell_type": "code",
   "execution_count": null,
   "metadata": {
    "ExecuteTime": {
     "end_time": "2018-05-18T09:48:51.860914Z",
     "start_time": "2018-05-18T05:48:51.468274-04:00"
    }
   },
   "outputs": [],
   "source": [
    "from nltk import word_tokenize          \n",
    "from nltk.stem import WordNetLemmatizer \n",
    "class LemmaTokenizer(object):\n",
    "    def __init__(self):\n",
    "        self.wnl = WordNetLemmatizer()\n",
    "    def __call__(self, articles):\n",
    "        return [self.wnl.lemmatize(t) for t in word_tokenize(articles)]"
   ]
  },
  {
   "cell_type": "code",
   "execution_count": null,
   "metadata": {
    "ExecuteTime": {
     "end_time": "2018-05-18T09:46:52.104045Z",
     "start_time": "2018-05-18T05:46:52.068479-04:00"
    }
   },
   "outputs": [],
   "source": [
    "?text.TfidfVectorizer"
   ]
  },
  {
   "cell_type": "code",
   "execution_count": null,
   "metadata": {
    "ExecuteTime": {
     "end_time": "2018-05-18T09:50:31.267248Z",
     "start_time": "2018-05-18T05:49:19.996137-04:00"
    }
   },
   "outputs": [],
   "source": [
    "from sklearn.feature_extraction import text\n",
    "Text=df['transcript'].tolist()\n",
    "tfidf=text.TfidfVectorizer(input=Text,stop_words=\"english\", tokenizer=LemmaTokenizer())\n",
    "matrix=tfidf.fit_transform(Text)\n",
    "#print(matrix.shape)"
   ]
  },
  {
   "cell_type": "code",
   "execution_count": null,
   "metadata": {
    "ExecuteTime": {
     "end_time": "2018-05-18T09:54:55.481253Z",
     "start_time": "2018-05-18T05:54:54.164335-04:00"
    }
   },
   "outputs": [],
   "source": [
    "### Get Similarity Scores using cosine similarity\n",
    "from sklearn.metrics.pairwise import cosine_similarity\n",
    "sim_unigram=cosine_similarity(matrix)"
   ]
  },
  {
   "cell_type": "code",
   "execution_count": null,
   "metadata": {
    "ExecuteTime": {
     "end_time": "2018-05-18T09:54:55.890920Z",
     "start_time": "2018-05-18T05:54:55.886232-04:00"
    }
   },
   "outputs": [],
   "source": [
    "sim_unigram"
   ]
  },
  {
   "cell_type": "code",
   "execution_count": null,
   "metadata": {
    "ExecuteTime": {
     "end_time": "2018-05-18T09:56:10.109373Z",
     "start_time": "2018-05-18T05:56:08.958083-04:00"
    }
   },
   "outputs": [],
   "source": [
    "def get_similar_articles(x):\n",
    "    return \"\\n\".join(df['title'].loc[x.argsort()[-5:-1]])\n",
    "df['similar_articles_unigram']=[get_similar_articles(x) for x in sim_unigram]"
   ]
  },
  {
   "cell_type": "code",
   "execution_count": null,
   "metadata": {
    "ExecuteTime": {
     "end_time": "2018-05-18T09:56:10.543176Z",
     "start_time": "2018-05-18T05:56:10.538773-04:00"
    }
   },
   "outputs": [],
   "source": [
    "df['title'][1]"
   ]
  },
  {
   "cell_type": "code",
   "execution_count": null,
   "metadata": {
    "ExecuteTime": {
     "end_time": "2018-05-18T09:56:20.048464Z",
     "start_time": "2018-05-18T05:56:20.044660-04:00"
    }
   },
   "outputs": [],
   "source": [
    "print (df['similar_articles_unigram'][1])"
   ]
  },
  {
   "cell_type": "code",
   "execution_count": null,
   "metadata": {},
   "outputs": [],
   "source": []
  },
  {
   "cell_type": "code",
   "execution_count": null,
   "metadata": {},
   "outputs": [],
   "source": [
    "# Problems with this model"
   ]
  },
  {
   "cell_type": "code",
   "execution_count": null,
   "metadata": {},
   "outputs": [],
   "source": []
  },
  {
   "cell_type": "code",
   "execution_count": null,
   "metadata": {},
   "outputs": [],
   "source": []
  },
  {
   "cell_type": "code",
   "execution_count": null,
   "metadata": {},
   "outputs": [],
   "source": []
  },
  {
   "cell_type": "code",
   "execution_count": null,
   "metadata": {},
   "outputs": [],
   "source": []
  },
  {
   "cell_type": "code",
   "execution_count": null,
   "metadata": {},
   "outputs": [],
   "source": []
  },
  {
   "cell_type": "code",
   "execution_count": null,
   "metadata": {},
   "outputs": [],
   "source": []
  },
  {
   "cell_type": "markdown",
   "metadata": {},
   "source": [
    "# Doc2Vec"
   ]
  },
  {
   "cell_type": "code",
   "execution_count": null,
   "metadata": {
    "ExecuteTime": {
     "end_time": "2018-05-18T10:08:17.246428Z",
     "start_time": "2018-05-18T06:08:17.237292-04:00"
    }
   },
   "outputs": [],
   "source": [
    "df.iloc[0]"
   ]
  },
  {
   "cell_type": "code",
   "execution_count": null,
   "metadata": {
    "ExecuteTime": {
     "end_time": "2018-05-18T10:19:50.596510Z",
     "start_time": "2018-05-18T06:19:50.592511-04:00"
    }
   },
   "outputs": [],
   "source": [
    "[row[\"title\"]] + row[\"categories\"]"
   ]
  },
  {
   "cell_type": "code",
   "execution_count": null,
   "metadata": {
    "ExecuteTime": {
     "end_time": "2018-05-18T10:55:09.596484Z",
     "start_time": "2018-05-18T06:55:02.905582-04:00"
    }
   },
   "outputs": [],
   "source": [
    "talk_corpus = []\n",
    "for (index,row) in df.iterrows():\n",
    "    content = gensim.utils.simple_preprocess (row[\"transcript\"])\n",
    "    #tags = [row[\"title\"], row[\"id\"]] + row[\"categories\"]'\n",
    "    #tags = [row[\"title\"]] + row[\"categories\"]\n",
    "    tags = [row[\"title\"]] \n",
    "    tg = gensim.models.doc2vec.TaggedDocument(content,tags)\n",
    "    talk_corpus.append(tg)"
   ]
  },
  {
   "cell_type": "code",
   "execution_count": null,
   "metadata": {
    "ExecuteTime": {
     "end_time": "2018-05-18T10:55:11.886908Z",
     "start_time": "2018-05-18T06:55:11.882739-04:00"
    }
   },
   "outputs": [],
   "source": [
    "talk_corpus[0]"
   ]
  },
  {
   "cell_type": "code",
   "execution_count": null,
   "metadata": {},
   "outputs": [],
   "source": []
  },
  {
   "cell_type": "code",
   "execution_count": null,
   "metadata": {
    "ExecuteTime": {
     "end_time": "2018-05-18T10:55:17.478944Z",
     "start_time": "2018-05-18T06:55:17.475112-04:00"
    }
   },
   "outputs": [],
   "source": [
    "model = gensim.models.Doc2Vec(size = 300, \n",
    "                              min_count = 3, \n",
    "                              iter = 100)"
   ]
  },
  {
   "cell_type": "code",
   "execution_count": null,
   "metadata": {
    "ExecuteTime": {
     "end_time": "2018-05-18T10:55:21.496829Z",
     "start_time": "2018-05-18T06:55:19.818919-04:00"
    }
   },
   "outputs": [],
   "source": [
    "model.build_vocab(talk_corpus)\n",
    "print(\"model's vocabulary length:\", len(model.wv.vocab))"
   ]
  },
  {
   "cell_type": "code",
   "execution_count": null,
   "metadata": {
    "ExecuteTime": {
     "end_time": "2018-05-18T11:02:05.221702Z",
     "start_time": "2018-05-18T06:55:24.308481-04:00"
    }
   },
   "outputs": [],
   "source": [
    "model.train(talk_corpus,total_examples=model.corpus_count,epochs=model.epochs)"
   ]
  },
  {
   "cell_type": "code",
   "execution_count": null,
   "metadata": {
    "ExecuteTime": {
     "end_time": "2018-05-18T11:05:52.839747Z",
     "start_time": "2018-05-18T07:05:52.834339-04:00"
    }
   },
   "outputs": [],
   "source": [
    "model.docvecs.most_similar('My escape from North Korea | Hyeonseo Lee')"
   ]
  },
  {
   "cell_type": "code",
   "execution_count": null,
   "metadata": {
    "ExecuteTime": {
     "end_time": "2018-05-18T11:05:54.825793Z",
     "start_time": "2018-05-18T07:05:54.810010-04:00"
    }
   },
   "outputs": [],
   "source": [
    "df.head(1)"
   ]
  },
  {
   "cell_type": "code",
   "execution_count": null,
   "metadata": {
    "ExecuteTime": {
     "end_time": "2018-05-18T11:05:55.481044Z",
     "start_time": "2018-05-18T07:05:55.475367-04:00"
    }
   },
   "outputs": [],
   "source": [
    "content = gensim.utils.simple_preprocess (df.iloc[0][\"transcript\"])"
   ]
  },
  {
   "cell_type": "code",
   "execution_count": null,
   "metadata": {
    "ExecuteTime": {
     "end_time": "2018-05-18T11:05:56.007282Z",
     "start_time": "2018-05-18T07:05:55.994292-04:00"
    }
   },
   "outputs": [],
   "source": [
    "content"
   ]
  },
  {
   "cell_type": "code",
   "execution_count": null,
   "metadata": {
    "ExecuteTime": {
     "end_time": "2018-05-18T11:05:56.580021Z",
     "start_time": "2018-05-18T07:05:56.561486-04:00"
    }
   },
   "outputs": [],
   "source": [
    "new_vector = model.infer_vector(content)\n",
    "sims = model.docvecs.most_similar([new_vector],topn=20)\n",
    "sims"
   ]
  },
  {
   "cell_type": "code",
   "execution_count": null,
   "metadata": {},
   "outputs": [],
   "source": []
  },
  {
   "cell_type": "code",
   "execution_count": null,
   "metadata": {},
   "outputs": [],
   "source": []
  }
 ],
 "metadata": {
  "celltoolbar": "Slideshow",
  "kernelspec": {
   "display_name": "Python [conda env:py36]",
   "language": "python",
   "name": "conda-env-py36-py"
  },
  "language_info": {
   "codemirror_mode": {
    "name": "ipython",
    "version": 3
   },
   "file_extension": ".py",
   "mimetype": "text/x-python",
   "name": "python",
   "nbconvert_exporter": "python",
   "pygments_lexer": "ipython3",
   "version": "3.6.5"
  },
  "toc": {
   "base_numbering": 1,
   "nav_menu": {},
   "number_sections": false,
   "sideBar": false,
   "skip_h1_title": false,
   "title_cell": "Table of Contents",
   "title_sidebar": "Contents",
   "toc_cell": false,
   "toc_position": {},
   "toc_section_display": false,
   "toc_window_display": false
  }
 },
 "nbformat": 4,
 "nbformat_minor": 2
}
