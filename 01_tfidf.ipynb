{
 "cells": [
  {
   "cell_type": "code",
   "execution_count": 3,
   "metadata": {},
   "outputs": [
    {
     "name": "stdout",
     "output_type": "stream",
     "text": [
      "\u001b[31mdistributed 1.21.8 requires msgpack, which is not installed.\u001b[0m\n",
      "\u001b[33mYou are using pip version 10.0.1, however version 18.0 is available.\n",
      "You should consider upgrading via the 'pip install --upgrade pip' command.\u001b[0m\n"
     ]
    }
   ],
   "source": [
    "!pip install -q tqdm gensim"
   ]
  },
  {
   "cell_type": "code",
   "execution_count": 14,
   "metadata": {
    "ExecuteTime": {
     "end_time": "2018-08-16T02:56:50.215835Z",
     "start_time": "2018-08-16T02:56:48.543480Z"
    },
    "slideshow": {
     "slide_type": "slide"
    }
   },
   "outputs": [],
   "source": [
    "import pandas as pd\n",
    "import glob\n",
    "import json\n",
    "from tqdm import tqdm\n",
    "import re\n",
    "from datetime import datetime\n",
    "import gensim\n",
    "import logging\n",
    "import os\n",
    "import shutil\n",
    "import pprint"
   ]
  },
  {
   "cell_type": "code",
   "execution_count": 5,
   "metadata": {
    "ExecuteTime": {
     "end_time": "2018-08-16T02:56:50.221322Z",
     "start_time": "2018-08-16T02:56:50.218006Z"
    },
    "slideshow": {
     "slide_type": "slide"
    }
   },
   "outputs": [],
   "source": [
    "logging.basicConfig(format='%(levelname)s : %(message)s', level=logging.INFO)\n",
    "logging.root.level = logging.INFO  # ipython sometimes messes up the logging setup; restore"
   ]
  },
  {
   "cell_type": "code",
   "execution_count": null,
   "metadata": {},
   "outputs": [],
   "source": []
  },
  {
   "cell_type": "code",
   "execution_count": 6,
   "metadata": {
    "ExecuteTime": {
     "end_time": "2018-08-16T02:57:28.736842Z",
     "start_time": "2018-08-16T02:57:28.272355Z"
    }
   },
   "outputs": [],
   "source": [
    "df = pd.read_csv(\"talks.csv.gzip\", compression=\"gzip\")"
   ]
  },
  {
   "cell_type": "code",
   "execution_count": 10,
   "metadata": {},
   "outputs": [
    {
     "data": {
      "text/html": [
       "<div>\n",
       "<style scoped>\n",
       "    .dataframe tbody tr th:only-of-type {\n",
       "        vertical-align: middle;\n",
       "    }\n",
       "\n",
       "    .dataframe tbody tr th {\n",
       "        vertical-align: top;\n",
       "    }\n",
       "\n",
       "    .dataframe thead th {\n",
       "        text-align: right;\n",
       "    }\n",
       "</style>\n",
       "<table border=\"1\" class=\"dataframe\">\n",
       "  <thead>\n",
       "    <tr style=\"text-align: right;\">\n",
       "      <th></th>\n",
       "      <th>Unnamed: 0</th>\n",
       "      <th>average_rating</th>\n",
       "      <th>categories</th>\n",
       "      <th>description</th>\n",
       "      <th>dislike_count</th>\n",
       "      <th>duration</th>\n",
       "      <th>id</th>\n",
       "      <th>like_count</th>\n",
       "      <th>thumbnail</th>\n",
       "      <th>title</th>\n",
       "      <th>upload_date</th>\n",
       "      <th>view_count</th>\n",
       "      <th>webpage_url</th>\n",
       "      <th>transcript</th>\n",
       "    </tr>\n",
       "  </thead>\n",
       "  <tbody>\n",
       "    <tr>\n",
       "      <th>0</th>\n",
       "      <td>0</td>\n",
       "      <td>4.729469</td>\n",
       "      <td>['Nonprofits &amp; Activism']</td>\n",
       "      <td>http://www.ted.com When German psychologist In...</td>\n",
       "      <td>14.0</td>\n",
       "      <td>830</td>\n",
       "      <td>Jc2F3-nawnI</td>\n",
       "      <td>193.0</td>\n",
       "      <td>https://i.ytimg.com/vi/Jc2F3-nawnI/hqdefault.jpg</td>\n",
       "      <td>Inge Missmahl brings peace to the minds of Afg...</td>\n",
       "      <td>20100929</td>\n",
       "      <td>20695</td>\n",
       "      <td>https://www.youtube.com/watch?v=Jc2F3-nawnI</td>\n",
       "      <td>So I want to tell you a story -- an encouragin...</td>\n",
       "    </tr>\n",
       "    <tr>\n",
       "      <th>1</th>\n",
       "      <td>1</td>\n",
       "      <td>4.940791</td>\n",
       "      <td>['News &amp; Politics']</td>\n",
       "      <td>As a child growing up in North Korea, Hyeonseo...</td>\n",
       "      <td>2151.0</td>\n",
       "      <td>735</td>\n",
       "      <td>PdxPCeWw75k</td>\n",
       "      <td>143165.0</td>\n",
       "      <td>https://i.ytimg.com/vi/PdxPCeWw75k/maxresdefau...</td>\n",
       "      <td>My escape from North Korea | Hyeonseo Lee</td>\n",
       "      <td>20130320</td>\n",
       "      <td>6702386</td>\n",
       "      <td>https://www.youtube.com/watch?v=PdxPCeWw75k</td>\n",
       "      <td>Translator: Joseph Geni\\nReviewer: Morton Bast...</td>\n",
       "    </tr>\n",
       "    <tr>\n",
       "      <th>2</th>\n",
       "      <td>2</td>\n",
       "      <td>4.554828</td>\n",
       "      <td>['News &amp; Politics']</td>\n",
       "      <td>http://www.ted.com Every day, in a city the si...</td>\n",
       "      <td>68.0</td>\n",
       "      <td>938</td>\n",
       "      <td>CLWRclarri0</td>\n",
       "      <td>543.0</td>\n",
       "      <td>https://i.ytimg.com/vi/CLWRclarri0/hqdefault.jpg</td>\n",
       "      <td>Carolyn Steel: How food shapes our cities</td>\n",
       "      <td>20091005</td>\n",
       "      <td>125975</td>\n",
       "      <td>https://www.youtube.com/watch?v=CLWRclarri0</td>\n",
       "      <td>How do you feed a city?\\nIt's one of the great...</td>\n",
       "    </tr>\n",
       "    <tr>\n",
       "      <th>3</th>\n",
       "      <td>3</td>\n",
       "      <td>4.706122</td>\n",
       "      <td>['Science &amp; Technology']</td>\n",
       "      <td>http://www.ted.com With his team at SENSEable ...</td>\n",
       "      <td>54.0</td>\n",
       "      <td>947</td>\n",
       "      <td>CijsvAGU6-c</td>\n",
       "      <td>681.0</td>\n",
       "      <td>https://i.ytimg.com/vi/CijsvAGU6-c/hqdefault.jpg</td>\n",
       "      <td>Carlo Ratti: Architecture that senses and resp...</td>\n",
       "      <td>20110503</td>\n",
       "      <td>78537</td>\n",
       "      <td>https://www.youtube.com/watch?v=CijsvAGU6-c</td>\n",
       "      <td>Good afternoon, everybody.\\nI've got something...</td>\n",
       "    </tr>\n",
       "    <tr>\n",
       "      <th>4</th>\n",
       "      <td>4</td>\n",
       "      <td>4.732777</td>\n",
       "      <td>['Travel &amp; Events']</td>\n",
       "      <td>Almost everything we own and use, at some poin...</td>\n",
       "      <td>96.0</td>\n",
       "      <td>684</td>\n",
       "      <td>j7RsRnYlz7I</td>\n",
       "      <td>1341.0</td>\n",
       "      <td>https://i.ytimg.com/vi/j7RsRnYlz7I/maxresdefau...</td>\n",
       "      <td>Rose George: Inside the secret shipping industry</td>\n",
       "      <td>20131213</td>\n",
       "      <td>144699</td>\n",
       "      <td>https://www.youtube.com/watch?v=j7RsRnYlz7I</td>\n",
       "      <td>A couple of years ago,\\nHarvard Business Schoo...</td>\n",
       "    </tr>\n",
       "  </tbody>\n",
       "</table>\n",
       "</div>"
      ],
      "text/plain": [
       "   Unnamed: 0  average_rating                 categories  \\\n",
       "0           0        4.729469  ['Nonprofits & Activism']   \n",
       "1           1        4.940791        ['News & Politics']   \n",
       "2           2        4.554828        ['News & Politics']   \n",
       "3           3        4.706122   ['Science & Technology']   \n",
       "4           4        4.732777        ['Travel & Events']   \n",
       "\n",
       "                                         description  dislike_count  duration  \\\n",
       "0  http://www.ted.com When German psychologist In...           14.0       830   \n",
       "1  As a child growing up in North Korea, Hyeonseo...         2151.0       735   \n",
       "2  http://www.ted.com Every day, in a city the si...           68.0       938   \n",
       "3  http://www.ted.com With his team at SENSEable ...           54.0       947   \n",
       "4  Almost everything we own and use, at some poin...           96.0       684   \n",
       "\n",
       "            id  like_count                                          thumbnail  \\\n",
       "0  Jc2F3-nawnI       193.0   https://i.ytimg.com/vi/Jc2F3-nawnI/hqdefault.jpg   \n",
       "1  PdxPCeWw75k    143165.0  https://i.ytimg.com/vi/PdxPCeWw75k/maxresdefau...   \n",
       "2  CLWRclarri0       543.0   https://i.ytimg.com/vi/CLWRclarri0/hqdefault.jpg   \n",
       "3  CijsvAGU6-c       681.0   https://i.ytimg.com/vi/CijsvAGU6-c/hqdefault.jpg   \n",
       "4  j7RsRnYlz7I      1341.0  https://i.ytimg.com/vi/j7RsRnYlz7I/maxresdefau...   \n",
       "\n",
       "                                               title  upload_date  view_count  \\\n",
       "0  Inge Missmahl brings peace to the minds of Afg...     20100929       20695   \n",
       "1          My escape from North Korea | Hyeonseo Lee     20130320     6702386   \n",
       "2          Carolyn Steel: How food shapes our cities     20091005      125975   \n",
       "3  Carlo Ratti: Architecture that senses and resp...     20110503       78537   \n",
       "4   Rose George: Inside the secret shipping industry     20131213      144699   \n",
       "\n",
       "                                   webpage_url  \\\n",
       "0  https://www.youtube.com/watch?v=Jc2F3-nawnI   \n",
       "1  https://www.youtube.com/watch?v=PdxPCeWw75k   \n",
       "2  https://www.youtube.com/watch?v=CLWRclarri0   \n",
       "3  https://www.youtube.com/watch?v=CijsvAGU6-c   \n",
       "4  https://www.youtube.com/watch?v=j7RsRnYlz7I   \n",
       "\n",
       "                                          transcript  \n",
       "0  So I want to tell you a story -- an encouragin...  \n",
       "1  Translator: Joseph Geni\\nReviewer: Morton Bast...  \n",
       "2  How do you feed a city?\\nIt's one of the great...  \n",
       "3  Good afternoon, everybody.\\nI've got something...  \n",
       "4  A couple of years ago,\\nHarvard Business Schoo...  "
      ]
     },
     "execution_count": 10,
     "metadata": {},
     "output_type": "execute_result"
    }
   ],
   "source": [
    "df.head()"
   ]
  },
  {
   "cell_type": "code",
   "execution_count": 25,
   "metadata": {
    "scrolled": true
   },
   "outputs": [
    {
     "name": "stdout",
     "output_type": "stream",
     "text": [
      "{'Unnamed: 0': 0,\n",
      " 'average_rating': 4.72946882248,\n",
      " 'categories': \"['Nonprofits & Activism']\",\n",
      " 'description': 'http://www.ted.com When German psychologist Inge Missmahl '\n",
      "                'went to Afghanistan, she saw universal wounds of the human '\n",
      "                'heart -- despair and trauma. She tackled this widespread '\n",
      "                'depression with psychosocial counseling, and in return '\n",
      "                'witnessed remarkable individual and social healing and new '\n",
      "                'hope for families and communities.\\n'\n",
      "                '\\n'\n",
      "                'TEDTalks is a daily video podcast of the best talks and '\n",
      "                \"performances from the TED Conference, where the world's \"\n",
      "                'leading thinkers and doers give the talk of their lives in 18 '\n",
      "                'minutes. Featured speakers have included Al Gore on climate '\n",
      "                'change, Philippe Starck on design, Jill Bolte Taylor on '\n",
      "                'observing her own stroke, Nicholas Negroponte on One Laptop '\n",
      "                'per Child, Jane Goodall on chimpanzees, Bill Gates on malaria '\n",
      "                'and mosquitoes, Pattie Maes on the \"Sixth Sense\" wearable '\n",
      "                'tech, and \"Lost\" producer JJ Abrams on the allure of mystery. '\n",
      "                'TED stands for Technology, Entertainment, Design, and '\n",
      "                'TEDTalks cover these topics as well as science, business, '\n",
      "                'development and the arts. Closed captions and translated '\n",
      "                'subtitles in a variety of languages are now available on '\n",
      "                'TED.com, at http://www.ted.com/translate. Watch a highlight '\n",
      "                'reel of the Top 10 TEDTalks at '\n",
      "                'http://www.ted.com/index.php/talks/top10',\n",
      " 'dislike_count': 14.0,\n",
      " 'duration': 830,\n",
      " 'id': 'Jc2F3-nawnI',\n",
      " 'like_count': 193.0,\n",
      " 'thumbnail': 'https://i.ytimg.com/vi/Jc2F3-nawnI/hqdefault.jpg',\n",
      " 'title': 'Inge Missmahl brings peace to the minds of Afghanistan',\n",
      " 'transcript': 'So I want to tell you a story -- an encouraging story --\\n'\n",
      "               'about addressing\\n'\n",
      "               'desperation, depression and despair in Afghanistan,\\n'\n",
      "               'and what we have learned from it,\\n'\n",
      "               'and how to help people\\n'\n",
      "               'to overcome traumatic experiences\\n'\n",
      "               'and how to help them to regain some confidence\\n'\n",
      "               'in the time ahead -- in the future --\\n'\n",
      "               'and how to participate again in everyday life.\\n'\n",
      "               'So, I am a Jungian psychoanalyst,\\n'\n",
      "               'and I went to Afghanistan in January 2004, by chance,\\n'\n",
      "               'on an assignment for Medica Mondiale.\\n'\n",
      "               'Jung in Afghanistan --\\n'\n",
      "               'you get the picture.\\n'\n",
      "               'Afghanistan is one of the poorest countries in the world,\\n'\n",
      "               'and 70 percent of the people are illiterate.\\n'\n",
      "               'War and malnutrition kills people\\n'\n",
      "               'together with hope.\\n'\n",
      "               'You may know this from the media,\\n'\n",
      "               'but what you may not know\\n'\n",
      "               'is that the average age of the Afghan people is 17 years old,\\n'\n",
      "               'which means they grow up in such an environment\\n'\n",
      "               'and -- I repeat myself --\\n'\n",
      "               'in 30 years of war.\\n'\n",
      "               'So this translates\\n'\n",
      "               'into ongoing violence,\\n'\n",
      "               'foreign interests, bribery,\\n'\n",
      "               'drugs, ethnic conflicts,\\n'\n",
      "               'bad health, shame, fear\\n'\n",
      "               'and cumulative traumatic experiences.\\n'\n",
      "               'Local and foreign military\\n'\n",
      "               'are supposed to build peace together with the donors\\n'\n",
      "               'and the governmental and non-governmental organizations.\\n'\n",
      "               'And people had hope, yes,\\n'\n",
      "               'but until they realized\\n'\n",
      "               'their situation worsens every day --\\n'\n",
      "               'either because they are being killed\\n'\n",
      "               'or because, somehow,\\n'\n",
      "               'they are poorer than eight years ago.\\n'\n",
      "               'One figure for that:\\n'\n",
      "               '54 percent of the children under the age of five years\\n'\n",
      "               'suffer from malnutrition.\\n'\n",
      "               'Yet, there is hope.\\n'\n",
      "               'One day a man told me,\\n'\n",
      "               '\"My future does not look brilliant,\\n'\n",
      "               'but I want to have a brilliant future for my son.\"\\n'\n",
      "               'This is a picture I took in 2005,\\n'\n",
      "               'walking on Fridays over the hills in Kabul,\\n'\n",
      "               \"and for me it's a symbolic picture\\n\"\n",
      "               'of an open future for a young generation.\\n'\n",
      "               'So, doctors prescribe medication.\\n'\n",
      "               'And donors\\n'\n",
      "               'are supposed to bring peace\\n'\n",
      "               'by building schools and roads.\\n'\n",
      "               'Military collect weapons,\\n'\n",
      "               'and depression stays intact.\\n'\n",
      "               'Why?\\n'\n",
      "               \"Because people don't have tools\\n\"\n",
      "               'to cope with it, to get over it.\\n'\n",
      "               'So, soon after my arrival,\\n'\n",
      "               'I had confirmed something which I had already known;\\n'\n",
      "               'that my instruments come from the heart of modern Europe, '\n",
      "               'yes.\\n'\n",
      "               'However, what can wound us\\n'\n",
      "               'and our reaction to those wounds --\\n'\n",
      "               'they are universal.\\n'\n",
      "               'And the big challenge\\n'\n",
      "               'was how to understand the meaning of the symptom\\n'\n",
      "               'in this specific cultural context.\\n'\n",
      "               'After a counseling session, a woman said to me,\\n'\n",
      "               '\"Because you have felt me, I can feel myself again,\\n'\n",
      "               'and I want to participate again\\n'\n",
      "               'in my family life.\"\\n'\n",
      "               'This was very important,\\n'\n",
      "               'because the family is central\\n'\n",
      "               \"in Afghans' social system.\\n\"\n",
      "               'No one can survive alone.\\n'\n",
      "               'And if people feel used, worthless and ashamed,\\n'\n",
      "               'because something horrible has happened to them,\\n'\n",
      "               'then they retreat, and they fall into social isolation,\\n'\n",
      "               'and they do not dare to tell this evil\\n'\n",
      "               'to other people or to their loved ones,\\n'\n",
      "               'because they do not want to burden them.\\n'\n",
      "               'And very often violence is a way to cope with it.\\n'\n",
      "               'Traumatized people also easily lose control --\\n'\n",
      "               'symptoms are hyper-arousal and memory flashbacks --\\n'\n",
      "               'so people are in a constant fear\\n'\n",
      "               'that those horrible feelings of that traumatic event\\n'\n",
      "               'might come back unexpectedly,\\n'\n",
      "               'suddenly,\\n'\n",
      "               'and they cannot control it.\\n'\n",
      "               'To compensate this loss of inner control,\\n'\n",
      "               'they try to control the outside,\\n'\n",
      "               'very understandably -- mostly the family --\\n'\n",
      "               'and unfortunately,\\n'\n",
      "               'this fits very well\\n'\n",
      "               'into the traditional side,\\n'\n",
      "               'regressive side, repressive side,\\n'\n",
      "               'restrictive side of the cultural context.\\n'\n",
      "               'So, husbands start beating wives,\\n'\n",
      "               'mothers and fathers beat their children,\\n'\n",
      "               'and afterward, they feel awful.\\n'\n",
      "               'They did not want to do this, it just happened --\\n'\n",
      "               'they lost control.\\n'\n",
      "               'The desperate try\\n'\n",
      "               'to restore order and normality,\\n'\n",
      "               'and if we are not able to cut this circle of violence,\\n'\n",
      "               'it will be transferred to the next generation without a '\n",
      "               'doubt.\\n'\n",
      "               'And partly this is already happening.\\n'\n",
      "               'So everybody needs a sense for the future,\\n'\n",
      "               'and the Afghan sense of the future\\n'\n",
      "               'is shattered.\\n'\n",
      "               'But let me repeat the words of the woman.\\n'\n",
      "               '\"Because you have felt me,\\n'\n",
      "               'I can feel myself again.\"\\n'\n",
      "               'So the key here is empathy.\\n'\n",
      "               'Somebody has to be a witness\\n'\n",
      "               'to what has happened to you.\\n'\n",
      "               'Somebody has to feel how you felt.\\n'\n",
      "               'And somebody has to see you and listen to you.\\n'\n",
      "               'Everybody must be able\\n'\n",
      "               'to know what he or she has experienced is true,\\n'\n",
      "               'and this only goes with another person.\\n'\n",
      "               'So everybody must be able to say,\\n'\n",
      "               '\"This happened to me, and it did this with me,\\n'\n",
      "               \"but I'm able to live with it, to cope with it,\\n\"\n",
      "               'and to learn from it.\\n'\n",
      "               'And I want to engage myself\\n'\n",
      "               'in the bright future for my children\\n'\n",
      "               'and the children of my children,\\n'\n",
      "               'and I will not marry-off my 13 year-old daughter,\" --\\n'\n",
      "               'what happens too often in Afghanistan.\\n'\n",
      "               'So something can be done,\\n'\n",
      "               'even in such extreme environments as Afghanistan.\\n'\n",
      "               'And I started thinking about a counseling program.\\n'\n",
      "               'But, of course, I needed help and funds.\\n'\n",
      "               'And one evening,\\n'\n",
      "               'I was sitting next to a very nice gentleman in Kabul,\\n'\n",
      "               'and he asked what I thought would be good in Afghanistan.\\n'\n",
      "               'And I explained to him quickly,\\n'\n",
      "               'I would train psycho-social counselors,\\n'\n",
      "               'I would open centers, and I explained to him why.\\n'\n",
      "               'This man gave me his contact details at the end of the '\n",
      "               'evening\\n'\n",
      "               'and said, \"If you want to do this, call me.\"\\n'\n",
      "               'At that time, it was the head of Caritas Germany.\\n'\n",
      "               'So, I was able to launch a three-year project with Caritas '\n",
      "               'Germany,\\n'\n",
      "               'and we trained 30 Afghan women and men,\\n'\n",
      "               'and we opened 15 counseling centers in Kabul.\\n'\n",
      "               \"This was our sign -- it's hand-painted,\\n\"\n",
      "               'and we had 45 all over Kabul.\\n'\n",
      "               'Eleven thousand people came -- more than that.\\n'\n",
      "               'And 70 percent regained their lives.\\n'\n",
      "               'This was a very exciting time,\\n'\n",
      "               'developing this with my wonderful Afghan team.\\n'\n",
      "               'And they are working with me up to today.\\n'\n",
      "               'We developed a culturally-sensitive\\n'\n",
      "               'psycho-social counseling approach.\\n'\n",
      "               'So, from 2008 up until today,\\n'\n",
      "               'a substantial change and step forward\\n'\n",
      "               'has been taking place.\\n'\n",
      "               'The European Union delegation in Kabul\\n'\n",
      "               'came into this and hired me to work\\n'\n",
      "               'inside the Ministry of Public Health,\\n'\n",
      "               'to lobby this approach --\\n'\n",
      "               'we succeeded.\\n'\n",
      "               'We revised the mental health component\\n'\n",
      "               'of the primary health care services\\n'\n",
      "               'by adding psycho-social care\\n'\n",
      "               'and psycho-social counselors to the system.\\n'\n",
      "               'This means, certainly, to retrain all health staff.\\n'\n",
      "               'But for that, we already have the training manuals,\\n'\n",
      "               'which are approved by the Ministry\\n'\n",
      "               'and moreover, this approach is now part\\n'\n",
      "               'of the mental health strategy in Afghanistan.\\n'\n",
      "               'So we also have implemented it already\\n'\n",
      "               'in some selected clinics in three provinces,\\n'\n",
      "               'and you are the first to see the results.\\n'\n",
      "               'We wanted to know if what is being done is effective.\\n'\n",
      "               'And here you can see\\n'\n",
      "               'the patients all had symptoms of depression,\\n'\n",
      "               'moderate and severe.\\n'\n",
      "               'And the red line is the treatment as usual --\\n'\n",
      "               'medication with a medical doctor.\\n'\n",
      "               'And all the symptoms\\n'\n",
      "               'stayed the same or even got worse.\\n'\n",
      "               'And the green line is treatment with psycho-social counseling '\n",
      "               'only,\\n'\n",
      "               'without medication.\\n'\n",
      "               'And you can see the symptoms almost completely go away,\\n'\n",
      "               'and the psycho-social stress has dropped significantly,\\n'\n",
      "               'which is explicable,\\n'\n",
      "               'because you cannot take away the psycho-social stresses,\\n'\n",
      "               'but you can learn how to cope with them.\\n'\n",
      "               'So this makes us very happy,\\n'\n",
      "               'because now we also have some evidence\\n'\n",
      "               'that this is working.\\n'\n",
      "               'So here you see,\\n'\n",
      "               'this is a health facility in Northern Afghanistan,\\n'\n",
      "               'and every morning it looks like this all over.\\n'\n",
      "               'And doctors usually have three to six minutes for the '\n",
      "               'patients,\\n'\n",
      "               'but now this will change.\\n'\n",
      "               'They go to the clinics,\\n'\n",
      "               'because they want to cure their immediate symptoms,\\n'\n",
      "               'and they will find somebody to talk to\\n'\n",
      "               'and discuss these issues\\n'\n",
      "               'and talk about what is burdening them\\n'\n",
      "               'and find solutions, develop their resources,\\n'\n",
      "               'learn tools to solve their family conflicts\\n'\n",
      "               'and gain some confidence in the future.\\n'\n",
      "               'And I would like to share one short vignette.\\n'\n",
      "               'One Hazara said to his Pashtun counselor,\\n'\n",
      "               '\"If we were to have met some years ago,\\n'\n",
      "               'then we would have killed each other.\\n'\n",
      "               'And now you are helping me\\n'\n",
      "               'to regain some confidence in the future.\"\\n'\n",
      "               'And another counselor said to me after the training,\\n'\n",
      "               '\"You know, I never knew why I survived the killings in my '\n",
      "               'village,\\n'\n",
      "               'but now I know,\\n'\n",
      "               'because I am part of a nucleus\\n'\n",
      "               'of a new peaceful society in Afghanistan.\"\\n'\n",
      "               'So I believe this kept me running.\\n'\n",
      "               'And this is a really emancipatory and political contribution\\n'\n",
      "               'to peace and reconciliation.\\n'\n",
      "               'And also -- I think --\\n'\n",
      "               'without psycho-social therapy,\\n'\n",
      "               'and without considering this\\n'\n",
      "               'in all humanitarian projects,\\n'\n",
      "               'we cannot build-up civil societies.\\n'\n",
      "               'I thought it was an idea worth spreading,\\n'\n",
      "               'and I think it must be,\\n'\n",
      "               'can be, could be replicated elsewhere.\\n'\n",
      "               'I thank you for your attention.\\n'\n",
      "               '(Applause)\\n',\n",
      " 'upload_date': 20100929,\n",
      " 'view_count': 20695,\n",
      " 'webpage_url': 'https://www.youtube.com/watch?v=Jc2F3-nawnI'}\n"
     ]
    }
   ],
   "source": [
    "pprint.pprint(df.iloc[0].to_dict())"
   ]
  },
  {
   "cell_type": "code",
   "execution_count": 23,
   "metadata": {},
   "outputs": [
    {
     "name": "stdout",
     "output_type": "stream",
     "text": [
      "http://www.ted.com When German psychologist Inge Missmahl went to Afghanistan, she saw universal wounds of the human heart -- despair and trauma. She tackled this widespread depression with psychosocial counseling, and in return witnessed remarkable individual and social healing and new hope for families and communities.\n",
      "\n",
      "TEDTalks is a daily video podcast of the best talks and performances from the TED Conference, where the world's leading thinkers and doers give the talk of their lives in 18 minutes. Featured speakers have included Al Gore on climate change, Philippe Starck on design, Jill Bolte Taylor on observing her own stroke, Nicholas Negroponte on One Laptop per Child, Jane Goodall on chimpanzees, Bill Gates on malaria and mosquitoes, Pattie Maes on the \"Sixth Sense\" wearable tech, and \"Lost\" producer JJ Abrams on the allure of mystery. TED stands for Technology, Entertainment, Design, and TEDTalks cover these topics as well as science, business, development and the arts. Closed captions and translated subtitles in a variety of languages are now available on TED.com, at http://www.ted.com/translate. Watch a highlight reel of the Top 10 TEDTalks at http://www.ted.com/index.php/talks/top10\n"
     ]
    }
   ],
   "source": [
    "print(df.iloc[0].to_dict()['description'])"
   ]
  },
  {
   "cell_type": "code",
   "execution_count": 26,
   "metadata": {},
   "outputs": [
    {
     "name": "stdout",
     "output_type": "stream",
     "text": [
      "So I want to tell you a story -- an encouraging story --\n",
      "about addressing\n",
      "desperation, depression and despair in Afghanistan,\n",
      "and what we have learned from it,\n",
      "and how to help people\n",
      "to overcome traumatic experiences\n",
      "and how to help them to regain some confidence\n",
      "in the time ahead -- in the future --\n",
      "and how to participate again in everyday life.\n",
      "So, I am a Jungian psychoanalyst,\n",
      "and I went to Afghanistan in January 2004, by chance,\n",
      "on an assignment for Medica Mondiale.\n",
      "Jung in Afghanistan --\n",
      "you get the picture.\n",
      "Afghanistan is one of the poorest countries in the world,\n",
      "and 70 percent of the people are illiterate.\n",
      "War and malnutrition kills people\n",
      "together with hope.\n",
      "You may know this from the media,\n",
      "but what you may not know\n",
      "is that the average age of the Afghan people is 17 years old,\n",
      "which means they grow up in such an environment\n",
      "and -- I repeat myself --\n",
      "in 30 years of war.\n",
      "So this translates\n",
      "into ongoing violence,\n",
      "foreign interests, bribery,\n",
      "drugs, ethnic conflicts,\n",
      "bad health, shame, fear\n",
      "and cumulative traumatic experiences.\n",
      "Local and foreign military\n",
      "are supposed to build peace together with the donors\n",
      "and the governmental and non-governmental organizations.\n",
      "And people had hope, yes,\n",
      "but until they realized\n",
      "their situation worsens every day --\n",
      "either because they are being killed\n",
      "or because, somehow,\n",
      "they are poorer than eight years ago.\n",
      "One figure for that:\n",
      "54 percent of the children under the age of five years\n",
      "suffer from malnutrition.\n",
      "Yet, there is hope.\n",
      "One day a man told me,\n",
      "\"My future does not look brilliant,\n",
      "but I want to have a brilliant future for my son.\"\n",
      "This is a picture I took in 2005,\n",
      "walking on Fridays over the hills in Kabul,\n",
      "and for me it's a symbolic picture\n",
      "of an open future for a young generation.\n",
      "So, doctors prescribe medication.\n",
      "And donors\n",
      "are supposed to bring peace\n",
      "by building schools and roads.\n",
      "Military collect weapons,\n",
      "and depression stays intact.\n",
      "Why?\n",
      "Because people don't have tools\n",
      "to cope with it, to get over it.\n",
      "So, soon after my arrival,\n",
      "I had confirmed something which I had already known;\n",
      "that my instruments come from the heart of modern Europe, yes.\n",
      "However, what can wound us\n",
      "and our reaction to those wounds --\n",
      "they are universal.\n",
      "And the big challenge\n",
      "was how to understand the meaning of the symptom\n",
      "in this specific cultural context.\n",
      "After a counseling session, a woman said to me,\n",
      "\"Because you have felt me, I can feel myself again,\n",
      "and I want to participate again\n",
      "in my family life.\"\n",
      "This was very important,\n",
      "because the family is central\n",
      "in Afghans' social system.\n",
      "No one can survive alone.\n",
      "And if people feel used, worthless and ashamed,\n",
      "because something horrible has happened to them,\n",
      "then they retreat, and they fall into social isolation,\n",
      "and they do not dare to tell this evil\n",
      "to other people or to their loved ones,\n",
      "because they do not want to burden them.\n",
      "And very often violence is a way to cope with it.\n",
      "Traumatized people also easily lose control --\n",
      "symptoms are hyper-arousal and memory flashbacks --\n",
      "so people are in a constant fear\n",
      "that those horrible feelings of that traumatic event\n",
      "might come back unexpectedly,\n",
      "suddenly,\n",
      "and they cannot control it.\n",
      "To compensate this loss of inner control,\n",
      "they try to control the outside,\n",
      "very understandably -- mostly the family --\n",
      "and unfortunately,\n",
      "this fits very well\n",
      "into the traditional side,\n",
      "regressive side, repressive side,\n",
      "restrictive side of the cultural context.\n",
      "So, husbands start beating wives,\n",
      "mothers and fathers beat their children,\n",
      "and afterward, they feel awful.\n",
      "They did not want to do this, it just happened --\n",
      "they lost control.\n",
      "The desperate try\n",
      "to restore order and normality,\n",
      "and if we are not able to cut this circle of violence,\n",
      "it will be transferred to the next generation without a doubt.\n",
      "And partly this is already happening.\n",
      "So everybody needs a sense for the future,\n",
      "and the Afghan sense of the future\n",
      "is shattered.\n",
      "But let me repeat the words of the woman.\n",
      "\"Because you have felt me,\n",
      "I can feel myself again.\"\n",
      "So the key here is empathy.\n",
      "Somebody has to be a witness\n",
      "to what has happened to you.\n",
      "Somebody has to feel how you felt.\n",
      "And somebody has to see you and listen to you.\n",
      "Everybody must be able\n",
      "to know what he or she has experienced is true,\n",
      "and this only goes with another person.\n",
      "So everybody must be able to say,\n",
      "\"This happened to me, and it did this with me,\n",
      "but I'm able to live with it, to cope with it,\n",
      "and to learn from it.\n",
      "And I want to engage myself\n",
      "in the bright future for my children\n",
      "and the children of my children,\n",
      "and I will not marry-off my 13 year-old daughter,\" --\n",
      "what happens too often in Afghanistan.\n",
      "So something can be done,\n",
      "even in such extreme environments as Afghanistan.\n",
      "And I started thinking about a counseling program.\n",
      "But, of course, I needed help and funds.\n",
      "And one evening,\n",
      "I was sitting next to a very nice gentleman in Kabul,\n",
      "and he asked what I thought would be good in Afghanistan.\n",
      "And I explained to him quickly,\n",
      "I would train psycho-social counselors,\n",
      "I would open centers, and I explained to him why.\n",
      "This man gave me his contact details at the end of the evening\n",
      "and said, \"If you want to do this, call me.\"\n",
      "At that time, it was the head of Caritas Germany.\n",
      "So, I was able to launch a three-year project with Caritas Germany,\n",
      "and we trained 30 Afghan women and men,\n",
      "and we opened 15 counseling centers in Kabul.\n",
      "This was our sign -- it's hand-painted,\n",
      "and we had 45 all over Kabul.\n",
      "Eleven thousand people came -- more than that.\n",
      "And 70 percent regained their lives.\n",
      "This was a very exciting time,\n",
      "developing this with my wonderful Afghan team.\n",
      "And they are working with me up to today.\n",
      "We developed a culturally-sensitive\n",
      "psycho-social counseling approach.\n",
      "So, from 2008 up until today,\n",
      "a substantial change and step forward\n",
      "has been taking place.\n",
      "The European Union delegation in Kabul\n",
      "came into this and hired me to work\n",
      "inside the Ministry of Public Health,\n",
      "to lobby this approach --\n",
      "we succeeded.\n",
      "We revised the mental health component\n",
      "of the primary health care services\n",
      "by adding psycho-social care\n",
      "and psycho-social counselors to the system.\n",
      "This means, certainly, to retrain all health staff.\n",
      "But for that, we already have the training manuals,\n",
      "which are approved by the Ministry\n",
      "and moreover, this approach is now part\n",
      "of the mental health strategy in Afghanistan.\n",
      "So we also have implemented it already\n",
      "in some selected clinics in three provinces,\n",
      "and you are the first to see the results.\n",
      "We wanted to know if what is being done is effective.\n",
      "And here you can see\n",
      "the patients all had symptoms of depression,\n",
      "moderate and severe.\n",
      "And the red line is the treatment as usual --\n",
      "medication with a medical doctor.\n",
      "And all the symptoms\n",
      "stayed the same or even got worse.\n",
      "And the green line is treatment with psycho-social counseling only,\n",
      "without medication.\n",
      "And you can see the symptoms almost completely go away,\n",
      "and the psycho-social stress has dropped significantly,\n",
      "which is explicable,\n",
      "because you cannot take away the psycho-social stresses,\n",
      "but you can learn how to cope with them.\n",
      "So this makes us very happy,\n",
      "because now we also have some evidence\n",
      "that this is working.\n",
      "So here you see,\n",
      "this is a health facility in Northern Afghanistan,\n",
      "and every morning it looks like this all over.\n",
      "And doctors usually have three to six minutes for the patients,\n",
      "but now this will change.\n",
      "They go to the clinics,\n",
      "because they want to cure their immediate symptoms,\n",
      "and they will find somebody to talk to\n",
      "and discuss these issues\n",
      "and talk about what is burdening them\n",
      "and find solutions, develop their resources,\n",
      "learn tools to solve their family conflicts\n",
      "and gain some confidence in the future.\n",
      "And I would like to share one short vignette.\n",
      "One Hazara said to his Pashtun counselor,\n",
      "\"If we were to have met some years ago,\n",
      "then we would have killed each other.\n",
      "And now you are helping me\n",
      "to regain some confidence in the future.\"\n",
      "And another counselor said to me after the training,\n",
      "\"You know, I never knew why I survived the killings in my village,\n",
      "but now I know,\n",
      "because I am part of a nucleus\n",
      "of a new peaceful society in Afghanistan.\"\n",
      "So I believe this kept me running.\n",
      "And this is a really emancipatory and political contribution\n",
      "to peace and reconciliation.\n",
      "And also -- I think --\n",
      "without psycho-social therapy,\n",
      "and without considering this\n",
      "in all humanitarian projects,\n",
      "we cannot build-up civil societies.\n",
      "I thought it was an idea worth spreading,\n",
      "and I think it must be,\n",
      "can be, could be replicated elsewhere.\n",
      "I thank you for your attention.\n",
      "(Applause)\n",
      "\n"
     ]
    }
   ],
   "source": [
    "print(df.iloc[0].to_dict()['transcript'])"
   ]
  },
  {
   "cell_type": "code",
   "execution_count": null,
   "metadata": {},
   "outputs": [],
   "source": []
  },
  {
   "cell_type": "code",
   "execution_count": null,
   "metadata": {},
   "outputs": [],
   "source": []
  },
  {
   "cell_type": "code",
   "execution_count": null,
   "metadata": {},
   "outputs": [],
   "source": []
  },
  {
   "cell_type": "code",
   "execution_count": 7,
   "metadata": {
    "ExecuteTime": {
     "end_time": "2018-05-18T02:53:07.948193Z",
     "start_time": "2018-05-17T22:53:07.942283-04:00"
    }
   },
   "outputs": [
    {
     "data": {
      "text/plain": [
       "datetime.datetime(2010, 9, 29, 0, 0)"
      ]
     },
     "execution_count": 7,
     "metadata": {},
     "output_type": "execute_result"
    }
   ],
   "source": [
    "datetime.strptime('20100929', '%Y%m%d')\n"
   ]
  },
  {
   "cell_type": "code",
   "execution_count": 8,
   "metadata": {
    "ExecuteTime": {
     "end_time": "2018-05-18T02:51:06.598202Z",
     "start_time": "2018-05-17T22:51:06.580832-04:00"
    }
   },
   "outputs": [
    {
     "data": {
      "text/html": [
       "<div>\n",
       "<style scoped>\n",
       "    .dataframe tbody tr th:only-of-type {\n",
       "        vertical-align: middle;\n",
       "    }\n",
       "\n",
       "    .dataframe tbody tr th {\n",
       "        vertical-align: top;\n",
       "    }\n",
       "\n",
       "    .dataframe thead th {\n",
       "        text-align: right;\n",
       "    }\n",
       "</style>\n",
       "<table border=\"1\" class=\"dataframe\">\n",
       "  <thead>\n",
       "    <tr style=\"text-align: right;\">\n",
       "      <th></th>\n",
       "      <th>Unnamed: 0</th>\n",
       "      <th>average_rating</th>\n",
       "      <th>categories</th>\n",
       "      <th>description</th>\n",
       "      <th>dislike_count</th>\n",
       "      <th>duration</th>\n",
       "      <th>id</th>\n",
       "      <th>like_count</th>\n",
       "      <th>thumbnail</th>\n",
       "      <th>title</th>\n",
       "      <th>upload_date</th>\n",
       "      <th>view_count</th>\n",
       "      <th>webpage_url</th>\n",
       "      <th>transcript</th>\n",
       "    </tr>\n",
       "  </thead>\n",
       "  <tbody>\n",
       "    <tr>\n",
       "      <th>0</th>\n",
       "      <td>0</td>\n",
       "      <td>4.729469</td>\n",
       "      <td>['Nonprofits &amp; Activism']</td>\n",
       "      <td>http://www.ted.com When German psychologist In...</td>\n",
       "      <td>14.0</td>\n",
       "      <td>830</td>\n",
       "      <td>Jc2F3-nawnI</td>\n",
       "      <td>193.0</td>\n",
       "      <td>https://i.ytimg.com/vi/Jc2F3-nawnI/hqdefault.jpg</td>\n",
       "      <td>Inge Missmahl brings peace to the minds of Afg...</td>\n",
       "      <td>20100929</td>\n",
       "      <td>20695</td>\n",
       "      <td>https://www.youtube.com/watch?v=Jc2F3-nawnI</td>\n",
       "      <td>So I want to tell you a story -- an encouragin...</td>\n",
       "    </tr>\n",
       "    <tr>\n",
       "      <th>1</th>\n",
       "      <td>1</td>\n",
       "      <td>4.940791</td>\n",
       "      <td>['News &amp; Politics']</td>\n",
       "      <td>As a child growing up in North Korea, Hyeonseo...</td>\n",
       "      <td>2151.0</td>\n",
       "      <td>735</td>\n",
       "      <td>PdxPCeWw75k</td>\n",
       "      <td>143165.0</td>\n",
       "      <td>https://i.ytimg.com/vi/PdxPCeWw75k/maxresdefau...</td>\n",
       "      <td>My escape from North Korea | Hyeonseo Lee</td>\n",
       "      <td>20130320</td>\n",
       "      <td>6702386</td>\n",
       "      <td>https://www.youtube.com/watch?v=PdxPCeWw75k</td>\n",
       "      <td>Translator: Joseph Geni\\nReviewer: Morton Bast...</td>\n",
       "    </tr>\n",
       "    <tr>\n",
       "      <th>2</th>\n",
       "      <td>2</td>\n",
       "      <td>4.554828</td>\n",
       "      <td>['News &amp; Politics']</td>\n",
       "      <td>http://www.ted.com Every day, in a city the si...</td>\n",
       "      <td>68.0</td>\n",
       "      <td>938</td>\n",
       "      <td>CLWRclarri0</td>\n",
       "      <td>543.0</td>\n",
       "      <td>https://i.ytimg.com/vi/CLWRclarri0/hqdefault.jpg</td>\n",
       "      <td>Carolyn Steel: How food shapes our cities</td>\n",
       "      <td>20091005</td>\n",
       "      <td>125975</td>\n",
       "      <td>https://www.youtube.com/watch?v=CLWRclarri0</td>\n",
       "      <td>How do you feed a city?\\nIt's one of the great...</td>\n",
       "    </tr>\n",
       "    <tr>\n",
       "      <th>3</th>\n",
       "      <td>3</td>\n",
       "      <td>4.706122</td>\n",
       "      <td>['Science &amp; Technology']</td>\n",
       "      <td>http://www.ted.com With his team at SENSEable ...</td>\n",
       "      <td>54.0</td>\n",
       "      <td>947</td>\n",
       "      <td>CijsvAGU6-c</td>\n",
       "      <td>681.0</td>\n",
       "      <td>https://i.ytimg.com/vi/CijsvAGU6-c/hqdefault.jpg</td>\n",
       "      <td>Carlo Ratti: Architecture that senses and resp...</td>\n",
       "      <td>20110503</td>\n",
       "      <td>78537</td>\n",
       "      <td>https://www.youtube.com/watch?v=CijsvAGU6-c</td>\n",
       "      <td>Good afternoon, everybody.\\nI've got something...</td>\n",
       "    </tr>\n",
       "    <tr>\n",
       "      <th>4</th>\n",
       "      <td>4</td>\n",
       "      <td>4.732777</td>\n",
       "      <td>['Travel &amp; Events']</td>\n",
       "      <td>Almost everything we own and use, at some poin...</td>\n",
       "      <td>96.0</td>\n",
       "      <td>684</td>\n",
       "      <td>j7RsRnYlz7I</td>\n",
       "      <td>1341.0</td>\n",
       "      <td>https://i.ytimg.com/vi/j7RsRnYlz7I/maxresdefau...</td>\n",
       "      <td>Rose George: Inside the secret shipping industry</td>\n",
       "      <td>20131213</td>\n",
       "      <td>144699</td>\n",
       "      <td>https://www.youtube.com/watch?v=j7RsRnYlz7I</td>\n",
       "      <td>A couple of years ago,\\nHarvard Business Schoo...</td>\n",
       "    </tr>\n",
       "  </tbody>\n",
       "</table>\n",
       "</div>"
      ],
      "text/plain": [
       "   Unnamed: 0  average_rating                 categories  \\\n",
       "0           0        4.729469  ['Nonprofits & Activism']   \n",
       "1           1        4.940791        ['News & Politics']   \n",
       "2           2        4.554828        ['News & Politics']   \n",
       "3           3        4.706122   ['Science & Technology']   \n",
       "4           4        4.732777        ['Travel & Events']   \n",
       "\n",
       "                                         description  dislike_count  duration  \\\n",
       "0  http://www.ted.com When German psychologist In...           14.0       830   \n",
       "1  As a child growing up in North Korea, Hyeonseo...         2151.0       735   \n",
       "2  http://www.ted.com Every day, in a city the si...           68.0       938   \n",
       "3  http://www.ted.com With his team at SENSEable ...           54.0       947   \n",
       "4  Almost everything we own and use, at some poin...           96.0       684   \n",
       "\n",
       "            id  like_count                                          thumbnail  \\\n",
       "0  Jc2F3-nawnI       193.0   https://i.ytimg.com/vi/Jc2F3-nawnI/hqdefault.jpg   \n",
       "1  PdxPCeWw75k    143165.0  https://i.ytimg.com/vi/PdxPCeWw75k/maxresdefau...   \n",
       "2  CLWRclarri0       543.0   https://i.ytimg.com/vi/CLWRclarri0/hqdefault.jpg   \n",
       "3  CijsvAGU6-c       681.0   https://i.ytimg.com/vi/CijsvAGU6-c/hqdefault.jpg   \n",
       "4  j7RsRnYlz7I      1341.0  https://i.ytimg.com/vi/j7RsRnYlz7I/maxresdefau...   \n",
       "\n",
       "                                               title  upload_date  view_count  \\\n",
       "0  Inge Missmahl brings peace to the minds of Afg...     20100929       20695   \n",
       "1          My escape from North Korea | Hyeonseo Lee     20130320     6702386   \n",
       "2          Carolyn Steel: How food shapes our cities     20091005      125975   \n",
       "3  Carlo Ratti: Architecture that senses and resp...     20110503       78537   \n",
       "4   Rose George: Inside the secret shipping industry     20131213      144699   \n",
       "\n",
       "                                   webpage_url  \\\n",
       "0  https://www.youtube.com/watch?v=Jc2F3-nawnI   \n",
       "1  https://www.youtube.com/watch?v=PdxPCeWw75k   \n",
       "2  https://www.youtube.com/watch?v=CLWRclarri0   \n",
       "3  https://www.youtube.com/watch?v=CijsvAGU6-c   \n",
       "4  https://www.youtube.com/watch?v=j7RsRnYlz7I   \n",
       "\n",
       "                                          transcript  \n",
       "0  So I want to tell you a story -- an encouragin...  \n",
       "1  Translator: Joseph Geni\\nReviewer: Morton Bast...  \n",
       "2  How do you feed a city?\\nIt's one of the great...  \n",
       "3  Good afternoon, everybody.\\nI've got something...  \n",
       "4  A couple of years ago,\\nHarvard Business Schoo...  "
      ]
     },
     "execution_count": 8,
     "metadata": {},
     "output_type": "execute_result"
    }
   ],
   "source": [
    "df.head()"
   ]
  },
  {
   "cell_type": "code",
   "execution_count": 27,
   "metadata": {
    "ExecuteTime": {
     "end_time": "2018-05-18T09:48:51.860914Z",
     "start_time": "2018-05-18T05:48:51.468274-04:00"
    }
   },
   "outputs": [],
   "source": [
    "from nltk import word_tokenize          \n",
    "from nltk.stem import WordNetLemmatizer \n",
    "class LemmaTokenizer(object):\n",
    "    def __init__(self):\n",
    "        self.wnl = WordNetLemmatizer()\n",
    "    def __call__(self, articles):\n",
    "        return [self.wnl.lemmatize(t) for t in word_tokenize(articles)]"
   ]
  },
  {
   "cell_type": "code",
   "execution_count": null,
   "metadata": {
    "ExecuteTime": {
     "end_time": "2018-05-18T09:46:52.104045Z",
     "start_time": "2018-05-18T05:46:52.068479-04:00"
    }
   },
   "outputs": [],
   "source": [
    "?text.TfidfVectorizer"
   ]
  },
  {
   "cell_type": "code",
   "execution_count": 28,
   "metadata": {
    "ExecuteTime": {
     "end_time": "2018-05-18T09:50:31.267248Z",
     "start_time": "2018-05-18T05:49:19.996137-04:00"
    }
   },
   "outputs": [],
   "source": [
    "from sklearn.feature_extraction import text\n",
    "Text=df['transcript'].tolist()\n",
    "tfidf=text.TfidfVectorizer(input=Text,stop_words=\"english\", tokenizer=LemmaTokenizer())\n",
    "matrix=tfidf.fit_transform(Text)\n",
    "#print(matrix.shape)"
   ]
  },
  {
   "cell_type": "code",
   "execution_count": 29,
   "metadata": {
    "ExecuteTime": {
     "end_time": "2018-05-18T09:54:55.481253Z",
     "start_time": "2018-05-18T05:54:54.164335-04:00"
    }
   },
   "outputs": [],
   "source": [
    "### Get Similarity Scores using cosine similarity\n",
    "from sklearn.metrics.pairwise import cosine_similarity\n",
    "sim_unigram=cosine_similarity(matrix)"
   ]
  },
  {
   "cell_type": "code",
   "execution_count": 30,
   "metadata": {
    "ExecuteTime": {
     "end_time": "2018-05-18T09:54:55.890920Z",
     "start_time": "2018-05-18T05:54:55.886232-04:00"
    }
   },
   "outputs": [
    {
     "data": {
      "text/plain": [
       "array([[1.        , 0.42328378, 0.55359966, ..., 0.49388626, 0.53364983,\n",
       "        0.58179026],\n",
       "       [0.42328378, 1.        , 0.4507271 , ..., 0.43143527, 0.42768029,\n",
       "        0.45480349],\n",
       "       [0.55359966, 0.4507271 , 1.        , ..., 0.55640022, 0.57594978,\n",
       "        0.61223904],\n",
       "       ...,\n",
       "       [0.49388626, 0.43143527, 0.55640022, ..., 1.        , 0.51827279,\n",
       "        0.5542238 ],\n",
       "       [0.53364983, 0.42768029, 0.57594978, ..., 0.51827279, 1.        ,\n",
       "        0.56661015],\n",
       "       [0.58179026, 0.45480349, 0.61223904, ..., 0.5542238 , 0.56661015,\n",
       "        1.        ]])"
      ]
     },
     "execution_count": 30,
     "metadata": {},
     "output_type": "execute_result"
    }
   ],
   "source": [
    "sim_unigram"
   ]
  },
  {
   "cell_type": "code",
   "execution_count": 31,
   "metadata": {
    "ExecuteTime": {
     "end_time": "2018-05-18T09:56:10.109373Z",
     "start_time": "2018-05-18T05:56:08.958083-04:00"
    }
   },
   "outputs": [],
   "source": [
    "def get_similar_articles(x):\n",
    "    return \"\\n\".join(df['title'].loc[x.argsort()[-5:-1]])\n",
    "df['similar_articles_unigram']=[get_similar_articles(x) for x in sim_unigram]"
   ]
  },
  {
   "cell_type": "code",
   "execution_count": 32,
   "metadata": {
    "ExecuteTime": {
     "end_time": "2018-05-18T09:56:10.543176Z",
     "start_time": "2018-05-18T05:56:10.538773-04:00"
    }
   },
   "outputs": [
    {
     "data": {
      "text/plain": [
       "'My escape from North Korea | Hyeonseo Lee'"
      ]
     },
     "execution_count": 32,
     "metadata": {},
     "output_type": "execute_result"
    }
   ],
   "source": [
    "df['title'][1]"
   ]
  },
  {
   "cell_type": "code",
   "execution_count": null,
   "metadata": {
    "ExecuteTime": {
     "end_time": "2018-05-18T09:56:20.048464Z",
     "start_time": "2018-05-18T05:56:20.044660-04:00"
    }
   },
   "outputs": [],
   "source": [
    "print (df['similar_articles_unigram'][1])"
   ]
  },
  {
   "cell_type": "code",
   "execution_count": null,
   "metadata": {},
   "outputs": [],
   "source": []
  },
  {
   "cell_type": "code",
   "execution_count": null,
   "metadata": {},
   "outputs": [],
   "source": [
    "# Problems with this model"
   ]
  },
  {
   "cell_type": "code",
   "execution_count": null,
   "metadata": {},
   "outputs": [],
   "source": []
  },
  {
   "cell_type": "code",
   "execution_count": null,
   "metadata": {},
   "outputs": [],
   "source": []
  },
  {
   "cell_type": "code",
   "execution_count": null,
   "metadata": {},
   "outputs": [],
   "source": []
  },
  {
   "cell_type": "code",
   "execution_count": null,
   "metadata": {},
   "outputs": [],
   "source": []
  },
  {
   "cell_type": "code",
   "execution_count": null,
   "metadata": {},
   "outputs": [],
   "source": []
  },
  {
   "cell_type": "code",
   "execution_count": null,
   "metadata": {},
   "outputs": [],
   "source": []
  },
  {
   "cell_type": "markdown",
   "metadata": {},
   "source": [
    "# Doc2Vec"
   ]
  },
  {
   "cell_type": "code",
   "execution_count": 33,
   "metadata": {
    "ExecuteTime": {
     "end_time": "2018-05-18T10:08:17.246428Z",
     "start_time": "2018-05-18T06:08:17.237292-04:00"
    }
   },
   "outputs": [
    {
     "data": {
      "text/plain": [
       "Unnamed: 0                                                                  0\n",
       "average_rating                                                        4.72947\n",
       "categories                                          ['Nonprofits & Activism']\n",
       "description                 http://www.ted.com When German psychologist In...\n",
       "dislike_count                                                              14\n",
       "duration                                                                  830\n",
       "id                                                                Jc2F3-nawnI\n",
       "like_count                                                                193\n",
       "thumbnail                    https://i.ytimg.com/vi/Jc2F3-nawnI/hqdefault.jpg\n",
       "title                       Inge Missmahl brings peace to the minds of Afg...\n",
       "upload_date                                                          20100929\n",
       "view_count                                                              20695\n",
       "webpage_url                       https://www.youtube.com/watch?v=Jc2F3-nawnI\n",
       "transcript                  So I want to tell you a story -- an encouragin...\n",
       "similar_articles_unigram    Maira Kalman: The illustrated woman\\nOne woman...\n",
       "Name: 0, dtype: object"
      ]
     },
     "execution_count": 33,
     "metadata": {},
     "output_type": "execute_result"
    }
   ],
   "source": [
    "df.iloc[0]"
   ]
  },
  {
   "cell_type": "code",
   "execution_count": 34,
   "metadata": {
    "ExecuteTime": {
     "end_time": "2018-05-18T10:19:50.596510Z",
     "start_time": "2018-05-18T06:19:50.592511-04:00"
    }
   },
   "outputs": [
    {
     "ename": "NameError",
     "evalue": "name 'row' is not defined",
     "output_type": "error",
     "traceback": [
      "\u001b[0;31m---------------------------------------------------------------------------\u001b[0m",
      "\u001b[0;31mNameError\u001b[0m                                 Traceback (most recent call last)",
      "\u001b[0;32m<ipython-input-34-31d91cc6e7af>\u001b[0m in \u001b[0;36m<module>\u001b[0;34m()\u001b[0m\n\u001b[0;32m----> 1\u001b[0;31m \u001b[0;34m[\u001b[0m\u001b[0mrow\u001b[0m\u001b[0;34m[\u001b[0m\u001b[0;34m\"title\"\u001b[0m\u001b[0;34m]\u001b[0m\u001b[0;34m]\u001b[0m \u001b[0;34m+\u001b[0m \u001b[0mrow\u001b[0m\u001b[0;34m[\u001b[0m\u001b[0;34m\"categories\"\u001b[0m\u001b[0;34m]\u001b[0m\u001b[0;34m\u001b[0m\u001b[0m\n\u001b[0m",
      "\u001b[0;31mNameError\u001b[0m: name 'row' is not defined"
     ]
    }
   ],
   "source": [
    "[row[\"title\"]] + row[\"categories\"]"
   ]
  },
  {
   "cell_type": "code",
   "execution_count": null,
   "metadata": {
    "ExecuteTime": {
     "end_time": "2018-05-18T10:55:09.596484Z",
     "start_time": "2018-05-18T06:55:02.905582-04:00"
    }
   },
   "outputs": [],
   "source": [
    "talk_corpus = []\n",
    "for (index,row) in df.iterrows():\n",
    "    content = gensim.utils.simple_preprocess (row[\"transcript\"])\n",
    "    #tags = [row[\"title\"], row[\"id\"]] + row[\"categories\"]'\n",
    "    #tags = [row[\"title\"]] + row[\"categories\"]\n",
    "    tags = [row[\"title\"]] \n",
    "    tg = gensim.models.doc2vec.TaggedDocument(content,tags)\n",
    "    talk_corpus.append(tg)"
   ]
  },
  {
   "cell_type": "code",
   "execution_count": null,
   "metadata": {
    "ExecuteTime": {
     "end_time": "2018-05-18T10:55:11.886908Z",
     "start_time": "2018-05-18T06:55:11.882739-04:00"
    }
   },
   "outputs": [],
   "source": [
    "talk_corpus[0]"
   ]
  },
  {
   "cell_type": "code",
   "execution_count": null,
   "metadata": {},
   "outputs": [],
   "source": []
  },
  {
   "cell_type": "code",
   "execution_count": null,
   "metadata": {
    "ExecuteTime": {
     "end_time": "2018-05-18T10:55:17.478944Z",
     "start_time": "2018-05-18T06:55:17.475112-04:00"
    }
   },
   "outputs": [],
   "source": [
    "model = gensim.models.Doc2Vec(size = 300, \n",
    "                              min_count = 3, \n",
    "                              iter = 100)"
   ]
  },
  {
   "cell_type": "code",
   "execution_count": null,
   "metadata": {
    "ExecuteTime": {
     "end_time": "2018-05-18T10:55:21.496829Z",
     "start_time": "2018-05-18T06:55:19.818919-04:00"
    }
   },
   "outputs": [],
   "source": [
    "model.build_vocab(talk_corpus)\n",
    "print(\"model's vocabulary length:\", len(model.wv.vocab))"
   ]
  },
  {
   "cell_type": "code",
   "execution_count": null,
   "metadata": {
    "ExecuteTime": {
     "end_time": "2018-05-18T11:02:05.221702Z",
     "start_time": "2018-05-18T06:55:24.308481-04:00"
    }
   },
   "outputs": [],
   "source": [
    "model.train(talk_corpus,total_examples=model.corpus_count,epochs=model.epochs)"
   ]
  },
  {
   "cell_type": "code",
   "execution_count": null,
   "metadata": {
    "ExecuteTime": {
     "end_time": "2018-05-18T11:05:52.839747Z",
     "start_time": "2018-05-18T07:05:52.834339-04:00"
    }
   },
   "outputs": [],
   "source": [
    "model.docvecs.most_similar('My escape from North Korea | Hyeonseo Lee')"
   ]
  },
  {
   "cell_type": "code",
   "execution_count": null,
   "metadata": {
    "ExecuteTime": {
     "end_time": "2018-05-18T11:05:54.825793Z",
     "start_time": "2018-05-18T07:05:54.810010-04:00"
    }
   },
   "outputs": [],
   "source": [
    "df.head(1)"
   ]
  },
  {
   "cell_type": "code",
   "execution_count": null,
   "metadata": {
    "ExecuteTime": {
     "end_time": "2018-05-18T11:05:55.481044Z",
     "start_time": "2018-05-18T07:05:55.475367-04:00"
    }
   },
   "outputs": [],
   "source": [
    "content = gensim.utils.simple_preprocess (df.iloc[0][\"transcript\"])"
   ]
  },
  {
   "cell_type": "code",
   "execution_count": null,
   "metadata": {
    "ExecuteTime": {
     "end_time": "2018-05-18T11:05:56.007282Z",
     "start_time": "2018-05-18T07:05:55.994292-04:00"
    }
   },
   "outputs": [],
   "source": [
    "content"
   ]
  },
  {
   "cell_type": "code",
   "execution_count": null,
   "metadata": {
    "ExecuteTime": {
     "end_time": "2018-05-18T11:05:56.580021Z",
     "start_time": "2018-05-18T07:05:56.561486-04:00"
    }
   },
   "outputs": [],
   "source": [
    "new_vector = model.infer_vector(content)\n",
    "sims = model.docvecs.most_similar([new_vector],topn=20)\n",
    "sims"
   ]
  },
  {
   "cell_type": "code",
   "execution_count": null,
   "metadata": {},
   "outputs": [],
   "source": []
  },
  {
   "cell_type": "code",
   "execution_count": null,
   "metadata": {},
   "outputs": [],
   "source": []
  }
 ],
 "metadata": {
  "celltoolbar": "Slideshow",
  "kernelspec": {
   "display_name": "Python 3",
   "language": "python",
   "name": "python3"
  },
  "language_info": {
   "codemirror_mode": {
    "name": "ipython",
    "version": 3
   },
   "file_extension": ".py",
   "mimetype": "text/x-python",
   "name": "python",
   "nbconvert_exporter": "python",
   "pygments_lexer": "ipython3",
   "version": "3.6.5"
  }
 },
 "nbformat": 4,
 "nbformat_minor": 2
}
