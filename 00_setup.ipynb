{
 "cells": [
  {
   "cell_type": "code",
   "execution_count": 1,
   "metadata": {
    "ExecuteTime": {
     "end_time": "2018-08-15T11:41:02.343635Z",
     "start_time": "2018-08-15T11:41:00.511153Z"
    },
    "slideshow": {
     "slide_type": "slide"
    }
   },
   "outputs": [],
   "source": [
    "import pandas as pd\n",
    "import glob\n",
    "import json\n",
    "from tqdm import tqdm\n",
    "import re\n",
    "from datetime import datetime\n",
    "import gensim\n",
    "import logging\n",
    "import os\n",
    "import shutil"
   ]
  },
  {
   "cell_type": "code",
   "execution_count": 2,
   "metadata": {
    "ExecuteTime": {
     "end_time": "2018-08-15T11:41:02.347997Z",
     "start_time": "2018-08-15T11:41:02.345664Z"
    },
    "slideshow": {
     "slide_type": "slide"
    }
   },
   "outputs": [],
   "source": [
    "logging.basicConfig(format='%(levelname)s : %(message)s', level=logging.INFO)\n",
    "logging.root.level = logging.INFO  # ipython sometimes messes up the logging setup; restore"
   ]
  },
  {
   "cell_type": "code",
   "execution_count": 4,
   "metadata": {
    "ExecuteTime": {
     "end_time": "2018-08-15T11:41:11.326524Z",
     "start_time": "2018-08-15T11:41:08.130078Z"
    },
    "scrolled": false
   },
   "outputs": [
    {
     "name": "stdout",
     "output_type": "stream",
     "text": [
      "Collecting pysrt\n",
      "  Downloading https://files.pythonhosted.org/packages/f6/33/16ad65a8973cb8bcb494af09ee1b9ab5ffdd6ff300bce5d3ac7d3cb1f2cc/pysrt-1.1.1.tar.gz (104kB)\n",
      "\u001b[K    100% |████████████████████████████████| 112kB 3.3MB/s ta 0:00:01\n",
      "\u001b[?25hRequirement already satisfied: chardet in /usr/local/anaconda3/envs/py36/lib/python3.6/site-packages (from pysrt)\n",
      "Building wheels for collected packages: pysrt\n",
      "  Running setup.py bdist_wheel for pysrt ... \u001b[?25ldone\n",
      "\u001b[?25h  Stored in directory: /Users/npatta01/Library/Caches/pip/wheels/a6/95/51/25db5b533f7c8c3bccf661a7f2bf67caaf893f6f92bb37da33\n",
      "Successfully built pysrt\n",
      "Installing collected packages: pysrt\n",
      "Successfully installed pysrt-1.1.1\n",
      "\u001b[33mYou are using pip version 9.0.3, however version 18.0 is available.\n",
      "You should consider upgrading via the 'pip install --upgrade pip' command.\u001b[0m\n"
     ]
    }
   ],
   "source": [
    "!pip install pysrt"
   ]
  },
  {
   "cell_type": "code",
   "execution_count": 5,
   "metadata": {
    "ExecuteTime": {
     "end_time": "2018-08-15T11:41:11.905925Z",
     "start_time": "2018-08-15T11:41:11.896507Z"
    }
   },
   "outputs": [],
   "source": [
    "import pysrt"
   ]
  },
  {
   "cell_type": "markdown",
   "metadata": {
    "collapsed": true
   },
   "source": [
    "\n",
    "kaggle datasets download -d goweiting/ted-talks-transcript    \n",
    "Use the Kaggle API to download dataset files.      \n",
    "https://github.com/Kaggle/kaggle-api    \n",
    "\n",
    "https://www.kaggle.com/goweiting/ted-talks-transcript/data\n",
    "\n",
    "Doc2vec   \n",
    "https://medium.com/scaleabout/a-gentle-introduction-to-doc2vec-db3e8c0cce5e"
   ]
  },
  {
   "cell_type": "code",
   "execution_count": null,
   "metadata": {},
   "outputs": [],
   "source": []
  },
  {
   "cell_type": "code",
   "execution_count": null,
   "metadata": {},
   "outputs": [],
   "source": []
  },
  {
   "cell_type": "code",
   "execution_count": 6,
   "metadata": {
    "ExecuteTime": {
     "end_time": "2018-08-15T11:41:14.377374Z",
     "start_time": "2018-08-15T11:41:14.247183Z"
    }
   },
   "outputs": [
    {
     "name": "stdout",
     "output_type": "stream",
     "text": [
      "ls: /Users/npatta01/.kaggle/datasets/goweiting/ted-talks-transcript/: No such file or directory\r\n"
     ]
    }
   ],
   "source": [
    "!ls -lah ~/.kaggle/datasets/goweiting/ted-talks-transcript/"
   ]
  },
  {
   "cell_type": "code",
   "execution_count": 7,
   "metadata": {
    "ExecuteTime": {
     "end_time": "2018-08-15T11:41:14.624301Z",
     "start_time": "2018-08-15T11:41:14.621319Z"
    }
   },
   "outputs": [],
   "source": [
    "#!unzip /Users/nidhin/.kaggle/datasets/goweiting/ted-talks-transcript/tedDirector.zip"
   ]
  },
  {
   "cell_type": "code",
   "execution_count": 22,
   "metadata": {
    "ExecuteTime": {
     "end_time": "2018-08-15T11:45:51.196949Z",
     "start_time": "2018-08-15T11:45:51.193442Z"
    }
   },
   "outputs": [],
   "source": [
    "base_path= os.path.expanduser(\"~/.kaggle/datasets/goweiting/ted-talks-transcript\")"
   ]
  },
  {
   "cell_type": "code",
   "execution_count": 9,
   "metadata": {
    "ExecuteTime": {
     "end_time": "2018-08-15T11:41:16.388866Z",
     "start_time": "2018-08-15T11:41:16.386282Z"
    }
   },
   "outputs": [],
   "source": [
    "#shutil.rmtree(base_path, ignore_errors=True)\n",
    "#os.makedirs(base_path)"
   ]
  },
  {
   "cell_type": "code",
   "execution_count": 10,
   "metadata": {
    "ExecuteTime": {
     "end_time": "2018-08-15T11:41:17.357839Z",
     "start_time": "2018-08-15T11:41:17.232812Z"
    }
   },
   "outputs": [
    {
     "name": "stdout",
     "output_type": "stream",
     "text": [
      "ls: /Users/nidhin.pattaniyil/.kaggle/datasets/goweiting/ted-talks-transcript: No such file or directory\r\n"
     ]
    }
   ],
   "source": [
    "!ls /Users/nidhin.pattaniyil/.kaggle/datasets/goweiting/ted-talks-transcript\n"
   ]
  },
  {
   "cell_type": "code",
   "execution_count": 11,
   "metadata": {
    "ExecuteTime": {
     "end_time": "2018-08-15T11:42:16.904257Z",
     "start_time": "2018-08-15T11:41:17.606221Z"
    }
   },
   "outputs": [
    {
     "name": "stdout",
     "output_type": "stream",
     "text": [
      "Warning: Your Kaggle API key is readable by other users on this system! To fix this, you can run 'chmod 600 /Users/npatta01/.kaggle/kaggle.json'\n",
      "Downloading ted-talks-transcript.zip to /Users/npatta01/.kaggle/datasets/goweiting/ted-talks-transcript\n",
      "100%|███████████████████████████████████████▉| 535M/535M [00:53<00:00, 7.96MB/s]\n",
      "100%|████████████████████████████████████████| 535M/535M [00:53<00:00, 10.4MB/s]\n"
     ]
    }
   ],
   "source": [
    "!kaggle datasets download -d goweiting/ted-talks-transcript -p {base_path}/"
   ]
  },
  {
   "cell_type": "code",
   "execution_count": 12,
   "metadata": {
    "ExecuteTime": {
     "end_time": "2018-08-15T11:42:17.032927Z",
     "start_time": "2018-08-15T11:42:16.906906Z"
    }
   },
   "outputs": [
    {
     "name": "stdout",
     "output_type": "stream",
     "text": [
      "ls: /Users/nidhin.pattaniyil/.kaggle/datasets/goweiting/ted-talks-transcript: No such file or directory\r\n"
     ]
    }
   ],
   "source": [
    "!ls /Users/nidhin.pattaniyil/.kaggle/datasets/goweiting/ted-talks-transcript"
   ]
  },
  {
   "cell_type": "code",
   "execution_count": 23,
   "metadata": {
    "ExecuteTime": {
     "end_time": "2018-08-15T11:46:00.143158Z",
     "start_time": "2018-08-15T11:45:59.991716Z"
    }
   },
   "outputs": [
    {
     "name": "stdout",
     "output_type": "stream",
     "text": [
      "\u001b[34msubtitles\u001b[m\u001b[m                tedDirector.stats.csv    ted_metadata_kaggle.csv\r\n",
      "ted-talks-transcript.zip tedDirector.zip          ted_metadata_youtube.csv\r\n"
     ]
    }
   ],
   "source": [
    "!ls {base_path}"
   ]
  },
  {
   "cell_type": "code",
   "execution_count": 25,
   "metadata": {
    "ExecuteTime": {
     "end_time": "2018-08-15T11:48:08.926905Z",
     "start_time": "2018-08-15T11:47:34.557746Z"
    }
   },
   "outputs": [],
   "source": [
    "!unzip -q -o {base_path}/ted-talks-transcript.zip -d {base_path}\n",
    "!unzip -q -o {base_path}/tedDirector.zip -d {base_path}"
   ]
  },
  {
   "cell_type": "code",
   "execution_count": 26,
   "metadata": {
    "ExecuteTime": {
     "end_time": "2018-08-15T11:48:10.175016Z",
     "start_time": "2018-08-15T11:48:10.171314Z"
    }
   },
   "outputs": [
    {
     "name": "stdout",
     "output_type": "stream",
     "text": [
      "/Users/npatta01/.kaggle/datasets/goweiting/ted-talks-transcriptsubtitles/*.info.json\n"
     ]
    }
   ],
   "source": [
    "print(f\"{base_path}subtitles/*.info.json\")"
   ]
  },
  {
   "cell_type": "code",
   "execution_count": 29,
   "metadata": {
    "ExecuteTime": {
     "end_time": "2018-08-15T11:48:15.691234Z",
     "start_time": "2018-08-15T11:48:15.464520Z"
    }
   },
   "outputs": [],
   "source": [
    "meta_data_files = glob.glob(f\"{base_path}/subtitles/*/*.info.json\")\n",
    "\n",
    "\n"
   ]
  },
  {
   "cell_type": "code",
   "execution_count": 30,
   "metadata": {
    "ExecuteTime": {
     "end_time": "2018-08-15T11:48:15.868164Z",
     "start_time": "2018-08-15T11:48:15.865079Z"
    }
   },
   "outputs": [
    {
     "data": {
      "text/plain": [
       "2531"
      ]
     },
     "execution_count": 30,
     "metadata": {},
     "output_type": "execute_result"
    }
   ],
   "source": [
    "len(meta_data_files)"
   ]
  },
  {
   "cell_type": "code",
   "execution_count": 31,
   "metadata": {
    "ExecuteTime": {
     "end_time": "2018-08-15T11:48:20.320847Z",
     "start_time": "2018-08-15T11:48:20.315884Z"
    },
    "code_folding": []
   },
   "outputs": [],
   "source": [
    "def parse_video_info(metadata):\n",
    "    keys = [\"webpage_url\", \"view_count\", \"upload_date\", \"title\", \"thumbnail\" \n",
    "            , \"duration\" , \"dislike_count\" , \"like_count\"\n",
    "            , \"description\", \"categories\" ,\"id\", \"average_rating\"\n",
    "            ]\n",
    "    \n",
    "    new_dict = {}\n",
    "    for key in keys:\n",
    "        new_dict[key] = metadata.get(key,None)\n",
    "        \n",
    "    return new_dict\n",
    "\n",
    "def get_metadata(meta_data_files) -> pd.DataFrame:\n",
    "    parsed_metadatas = []\n",
    "    for file in tqdm(meta_data_files):\n",
    "        with open(file) as f:\n",
    "            content = json.load(f)\n",
    "        \n",
    "        parsed_metadata = parse_video_info(content)\n",
    "        parsed_metadatas.append(parsed_metadata)\n",
    "\n",
    "    return pd.DataFrame(parsed_metadatas)\n"
   ]
  },
  {
   "cell_type": "code",
   "execution_count": 32,
   "metadata": {
    "ExecuteTime": {
     "end_time": "2018-08-15T11:48:22.672945Z",
     "start_time": "2018-08-15T11:48:21.072949Z"
    }
   },
   "outputs": [
    {
     "name": "stderr",
     "output_type": "stream",
     "text": [
      "100%|██████████| 2531/2531 [00:01<00:00, 1624.45it/s]\n"
     ]
    }
   ],
   "source": [
    "metadata_df = get_metadata(meta_data_files)"
   ]
  },
  {
   "cell_type": "code",
   "execution_count": 33,
   "metadata": {
    "ExecuteTime": {
     "end_time": "2018-08-15T11:48:23.411120Z",
     "start_time": "2018-08-15T11:48:23.379418Z"
    }
   },
   "outputs": [
    {
     "data": {
      "text/html": [
       "<div>\n",
       "<style scoped>\n",
       "    .dataframe tbody tr th:only-of-type {\n",
       "        vertical-align: middle;\n",
       "    }\n",
       "\n",
       "    .dataframe tbody tr th {\n",
       "        vertical-align: top;\n",
       "    }\n",
       "\n",
       "    .dataframe thead th {\n",
       "        text-align: right;\n",
       "    }\n",
       "</style>\n",
       "<table border=\"1\" class=\"dataframe\">\n",
       "  <thead>\n",
       "    <tr style=\"text-align: right;\">\n",
       "      <th></th>\n",
       "      <th>average_rating</th>\n",
       "      <th>categories</th>\n",
       "      <th>description</th>\n",
       "      <th>dislike_count</th>\n",
       "      <th>duration</th>\n",
       "      <th>id</th>\n",
       "      <th>like_count</th>\n",
       "      <th>thumbnail</th>\n",
       "      <th>title</th>\n",
       "      <th>upload_date</th>\n",
       "      <th>view_count</th>\n",
       "      <th>webpage_url</th>\n",
       "    </tr>\n",
       "  </thead>\n",
       "  <tbody>\n",
       "    <tr>\n",
       "      <th>0</th>\n",
       "      <td>4.729469</td>\n",
       "      <td>[Nonprofits &amp; Activism]</td>\n",
       "      <td>http://www.ted.com When German psychologist In...</td>\n",
       "      <td>14.0</td>\n",
       "      <td>830</td>\n",
       "      <td>Jc2F3-nawnI</td>\n",
       "      <td>193.0</td>\n",
       "      <td>https://i.ytimg.com/vi/Jc2F3-nawnI/hqdefault.jpg</td>\n",
       "      <td>Inge Missmahl brings peace to the minds of Afg...</td>\n",
       "      <td>20100929</td>\n",
       "      <td>20695</td>\n",
       "      <td>https://www.youtube.com/watch?v=Jc2F3-nawnI</td>\n",
       "    </tr>\n",
       "    <tr>\n",
       "      <th>1</th>\n",
       "      <td>4.940791</td>\n",
       "      <td>[News &amp; Politics]</td>\n",
       "      <td>As a child growing up in North Korea, Hyeonseo...</td>\n",
       "      <td>2151.0</td>\n",
       "      <td>735</td>\n",
       "      <td>PdxPCeWw75k</td>\n",
       "      <td>143165.0</td>\n",
       "      <td>https://i.ytimg.com/vi/PdxPCeWw75k/maxresdefau...</td>\n",
       "      <td>My escape from North Korea | Hyeonseo Lee</td>\n",
       "      <td>20130320</td>\n",
       "      <td>6702386</td>\n",
       "      <td>https://www.youtube.com/watch?v=PdxPCeWw75k</td>\n",
       "    </tr>\n",
       "    <tr>\n",
       "      <th>2</th>\n",
       "      <td>4.554828</td>\n",
       "      <td>[News &amp; Politics]</td>\n",
       "      <td>http://www.ted.com Every day, in a city the si...</td>\n",
       "      <td>68.0</td>\n",
       "      <td>938</td>\n",
       "      <td>CLWRclarri0</td>\n",
       "      <td>543.0</td>\n",
       "      <td>https://i.ytimg.com/vi/CLWRclarri0/hqdefault.jpg</td>\n",
       "      <td>Carolyn Steel: How food shapes our cities</td>\n",
       "      <td>20091005</td>\n",
       "      <td>125975</td>\n",
       "      <td>https://www.youtube.com/watch?v=CLWRclarri0</td>\n",
       "    </tr>\n",
       "    <tr>\n",
       "      <th>3</th>\n",
       "      <td>4.706122</td>\n",
       "      <td>[Science &amp; Technology]</td>\n",
       "      <td>http://www.ted.com With his team at SENSEable ...</td>\n",
       "      <td>54.0</td>\n",
       "      <td>947</td>\n",
       "      <td>CijsvAGU6-c</td>\n",
       "      <td>681.0</td>\n",
       "      <td>https://i.ytimg.com/vi/CijsvAGU6-c/hqdefault.jpg</td>\n",
       "      <td>Carlo Ratti: Architecture that senses and resp...</td>\n",
       "      <td>20110503</td>\n",
       "      <td>78537</td>\n",
       "      <td>https://www.youtube.com/watch?v=CijsvAGU6-c</td>\n",
       "    </tr>\n",
       "    <tr>\n",
       "      <th>4</th>\n",
       "      <td>4.732777</td>\n",
       "      <td>[Travel &amp; Events]</td>\n",
       "      <td>Almost everything we own and use, at some poin...</td>\n",
       "      <td>96.0</td>\n",
       "      <td>684</td>\n",
       "      <td>j7RsRnYlz7I</td>\n",
       "      <td>1341.0</td>\n",
       "      <td>https://i.ytimg.com/vi/j7RsRnYlz7I/maxresdefau...</td>\n",
       "      <td>Rose George: Inside the secret shipping industry</td>\n",
       "      <td>20131213</td>\n",
       "      <td>144699</td>\n",
       "      <td>https://www.youtube.com/watch?v=j7RsRnYlz7I</td>\n",
       "    </tr>\n",
       "  </tbody>\n",
       "</table>\n",
       "</div>"
      ],
      "text/plain": [
       "   average_rating               categories  \\\n",
       "0        4.729469  [Nonprofits & Activism]   \n",
       "1        4.940791        [News & Politics]   \n",
       "2        4.554828        [News & Politics]   \n",
       "3        4.706122   [Science & Technology]   \n",
       "4        4.732777        [Travel & Events]   \n",
       "\n",
       "                                         description  dislike_count  duration  \\\n",
       "0  http://www.ted.com When German psychologist In...           14.0       830   \n",
       "1  As a child growing up in North Korea, Hyeonseo...         2151.0       735   \n",
       "2  http://www.ted.com Every day, in a city the si...           68.0       938   \n",
       "3  http://www.ted.com With his team at SENSEable ...           54.0       947   \n",
       "4  Almost everything we own and use, at some poin...           96.0       684   \n",
       "\n",
       "            id  like_count                                          thumbnail  \\\n",
       "0  Jc2F3-nawnI       193.0   https://i.ytimg.com/vi/Jc2F3-nawnI/hqdefault.jpg   \n",
       "1  PdxPCeWw75k    143165.0  https://i.ytimg.com/vi/PdxPCeWw75k/maxresdefau...   \n",
       "2  CLWRclarri0       543.0   https://i.ytimg.com/vi/CLWRclarri0/hqdefault.jpg   \n",
       "3  CijsvAGU6-c       681.0   https://i.ytimg.com/vi/CijsvAGU6-c/hqdefault.jpg   \n",
       "4  j7RsRnYlz7I      1341.0  https://i.ytimg.com/vi/j7RsRnYlz7I/maxresdefau...   \n",
       "\n",
       "                                               title upload_date  view_count  \\\n",
       "0  Inge Missmahl brings peace to the minds of Afg...    20100929       20695   \n",
       "1          My escape from North Korea | Hyeonseo Lee    20130320     6702386   \n",
       "2          Carolyn Steel: How food shapes our cities    20091005      125975   \n",
       "3  Carlo Ratti: Architecture that senses and resp...    20110503       78537   \n",
       "4   Rose George: Inside the secret shipping industry    20131213      144699   \n",
       "\n",
       "                                   webpage_url  \n",
       "0  https://www.youtube.com/watch?v=Jc2F3-nawnI  \n",
       "1  https://www.youtube.com/watch?v=PdxPCeWw75k  \n",
       "2  https://www.youtube.com/watch?v=CLWRclarri0  \n",
       "3  https://www.youtube.com/watch?v=CijsvAGU6-c  \n",
       "4  https://www.youtube.com/watch?v=j7RsRnYlz7I  "
      ]
     },
     "execution_count": 33,
     "metadata": {},
     "output_type": "execute_result"
    }
   ],
   "source": [
    "metadata_df.head()"
   ]
  },
  {
   "cell_type": "code",
   "execution_count": null,
   "metadata": {},
   "outputs": [],
   "source": []
  },
  {
   "cell_type": "code",
   "execution_count": 36,
   "metadata": {
    "ExecuteTime": {
     "end_time": "2018-08-15T11:48:36.590129Z",
     "start_time": "2018-08-15T11:48:36.362719Z"
    }
   },
   "outputs": [],
   "source": [
    "subtitle_files = glob.glob(f\"{base_path}/subtitles/*/*.en.vtt\")\n"
   ]
  },
  {
   "cell_type": "code",
   "execution_count": 37,
   "metadata": {
    "ExecuteTime": {
     "end_time": "2018-08-15T11:48:36.680072Z",
     "start_time": "2018-08-15T11:48:36.674362Z"
    }
   },
   "outputs": [
    {
     "data": {
      "text/plain": [
       "['/Users/npatta01/.kaggle/datasets/goweiting/ted-talks-transcript/subtitles/Jc2F3-nawnI/Jc2F3-nawnI.en.vtt',\n",
       " '/Users/npatta01/.kaggle/datasets/goweiting/ted-talks-transcript/subtitles/PdxPCeWw75k/PdxPCeWw75k.en.vtt']"
      ]
     },
     "execution_count": 37,
     "metadata": {},
     "output_type": "execute_result"
    }
   ],
   "source": [
    "subtitle_files[0:2]"
   ]
  },
  {
   "cell_type": "code",
   "execution_count": 38,
   "metadata": {
    "ExecuteTime": {
     "end_time": "2018-08-15T11:48:36.986939Z",
     "start_time": "2018-08-15T11:48:36.976641Z"
    }
   },
   "outputs": [],
   "source": [
    "def parse_subtitle(file_name) -> str:\n",
    "    subs = pysrt.open(file_name)\n",
    "    content = \"\"\n",
    "    for s in subs:\n",
    "        content = content + s.text_without_tags + \"\\n\"\n",
    "    return content\n",
    "\n",
    "def get_subtitles(subtitle_files) -> pd.DataFrame :\n",
    "    parsed_subtitles = []\n",
    "    for file in tqdm(subtitle_files):\n",
    "        \n",
    "        res = re.match('.*/(.*).en.vtt',file)\n",
    "        talk_id  = res.group(1)\n",
    "        content = parse_subtitle(file)\n",
    "        \n",
    "        parsed_subtitles.append ({'id': talk_id , 'transcript': content})\n",
    "        \n",
    "    return pd.DataFrame(parsed_subtitles)\n",
    "        "
   ]
  },
  {
   "cell_type": "code",
   "execution_count": 39,
   "metadata": {
    "ExecuteTime": {
     "end_time": "2018-08-15T11:49:00.040909Z",
     "start_time": "2018-08-15T11:48:39.704899Z"
    }
   },
   "outputs": [
    {
     "name": "stderr",
     "output_type": "stream",
     "text": [
      "100%|██████████| 2490/2490 [00:20<00:00, 122.50it/s]\n"
     ]
    }
   ],
   "source": [
    "subtitle_files_df = get_subtitles(subtitle_files)"
   ]
  },
  {
   "cell_type": "code",
   "execution_count": 40,
   "metadata": {
    "ExecuteTime": {
     "end_time": "2018-08-15T11:49:01.139907Z",
     "start_time": "2018-08-15T11:49:01.130507Z"
    }
   },
   "outputs": [
    {
     "data": {
      "text/html": [
       "<div>\n",
       "<style scoped>\n",
       "    .dataframe tbody tr th:only-of-type {\n",
       "        vertical-align: middle;\n",
       "    }\n",
       "\n",
       "    .dataframe tbody tr th {\n",
       "        vertical-align: top;\n",
       "    }\n",
       "\n",
       "    .dataframe thead th {\n",
       "        text-align: right;\n",
       "    }\n",
       "</style>\n",
       "<table border=\"1\" class=\"dataframe\">\n",
       "  <thead>\n",
       "    <tr style=\"text-align: right;\">\n",
       "      <th></th>\n",
       "      <th>id</th>\n",
       "      <th>transcript</th>\n",
       "    </tr>\n",
       "  </thead>\n",
       "  <tbody>\n",
       "    <tr>\n",
       "      <th>0</th>\n",
       "      <td>Jc2F3-nawnI</td>\n",
       "      <td>So I want to tell you a story -- an encouragin...</td>\n",
       "    </tr>\n",
       "    <tr>\n",
       "      <th>1</th>\n",
       "      <td>PdxPCeWw75k</td>\n",
       "      <td>Translator: Joseph Geni\\nReviewer: Morton Bast...</td>\n",
       "    </tr>\n",
       "    <tr>\n",
       "      <th>2</th>\n",
       "      <td>CLWRclarri0</td>\n",
       "      <td>How do you feed a city?\\nIt's one of the great...</td>\n",
       "    </tr>\n",
       "    <tr>\n",
       "      <th>3</th>\n",
       "      <td>CijsvAGU6-c</td>\n",
       "      <td>Good afternoon, everybody.\\nI've got something...</td>\n",
       "    </tr>\n",
       "    <tr>\n",
       "      <th>4</th>\n",
       "      <td>j7RsRnYlz7I</td>\n",
       "      <td>A couple of years ago,\\nHarvard Business Schoo...</td>\n",
       "    </tr>\n",
       "  </tbody>\n",
       "</table>\n",
       "</div>"
      ],
      "text/plain": [
       "            id                                         transcript\n",
       "0  Jc2F3-nawnI  So I want to tell you a story -- an encouragin...\n",
       "1  PdxPCeWw75k  Translator: Joseph Geni\\nReviewer: Morton Bast...\n",
       "2  CLWRclarri0  How do you feed a city?\\nIt's one of the great...\n",
       "3  CijsvAGU6-c  Good afternoon, everybody.\\nI've got something...\n",
       "4  j7RsRnYlz7I  A couple of years ago,\\nHarvard Business Schoo..."
      ]
     },
     "execution_count": 40,
     "metadata": {},
     "output_type": "execute_result"
    }
   ],
   "source": [
    "subtitle_files_df.head()"
   ]
  },
  {
   "cell_type": "code",
   "execution_count": 41,
   "metadata": {
    "ExecuteTime": {
     "end_time": "2018-08-15T11:49:01.412327Z",
     "start_time": "2018-08-15T11:49:01.408651Z"
    }
   },
   "outputs": [
    {
     "data": {
      "text/plain": [
       "2531"
      ]
     },
     "execution_count": 41,
     "metadata": {},
     "output_type": "execute_result"
    }
   ],
   "source": [
    "len(metadata_df)"
   ]
  },
  {
   "cell_type": "code",
   "execution_count": 42,
   "metadata": {
    "ExecuteTime": {
     "end_time": "2018-08-15T11:49:01.942860Z",
     "start_time": "2018-08-15T11:49:01.938848Z"
    }
   },
   "outputs": [
    {
     "data": {
      "text/plain": [
       "2490"
      ]
     },
     "execution_count": 42,
     "metadata": {},
     "output_type": "execute_result"
    }
   ],
   "source": [
    "len(subtitle_files_df)"
   ]
  },
  {
   "cell_type": "code",
   "execution_count": 43,
   "metadata": {
    "ExecuteTime": {
     "end_time": "2018-08-15T11:49:02.882227Z",
     "start_time": "2018-08-15T11:49:02.857762Z"
    }
   },
   "outputs": [],
   "source": [
    "df = pd.merge(metadata_df,subtitle_files_df, on='id')"
   ]
  },
  {
   "cell_type": "code",
   "execution_count": null,
   "metadata": {},
   "outputs": [],
   "source": []
  },
  {
   "cell_type": "code",
   "execution_count": 44,
   "metadata": {
    "ExecuteTime": {
     "end_time": "2018-08-15T11:49:04.384715Z",
     "start_time": "2018-08-15T11:49:04.377909Z"
    }
   },
   "outputs": [
    {
     "data": {
      "text/plain": [
       "datetime.datetime(2010, 9, 29, 0, 0)"
      ]
     },
     "execution_count": 44,
     "metadata": {},
     "output_type": "execute_result"
    }
   ],
   "source": [
    "datetime.strptime('20100929', '%Y%m%d')\n"
   ]
  },
  {
   "cell_type": "code",
   "execution_count": 45,
   "metadata": {
    "ExecuteTime": {
     "end_time": "2018-08-15T11:49:04.824728Z",
     "start_time": "2018-08-15T11:49:04.808202Z"
    }
   },
   "outputs": [
    {
     "data": {
      "text/html": [
       "<div>\n",
       "<style scoped>\n",
       "    .dataframe tbody tr th:only-of-type {\n",
       "        vertical-align: middle;\n",
       "    }\n",
       "\n",
       "    .dataframe tbody tr th {\n",
       "        vertical-align: top;\n",
       "    }\n",
       "\n",
       "    .dataframe thead th {\n",
       "        text-align: right;\n",
       "    }\n",
       "</style>\n",
       "<table border=\"1\" class=\"dataframe\">\n",
       "  <thead>\n",
       "    <tr style=\"text-align: right;\">\n",
       "      <th></th>\n",
       "      <th>average_rating</th>\n",
       "      <th>categories</th>\n",
       "      <th>description</th>\n",
       "      <th>dislike_count</th>\n",
       "      <th>duration</th>\n",
       "      <th>id</th>\n",
       "      <th>like_count</th>\n",
       "      <th>thumbnail</th>\n",
       "      <th>title</th>\n",
       "      <th>upload_date</th>\n",
       "      <th>view_count</th>\n",
       "      <th>webpage_url</th>\n",
       "      <th>transcript</th>\n",
       "    </tr>\n",
       "  </thead>\n",
       "  <tbody>\n",
       "    <tr>\n",
       "      <th>0</th>\n",
       "      <td>4.729469</td>\n",
       "      <td>[Nonprofits &amp; Activism]</td>\n",
       "      <td>http://www.ted.com When German psychologist In...</td>\n",
       "      <td>14.0</td>\n",
       "      <td>830</td>\n",
       "      <td>Jc2F3-nawnI</td>\n",
       "      <td>193.0</td>\n",
       "      <td>https://i.ytimg.com/vi/Jc2F3-nawnI/hqdefault.jpg</td>\n",
       "      <td>Inge Missmahl brings peace to the minds of Afg...</td>\n",
       "      <td>20100929</td>\n",
       "      <td>20695</td>\n",
       "      <td>https://www.youtube.com/watch?v=Jc2F3-nawnI</td>\n",
       "      <td>So I want to tell you a story -- an encouragin...</td>\n",
       "    </tr>\n",
       "    <tr>\n",
       "      <th>1</th>\n",
       "      <td>4.940791</td>\n",
       "      <td>[News &amp; Politics]</td>\n",
       "      <td>As a child growing up in North Korea, Hyeonseo...</td>\n",
       "      <td>2151.0</td>\n",
       "      <td>735</td>\n",
       "      <td>PdxPCeWw75k</td>\n",
       "      <td>143165.0</td>\n",
       "      <td>https://i.ytimg.com/vi/PdxPCeWw75k/maxresdefau...</td>\n",
       "      <td>My escape from North Korea | Hyeonseo Lee</td>\n",
       "      <td>20130320</td>\n",
       "      <td>6702386</td>\n",
       "      <td>https://www.youtube.com/watch?v=PdxPCeWw75k</td>\n",
       "      <td>Translator: Joseph Geni\\nReviewer: Morton Bast...</td>\n",
       "    </tr>\n",
       "    <tr>\n",
       "      <th>2</th>\n",
       "      <td>4.554828</td>\n",
       "      <td>[News &amp; Politics]</td>\n",
       "      <td>http://www.ted.com Every day, in a city the si...</td>\n",
       "      <td>68.0</td>\n",
       "      <td>938</td>\n",
       "      <td>CLWRclarri0</td>\n",
       "      <td>543.0</td>\n",
       "      <td>https://i.ytimg.com/vi/CLWRclarri0/hqdefault.jpg</td>\n",
       "      <td>Carolyn Steel: How food shapes our cities</td>\n",
       "      <td>20091005</td>\n",
       "      <td>125975</td>\n",
       "      <td>https://www.youtube.com/watch?v=CLWRclarri0</td>\n",
       "      <td>How do you feed a city?\\nIt's one of the great...</td>\n",
       "    </tr>\n",
       "    <tr>\n",
       "      <th>3</th>\n",
       "      <td>4.706122</td>\n",
       "      <td>[Science &amp; Technology]</td>\n",
       "      <td>http://www.ted.com With his team at SENSEable ...</td>\n",
       "      <td>54.0</td>\n",
       "      <td>947</td>\n",
       "      <td>CijsvAGU6-c</td>\n",
       "      <td>681.0</td>\n",
       "      <td>https://i.ytimg.com/vi/CijsvAGU6-c/hqdefault.jpg</td>\n",
       "      <td>Carlo Ratti: Architecture that senses and resp...</td>\n",
       "      <td>20110503</td>\n",
       "      <td>78537</td>\n",
       "      <td>https://www.youtube.com/watch?v=CijsvAGU6-c</td>\n",
       "      <td>Good afternoon, everybody.\\nI've got something...</td>\n",
       "    </tr>\n",
       "    <tr>\n",
       "      <th>4</th>\n",
       "      <td>4.732777</td>\n",
       "      <td>[Travel &amp; Events]</td>\n",
       "      <td>Almost everything we own and use, at some poin...</td>\n",
       "      <td>96.0</td>\n",
       "      <td>684</td>\n",
       "      <td>j7RsRnYlz7I</td>\n",
       "      <td>1341.0</td>\n",
       "      <td>https://i.ytimg.com/vi/j7RsRnYlz7I/maxresdefau...</td>\n",
       "      <td>Rose George: Inside the secret shipping industry</td>\n",
       "      <td>20131213</td>\n",
       "      <td>144699</td>\n",
       "      <td>https://www.youtube.com/watch?v=j7RsRnYlz7I</td>\n",
       "      <td>A couple of years ago,\\nHarvard Business Schoo...</td>\n",
       "    </tr>\n",
       "  </tbody>\n",
       "</table>\n",
       "</div>"
      ],
      "text/plain": [
       "   average_rating               categories  \\\n",
       "0        4.729469  [Nonprofits & Activism]   \n",
       "1        4.940791        [News & Politics]   \n",
       "2        4.554828        [News & Politics]   \n",
       "3        4.706122   [Science & Technology]   \n",
       "4        4.732777        [Travel & Events]   \n",
       "\n",
       "                                         description  dislike_count  duration  \\\n",
       "0  http://www.ted.com When German psychologist In...           14.0       830   \n",
       "1  As a child growing up in North Korea, Hyeonseo...         2151.0       735   \n",
       "2  http://www.ted.com Every day, in a city the si...           68.0       938   \n",
       "3  http://www.ted.com With his team at SENSEable ...           54.0       947   \n",
       "4  Almost everything we own and use, at some poin...           96.0       684   \n",
       "\n",
       "            id  like_count                                          thumbnail  \\\n",
       "0  Jc2F3-nawnI       193.0   https://i.ytimg.com/vi/Jc2F3-nawnI/hqdefault.jpg   \n",
       "1  PdxPCeWw75k    143165.0  https://i.ytimg.com/vi/PdxPCeWw75k/maxresdefau...   \n",
       "2  CLWRclarri0       543.0   https://i.ytimg.com/vi/CLWRclarri0/hqdefault.jpg   \n",
       "3  CijsvAGU6-c       681.0   https://i.ytimg.com/vi/CijsvAGU6-c/hqdefault.jpg   \n",
       "4  j7RsRnYlz7I      1341.0  https://i.ytimg.com/vi/j7RsRnYlz7I/maxresdefau...   \n",
       "\n",
       "                                               title upload_date  view_count  \\\n",
       "0  Inge Missmahl brings peace to the minds of Afg...    20100929       20695   \n",
       "1          My escape from North Korea | Hyeonseo Lee    20130320     6702386   \n",
       "2          Carolyn Steel: How food shapes our cities    20091005      125975   \n",
       "3  Carlo Ratti: Architecture that senses and resp...    20110503       78537   \n",
       "4   Rose George: Inside the secret shipping industry    20131213      144699   \n",
       "\n",
       "                                   webpage_url  \\\n",
       "0  https://www.youtube.com/watch?v=Jc2F3-nawnI   \n",
       "1  https://www.youtube.com/watch?v=PdxPCeWw75k   \n",
       "2  https://www.youtube.com/watch?v=CLWRclarri0   \n",
       "3  https://www.youtube.com/watch?v=CijsvAGU6-c   \n",
       "4  https://www.youtube.com/watch?v=j7RsRnYlz7I   \n",
       "\n",
       "                                          transcript  \n",
       "0  So I want to tell you a story -- an encouragin...  \n",
       "1  Translator: Joseph Geni\\nReviewer: Morton Bast...  \n",
       "2  How do you feed a city?\\nIt's one of the great...  \n",
       "3  Good afternoon, everybody.\\nI've got something...  \n",
       "4  A couple of years ago,\\nHarvard Business Schoo...  "
      ]
     },
     "execution_count": 45,
     "metadata": {},
     "output_type": "execute_result"
    }
   ],
   "source": [
    "df.head()"
   ]
  },
  {
   "cell_type": "code",
   "execution_count": 46,
   "metadata": {
    "ExecuteTime": {
     "end_time": "2018-08-15T11:53:53.517998Z",
     "start_time": "2018-08-15T11:53:53.454990Z"
    }
   },
   "outputs": [],
   "source": [
    "?df.to_csv"
   ]
  },
  {
   "cell_type": "code",
   "execution_count": 47,
   "metadata": {
    "ExecuteTime": {
     "end_time": "2018-08-15T11:54:16.820150Z",
     "start_time": "2018-08-15T11:54:13.380944Z"
    }
   },
   "outputs": [],
   "source": [
    "df.to_csv(\"talks.csv.gzip\",compression='gzip')"
   ]
  },
  {
   "cell_type": "code",
   "execution_count": null,
   "metadata": {},
   "outputs": [],
   "source": []
  }
 ],
 "metadata": {
  "celltoolbar": "Slideshow",
  "kernelspec": {
   "display_name": "Python [default]",
   "language": "python",
   "name": "python3"
  },
  "language_info": {
   "codemirror_mode": {
    "name": "ipython",
    "version": 3
   },
   "file_extension": ".py",
   "mimetype": "text/x-python",
   "name": "python",
   "nbconvert_exporter": "python",
   "pygments_lexer": "ipython3",
   "version": "3.6.5"
  }
 },
 "nbformat": 4,
 "nbformat_minor": 2
}
