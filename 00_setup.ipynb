{
 "cells": [
  {
   "cell_type": "code",
   "execution_count": null,
   "metadata": {
    "ExecuteTime": {
     "end_time": "2018-08-15T11:41:11.326524Z",
     "start_time": "2018-08-15T11:41:08.130078Z"
    },
    "scrolled": false
   },
   "outputs": [],
   "source": [
    "!pip install pysrt"
   ]
  },
  {
   "cell_type": "markdown",
   "metadata": {},
   "source": [
    "# Imports"
   ]
  },
  {
   "cell_type": "code",
   "execution_count": 1,
   "metadata": {
    "ExecuteTime": {
     "end_time": "2018-08-17T23:36:29.411124Z",
     "start_time": "2018-08-17T23:36:28.602326Z"
    },
    "slideshow": {
     "slide_type": "slide"
    }
   },
   "outputs": [],
   "source": [
    "import pandas as pd\n",
    "import glob\n",
    "import json\n",
    "from tqdm import tqdm\n",
    "import re\n",
    "from datetime import datetime\n",
    "import gensim\n",
    "import logging\n",
    "import os\n",
    "import shutil\n",
    "import pysrt"
   ]
  },
  {
   "cell_type": "code",
   "execution_count": 2,
   "metadata": {
    "ExecuteTime": {
     "end_time": "2018-08-17T23:36:29.415531Z",
     "start_time": "2018-08-17T23:36:29.412941Z"
    },
    "slideshow": {
     "slide_type": "slide"
    }
   },
   "outputs": [],
   "source": [
    "logging.basicConfig(format='%(levelname)s : %(message)s', level=logging.INFO)\n",
    "logging.root.level = logging.INFO  # ipython sometimes messes up the logging setup; restore"
   ]
  },
  {
   "cell_type": "code",
   "execution_count": null,
   "metadata": {
    "ExecuteTime": {
     "end_time": "2018-08-15T11:41:11.905925Z",
     "start_time": "2018-08-15T11:41:11.896507Z"
    }
   },
   "outputs": [],
   "source": []
  },
  {
   "cell_type": "markdown",
   "metadata": {
    "collapsed": true
   },
   "source": [
    "\n",
    "kaggle datasets download -d goweiting/ted-talks-transcript    \n",
    "Use the Kaggle API to download dataset files.      \n",
    "https://github.com/Kaggle/kaggle-api    \n",
    "\n",
    "https://www.kaggle.com/goweiting/ted-talks-transcript/data\n",
    "\n",
    "Doc2vec   \n",
    "https://medium.com/scaleabout/a-gentle-introduction-to-doc2vec-db3e8c0cce5e"
   ]
  },
  {
   "cell_type": "code",
   "execution_count": null,
   "metadata": {},
   "outputs": [],
   "source": []
  },
  {
   "cell_type": "code",
   "execution_count": null,
   "metadata": {},
   "outputs": [],
   "source": []
  },
  {
   "cell_type": "code",
   "execution_count": 3,
   "metadata": {
    "ExecuteTime": {
     "end_time": "2018-08-17T23:36:31.870421Z",
     "start_time": "2018-08-17T23:36:31.736019Z"
    }
   },
   "outputs": [
    {
     "name": "stdout",
     "output_type": "stream",
     "text": [
      "total 2283296\r\n",
      "drwxr-xr-x     9 npatta01  staff   288B Aug 15 07:47 \u001b[34m.\u001b[m\u001b[m\r\n",
      "drwxr-xr-x     4 npatta01  staff   128B Aug 15 07:44 \u001b[34m..\u001b[m\u001b[m\r\n",
      "-rw-r--r--@    1 npatta01  staff   6.0K Aug 15 07:46 .DS_Store\r\n",
      "drwxrwxr-x  2533 npatta01  staff    79K Jan 27  2018 \u001b[34msubtitles\u001b[m\u001b[m\r\n",
      "-rw-r--r--@    1 npatta01  staff   535M Aug 15 07:42 ted-talks-transcript.zip\r\n",
      "-rw-r--r--     1 npatta01  staff   773B Jan 27  2018 tedDirector.stats.csv\r\n",
      "-rw-r--r--     1 npatta01  staff   543M Jan 27  2018 tedDirector.zip\r\n",
      "-rw-r--r--     1 npatta01  staff   7.3M Jan 27  2018 ted_metadata_kaggle.csv\r\n",
      "-rw-r--r--     1 npatta01  staff   3.4M Jan 27  2018 ted_metadata_youtube.csv\r\n"
     ]
    }
   ],
   "source": [
    "!ls -lah ~/.kaggle/datasets/goweiting/ted-talks-transcript/"
   ]
  },
  {
   "cell_type": "code",
   "execution_count": null,
   "metadata": {
    "ExecuteTime": {
     "end_time": "2018-08-17T02:06:44.200401Z",
     "start_time": "2018-08-17T02:06:44.197541Z"
    }
   },
   "outputs": [],
   "source": [
    "#!unzip /Users/nidhin/.kaggle/datasets/goweiting/ted-talks-transcript/tedDirector.zip"
   ]
  },
  {
   "cell_type": "code",
   "execution_count": 3,
   "metadata": {
    "ExecuteTime": {
     "end_time": "2018-08-17T02:14:11.636757Z",
     "start_time": "2018-08-17T02:14:11.634444Z"
    }
   },
   "outputs": [],
   "source": [
    "base_path= os.path.expanduser(\"~/.kaggle/datasets/goweiting/ted-talks-transcript\")"
   ]
  },
  {
   "cell_type": "code",
   "execution_count": null,
   "metadata": {
    "ExecuteTime": {
     "end_time": "2018-08-17T02:06:47.157010Z",
     "start_time": "2018-08-17T02:06:47.154101Z"
    }
   },
   "outputs": [],
   "source": [
    "#shutil.rmtree(base_path, ignore_errors=True)\n",
    "#os.makedirs(base_path)"
   ]
  },
  {
   "cell_type": "code",
   "execution_count": null,
   "metadata": {
    "ExecuteTime": {
     "end_time": "2018-08-17T02:06:47.740009Z",
     "start_time": "2018-08-17T02:06:47.616123Z"
    }
   },
   "outputs": [],
   "source": [
    "!ls ~/.kaggle/datasets/goweiting/ted-talks-transcript\n"
   ]
  },
  {
   "cell_type": "code",
   "execution_count": null,
   "metadata": {
    "ExecuteTime": {
     "end_time": "2018-08-15T11:42:16.904257Z",
     "start_time": "2018-08-15T11:41:17.606221Z"
    }
   },
   "outputs": [],
   "source": [
    "!kaggle datasets download -d goweiting/ted-talks-transcript -p {base_path}/"
   ]
  },
  {
   "cell_type": "code",
   "execution_count": null,
   "metadata": {
    "ExecuteTime": {
     "end_time": "2018-08-15T11:42:17.032927Z",
     "start_time": "2018-08-15T11:42:16.906906Z"
    }
   },
   "outputs": [],
   "source": [
    "!ls ~/.kaggle/datasets/goweiting/ted-talks-transcript"
   ]
  },
  {
   "cell_type": "code",
   "execution_count": 4,
   "metadata": {
    "ExecuteTime": {
     "end_time": "2018-08-17T02:14:14.835930Z",
     "start_time": "2018-08-17T02:14:14.709186Z"
    }
   },
   "outputs": [
    {
     "name": "stdout",
     "output_type": "stream",
     "text": [
      "\u001b[34msubtitles\u001b[m\u001b[m                tedDirector.stats.csv    ted_metadata_kaggle.csv\r\n",
      "ted-talks-transcript.zip tedDirector.zip          ted_metadata_youtube.csv\r\n"
     ]
    }
   ],
   "source": [
    "!ls {base_path}"
   ]
  },
  {
   "cell_type": "code",
   "execution_count": null,
   "metadata": {
    "ExecuteTime": {
     "end_time": "2018-08-15T11:48:08.926905Z",
     "start_time": "2018-08-15T11:47:34.557746Z"
    }
   },
   "outputs": [],
   "source": [
    "!unzip -q -o {base_path}/ted-talks-transcript.zip -d {base_path}\n",
    "!unzip -q -o {base_path}/tedDirector.zip -d {base_path}"
   ]
  },
  {
   "cell_type": "code",
   "execution_count": null,
   "metadata": {
    "ExecuteTime": {
     "end_time": "2018-08-15T11:48:10.175016Z",
     "start_time": "2018-08-15T11:48:10.171314Z"
    }
   },
   "outputs": [],
   "source": [
    "print(f\"{base_path}subtitles/*.info.json\")"
   ]
  },
  {
   "cell_type": "code",
   "execution_count": 5,
   "metadata": {
    "ExecuteTime": {
     "end_time": "2018-08-17T02:14:17.540034Z",
     "start_time": "2018-08-17T02:14:17.315517Z"
    }
   },
   "outputs": [],
   "source": [
    "meta_data_files = glob.glob(f\"{base_path}/subtitles/*/*.info.json\")"
   ]
  },
  {
   "cell_type": "code",
   "execution_count": 6,
   "metadata": {
    "ExecuteTime": {
     "end_time": "2018-08-17T02:14:17.662406Z",
     "start_time": "2018-08-17T02:14:17.649088Z"
    }
   },
   "outputs": [
    {
     "data": {
      "text/plain": [
       "2531"
      ]
     },
     "execution_count": 6,
     "metadata": {},
     "output_type": "execute_result"
    }
   ],
   "source": [
    "len(meta_data_files)"
   ]
  },
  {
   "cell_type": "code",
   "execution_count": 7,
   "metadata": {
    "ExecuteTime": {
     "end_time": "2018-08-17T02:14:18.893741Z",
     "start_time": "2018-08-17T02:14:18.889259Z"
    },
    "code_folding": []
   },
   "outputs": [],
   "source": [
    "def parse_video_info(metadata):\n",
    "    keys = [\"webpage_url\", \"view_count\", \"upload_date\", \"title\", \"thumbnail\" \n",
    "            , \"duration\" , \"dislike_count\" , \"like_count\"\n",
    "            , \"description\", \"categories\" ,\"id\", \"average_rating\"\n",
    "            ]\n",
    "    \n",
    "    new_dict = {}\n",
    "    for key in keys:\n",
    "        new_dict[key] = metadata.get(key,None)\n",
    "        \n",
    "    return new_dict\n",
    "\n",
    "def get_metadata(meta_data_files) -> pd.DataFrame:\n",
    "    parsed_metadatas = []\n",
    "    for file in tqdm(meta_data_files):\n",
    "        with open(file) as f:\n",
    "            content = json.load(f)\n",
    "        \n",
    "        parsed_metadata = parse_video_info(content)\n",
    "        parsed_metadatas.append(parsed_metadata)\n",
    "\n",
    "    return pd.DataFrame(parsed_metadatas)\n"
   ]
  },
  {
   "cell_type": "code",
   "execution_count": 8,
   "metadata": {
    "ExecuteTime": {
     "end_time": "2018-08-17T02:14:29.673787Z",
     "start_time": "2018-08-17T02:14:29.641681Z"
    }
   },
   "outputs": [],
   "source": [
    "?pd.to_datetime"
   ]
  },
  {
   "cell_type": "code",
   "execution_count": 9,
   "metadata": {
    "ExecuteTime": {
     "end_time": "2018-08-17T02:14:30.592129Z",
     "start_time": "2018-08-17T02:14:29.889070Z"
    }
   },
   "outputs": [
    {
     "name": "stderr",
     "output_type": "stream",
     "text": [
      "100%|██████████| 2531/2531 [00:00<00:00, 3736.85it/s]\n"
     ]
    }
   ],
   "source": [
    "metadata_df = get_metadata(meta_data_files)\n",
    "metadata_df['upload_date']=pd.to_datetime(metadata_df['upload_date'],format='%Y%m%d')"
   ]
  },
  {
   "cell_type": "code",
   "execution_count": 11,
   "metadata": {
    "ExecuteTime": {
     "end_time": "2018-08-17T02:14:42.969761Z",
     "start_time": "2018-08-17T02:14:42.952110Z"
    }
   },
   "outputs": [
    {
     "data": {
      "application/vnd.jupyter.widget-view+json": {
       "model_id": "0c6e516af864468cb94c29f8b140c2bf",
       "version_major": 2,
       "version_minor": 0
      }
     },
     "metadata": {},
     "output_type": "display_data"
    }
   ],
   "source": [
    "metadata_df.head(20)"
   ]
  },
  {
   "cell_type": "code",
   "execution_count": null,
   "metadata": {},
   "outputs": [],
   "source": []
  },
  {
   "cell_type": "code",
   "execution_count": 12,
   "metadata": {
    "ExecuteTime": {
     "end_time": "2018-08-17T02:16:35.402931Z",
     "start_time": "2018-08-17T02:16:35.178893Z"
    }
   },
   "outputs": [],
   "source": [
    "subtitle_files = glob.glob(f\"{base_path}/subtitles/*/*.en.vtt\")"
   ]
  },
  {
   "cell_type": "code",
   "execution_count": 13,
   "metadata": {
    "ExecuteTime": {
     "end_time": "2018-08-17T02:16:35.877153Z",
     "start_time": "2018-08-17T02:16:35.873920Z"
    }
   },
   "outputs": [
    {
     "data": {
      "text/plain": [
       "['/Users/npatta01/.kaggle/datasets/goweiting/ted-talks-transcript/subtitles/Jc2F3-nawnI/Jc2F3-nawnI.en.vtt',\n",
       " '/Users/npatta01/.kaggle/datasets/goweiting/ted-talks-transcript/subtitles/PdxPCeWw75k/PdxPCeWw75k.en.vtt']"
      ]
     },
     "execution_count": 13,
     "metadata": {},
     "output_type": "execute_result"
    }
   ],
   "source": [
    "subtitle_files[0:2]"
   ]
  },
  {
   "cell_type": "code",
   "execution_count": 14,
   "metadata": {
    "ExecuteTime": {
     "end_time": "2018-08-17T02:16:37.549517Z",
     "start_time": "2018-08-17T02:16:37.544696Z"
    }
   },
   "outputs": [],
   "source": [
    "def parse_subtitle(file_name) -> str:\n",
    "    subs = pysrt.open(file_name)\n",
    "    content = \"\"\n",
    "    for s in subs:\n",
    "        content = content + s.text_without_tags + \"\\n\"\n",
    "    return content\n",
    "\n",
    "def get_subtitles(subtitle_files) -> pd.DataFrame :\n",
    "    parsed_subtitles = []\n",
    "    for file in tqdm(subtitle_files):\n",
    "        \n",
    "        res = re.match('.*/(.*).en.vtt',file)\n",
    "        talk_id  = res.group(1)\n",
    "        content = parse_subtitle(file)\n",
    "        \n",
    "        parsed_subtitles.append ({'id': talk_id , 'transcript': content})\n",
    "        \n",
    "    return pd.DataFrame(parsed_subtitles)\n",
    "        "
   ]
  },
  {
   "cell_type": "code",
   "execution_count": 15,
   "metadata": {
    "ExecuteTime": {
     "end_time": "2018-08-17T02:16:59.868394Z",
     "start_time": "2018-08-17T02:16:38.720640Z"
    }
   },
   "outputs": [
    {
     "name": "stderr",
     "output_type": "stream",
     "text": [
      "100%|██████████| 2490/2490 [00:21<00:00, 117.79it/s]\n"
     ]
    }
   ],
   "source": [
    "subtitle_files_df = get_subtitles(subtitle_files)"
   ]
  },
  {
   "cell_type": "code",
   "execution_count": 16,
   "metadata": {
    "ExecuteTime": {
     "end_time": "2018-08-17T02:16:59.883635Z",
     "start_time": "2018-08-17T02:16:59.870164Z"
    }
   },
   "outputs": [
    {
     "data": {
      "application/vnd.jupyter.widget-view+json": {
       "model_id": "8bf07e6a48354f16b4c57a88ede37dde",
       "version_major": 2,
       "version_minor": 0
      }
     },
     "metadata": {},
     "output_type": "display_data"
    }
   ],
   "source": [
    "subtitle_files_df.head()"
   ]
  },
  {
   "cell_type": "code",
   "execution_count": 17,
   "metadata": {
    "ExecuteTime": {
     "end_time": "2018-08-17T02:16:59.889688Z",
     "start_time": "2018-08-17T02:16:59.886008Z"
    }
   },
   "outputs": [
    {
     "data": {
      "text/plain": [
       "2531"
      ]
     },
     "execution_count": 17,
     "metadata": {},
     "output_type": "execute_result"
    }
   ],
   "source": [
    "len(metadata_df)"
   ]
  },
  {
   "cell_type": "code",
   "execution_count": 18,
   "metadata": {
    "ExecuteTime": {
     "end_time": "2018-08-17T02:16:59.895211Z",
     "start_time": "2018-08-17T02:16:59.891742Z"
    }
   },
   "outputs": [
    {
     "data": {
      "text/plain": [
       "2490"
      ]
     },
     "execution_count": 18,
     "metadata": {},
     "output_type": "execute_result"
    }
   ],
   "source": [
    "len(subtitle_files_df)"
   ]
  },
  {
   "cell_type": "code",
   "execution_count": 19,
   "metadata": {
    "ExecuteTime": {
     "end_time": "2018-08-17T02:17:03.781321Z",
     "start_time": "2018-08-17T02:17:03.763711Z"
    }
   },
   "outputs": [],
   "source": [
    "df = pd.merge(metadata_df,subtitle_files_df, on='id')"
   ]
  },
  {
   "cell_type": "code",
   "execution_count": null,
   "metadata": {},
   "outputs": [],
   "source": []
  },
  {
   "cell_type": "code",
   "execution_count": 20,
   "metadata": {
    "ExecuteTime": {
     "end_time": "2018-08-17T02:17:11.529638Z",
     "start_time": "2018-08-17T02:17:11.509016Z"
    }
   },
   "outputs": [
    {
     "data": {
      "application/vnd.jupyter.widget-view+json": {
       "model_id": "b70206f185e046dd83f8684aba6bae73",
       "version_major": 2,
       "version_minor": 0
      }
     },
     "metadata": {},
     "output_type": "display_data"
    }
   ],
   "source": [
    "df.head()"
   ]
  },
  {
   "cell_type": "code",
   "execution_count": 21,
   "metadata": {
    "ExecuteTime": {
     "end_time": "2018-08-17T02:17:44.032807Z",
     "start_time": "2018-08-17T02:17:40.709303Z"
    }
   },
   "outputs": [],
   "source": [
    "df.to_csv(\"talks.csv.gzip\",compression='gzip',index=False)"
   ]
  },
  {
   "cell_type": "code",
   "execution_count": null,
   "metadata": {},
   "outputs": [],
   "source": []
  }
 ],
 "metadata": {
  "celltoolbar": "Slideshow",
  "kernelspec": {
   "display_name": "Python [default]",
   "language": "python",
   "name": "python3"
  },
  "language_info": {
   "codemirror_mode": {
    "name": "ipython",
    "version": 3
   },
   "file_extension": ".py",
   "mimetype": "text/x-python",
   "name": "python",
   "nbconvert_exporter": "python",
   "pygments_lexer": "ipython3",
   "version": "3.6.5"
  },
  "toc": {
   "base_numbering": 1,
   "nav_menu": {},
   "number_sections": false,
   "sideBar": false,
   "skip_h1_title": false,
   "title_cell": "Table of Contents",
   "title_sidebar": "Contents",
   "toc_cell": false,
   "toc_position": {},
   "toc_section_display": false,
   "toc_window_display": false
  }
 },
 "nbformat": 4,
 "nbformat_minor": 2
}
