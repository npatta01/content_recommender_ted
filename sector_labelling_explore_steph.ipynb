{
 "cells": [
  {
   "cell_type": "code",
   "execution_count": 1,
   "metadata": {
    "ExecuteTime": {
     "end_time": "2018-06-24T18:52:32.246667Z",
     "start_time": "2018-06-24T18:52:31.646193Z"
    }
   },
   "outputs": [],
   "source": [
    "import pandas as pd\n",
    "import pickle\n",
    "import random\n",
    "pd.set_option('display.max_columns',100)\n",
    "%matplotlib inline\n"
   ]
  },
  {
   "cell_type": "code",
   "execution_count": 2,
   "metadata": {
    "ExecuteTime": {
     "end_time": "2018-06-24T18:52:32.745700Z",
     "start_time": "2018-06-24T18:52:32.560181Z"
    }
   },
   "outputs": [],
   "source": [
    "newsData = pd.read_pickle('../Data/Feedly_Processed_DF_cleaned.pkl')\n",
    "sectorLabels = pd.read_csv('../Data/Labeled_Data/sectors.csv')[['article_id','top_sector','Sectors']]"
   ]
  },
  {
   "cell_type": "code",
   "execution_count": 3,
   "metadata": {
    "ExecuteTime": {
     "end_time": "2018-06-24T18:52:32.805109Z",
     "start_time": "2018-06-24T18:52:32.781284Z"
    }
   },
   "outputs": [
    {
     "data": {
      "text/plain": [
       "85"
      ]
     },
     "execution_count": 3,
     "metadata": {},
     "output_type": "execute_result"
    }
   ],
   "source": [
    "len(newsData[newsData['url'].str.contains('iadb')])"
   ]
  },
  {
   "cell_type": "code",
   "execution_count": 4,
   "metadata": {
    "ExecuteTime": {
     "end_time": "2018-06-24T18:52:33.292814Z",
     "start_time": "2018-06-24T18:52:33.279887Z"
    }
   },
   "outputs": [],
   "source": [
    "#remove iadb website\n",
    "newsData = newsData[~newsData['url'].str.contains('iadb')]"
   ]
  },
  {
   "cell_type": "code",
   "execution_count": 5,
   "metadata": {
    "ExecuteTime": {
     "end_time": "2018-06-24T18:52:33.542840Z",
     "start_time": "2018-06-24T18:52:33.374583Z"
    }
   },
   "outputs": [
    {
     "data": {
      "text/html": [
       "<div>\n",
       "<style scoped>\n",
       "    .dataframe tbody tr th:only-of-type {\n",
       "        vertical-align: middle;\n",
       "    }\n",
       "\n",
       "    .dataframe tbody tr th {\n",
       "        vertical-align: top;\n",
       "    }\n",
       "\n",
       "    .dataframe thead th {\n",
       "        text-align: right;\n",
       "    }\n",
       "</style>\n",
       "<table border=\"1\" class=\"dataframe\">\n",
       "  <thead>\n",
       "    <tr style=\"text-align: right;\">\n",
       "      <th></th>\n",
       "      <th>article_id</th>\n",
       "      <th>title</th>\n",
       "      <th>article_text</th>\n",
       "      <th>top_sector</th>\n",
       "      <th>content</th>\n",
       "      <th>sector</th>\n",
       "    </tr>\n",
       "  </thead>\n",
       "  <tbody>\n",
       "    <tr>\n",
       "      <th>0</th>\n",
       "      <td>5eca9220</td>\n",
       "      <td>AfDB, GCF partner on 'Desert-to-Power' scheme</td>\n",
       "      <td>The African Development Bank (AfDB), Green Cli...</td>\n",
       "      <td>MISC</td>\n",
       "      <td>AfDB, GCF partner on 'Desert-to-Power' scheme ...</td>\n",
       "      <td>MISC</td>\n",
       "    </tr>\n",
       "    <tr>\n",
       "      <th>1</th>\n",
       "      <td>ee5530a3</td>\n",
       "      <td>AIIB approves $1.5 bln of loans to India for i...</td>\n",
       "      <td>NEW DELHI, Feb 27 (Reuters) - China-based Asia...</td>\n",
       "      <td>transport</td>\n",
       "      <td>AIIB approves $1.5 bln of loans to India for i...</td>\n",
       "      <td>transport</td>\n",
       "    </tr>\n",
       "    <tr>\n",
       "      <th>2</th>\n",
       "      <td>185416ad</td>\n",
       "      <td>India, ADB sign USD 250 million loan agreement...</td>\n",
       "      <td>Here are some suggestions that matches your en...</td>\n",
       "      <td>transport</td>\n",
       "      <td>India, ADB sign USD 250 million loan agreement...</td>\n",
       "      <td>transport</td>\n",
       "    </tr>\n",
       "    <tr>\n",
       "      <th>3</th>\n",
       "      <td>ef56fb55</td>\n",
       "      <td>EIB approves $1.8bn financing for Trans-Adriat...</td>\n",
       "      <td>Compelo is using cookies\\n\\nWe use them to giv...</td>\n",
       "      <td>energy</td>\n",
       "      <td>EIB approves $1.8bn financing for Trans-Adriat...</td>\n",
       "      <td>energy</td>\n",
       "    </tr>\n",
       "    <tr>\n",
       "      <th>4</th>\n",
       "      <td>85f28676</td>\n",
       "      <td>EBRD increases its portfolio in Azerbaijan</td>\n",
       "      <td>Baku, Azerbaijan, April 9\\n\\nBy Anvar Mammadov...</td>\n",
       "      <td>industry and trade</td>\n",
       "      <td>EBRD increases its portfolio in Azerbaijan \\nB...</td>\n",
       "      <td>industry and trade</td>\n",
       "    </tr>\n",
       "  </tbody>\n",
       "</table>\n",
       "</div>"
      ],
      "text/plain": [
       "  article_id                                              title  \\\n",
       "0   5eca9220      AfDB, GCF partner on 'Desert-to-Power' scheme   \n",
       "1   ee5530a3  AIIB approves $1.5 bln of loans to India for i...   \n",
       "2   185416ad  India, ADB sign USD 250 million loan agreement...   \n",
       "3   ef56fb55  EIB approves $1.8bn financing for Trans-Adriat...   \n",
       "4   85f28676         EBRD increases its portfolio in Azerbaijan   \n",
       "\n",
       "                                        article_text          top_sector  \\\n",
       "0  The African Development Bank (AfDB), Green Cli...                MISC   \n",
       "1  NEW DELHI, Feb 27 (Reuters) - China-based Asia...           transport   \n",
       "2  Here are some suggestions that matches your en...           transport   \n",
       "3  Compelo is using cookies\\n\\nWe use them to giv...              energy   \n",
       "4  Baku, Azerbaijan, April 9\\n\\nBy Anvar Mammadov...  industry and trade   \n",
       "\n",
       "                                             content              sector  \n",
       "0  AfDB, GCF partner on 'Desert-to-Power' scheme ...                MISC  \n",
       "1  AIIB approves $1.5 bln of loans to India for i...           transport  \n",
       "2  India, ADB sign USD 250 million loan agreement...           transport  \n",
       "3  EIB approves $1.8bn financing for Trans-Adriat...              energy  \n",
       "4  EBRD increases its portfolio in Azerbaijan \\nB...  industry and trade  "
      ]
     },
     "execution_count": 5,
     "metadata": {},
     "output_type": "execute_result"
    }
   ],
   "source": [
    "articles_df = pd.merge(newsData,sectorLabels, on='article_id')[['article_id','title','article_text','top_sector']]\n",
    "articles_df['content'] = articles_df['title'] + \" \\n\" + articles_df['article_text']\n",
    "articles_df['sector'] = articles_df['top_sector']\n",
    "articles_df.head()"
   ]
  },
  {
   "cell_type": "code",
   "execution_count": 6,
   "metadata": {
    "ExecuteTime": {
     "end_time": "2018-06-24T18:52:33.763497Z",
     "start_time": "2018-06-24T18:52:33.545779Z"
    }
   },
   "outputs": [],
   "source": [
    "projects_df = pd.read_csv('../Data/EWS_Published Project_Listing_DD.csv', encoding='ISO-8859-1')\n"
   ]
  },
  {
   "cell_type": "code",
   "execution_count": 7,
   "metadata": {
    "ExecuteTime": {
     "end_time": "2018-06-24T18:52:33.814591Z",
     "start_time": "2018-06-24T18:52:33.765396Z"
    }
   },
   "outputs": [
    {
     "data": {
      "text/html": [
       "<div>\n",
       "<style scoped>\n",
       "    .dataframe tbody tr th:only-of-type {\n",
       "        vertical-align: middle;\n",
       "    }\n",
       "\n",
       "    .dataframe tbody tr th {\n",
       "        vertical-align: top;\n",
       "    }\n",
       "\n",
       "    .dataframe thead th {\n",
       "        text-align: right;\n",
       "    }\n",
       "</style>\n",
       "<table border=\"1\" class=\"dataframe\">\n",
       "  <thead>\n",
       "    <tr style=\"text-align: right;\">\n",
       "      <th></th>\n",
       "      <th>EWS ID</th>\n",
       "      <th>ProjectNumber</th>\n",
       "      <th>Published</th>\n",
       "      <th>Bank Risk Rating</th>\n",
       "      <th>Project Status</th>\n",
       "      <th>EWS URL</th>\n",
       "      <th>Detailed Analysis URL</th>\n",
       "      <th>Project Name</th>\n",
       "      <th>City</th>\n",
       "      <th>Country Count</th>\n",
       "      <th>Country 1</th>\n",
       "      <th>Country 2</th>\n",
       "      <th>Country 3</th>\n",
       "      <th>Country 4</th>\n",
       "      <th>Country 5</th>\n",
       "      <th>Country 6</th>\n",
       "      <th>Country 7</th>\n",
       "      <th>Country 8</th>\n",
       "      <th>Country 9</th>\n",
       "      <th>Country 10</th>\n",
       "      <th>Country 11</th>\n",
       "      <th>Country 12</th>\n",
       "      <th>Borrower or Client</th>\n",
       "      <th>Private Actor Count</th>\n",
       "      <th>Private Actor 1</th>\n",
       "      <th>Private Actor 2</th>\n",
       "      <th>Private Actor 3</th>\n",
       "      <th>Private Actor 4</th>\n",
       "      <th>Private Actor 5</th>\n",
       "      <th>Private Actor 6</th>\n",
       "      <th>Private Actor 7</th>\n",
       "      <th>Private Actor 8</th>\n",
       "      <th>Private Actor 9</th>\n",
       "      <th>Private Actor 10</th>\n",
       "      <th>Private Actor 11</th>\n",
       "      <th>Private Actor 12</th>\n",
       "      <th>Private Actor 13</th>\n",
       "      <th>Private Actor 14</th>\n",
       "      <th>Private Actor 15</th>\n",
       "      <th>Bank Count</th>\n",
       "      <th>Bank 1</th>\n",
       "      <th>Bank 2</th>\n",
       "      <th>Bank 3</th>\n",
       "      <th>Bank 4</th>\n",
       "      <th>Bank 5</th>\n",
       "      <th>Sector Count</th>\n",
       "      <th>Sector 1</th>\n",
       "      <th>Sector 2</th>\n",
       "      <th>Sector 3</th>\n",
       "      <th>Sector 4</th>\n",
       "      <th>Sector 5</th>\n",
       "      <th>Sector 6</th>\n",
       "      <th>Sector 7</th>\n",
       "      <th>Last Edited</th>\n",
       "      <th>Date Scraped</th>\n",
       "      <th>Date Disclosed</th>\n",
       "      <th>Board Date</th>\n",
       "      <th>Source URL</th>\n",
       "      <th>Project Cost</th>\n",
       "      <th>Investment Amount</th>\n",
       "      <th>Project Description</th>\n",
       "      <th>Contact Information</th>\n",
       "    </tr>\n",
       "  </thead>\n",
       "  <tbody>\n",
       "    <tr>\n",
       "      <th>0</th>\n",
       "      <td>29164</td>\n",
       "      <td>AFDB-P-TN-BB0-007</td>\n",
       "      <td>Published</td>\n",
       "      <td>U</td>\n",
       "      <td>Proposed</td>\n",
       "      <td>https://ews.rightsindevelopment.org/projects/p...</td>\n",
       "      <td>NaN</td>\n",
       "      <td>TUNISIA FERTILIZER PROJECT</td>\n",
       "      <td>NaN</td>\n",
       "      <td>1</td>\n",
       "      <td>Tunisia</td>\n",
       "      <td>NaN</td>\n",
       "      <td>NaN</td>\n",
       "      <td>NaN</td>\n",
       "      <td>NaN</td>\n",
       "      <td>NaN</td>\n",
       "      <td>NaN</td>\n",
       "      <td>NaN</td>\n",
       "      <td>NaN</td>\n",
       "      <td>NaN</td>\n",
       "      <td>NaN</td>\n",
       "      <td>NaN</td>\n",
       "      <td>NaN</td>\n",
       "      <td>0.0</td>\n",
       "      <td>NaN</td>\n",
       "      <td>NaN</td>\n",
       "      <td>NaN</td>\n",
       "      <td>NaN</td>\n",
       "      <td>NaN</td>\n",
       "      <td>NaN</td>\n",
       "      <td>NaN</td>\n",
       "      <td>NaN</td>\n",
       "      <td>NaN</td>\n",
       "      <td>NaN</td>\n",
       "      <td>NaN</td>\n",
       "      <td>NaN</td>\n",
       "      <td>NaN</td>\n",
       "      <td>NaN</td>\n",
       "      <td>NaN</td>\n",
       "      <td>1</td>\n",
       "      <td>African Development Bank (AFDB)</td>\n",
       "      <td>NaN</td>\n",
       "      <td>NaN</td>\n",
       "      <td>NaN</td>\n",
       "      <td>NaN</td>\n",
       "      <td>1</td>\n",
       "      <td>Agriculture and Forestry</td>\n",
       "      <td>NaN</td>\n",
       "      <td>NaN</td>\n",
       "      <td>NaN</td>\n",
       "      <td>NaN</td>\n",
       "      <td>NaN</td>\n",
       "      <td>NaN</td>\n",
       "      <td>9/4/17</td>\n",
       "      <td>8/15/17</td>\n",
       "      <td>12/13/01</td>\n",
       "      <td>12/13/01</td>\n",
       "      <td>http://www.afdb.org/en/projects-and-operations...</td>\n",
       "      <td>NaN</td>\n",
       "      <td>NaN</td>\n",
       "      <td>None</td>\n",
       "      <td>ACCOUNTABILITY MECHANISM OF AfDB\\r\\r\\r\\rThe In...</td>\n",
       "    </tr>\n",
       "    <tr>\n",
       "      <th>1</th>\n",
       "      <td>29166</td>\n",
       "      <td>AFDB-P-SZ-HAA-001</td>\n",
       "      <td>Published</td>\n",
       "      <td>U</td>\n",
       "      <td>Approved</td>\n",
       "      <td>https://ews.rightsindevelopment.org/projects/p...</td>\n",
       "      <td>NaN</td>\n",
       "      <td>LINE OF CREDIT TO SWAZILAND DEVELOPMENT FINANC...</td>\n",
       "      <td>NaN</td>\n",
       "      <td>1</td>\n",
       "      <td>Swaziland</td>\n",
       "      <td>NaN</td>\n",
       "      <td>NaN</td>\n",
       "      <td>NaN</td>\n",
       "      <td>NaN</td>\n",
       "      <td>NaN</td>\n",
       "      <td>NaN</td>\n",
       "      <td>NaN</td>\n",
       "      <td>NaN</td>\n",
       "      <td>NaN</td>\n",
       "      <td>NaN</td>\n",
       "      <td>NaN</td>\n",
       "      <td>NaN</td>\n",
       "      <td>0.0</td>\n",
       "      <td>NaN</td>\n",
       "      <td>NaN</td>\n",
       "      <td>NaN</td>\n",
       "      <td>NaN</td>\n",
       "      <td>NaN</td>\n",
       "      <td>NaN</td>\n",
       "      <td>NaN</td>\n",
       "      <td>NaN</td>\n",
       "      <td>NaN</td>\n",
       "      <td>NaN</td>\n",
       "      <td>NaN</td>\n",
       "      <td>NaN</td>\n",
       "      <td>NaN</td>\n",
       "      <td>NaN</td>\n",
       "      <td>NaN</td>\n",
       "      <td>1</td>\n",
       "      <td>African Development Bank (AFDB)</td>\n",
       "      <td>NaN</td>\n",
       "      <td>NaN</td>\n",
       "      <td>NaN</td>\n",
       "      <td>NaN</td>\n",
       "      <td>2</td>\n",
       "      <td>Finance</td>\n",
       "      <td>Industry and Trade</td>\n",
       "      <td>NaN</td>\n",
       "      <td>NaN</td>\n",
       "      <td>NaN</td>\n",
       "      <td>NaN</td>\n",
       "      <td>NaN</td>\n",
       "      <td>9/4/17</td>\n",
       "      <td>8/15/17</td>\n",
       "      <td>12/13/01</td>\n",
       "      <td>5/12/17</td>\n",
       "      <td>http://www.afdb.org/en/projects-and-operations...</td>\n",
       "      <td>4.76</td>\n",
       "      <td>1.36</td>\n",
       "      <td>None</td>\n",
       "      <td>MACHARIA Lilian Wanjiru - PIFD1\\r\\r\\r\\rACCOUNT...</td>\n",
       "    </tr>\n",
       "    <tr>\n",
       "      <th>2</th>\n",
       "      <td>29931</td>\n",
       "      <td>IADB-UR-T1100</td>\n",
       "      <td>Pending</td>\n",
       "      <td>C</td>\n",
       "      <td>Approved</td>\n",
       "      <td>https://ews.rightsindevelopment.org/projects/u...</td>\n",
       "      <td>NaN</td>\n",
       "      <td>Supporting INEFOP in Improving Labor Training ...</td>\n",
       "      <td>NaN</td>\n",
       "      <td>1</td>\n",
       "      <td>Uruguay</td>\n",
       "      <td>NaN</td>\n",
       "      <td>NaN</td>\n",
       "      <td>NaN</td>\n",
       "      <td>NaN</td>\n",
       "      <td>NaN</td>\n",
       "      <td>NaN</td>\n",
       "      <td>NaN</td>\n",
       "      <td>NaN</td>\n",
       "      <td>NaN</td>\n",
       "      <td>NaN</td>\n",
       "      <td>NaN</td>\n",
       "      <td>NaN</td>\n",
       "      <td>0.0</td>\n",
       "      <td>NaN</td>\n",
       "      <td>NaN</td>\n",
       "      <td>NaN</td>\n",
       "      <td>NaN</td>\n",
       "      <td>NaN</td>\n",
       "      <td>NaN</td>\n",
       "      <td>NaN</td>\n",
       "      <td>NaN</td>\n",
       "      <td>NaN</td>\n",
       "      <td>NaN</td>\n",
       "      <td>NaN</td>\n",
       "      <td>NaN</td>\n",
       "      <td>NaN</td>\n",
       "      <td>NaN</td>\n",
       "      <td>NaN</td>\n",
       "      <td>1</td>\n",
       "      <td>Inter-American Development Bank (IADB)</td>\n",
       "      <td>NaN</td>\n",
       "      <td>NaN</td>\n",
       "      <td>NaN</td>\n",
       "      <td>NaN</td>\n",
       "      <td>0</td>\n",
       "      <td>NaN</td>\n",
       "      <td>NaN</td>\n",
       "      <td>NaN</td>\n",
       "      <td>NaN</td>\n",
       "      <td>NaN</td>\n",
       "      <td>NaN</td>\n",
       "      <td>NaN</td>\n",
       "      <td>NaN</td>\n",
       "      <td>10/3/17</td>\n",
       "      <td>12/31/99</td>\n",
       "      <td>7/16/13</td>\n",
       "      <td>http://www.iadb.org/en/projects/project-descri...</td>\n",
       "      <td>0.44</td>\n",
       "      <td>0.44</td>\n",
       "      <td>NaN</td>\n",
       "      <td>NaN</td>\n",
       "    </tr>\n",
       "    <tr>\n",
       "      <th>3</th>\n",
       "      <td>30104</td>\n",
       "      <td>IADB-BR-T1279</td>\n",
       "      <td>Pending</td>\n",
       "      <td>C</td>\n",
       "      <td>Approved</td>\n",
       "      <td>https://ews.rightsindevelopment.org/projects/b...</td>\n",
       "      <td>NaN</td>\n",
       "      <td>Racial Equality and Social, Economic, Politica...</td>\n",
       "      <td>NaN</td>\n",
       "      <td>1</td>\n",
       "      <td>Brazil</td>\n",
       "      <td>NaN</td>\n",
       "      <td>NaN</td>\n",
       "      <td>NaN</td>\n",
       "      <td>NaN</td>\n",
       "      <td>NaN</td>\n",
       "      <td>NaN</td>\n",
       "      <td>NaN</td>\n",
       "      <td>NaN</td>\n",
       "      <td>NaN</td>\n",
       "      <td>NaN</td>\n",
       "      <td>NaN</td>\n",
       "      <td>NaN</td>\n",
       "      <td>0.0</td>\n",
       "      <td>NaN</td>\n",
       "      <td>NaN</td>\n",
       "      <td>NaN</td>\n",
       "      <td>NaN</td>\n",
       "      <td>NaN</td>\n",
       "      <td>NaN</td>\n",
       "      <td>NaN</td>\n",
       "      <td>NaN</td>\n",
       "      <td>NaN</td>\n",
       "      <td>NaN</td>\n",
       "      <td>NaN</td>\n",
       "      <td>NaN</td>\n",
       "      <td>NaN</td>\n",
       "      <td>NaN</td>\n",
       "      <td>NaN</td>\n",
       "      <td>1</td>\n",
       "      <td>Inter-American Development Bank (IADB)</td>\n",
       "      <td>NaN</td>\n",
       "      <td>NaN</td>\n",
       "      <td>NaN</td>\n",
       "      <td>NaN</td>\n",
       "      <td>0</td>\n",
       "      <td>NaN</td>\n",
       "      <td>NaN</td>\n",
       "      <td>NaN</td>\n",
       "      <td>NaN</td>\n",
       "      <td>NaN</td>\n",
       "      <td>NaN</td>\n",
       "      <td>NaN</td>\n",
       "      <td>NaN</td>\n",
       "      <td>10/3/17</td>\n",
       "      <td>12/31/99</td>\n",
       "      <td>6/4/13</td>\n",
       "      <td>http://www.iadb.org/en/projects/project-descri...</td>\n",
       "      <td>0.97</td>\n",
       "      <td>0.82</td>\n",
       "      <td>NaN</td>\n",
       "      <td>NaN</td>\n",
       "    </tr>\n",
       "    <tr>\n",
       "      <th>4</th>\n",
       "      <td>30322</td>\n",
       "      <td>IADB-PE-T1297</td>\n",
       "      <td>Pending</td>\n",
       "      <td>C</td>\n",
       "      <td>Approved</td>\n",
       "      <td>https://ews.rightsindevelopment.org/projects/p...</td>\n",
       "      <td>NaN</td>\n",
       "      <td>Adaptation to Climate Change of the Fishery Se...</td>\n",
       "      <td>NaN</td>\n",
       "      <td>1</td>\n",
       "      <td>Peru</td>\n",
       "      <td>NaN</td>\n",
       "      <td>NaN</td>\n",
       "      <td>NaN</td>\n",
       "      <td>NaN</td>\n",
       "      <td>NaN</td>\n",
       "      <td>NaN</td>\n",
       "      <td>NaN</td>\n",
       "      <td>NaN</td>\n",
       "      <td>NaN</td>\n",
       "      <td>NaN</td>\n",
       "      <td>NaN</td>\n",
       "      <td>NaN</td>\n",
       "      <td>0.0</td>\n",
       "      <td>NaN</td>\n",
       "      <td>NaN</td>\n",
       "      <td>NaN</td>\n",
       "      <td>NaN</td>\n",
       "      <td>NaN</td>\n",
       "      <td>NaN</td>\n",
       "      <td>NaN</td>\n",
       "      <td>NaN</td>\n",
       "      <td>NaN</td>\n",
       "      <td>NaN</td>\n",
       "      <td>NaN</td>\n",
       "      <td>NaN</td>\n",
       "      <td>NaN</td>\n",
       "      <td>NaN</td>\n",
       "      <td>NaN</td>\n",
       "      <td>1</td>\n",
       "      <td>Inter-American Development Bank (IADB)</td>\n",
       "      <td>NaN</td>\n",
       "      <td>NaN</td>\n",
       "      <td>NaN</td>\n",
       "      <td>NaN</td>\n",
       "      <td>0</td>\n",
       "      <td>NaN</td>\n",
       "      <td>NaN</td>\n",
       "      <td>NaN</td>\n",
       "      <td>NaN</td>\n",
       "      <td>NaN</td>\n",
       "      <td>NaN</td>\n",
       "      <td>NaN</td>\n",
       "      <td>NaN</td>\n",
       "      <td>10/3/17</td>\n",
       "      <td>12/31/99</td>\n",
       "      <td>12/4/13</td>\n",
       "      <td>http://www.iadb.org/en/projects/project-descri...</td>\n",
       "      <td>1.50</td>\n",
       "      <td>1.50</td>\n",
       "      <td>NaN</td>\n",
       "      <td>NaN</td>\n",
       "    </tr>\n",
       "  </tbody>\n",
       "</table>\n",
       "</div>"
      ],
      "text/plain": [
       "   EWS ID      ProjectNumber  Published Bank Risk Rating Project Status  \\\n",
       "0   29164  AFDB-P-TN-BB0-007  Published                U       Proposed   \n",
       "1   29166  AFDB-P-SZ-HAA-001  Published                U       Approved   \n",
       "2   29931      IADB-UR-T1100    Pending                C       Approved   \n",
       "3   30104      IADB-BR-T1279    Pending                C       Approved   \n",
       "4   30322      IADB-PE-T1297    Pending                C       Approved   \n",
       "\n",
       "                                             EWS URL  Detailed Analysis URL  \\\n",
       "0  https://ews.rightsindevelopment.org/projects/p...                    NaN   \n",
       "1  https://ews.rightsindevelopment.org/projects/p...                    NaN   \n",
       "2  https://ews.rightsindevelopment.org/projects/u...                    NaN   \n",
       "3  https://ews.rightsindevelopment.org/projects/b...                    NaN   \n",
       "4  https://ews.rightsindevelopment.org/projects/p...                    NaN   \n",
       "\n",
       "                                        Project Name City  Country Count  \\\n",
       "0                         TUNISIA FERTILIZER PROJECT  NaN              1   \n",
       "1  LINE OF CREDIT TO SWAZILAND DEVELOPMENT FINANC...  NaN              1   \n",
       "2  Supporting INEFOP in Improving Labor Training ...  NaN              1   \n",
       "3  Racial Equality and Social, Economic, Politica...  NaN              1   \n",
       "4  Adaptation to Climate Change of the Fishery Se...  NaN              1   \n",
       "\n",
       "   Country 1 Country 2 Country 3 Country 4 Country 5 Country 6 Country 7  \\\n",
       "0    Tunisia       NaN       NaN       NaN       NaN       NaN       NaN   \n",
       "1  Swaziland       NaN       NaN       NaN       NaN       NaN       NaN   \n",
       "2    Uruguay       NaN       NaN       NaN       NaN       NaN       NaN   \n",
       "3     Brazil       NaN       NaN       NaN       NaN       NaN       NaN   \n",
       "4       Peru       NaN       NaN       NaN       NaN       NaN       NaN   \n",
       "\n",
       "  Country 8 Country 9 Country 10 Country 11 Country 12 Borrower or Client  \\\n",
       "0       NaN       NaN        NaN        NaN        NaN                NaN   \n",
       "1       NaN       NaN        NaN        NaN        NaN                NaN   \n",
       "2       NaN       NaN        NaN        NaN        NaN                NaN   \n",
       "3       NaN       NaN        NaN        NaN        NaN                NaN   \n",
       "4       NaN       NaN        NaN        NaN        NaN                NaN   \n",
       "\n",
       "   Private Actor Count Private Actor 1 Private Actor 2 Private Actor 3  \\\n",
       "0                  0.0             NaN             NaN             NaN   \n",
       "1                  0.0             NaN             NaN             NaN   \n",
       "2                  0.0             NaN             NaN             NaN   \n",
       "3                  0.0             NaN             NaN             NaN   \n",
       "4                  0.0             NaN             NaN             NaN   \n",
       "\n",
       "  Private Actor 4 Private Actor 5 Private Actor 6 Private Actor 7  \\\n",
       "0             NaN             NaN             NaN             NaN   \n",
       "1             NaN             NaN             NaN             NaN   \n",
       "2             NaN             NaN             NaN             NaN   \n",
       "3             NaN             NaN             NaN             NaN   \n",
       "4             NaN             NaN             NaN             NaN   \n",
       "\n",
       "  Private Actor 8  Private Actor 9  Private Actor 10  Private Actor 11  \\\n",
       "0             NaN              NaN               NaN               NaN   \n",
       "1             NaN              NaN               NaN               NaN   \n",
       "2             NaN              NaN               NaN               NaN   \n",
       "3             NaN              NaN               NaN               NaN   \n",
       "4             NaN              NaN               NaN               NaN   \n",
       "\n",
       "   Private Actor 12  Private Actor 13  Private Actor 14  Private Actor 15  \\\n",
       "0               NaN               NaN               NaN               NaN   \n",
       "1               NaN               NaN               NaN               NaN   \n",
       "2               NaN               NaN               NaN               NaN   \n",
       "3               NaN               NaN               NaN               NaN   \n",
       "4               NaN               NaN               NaN               NaN   \n",
       "\n",
       "   Bank Count                                  Bank 1 Bank 2 Bank 3 Bank 4  \\\n",
       "0           1         African Development Bank (AFDB)    NaN    NaN    NaN   \n",
       "1           1         African Development Bank (AFDB)    NaN    NaN    NaN   \n",
       "2           1  Inter-American Development Bank (IADB)    NaN    NaN    NaN   \n",
       "3           1  Inter-American Development Bank (IADB)    NaN    NaN    NaN   \n",
       "4           1  Inter-American Development Bank (IADB)    NaN    NaN    NaN   \n",
       "\n",
       "   Bank 5  Sector Count                  Sector 1            Sector 2  \\\n",
       "0     NaN             1  Agriculture and Forestry                 NaN   \n",
       "1     NaN             2                   Finance  Industry and Trade   \n",
       "2     NaN             0                       NaN                 NaN   \n",
       "3     NaN             0                       NaN                 NaN   \n",
       "4     NaN             0                       NaN                 NaN   \n",
       "\n",
       "  Sector 3 Sector 4 Sector 5 Sector 6 Sector 7 Last Edited Date Scraped  \\\n",
       "0      NaN      NaN      NaN      NaN      NaN      9/4/17      8/15/17   \n",
       "1      NaN      NaN      NaN      NaN      NaN      9/4/17      8/15/17   \n",
       "2      NaN      NaN      NaN      NaN      NaN         NaN      10/3/17   \n",
       "3      NaN      NaN      NaN      NaN      NaN         NaN      10/3/17   \n",
       "4      NaN      NaN      NaN      NaN      NaN         NaN      10/3/17   \n",
       "\n",
       "  Date Disclosed Board Date  \\\n",
       "0       12/13/01   12/13/01   \n",
       "1       12/13/01    5/12/17   \n",
       "2       12/31/99    7/16/13   \n",
       "3       12/31/99     6/4/13   \n",
       "4       12/31/99    12/4/13   \n",
       "\n",
       "                                          Source URL  Project Cost  \\\n",
       "0  http://www.afdb.org/en/projects-and-operations...           NaN   \n",
       "1  http://www.afdb.org/en/projects-and-operations...          4.76   \n",
       "2  http://www.iadb.org/en/projects/project-descri...          0.44   \n",
       "3  http://www.iadb.org/en/projects/project-descri...          0.97   \n",
       "4  http://www.iadb.org/en/projects/project-descri...          1.50   \n",
       "\n",
       "   Investment Amount Project Description  \\\n",
       "0                NaN                None   \n",
       "1               1.36                None   \n",
       "2               0.44                 NaN   \n",
       "3               0.82                 NaN   \n",
       "4               1.50                 NaN   \n",
       "\n",
       "                                 Contact Information  \n",
       "0  ACCOUNTABILITY MECHANISM OF AfDB\\r\\r\\r\\rThe In...  \n",
       "1  MACHARIA Lilian Wanjiru - PIFD1\\r\\r\\r\\rACCOUNT...  \n",
       "2                                                NaN  \n",
       "3                                                NaN  \n",
       "4                                                NaN  "
      ]
     },
     "execution_count": 7,
     "metadata": {},
     "output_type": "execute_result"
    }
   ],
   "source": [
    "projects_df.head()"
   ]
  },
  {
   "cell_type": "code",
   "execution_count": 8,
   "metadata": {
    "ExecuteTime": {
     "end_time": "2018-06-24T18:52:33.823138Z",
     "start_time": "2018-06-24T18:52:33.817289Z"
    }
   },
   "outputs": [],
   "source": [
    "projects_df['Project Description'] = projects_df['Project Description'].fillna(\"\")"
   ]
  },
  {
   "cell_type": "code",
   "execution_count": 9,
   "metadata": {
    "ExecuteTime": {
     "end_time": "2018-06-24T18:52:33.882590Z",
     "start_time": "2018-06-24T18:52:33.825183Z"
    }
   },
   "outputs": [],
   "source": [
    "detailed_projects_df = projects_df[ projects_df['Project Description'].apply(lambda x : len(x.split())) > 300 ]"
   ]
  },
  {
   "cell_type": "code",
   "execution_count": 10,
   "metadata": {
    "ExecuteTime": {
     "end_time": "2018-06-24T18:52:33.933367Z",
     "start_time": "2018-06-24T18:52:33.885356Z"
    }
   },
   "outputs": [
    {
     "data": {
      "text/html": [
       "<div>\n",
       "<style scoped>\n",
       "    .dataframe tbody tr th:only-of-type {\n",
       "        vertical-align: middle;\n",
       "    }\n",
       "\n",
       "    .dataframe tbody tr th {\n",
       "        vertical-align: top;\n",
       "    }\n",
       "\n",
       "    .dataframe thead th {\n",
       "        text-align: right;\n",
       "    }\n",
       "</style>\n",
       "<table border=\"1\" class=\"dataframe\">\n",
       "  <thead>\n",
       "    <tr style=\"text-align: right;\">\n",
       "      <th></th>\n",
       "      <th>Project Name</th>\n",
       "      <th>Sector 1</th>\n",
       "      <th>Project Description</th>\n",
       "      <th>content</th>\n",
       "    </tr>\n",
       "  </thead>\n",
       "  <tbody>\n",
       "    <tr>\n",
       "      <th>40</th>\n",
       "      <td>India: National Cyclone Risk Mitigation Projec...</td>\n",
       "      <td>Climate and Environment</td>\n",
       "      <td>The National Cyclone Risk Mitigation Project I...</td>\n",
       "      <td>India: National Cyclone Risk Mitigation Projec...</td>\n",
       "    </tr>\n",
       "    <tr>\n",
       "      <th>43</th>\n",
       "      <td>Cusco Regional Development</td>\n",
       "      <td>Industry and Trade</td>\n",
       "      <td>The Cusco Regional Development Project is loca...</td>\n",
       "      <td>Cusco Regional Development\\nThe Cusco Regional...</td>\n",
       "    </tr>\n",
       "    <tr>\n",
       "      <th>60</th>\n",
       "      <td>IN Uttar Pradesh Water Sector Restructuring Pr...</td>\n",
       "      <td>Water and Sanitation</td>\n",
       "      <td>World Bank documentation indicates that this p...</td>\n",
       "      <td>IN Uttar Pradesh Water Sector Restructuring Pr...</td>\n",
       "    </tr>\n",
       "    <tr>\n",
       "      <th>95</th>\n",
       "      <td>Abidjan-Lagos Trade and Transport Facilitation...</td>\n",
       "      <td>Technical Cooperation</td>\n",
       "      <td>The development objective of the Second Adapta...</td>\n",
       "      <td>Abidjan-Lagos Trade and Transport Facilitation...</td>\n",
       "    </tr>\n",
       "    <tr>\n",
       "      <th>101</th>\n",
       "      <td>Coastal Watersheds Conservation in the Context...</td>\n",
       "      <td>Agriculture and Forestry</td>\n",
       "      <td>According to The Bank, the goal of the project...</td>\n",
       "      <td>Coastal Watersheds Conservation in the Context...</td>\n",
       "    </tr>\n",
       "  </tbody>\n",
       "</table>\n",
       "</div>"
      ],
      "text/plain": [
       "                                          Project Name  \\\n",
       "40   India: National Cyclone Risk Mitigation Projec...   \n",
       "43                          Cusco Regional Development   \n",
       "60   IN Uttar Pradesh Water Sector Restructuring Pr...   \n",
       "95   Abidjan-Lagos Trade and Transport Facilitation...   \n",
       "101  Coastal Watersheds Conservation in the Context...   \n",
       "\n",
       "                     Sector 1  \\\n",
       "40    Climate and Environment   \n",
       "43         Industry and Trade   \n",
       "60       Water and Sanitation   \n",
       "95      Technical Cooperation   \n",
       "101  Agriculture and Forestry   \n",
       "\n",
       "                                   Project Description  \\\n",
       "40   The National Cyclone Risk Mitigation Project I...   \n",
       "43   The Cusco Regional Development Project is loca...   \n",
       "60   World Bank documentation indicates that this p...   \n",
       "95   The development objective of the Second Adapta...   \n",
       "101  According to The Bank, the goal of the project...   \n",
       "\n",
       "                                               content  \n",
       "40   India: National Cyclone Risk Mitigation Projec...  \n",
       "43   Cusco Regional Development\\nThe Cusco Regional...  \n",
       "60   IN Uttar Pradesh Water Sector Restructuring Pr...  \n",
       "95   Abidjan-Lagos Trade and Transport Facilitation...  \n",
       "101  Coastal Watersheds Conservation in the Context...  "
      ]
     },
     "execution_count": 10,
     "metadata": {},
     "output_type": "execute_result"
    }
   ],
   "source": [
    "detailed_projects_df = detailed_projects_df[['Project Name','Sector 1','Project Description']]\n",
    "detailed_projects_df['content'] = detailed_projects_df['Project Name'] + \"\\n\" +  detailed_projects_df['Project Description']\n",
    "detailed_projects_df.head()"
   ]
  },
  {
   "cell_type": "code",
   "execution_count": 11,
   "metadata": {
    "ExecuteTime": {
     "end_time": "2018-06-24T18:52:33.944132Z",
     "start_time": "2018-06-24T18:52:33.935128Z"
    }
   },
   "outputs": [
    {
     "data": {
      "text/html": [
       "<div>\n",
       "<style scoped>\n",
       "    .dataframe tbody tr th:only-of-type {\n",
       "        vertical-align: middle;\n",
       "    }\n",
       "\n",
       "    .dataframe tbody tr th {\n",
       "        vertical-align: top;\n",
       "    }\n",
       "\n",
       "    .dataframe thead th {\n",
       "        text-align: right;\n",
       "    }\n",
       "</style>\n",
       "<table border=\"1\" class=\"dataframe\">\n",
       "  <thead>\n",
       "    <tr style=\"text-align: right;\">\n",
       "      <th></th>\n",
       "      <th>Project Name</th>\n",
       "      <th>Sector 1</th>\n",
       "      <th>Project Description</th>\n",
       "      <th>content</th>\n",
       "    </tr>\n",
       "  </thead>\n",
       "  <tbody>\n",
       "    <tr>\n",
       "      <th>40</th>\n",
       "      <td>India: National Cyclone Risk Mitigation Projec...</td>\n",
       "      <td>Climate and Environment</td>\n",
       "      <td>The National Cyclone Risk Mitigation Project I...</td>\n",
       "      <td>India: National Cyclone Risk Mitigation Projec...</td>\n",
       "    </tr>\n",
       "    <tr>\n",
       "      <th>43</th>\n",
       "      <td>Cusco Regional Development</td>\n",
       "      <td>Industry and Trade</td>\n",
       "      <td>The Cusco Regional Development Project is loca...</td>\n",
       "      <td>Cusco Regional Development\\nThe Cusco Regional...</td>\n",
       "    </tr>\n",
       "    <tr>\n",
       "      <th>60</th>\n",
       "      <td>IN Uttar Pradesh Water Sector Restructuring Pr...</td>\n",
       "      <td>Water and Sanitation</td>\n",
       "      <td>World Bank documentation indicates that this p...</td>\n",
       "      <td>IN Uttar Pradesh Water Sector Restructuring Pr...</td>\n",
       "    </tr>\n",
       "    <tr>\n",
       "      <th>95</th>\n",
       "      <td>Abidjan-Lagos Trade and Transport Facilitation...</td>\n",
       "      <td>Technical Cooperation</td>\n",
       "      <td>The development objective of the Second Adapta...</td>\n",
       "      <td>Abidjan-Lagos Trade and Transport Facilitation...</td>\n",
       "    </tr>\n",
       "    <tr>\n",
       "      <th>101</th>\n",
       "      <td>Coastal Watersheds Conservation in the Context...</td>\n",
       "      <td>Agriculture and Forestry</td>\n",
       "      <td>According to The Bank, the goal of the project...</td>\n",
       "      <td>Coastal Watersheds Conservation in the Context...</td>\n",
       "    </tr>\n",
       "  </tbody>\n",
       "</table>\n",
       "</div>"
      ],
      "text/plain": [
       "                                          Project Name  \\\n",
       "40   India: National Cyclone Risk Mitigation Projec...   \n",
       "43                          Cusco Regional Development   \n",
       "60   IN Uttar Pradesh Water Sector Restructuring Pr...   \n",
       "95   Abidjan-Lagos Trade and Transport Facilitation...   \n",
       "101  Coastal Watersheds Conservation in the Context...   \n",
       "\n",
       "                     Sector 1  \\\n",
       "40    Climate and Environment   \n",
       "43         Industry and Trade   \n",
       "60       Water and Sanitation   \n",
       "95      Technical Cooperation   \n",
       "101  Agriculture and Forestry   \n",
       "\n",
       "                                   Project Description  \\\n",
       "40   The National Cyclone Risk Mitigation Project I...   \n",
       "43   The Cusco Regional Development Project is loca...   \n",
       "60   World Bank documentation indicates that this p...   \n",
       "95   The development objective of the Second Adapta...   \n",
       "101  According to The Bank, the goal of the project...   \n",
       "\n",
       "                                               content  \n",
       "40   India: National Cyclone Risk Mitigation Projec...  \n",
       "43   Cusco Regional Development\\nThe Cusco Regional...  \n",
       "60   IN Uttar Pradesh Water Sector Restructuring Pr...  \n",
       "95   Abidjan-Lagos Trade and Transport Facilitation...  \n",
       "101  Coastal Watersheds Conservation in the Context...  "
      ]
     },
     "execution_count": 11,
     "metadata": {},
     "output_type": "execute_result"
    }
   ],
   "source": [
    "detailed_projects_df.head()"
   ]
  },
  {
   "cell_type": "code",
   "execution_count": 12,
   "metadata": {
    "ExecuteTime": {
     "end_time": "2018-06-24T18:52:34.007027Z",
     "start_time": "2018-06-24T18:52:34.003073Z"
    }
   },
   "outputs": [],
   "source": [
    "detailed_projects_df = detailed_projects_df.rename(columns = {'Project Name':'title','Sector 1': 'sector'})\n",
    "#detailed_projects_df['sector'] = detailed_projects_df['Sector 1']"
   ]
  },
  {
   "cell_type": "code",
   "execution_count": 13,
   "metadata": {
    "ExecuteTime": {
     "end_time": "2018-06-24T18:52:34.093146Z",
     "start_time": "2018-06-24T18:52:34.088793Z"
    }
   },
   "outputs": [
    {
     "data": {
      "text/plain": [
       "Index(['title', 'sector', 'Project Description', 'content'], dtype='object')"
      ]
     },
     "execution_count": 13,
     "metadata": {},
     "output_type": "execute_result"
    }
   ],
   "source": [
    "detailed_projects_df.columns"
   ]
  },
  {
   "cell_type": "code",
   "execution_count": 14,
   "metadata": {
    "ExecuteTime": {
     "end_time": "2018-06-24T18:52:34.178102Z",
     "start_time": "2018-06-24T18:52:34.166266Z"
    }
   },
   "outputs": [
    {
     "data": {
      "text/html": [
       "<div>\n",
       "<style scoped>\n",
       "    .dataframe tbody tr th:only-of-type {\n",
       "        vertical-align: middle;\n",
       "    }\n",
       "\n",
       "    .dataframe tbody tr th {\n",
       "        vertical-align: top;\n",
       "    }\n",
       "\n",
       "    .dataframe thead th {\n",
       "        text-align: right;\n",
       "    }\n",
       "</style>\n",
       "<table border=\"1\" class=\"dataframe\">\n",
       "  <thead>\n",
       "    <tr style=\"text-align: right;\">\n",
       "      <th></th>\n",
       "      <th>article_id</th>\n",
       "      <th>title</th>\n",
       "      <th>article_text</th>\n",
       "      <th>top_sector</th>\n",
       "      <th>content</th>\n",
       "      <th>sector</th>\n",
       "    </tr>\n",
       "  </thead>\n",
       "  <tbody>\n",
       "    <tr>\n",
       "      <th>0</th>\n",
       "      <td>5eca9220</td>\n",
       "      <td>AfDB, GCF partner on 'Desert-to-Power' scheme</td>\n",
       "      <td>The African Development Bank (AfDB), Green Cli...</td>\n",
       "      <td>MISC</td>\n",
       "      <td>AfDB, GCF partner on 'Desert-to-Power' scheme ...</td>\n",
       "      <td>MISC</td>\n",
       "    </tr>\n",
       "    <tr>\n",
       "      <th>1</th>\n",
       "      <td>ee5530a3</td>\n",
       "      <td>AIIB approves $1.5 bln of loans to India for i...</td>\n",
       "      <td>NEW DELHI, Feb 27 (Reuters) - China-based Asia...</td>\n",
       "      <td>transport</td>\n",
       "      <td>AIIB approves $1.5 bln of loans to India for i...</td>\n",
       "      <td>transport</td>\n",
       "    </tr>\n",
       "    <tr>\n",
       "      <th>2</th>\n",
       "      <td>185416ad</td>\n",
       "      <td>India, ADB sign USD 250 million loan agreement...</td>\n",
       "      <td>Here are some suggestions that matches your en...</td>\n",
       "      <td>transport</td>\n",
       "      <td>India, ADB sign USD 250 million loan agreement...</td>\n",
       "      <td>transport</td>\n",
       "    </tr>\n",
       "    <tr>\n",
       "      <th>3</th>\n",
       "      <td>ef56fb55</td>\n",
       "      <td>EIB approves $1.8bn financing for Trans-Adriat...</td>\n",
       "      <td>Compelo is using cookies\\n\\nWe use them to giv...</td>\n",
       "      <td>energy</td>\n",
       "      <td>EIB approves $1.8bn financing for Trans-Adriat...</td>\n",
       "      <td>energy</td>\n",
       "    </tr>\n",
       "    <tr>\n",
       "      <th>4</th>\n",
       "      <td>85f28676</td>\n",
       "      <td>EBRD increases its portfolio in Azerbaijan</td>\n",
       "      <td>Baku, Azerbaijan, April 9\\n\\nBy Anvar Mammadov...</td>\n",
       "      <td>industry and trade</td>\n",
       "      <td>EBRD increases its portfolio in Azerbaijan \\nB...</td>\n",
       "      <td>industry and trade</td>\n",
       "    </tr>\n",
       "  </tbody>\n",
       "</table>\n",
       "</div>"
      ],
      "text/plain": [
       "  article_id                                              title  \\\n",
       "0   5eca9220      AfDB, GCF partner on 'Desert-to-Power' scheme   \n",
       "1   ee5530a3  AIIB approves $1.5 bln of loans to India for i...   \n",
       "2   185416ad  India, ADB sign USD 250 million loan agreement...   \n",
       "3   ef56fb55  EIB approves $1.8bn financing for Trans-Adriat...   \n",
       "4   85f28676         EBRD increases its portfolio in Azerbaijan   \n",
       "\n",
       "                                        article_text          top_sector  \\\n",
       "0  The African Development Bank (AfDB), Green Cli...                MISC   \n",
       "1  NEW DELHI, Feb 27 (Reuters) - China-based Asia...           transport   \n",
       "2  Here are some suggestions that matches your en...           transport   \n",
       "3  Compelo is using cookies\\n\\nWe use them to giv...              energy   \n",
       "4  Baku, Azerbaijan, April 9\\n\\nBy Anvar Mammadov...  industry and trade   \n",
       "\n",
       "                                             content              sector  \n",
       "0  AfDB, GCF partner on 'Desert-to-Power' scheme ...                MISC  \n",
       "1  AIIB approves $1.5 bln of loans to India for i...           transport  \n",
       "2  India, ADB sign USD 250 million loan agreement...           transport  \n",
       "3  EIB approves $1.8bn financing for Trans-Adriat...              energy  \n",
       "4  EBRD increases its portfolio in Azerbaijan \\nB...  industry and trade  "
      ]
     },
     "execution_count": 14,
     "metadata": {},
     "output_type": "execute_result"
    }
   ],
   "source": [
    "articles_df.head()"
   ]
  },
  {
   "cell_type": "code",
   "execution_count": 15,
   "metadata": {
    "ExecuteTime": {
     "end_time": "2018-06-24T18:52:34.254822Z",
     "start_time": "2018-06-24T18:52:34.248459Z"
    }
   },
   "outputs": [],
   "source": [
    "merged_df = pd.concat(\n",
    "    \n",
    "    [\n",
    "        detailed_projects_df[['title','content','sector']]\n",
    "        , articles_df[['title','content','sector']]\n",
    "    ])"
   ]
  },
  {
   "cell_type": "code",
   "execution_count": 16,
   "metadata": {
    "ExecuteTime": {
     "end_time": "2018-06-24T18:52:34.328480Z",
     "start_time": "2018-06-24T18:52:34.323956Z"
    }
   },
   "outputs": [],
   "source": [
    "merged_df = merged_df[~pd.isnull(merged_df['sector'])]"
   ]
  },
  {
   "cell_type": "code",
   "execution_count": 17,
   "metadata": {
    "ExecuteTime": {
     "end_time": "2018-06-24T18:52:34.389228Z",
     "start_time": "2018-06-24T18:52:34.384876Z"
    }
   },
   "outputs": [
    {
     "data": {
      "text/plain": [
       "608"
      ]
     },
     "execution_count": 17,
     "metadata": {},
     "output_type": "execute_result"
    }
   ],
   "source": [
    "len(merged_df)"
   ]
  },
  {
   "cell_type": "code",
   "execution_count": 18,
   "metadata": {
    "ExecuteTime": {
     "end_time": "2018-06-24T18:52:34.470989Z",
     "start_time": "2018-06-24T18:52:34.462278Z"
    }
   },
   "outputs": [
    {
     "data": {
      "text/html": [
       "<div>\n",
       "<style scoped>\n",
       "    .dataframe tbody tr th:only-of-type {\n",
       "        vertical-align: middle;\n",
       "    }\n",
       "\n",
       "    .dataframe tbody tr th {\n",
       "        vertical-align: top;\n",
       "    }\n",
       "\n",
       "    .dataframe thead th {\n",
       "        text-align: right;\n",
       "    }\n",
       "</style>\n",
       "<table border=\"1\" class=\"dataframe\">\n",
       "  <thead>\n",
       "    <tr style=\"text-align: right;\">\n",
       "      <th></th>\n",
       "      <th>title</th>\n",
       "      <th>content</th>\n",
       "      <th>sector</th>\n",
       "    </tr>\n",
       "  </thead>\n",
       "  <tbody>\n",
       "    <tr>\n",
       "      <th>40</th>\n",
       "      <td>India: National Cyclone Risk Mitigation Projec...</td>\n",
       "      <td>India: National Cyclone Risk Mitigation Projec...</td>\n",
       "      <td>Climate and Environment</td>\n",
       "    </tr>\n",
       "    <tr>\n",
       "      <th>43</th>\n",
       "      <td>Cusco Regional Development</td>\n",
       "      <td>Cusco Regional Development\\nThe Cusco Regional...</td>\n",
       "      <td>Industry and Trade</td>\n",
       "    </tr>\n",
       "    <tr>\n",
       "      <th>60</th>\n",
       "      <td>IN Uttar Pradesh Water Sector Restructuring Pr...</td>\n",
       "      <td>IN Uttar Pradesh Water Sector Restructuring Pr...</td>\n",
       "      <td>Water and Sanitation</td>\n",
       "    </tr>\n",
       "    <tr>\n",
       "      <th>95</th>\n",
       "      <td>Abidjan-Lagos Trade and Transport Facilitation...</td>\n",
       "      <td>Abidjan-Lagos Trade and Transport Facilitation...</td>\n",
       "      <td>Technical Cooperation</td>\n",
       "    </tr>\n",
       "    <tr>\n",
       "      <th>101</th>\n",
       "      <td>Coastal Watersheds Conservation in the Context...</td>\n",
       "      <td>Coastal Watersheds Conservation in the Context...</td>\n",
       "      <td>Agriculture and Forestry</td>\n",
       "    </tr>\n",
       "  </tbody>\n",
       "</table>\n",
       "</div>"
      ],
      "text/plain": [
       "                                                 title  \\\n",
       "40   India: National Cyclone Risk Mitigation Projec...   \n",
       "43                          Cusco Regional Development   \n",
       "60   IN Uttar Pradesh Water Sector Restructuring Pr...   \n",
       "95   Abidjan-Lagos Trade and Transport Facilitation...   \n",
       "101  Coastal Watersheds Conservation in the Context...   \n",
       "\n",
       "                                               content  \\\n",
       "40   India: National Cyclone Risk Mitigation Projec...   \n",
       "43   Cusco Regional Development\\nThe Cusco Regional...   \n",
       "60   IN Uttar Pradesh Water Sector Restructuring Pr...   \n",
       "95   Abidjan-Lagos Trade and Transport Facilitation...   \n",
       "101  Coastal Watersheds Conservation in the Context...   \n",
       "\n",
       "                       sector  \n",
       "40    Climate and Environment  \n",
       "43         Industry and Trade  \n",
       "60       Water and Sanitation  \n",
       "95      Technical Cooperation  \n",
       "101  Agriculture and Forestry  "
      ]
     },
     "execution_count": 18,
     "metadata": {},
     "output_type": "execute_result"
    }
   ],
   "source": [
    "merged_df.head()"
   ]
  },
  {
   "cell_type": "code",
   "execution_count": 19,
   "metadata": {
    "ExecuteTime": {
     "end_time": "2018-06-24T18:52:34.586191Z",
     "start_time": "2018-06-24T18:52:34.581798Z"
    }
   },
   "outputs": [
    {
     "data": {
      "text/plain": [
       "array(['Climate and Environment', 'Industry and Trade',\n",
       "       'Water and Sanitation', 'Technical Cooperation',\n",
       "       'Agriculture and Forestry', 'Mining', 'Energy', 'Construction',\n",
       "       'Communications', 'Hydropower', 'Finance', 'Law and Government',\n",
       "       'Education and Health', 'Transport', 'Infrastructure', 'MISC',\n",
       "       'transport', 'energy', 'industry and trade', 'infrastructure',\n",
       "       'finance', 'water and sanitation', 'construction', 'hydropower',\n",
       "       'communications', 'agriculture and forestry',\n",
       "       'education and health', 'humanitarian response'], dtype=object)"
      ]
     },
     "execution_count": 19,
     "metadata": {},
     "output_type": "execute_result"
    }
   ],
   "source": [
    "merged_df.sector.unique()"
   ]
  },
  {
   "cell_type": "code",
   "execution_count": 20,
   "metadata": {
    "ExecuteTime": {
     "end_time": "2018-06-24T18:52:34.692090Z",
     "start_time": "2018-06-24T18:52:34.651644Z"
    }
   },
   "outputs": [],
   "source": [
    "merged_df['sector'] = merged_df['sector'].apply(lambda x: x.lower())"
   ]
  },
  {
   "cell_type": "code",
   "execution_count": 21,
   "metadata": {
    "ExecuteTime": {
     "end_time": "2018-06-24T18:52:34.736576Z",
     "start_time": "2018-06-24T18:52:34.730777Z"
    }
   },
   "outputs": [],
   "source": [
    "dfg = merged_df.groupby(['sector']).size().reset_index(name = 'count')"
   ]
  },
  {
   "cell_type": "code",
   "execution_count": 22,
   "metadata": {
    "ExecuteTime": {
     "end_time": "2018-06-24T18:52:34.808388Z",
     "start_time": "2018-06-24T18:52:34.801506Z"
    }
   },
   "outputs": [
    {
     "data": {
      "text/plain": [
       "array(['energy', 'finance', 'infrastructure', 'transport',\n",
       "       'agriculture and forestry', 'education and health',\n",
       "       'water and sanitation', 'industry and trade', 'construction',\n",
       "       'communications'], dtype=object)"
      ]
     },
     "execution_count": 22,
     "metadata": {},
     "output_type": "execute_result"
    }
   ],
   "source": [
    "dfg.sort_values(['count'],ascending = 0)[:10].sector.unique()"
   ]
  },
  {
   "cell_type": "code",
   "execution_count": 23,
   "metadata": {
    "ExecuteTime": {
     "end_time": "2018-06-24T18:52:34.893111Z",
     "start_time": "2018-06-24T18:52:34.884399Z"
    }
   },
   "outputs": [
    {
     "data": {
      "text/html": [
       "<div>\n",
       "<style scoped>\n",
       "    .dataframe tbody tr th:only-of-type {\n",
       "        vertical-align: middle;\n",
       "    }\n",
       "\n",
       "    .dataframe tbody tr th {\n",
       "        vertical-align: top;\n",
       "    }\n",
       "\n",
       "    .dataframe thead th {\n",
       "        text-align: right;\n",
       "    }\n",
       "</style>\n",
       "<table border=\"1\" class=\"dataframe\">\n",
       "  <thead>\n",
       "    <tr style=\"text-align: right;\">\n",
       "      <th></th>\n",
       "      <th>title</th>\n",
       "      <th>content</th>\n",
       "      <th>sector</th>\n",
       "    </tr>\n",
       "  </thead>\n",
       "  <tbody>\n",
       "    <tr>\n",
       "      <th>40</th>\n",
       "      <td>India: National Cyclone Risk Mitigation Projec...</td>\n",
       "      <td>India: National Cyclone Risk Mitigation Projec...</td>\n",
       "      <td>climate and environment</td>\n",
       "    </tr>\n",
       "    <tr>\n",
       "      <th>43</th>\n",
       "      <td>Cusco Regional Development</td>\n",
       "      <td>Cusco Regional Development\\nThe Cusco Regional...</td>\n",
       "      <td>industry and trade</td>\n",
       "    </tr>\n",
       "    <tr>\n",
       "      <th>60</th>\n",
       "      <td>IN Uttar Pradesh Water Sector Restructuring Pr...</td>\n",
       "      <td>IN Uttar Pradesh Water Sector Restructuring Pr...</td>\n",
       "      <td>water and sanitation</td>\n",
       "    </tr>\n",
       "    <tr>\n",
       "      <th>95</th>\n",
       "      <td>Abidjan-Lagos Trade and Transport Facilitation...</td>\n",
       "      <td>Abidjan-Lagos Trade and Transport Facilitation...</td>\n",
       "      <td>technical cooperation</td>\n",
       "    </tr>\n",
       "    <tr>\n",
       "      <th>101</th>\n",
       "      <td>Coastal Watersheds Conservation in the Context...</td>\n",
       "      <td>Coastal Watersheds Conservation in the Context...</td>\n",
       "      <td>agriculture and forestry</td>\n",
       "    </tr>\n",
       "  </tbody>\n",
       "</table>\n",
       "</div>"
      ],
      "text/plain": [
       "                                                 title  \\\n",
       "40   India: National Cyclone Risk Mitigation Projec...   \n",
       "43                          Cusco Regional Development   \n",
       "60   IN Uttar Pradesh Water Sector Restructuring Pr...   \n",
       "95   Abidjan-Lagos Trade and Transport Facilitation...   \n",
       "101  Coastal Watersheds Conservation in the Context...   \n",
       "\n",
       "                                               content  \\\n",
       "40   India: National Cyclone Risk Mitigation Projec...   \n",
       "43   Cusco Regional Development\\nThe Cusco Regional...   \n",
       "60   IN Uttar Pradesh Water Sector Restructuring Pr...   \n",
       "95   Abidjan-Lagos Trade and Transport Facilitation...   \n",
       "101  Coastal Watersheds Conservation in the Context...   \n",
       "\n",
       "                       sector  \n",
       "40    climate and environment  \n",
       "43         industry and trade  \n",
       "60       water and sanitation  \n",
       "95      technical cooperation  \n",
       "101  agriculture and forestry  "
      ]
     },
     "execution_count": 23,
     "metadata": {},
     "output_type": "execute_result"
    }
   ],
   "source": [
    "merged_df.head()"
   ]
  },
  {
   "cell_type": "code",
   "execution_count": 24,
   "metadata": {
    "ExecuteTime": {
     "end_time": "2018-06-24T18:52:35.012344Z",
     "start_time": "2018-06-24T18:52:35.006800Z"
    }
   },
   "outputs": [],
   "source": [
    "top_df = merged_df[merged_df['sector'].isin(dfg.sort_values(['count'],ascending = 0)[:10].sector.unique())]"
   ]
  },
  {
   "cell_type": "code",
   "execution_count": 25,
   "metadata": {
    "ExecuteTime": {
     "end_time": "2018-06-24T18:52:35.074360Z",
     "start_time": "2018-06-24T18:52:35.071438Z"
    }
   },
   "outputs": [],
   "source": [
    "data = top_df['content']\n",
    "labels = top_df['sector']"
   ]
  },
  {
   "cell_type": "code",
   "execution_count": 26,
   "metadata": {
    "ExecuteTime": {
     "end_time": "2018-06-24T18:52:35.710193Z",
     "start_time": "2018-06-24T18:52:35.156257Z"
    }
   },
   "outputs": [],
   "source": [
    "from sklearn.feature_extraction.text import TfidfVectorizer\n",
    "tfidf  = TfidfVectorizer(stop_words='english', min_df=5, max_df=0.9)\n",
    "\n",
    "docs   = tfidf.fit_transform(data)"
   ]
  },
  {
   "cell_type": "markdown",
   "metadata": {},
   "source": [
    "## want to build a multiclass classifier that uses text + title as input. want to also try topic modeling"
   ]
  },
  {
   "cell_type": "code",
   "execution_count": 27,
   "metadata": {
    "ExecuteTime": {
     "end_time": "2018-06-24T18:52:35.716909Z",
     "start_time": "2018-06-24T18:52:35.712343Z"
    }
   },
   "outputs": [
    {
     "data": {
      "text/plain": [
       "array(['industry and trade', 'water and sanitation',\n",
       "       'agriculture and forestry', 'energy', 'construction',\n",
       "       'communications', 'finance', 'education and health', 'transport',\n",
       "       'infrastructure'], dtype=object)"
      ]
     },
     "execution_count": 27,
     "metadata": {},
     "output_type": "execute_result"
    }
   ],
   "source": [
    "#have to one hot encode the target variable. then split into test and train\n",
    "top_df.sector.unique()"
   ]
  },
  {
   "cell_type": "code",
   "execution_count": 28,
   "metadata": {
    "ExecuteTime": {
     "end_time": "2018-06-24T18:52:35.722944Z",
     "start_time": "2018-06-24T18:52:35.718955Z"
    }
   },
   "outputs": [],
   "source": [
    "from sklearn import preprocessing\n",
    "le = preprocessing.LabelEncoder()"
   ]
  },
  {
   "cell_type": "code",
   "execution_count": 29,
   "metadata": {
    "ExecuteTime": {
     "end_time": "2018-06-24T18:52:35.771828Z",
     "start_time": "2018-06-24T18:52:35.726104Z"
    }
   },
   "outputs": [
    {
     "name": "stderr",
     "output_type": "stream",
     "text": [
      "/usr/local/anaconda3/envs/py36/lib/python3.6/site-packages/ipykernel/__main__.py:1: SettingWithCopyWarning: \n",
      "A value is trying to be set on a copy of a slice from a DataFrame.\n",
      "Try using .loc[row_indexer,col_indexer] = value instead\n",
      "\n",
      "See the caveats in the documentation: http://pandas.pydata.org/pandas-docs/stable/indexing.html#indexing-view-versus-copy\n",
      "  if __name__ == '__main__':\n"
     ]
    }
   ],
   "source": [
    "top_df['target'] = le.fit_transform(labels)"
   ]
  },
  {
   "cell_type": "code",
   "execution_count": 30,
   "metadata": {
    "ExecuteTime": {
     "end_time": "2018-06-24T18:52:35.782297Z",
     "start_time": "2018-06-24T18:52:35.773583Z"
    }
   },
   "outputs": [
    {
     "data": {
      "text/html": [
       "<div>\n",
       "<style scoped>\n",
       "    .dataframe tbody tr th:only-of-type {\n",
       "        vertical-align: middle;\n",
       "    }\n",
       "\n",
       "    .dataframe tbody tr th {\n",
       "        vertical-align: top;\n",
       "    }\n",
       "\n",
       "    .dataframe thead th {\n",
       "        text-align: right;\n",
       "    }\n",
       "</style>\n",
       "<table border=\"1\" class=\"dataframe\">\n",
       "  <thead>\n",
       "    <tr style=\"text-align: right;\">\n",
       "      <th></th>\n",
       "      <th>title</th>\n",
       "      <th>content</th>\n",
       "      <th>sector</th>\n",
       "      <th>target</th>\n",
       "    </tr>\n",
       "  </thead>\n",
       "  <tbody>\n",
       "    <tr>\n",
       "      <th>43</th>\n",
       "      <td>Cusco Regional Development</td>\n",
       "      <td>Cusco Regional Development\\nThe Cusco Regional...</td>\n",
       "      <td>industry and trade</td>\n",
       "      <td>6</td>\n",
       "    </tr>\n",
       "    <tr>\n",
       "      <th>60</th>\n",
       "      <td>IN Uttar Pradesh Water Sector Restructuring Pr...</td>\n",
       "      <td>IN Uttar Pradesh Water Sector Restructuring Pr...</td>\n",
       "      <td>water and sanitation</td>\n",
       "      <td>9</td>\n",
       "    </tr>\n",
       "    <tr>\n",
       "      <th>101</th>\n",
       "      <td>Coastal Watersheds Conservation in the Context...</td>\n",
       "      <td>Coastal Watersheds Conservation in the Context...</td>\n",
       "      <td>agriculture and forestry</td>\n",
       "      <td>0</td>\n",
       "    </tr>\n",
       "    <tr>\n",
       "      <th>235</th>\n",
       "      <td>Senegal Banda Gas to Power Guarantee</td>\n",
       "      <td>Senegal Banda Gas to Power Guarantee\\nAccordin...</td>\n",
       "      <td>energy</td>\n",
       "      <td>4</td>\n",
       "    </tr>\n",
       "    <tr>\n",
       "      <th>311</th>\n",
       "      <td>Etileno XXI</td>\n",
       "      <td>Etileno XXI\\nEtileno XXI (the Project) is the ...</td>\n",
       "      <td>construction</td>\n",
       "      <td>2</td>\n",
       "    </tr>\n",
       "  </tbody>\n",
       "</table>\n",
       "</div>"
      ],
      "text/plain": [
       "                                                 title  \\\n",
       "43                          Cusco Regional Development   \n",
       "60   IN Uttar Pradesh Water Sector Restructuring Pr...   \n",
       "101  Coastal Watersheds Conservation in the Context...   \n",
       "235               Senegal Banda Gas to Power Guarantee   \n",
       "311                                        Etileno XXI   \n",
       "\n",
       "                                               content  \\\n",
       "43   Cusco Regional Development\\nThe Cusco Regional...   \n",
       "60   IN Uttar Pradesh Water Sector Restructuring Pr...   \n",
       "101  Coastal Watersheds Conservation in the Context...   \n",
       "235  Senegal Banda Gas to Power Guarantee\\nAccordin...   \n",
       "311  Etileno XXI\\nEtileno XXI (the Project) is the ...   \n",
       "\n",
       "                       sector  target  \n",
       "43         industry and trade       6  \n",
       "60       water and sanitation       9  \n",
       "101  agriculture and forestry       0  \n",
       "235                    energy       4  \n",
       "311              construction       2  "
      ]
     },
     "execution_count": 30,
     "metadata": {},
     "output_type": "execute_result"
    }
   ],
   "source": [
    "top_df.head()"
   ]
  },
  {
   "cell_type": "code",
   "execution_count": 31,
   "metadata": {
    "ExecuteTime": {
     "end_time": "2018-06-24T18:52:35.870055Z",
     "start_time": "2018-06-24T18:52:35.784359Z"
    }
   },
   "outputs": [],
   "source": [
    "from scipy.stats import randint\n",
    "from sklearn.linear_model import LogisticRegression\n",
    "from sklearn.ensemble import RandomForestClassifier\n",
    "from sklearn.pipeline import Pipeline\n",
    "from sklearn.model_selection import train_test_split, GridSearchCV, RandomizedSearchCV\n",
    "from sklearn.preprocessing import Imputer, StandardScaler, FunctionTransformer\n",
    "from sklearn.metrics import precision_recall_curve, confusion_matrix, roc_auc_score\n",
    "from sklearn.preprocessing import StandardScaler\n",
    "from sklearn.linear_model import LogisticRegression\n",
    "from sklearn.preprocessing import Imputer"
   ]
  },
  {
   "cell_type": "code",
   "execution_count": 32,
   "metadata": {
    "ExecuteTime": {
     "end_time": "2018-06-24T18:52:36.544874Z",
     "start_time": "2018-06-24T18:52:36.542267Z"
    }
   },
   "outputs": [],
   "source": [
    "xdata =  top_df['content']\n",
    "ydata = top_df['target']"
   ]
  },
  {
   "cell_type": "code",
   "execution_count": 33,
   "metadata": {
    "ExecuteTime": {
     "end_time": "2018-06-24T18:52:36.854368Z",
     "start_time": "2018-06-24T18:52:36.850744Z"
    }
   },
   "outputs": [],
   "source": [
    "X_train, X_test, y_train, y_test = train_test_split(xdata,ydata, test_size = 0.2, random_state = 1)"
   ]
  },
  {
   "cell_type": "code",
   "execution_count": 34,
   "metadata": {
    "ExecuteTime": {
     "end_time": "2018-06-24T18:52:37.065969Z",
     "start_time": "2018-06-24T18:52:37.062776Z"
    }
   },
   "outputs": [],
   "source": [
    "ml_pipeline = Pipeline([\n",
    "    ('tfidf', TfidfVectorizer(stop_words='english', min_df=5, max_df=0.9)),\n",
    "    ('scaler', StandardScaler(with_mean=False)),\n",
    "    ('logreg', LogisticRegression(class_weight = \"balanced\", multi_class='ovr'))])"
   ]
  },
  {
   "cell_type": "code",
   "execution_count": 69,
   "metadata": {
    "ExecuteTime": {
     "end_time": "2018-06-24T18:56:09.378433Z",
     "start_time": "2018-06-24T18:56:09.374575Z"
    }
   },
   "outputs": [
    {
     "data": {
      "text/plain": [
       "array(['agriculture and forestry', 'communications', 'construction',\n",
       "       'education and health', 'energy', 'finance', 'industry and trade',\n",
       "       'infrastructure', 'transport', 'water and sanitation'],\n",
       "      dtype=object)"
      ]
     },
     "execution_count": 69,
     "metadata": {},
     "output_type": "execute_result"
    }
   ],
   "source": [
    "le.classes_"
   ]
  },
  {
   "cell_type": "code",
   "execution_count": 35,
   "metadata": {
    "ExecuteTime": {
     "end_time": "2018-06-24T18:52:37.562093Z",
     "start_time": "2018-06-24T18:52:37.559543Z"
    }
   },
   "outputs": [],
   "source": [
    "#no param testing yet, no text cleaning either"
   ]
  },
  {
   "cell_type": "code",
   "execution_count": 36,
   "metadata": {
    "ExecuteTime": {
     "end_time": "2018-06-24T18:52:38.005830Z",
     "start_time": "2018-06-24T18:52:37.661269Z"
    }
   },
   "outputs": [
    {
     "data": {
      "text/plain": [
       "Pipeline(memory=None,\n",
       "     steps=[('tfidf', TfidfVectorizer(analyzer='word', binary=False, decode_error='strict',\n",
       "        dtype=<class 'numpy.int64'>, encoding='utf-8', input='content',\n",
       "        lowercase=True, max_df=0.9, max_features=None, min_df=5,\n",
       "        ngram_range=(1, 1), norm='l2', preprocessor=None, smooth_idf=True,\n",
       " ...ty='l2', random_state=None,\n",
       "          solver='liblinear', tol=0.0001, verbose=0, warm_start=False))])"
      ]
     },
     "execution_count": 36,
     "metadata": {},
     "output_type": "execute_result"
    }
   ],
   "source": [
    "ml_pipeline.fit(X_train, y_train)"
   ]
  },
  {
   "cell_type": "code",
   "execution_count": 37,
   "metadata": {
    "ExecuteTime": {
     "end_time": "2018-06-24T18:52:38.058957Z",
     "start_time": "2018-06-24T18:52:38.007794Z"
    }
   },
   "outputs": [
    {
     "name": "stdout",
     "output_type": "stream",
     "text": [
      "----confusion matrix----\n",
      "[[ 3  0  0  1  1  1  0  0  1  1]\n",
      " [ 0  1  0  0  0  0  1  0  1  0]\n",
      " [ 0  0  1  0  2  0  0  1  0  1]\n",
      " [ 1  0  0  4  1  1  1  0  0  0]\n",
      " [ 0  0  0  0 25  0  1  0  0  0]\n",
      " [ 0  0  0  1  6  9  0  0  1  0]\n",
      " [ 1  0  0  0  2  0  0  2  1  1]\n",
      " [ 0  1  0  0  4  0  0  7  2  1]\n",
      " [ 0  0  0  0  0  0  0  2 11  1]\n",
      " [ 1  0  0  0  0  1  1  0  1  3]]\n",
      "----classification report----\n",
      "             precision    recall  f1-score   support\n",
      "\n",
      "          0       0.50      0.38      0.43         8\n",
      "          1       0.50      0.33      0.40         3\n",
      "          2       1.00      0.20      0.33         5\n",
      "          3       0.67      0.50      0.57         8\n",
      "          4       0.61      0.96      0.75        26\n",
      "          5       0.75      0.53      0.62        17\n",
      "          6       0.00      0.00      0.00         7\n",
      "          7       0.58      0.47      0.52        15\n",
      "          8       0.61      0.79      0.69        14\n",
      "          9       0.38      0.43      0.40         7\n",
      "\n",
      "avg / total       0.59      0.58      0.55       110\n",
      "\n"
     ]
    }
   ],
   "source": [
    "x_pred_test = ml_pipeline.predict(X_test)\n",
    "\n",
    "from sklearn import metrics\n",
    "print(\"----confusion matrix----\")\n",
    "print(metrics.confusion_matrix(y_test, x_pred_test))\n",
    "\n",
    "print(\"----classification report----\")\n",
    "print(metrics.classification_report(y_test, x_pred_test))"
   ]
  },
  {
   "cell_type": "code",
   "execution_count": 38,
   "metadata": {
    "ExecuteTime": {
     "end_time": "2018-06-24T18:52:47.441144Z",
     "start_time": "2018-06-24T18:52:47.434485Z"
    }
   },
   "outputs": [],
   "source": [
    "df_conf = pd.DataFrame(dict(s1 = y_test, s2 = x_pred_test)).reset_index()\n",
    "df_conf.columns = [['old_index', 'y_test','x_pred']]\n"
   ]
  },
  {
   "cell_type": "code",
   "execution_count": null,
   "metadata": {},
   "outputs": [],
   "source": []
  },
  {
   "cell_type": "code",
   "execution_count": 39,
   "metadata": {
    "ExecuteTime": {
     "end_time": "2018-06-24T18:52:48.324569Z",
     "start_time": "2018-06-24T18:52:48.284559Z"
    }
   },
   "outputs": [
    {
     "name": "stderr",
     "output_type": "stream",
     "text": [
      "/usr/local/anaconda3/envs/py36/lib/python3.6/site-packages/ipykernel/__main__.py:2: SettingWithCopyWarning: \n",
      "A value is trying to be set on a copy of a slice from a DataFrame\n",
      "\n",
      "See the caveats in the documentation: http://pandas.pydata.org/pandas-docs/stable/indexing.html#indexing-view-versus-copy\n",
      "  from ipykernel import kernelapp as app\n"
     ]
    }
   ],
   "source": [
    "labeled_targets = top_df[['sector', 'target']]\n",
    "labeled_targets.drop_duplicates(inplace = True)"
   ]
  },
  {
   "cell_type": "code",
   "execution_count": 40,
   "metadata": {
    "ExecuteTime": {
     "end_time": "2018-06-24T18:52:48.769814Z",
     "start_time": "2018-06-24T18:52:48.763279Z"
    }
   },
   "outputs": [
    {
     "data": {
      "text/plain": [
       "array([6, 9, 0, 4, 2, 1, 5, 3, 8, 7])"
      ]
     },
     "execution_count": 40,
     "metadata": {},
     "output_type": "execute_result"
    }
   ],
   "source": [
    "labeled_targets.target.unique()"
   ]
  },
  {
   "cell_type": "code",
   "execution_count": 41,
   "metadata": {
    "ExecuteTime": {
     "end_time": "2018-06-24T18:52:49.071599Z",
     "start_time": "2018-06-24T18:52:49.068116Z"
    }
   },
   "outputs": [],
   "source": [
    "sectors = labeled_targets.sector.unique()\n",
    "labels = labeled_targets.target.unique()\n",
    "label_dict = {}\n",
    "for i in range(0, len(sectors)):\n",
    "    label_dict[labels[i]] = sectors[i]"
   ]
  },
  {
   "cell_type": "code",
   "execution_count": 42,
   "metadata": {
    "ExecuteTime": {
     "end_time": "2018-06-24T18:52:49.424588Z",
     "start_time": "2018-06-24T18:52:49.420627Z"
    }
   },
   "outputs": [
    {
     "data": {
      "text/plain": [
       "{6: 'industry and trade',\n",
       " 9: 'water and sanitation',\n",
       " 0: 'agriculture and forestry',\n",
       " 4: 'energy',\n",
       " 2: 'construction',\n",
       " 1: 'communications',\n",
       " 5: 'finance',\n",
       " 3: 'education and health',\n",
       " 8: 'transport',\n",
       " 7: 'infrastructure'}"
      ]
     },
     "execution_count": 42,
     "metadata": {},
     "output_type": "execute_result"
    }
   ],
   "source": [
    "label_dict"
   ]
  },
  {
   "cell_type": "code",
   "execution_count": 56,
   "metadata": {
    "ExecuteTime": {
     "end_time": "2018-06-24T18:53:28.168605Z",
     "start_time": "2018-06-24T18:53:25.893746Z"
    }
   },
   "outputs": [
    {
     "name": "stdout",
     "output_type": "stream",
     "text": [
      "Requirement already satisfied: pandas_ml in /usr/local/anaconda3/envs/py36/lib/python3.6/site-packages (0.5.0)\n",
      "Collecting yellowbrick\n",
      "  Using cached https://files.pythonhosted.org/packages/16/c7/e78d507a55cdde7e05050b59a073f5bf8f927240375f6aa870c591fcf707/yellowbrick-0.7-py2.py3-none-any.whl\n",
      "Requirement already satisfied: pandas>=0.17.0 in /usr/local/anaconda3/envs/py36/lib/python3.6/site-packages (from pandas_ml) (0.23.0)\n",
      "Requirement already satisfied: enum34 in /usr/local/anaconda3/envs/py36/lib/python3.6/site-packages (from pandas_ml) (1.1.6)\n",
      "Requirement already satisfied: scikit-learn>=0.19 in /usr/local/anaconda3/envs/py36/lib/python3.6/site-packages (from yellowbrick) (0.19.1)\n",
      "Requirement already satisfied: cycler>=0.10.0 in /usr/local/anaconda3/envs/py36/lib/python3.6/site-packages (from yellowbrick) (0.10.0)\n",
      "Requirement already satisfied: numpy>=1.13.0 in /usr/local/anaconda3/envs/py36/lib/python3.6/site-packages (from yellowbrick) (1.14.1)\n",
      "Requirement already satisfied: matplotlib>=1.5.1 in /usr/local/anaconda3/envs/py36/lib/python3.6/site-packages (from yellowbrick) (2.2.2)\n",
      "Requirement already satisfied: scipy>=0.19 in /usr/local/anaconda3/envs/py36/lib/python3.6/site-packages (from yellowbrick) (1.1.0)\n",
      "Requirement already satisfied: python-dateutil>=2.5.0 in /usr/local/anaconda3/envs/py36/lib/python3.6/site-packages (from pandas>=0.17.0->pandas_ml) (2.7.3)\n",
      "Requirement already satisfied: pytz>=2011k in /usr/local/anaconda3/envs/py36/lib/python3.6/site-packages (from pandas>=0.17.0->pandas_ml) (2018.4)\n",
      "Requirement already satisfied: six in /usr/local/anaconda3/envs/py36/lib/python3.6/site-packages (from cycler>=0.10.0->yellowbrick) (1.11.0)\n",
      "Requirement already satisfied: pyparsing!=2.0.4,!=2.1.2,!=2.1.6,>=2.0.1 in /usr/local/anaconda3/envs/py36/lib/python3.6/site-packages (from matplotlib>=1.5.1->yellowbrick) (2.2.0)\n",
      "Requirement already satisfied: kiwisolver>=1.0.1 in /usr/local/anaconda3/envs/py36/lib/python3.6/site-packages (from matplotlib>=1.5.1->yellowbrick) (1.0.1)\n",
      "Requirement already satisfied: setuptools in /usr/local/anaconda3/envs/py36/lib/python3.6/site-packages (from kiwisolver>=1.0.1->matplotlib>=1.5.1->yellowbrick) (39.1.0)\n",
      "\u001b[31mdistributed 1.21.8 requires msgpack, which is not installed.\u001b[0m\n",
      "\u001b[31mkeras-preprocessing 1.0.1 has requirement keras>=2.1.6, but you'll have keras 2.1.4 which is incompatible.\u001b[0m\n",
      "\u001b[31mkeras-applications 1.0.2 has requirement keras>=2.1.6, but you'll have keras 2.1.4 which is incompatible.\u001b[0m\n",
      "\u001b[31mcoremltools 0.8 has requirement six==1.10.0, but you'll have six 1.11.0 which is incompatible.\u001b[0m\n",
      "Installing collected packages: yellowbrick\n",
      "Successfully installed yellowbrick-0.7\n"
     ]
    }
   ],
   "source": [
    "!pip install pandas_ml yellowbrick"
   ]
  },
  {
   "cell_type": "code",
   "execution_count": 57,
   "metadata": {
    "ExecuteTime": {
     "end_time": "2018-06-24T18:53:28.632850Z",
     "start_time": "2018-06-24T18:53:28.629768Z"
    }
   },
   "outputs": [],
   "source": [
    "from pandas_ml import ConfusionMatrix"
   ]
  },
  {
   "cell_type": "code",
   "execution_count": 58,
   "metadata": {
    "ExecuteTime": {
     "end_time": "2018-06-24T18:53:29.224249Z",
     "start_time": "2018-06-24T18:53:29.220650Z"
    }
   },
   "outputs": [],
   "source": [
    "y_true = df_conf['y_test']"
   ]
  },
  {
   "cell_type": "code",
   "execution_count": 59,
   "metadata": {
    "ExecuteTime": {
     "end_time": "2018-06-24T18:53:29.526485Z",
     "start_time": "2018-06-24T18:53:29.523994Z"
    }
   },
   "outputs": [],
   "source": [
    "def get_label(x):\n",
    "    return label_dict[x]\n",
    "    "
   ]
  },
  {
   "cell_type": "code",
   "execution_count": 60,
   "metadata": {
    "ExecuteTime": {
     "end_time": "2018-06-24T18:53:29.723978Z",
     "start_time": "2018-06-24T18:53:29.719146Z"
    }
   },
   "outputs": [
    {
     "name": "stderr",
     "output_type": "stream",
     "text": [
      "/usr/local/anaconda3/envs/py36/lib/python3.6/site-packages/ipykernel/__main__.py:2: DeprecationWarning: \n",
      ".ix is deprecated. Please use\n",
      ".loc for label based indexing or\n",
      ".iloc for positional indexing\n",
      "\n",
      "See the documentation here:\n",
      "http://pandas.pydata.org/pandas-docs/stable/indexing.html#ix-indexer-is-deprecated\n",
      "  from ipykernel import kernelapp as app\n"
     ]
    }
   ],
   "source": [
    "true_labels = []\n",
    "for i in df_conf['y_test'].ix[:, 0].tolist():\n",
    "    true_labels.append(label_dict[i])"
   ]
  },
  {
   "cell_type": "code",
   "execution_count": 61,
   "metadata": {
    "ExecuteTime": {
     "end_time": "2018-06-24T18:53:29.985370Z",
     "start_time": "2018-06-24T18:53:29.981213Z"
    }
   },
   "outputs": [
    {
     "name": "stderr",
     "output_type": "stream",
     "text": [
      "/usr/local/anaconda3/envs/py36/lib/python3.6/site-packages/ipykernel/__main__.py:2: DeprecationWarning: \n",
      ".ix is deprecated. Please use\n",
      ".loc for label based indexing or\n",
      ".iloc for positional indexing\n",
      "\n",
      "See the documentation here:\n",
      "http://pandas.pydata.org/pandas-docs/stable/indexing.html#ix-indexer-is-deprecated\n",
      "  from ipykernel import kernelapp as app\n"
     ]
    }
   ],
   "source": [
    "pred_labels = []\n",
    "for i in df_conf['x_pred'].ix[:, 0].tolist():\n",
    "    pred_labels.append(label_dict[i])"
   ]
  },
  {
   "cell_type": "code",
   "execution_count": 62,
   "metadata": {
    "ExecuteTime": {
     "end_time": "2018-06-24T18:53:30.519680Z",
     "start_time": "2018-06-24T18:53:30.492210Z"
    }
   },
   "outputs": [
    {
     "name": "stdout",
     "output_type": "stream",
     "text": [
      "Confusion matrix:\n",
      "Predicted                 agriculture and forestry  communications  \\\n",
      "Actual                                                               \n",
      "agriculture and forestry                         3               0   \n",
      "communications                                   0               1   \n",
      "construction                                     0               0   \n",
      "education and health                             1               0   \n",
      "energy                                           0               0   \n",
      "finance                                          0               0   \n",
      "industry and trade                               1               0   \n",
      "infrastructure                                   0               1   \n",
      "transport                                        0               0   \n",
      "water and sanitation                             1               0   \n",
      "__all__                                          6               2   \n",
      "\n",
      "Predicted                 construction  education and health  energy  finance  \\\n",
      "Actual                                                                          \n",
      "agriculture and forestry             0                     1       1        1   \n",
      "communications                       0                     0       0        0   \n",
      "construction                         1                     0       2        0   \n",
      "education and health                 0                     4       1        1   \n",
      "energy                               0                     0      25        0   \n",
      "finance                              0                     1       6        9   \n",
      "industry and trade                   0                     0       2        0   \n",
      "infrastructure                       0                     0       4        0   \n",
      "transport                            0                     0       0        0   \n",
      "water and sanitation                 0                     0       0        1   \n",
      "__all__                              1                     6      41       12   \n",
      "\n",
      "Predicted                 industry and trade  infrastructure  transport  \\\n",
      "Actual                                                                    \n",
      "agriculture and forestry                   0               0          1   \n",
      "communications                             1               0          1   \n",
      "construction                               0               1          0   \n",
      "education and health                       1               0          0   \n",
      "energy                                     1               0          0   \n",
      "finance                                    0               0          1   \n",
      "industry and trade                         0               2          1   \n",
      "infrastructure                             0               7          2   \n",
      "transport                                  0               2         11   \n",
      "water and sanitation                       1               0          1   \n",
      "__all__                                    4              12         18   \n",
      "\n",
      "Predicted                 water and sanitation  __all__  \n",
      "Actual                                                   \n",
      "agriculture and forestry                     1        8  \n",
      "communications                               0        3  \n",
      "construction                                 1        5  \n",
      "education and health                         0        8  \n",
      "energy                                       0       26  \n",
      "finance                                      0       17  \n",
      "industry and trade                           1        7  \n",
      "infrastructure                               1       15  \n",
      "transport                                    1       14  \n",
      "water and sanitation                         3        7  \n",
      "__all__                                      8      110  \n"
     ]
    }
   ],
   "source": [
    "confusion_matrix = ConfusionMatrix(true_labels, pred_labels)\n",
    "print(\"Confusion matrix:\\n%s\" % confusion_matrix)"
   ]
  },
  {
   "cell_type": "code",
   "execution_count": 63,
   "metadata": {
    "ExecuteTime": {
     "end_time": "2018-06-24T18:53:31.056638Z",
     "start_time": "2018-06-24T18:53:30.796074Z"
    }
   },
   "outputs": [
    {
     "data": {
      "text/plain": [
       "<matplotlib.axes._subplots.AxesSubplot at 0x1a1494f128>"
      ]
     },
     "execution_count": 63,
     "metadata": {},
     "output_type": "execute_result"
    },
    {
     "data": {
      "image/png": "[encoded data removed]",
      "text/plain": [
       "<Figure size 648x576 with 2 Axes>"
      ]
     },
     "metadata": {},
     "output_type": "display_data"
    }
   ],
   "source": [
    "import matplotlib.pyplot as plt\n",
    "\n",
    "confusion_matrix.plot()"
   ]
  },
  {
   "cell_type": "code",
   "execution_count": null,
   "metadata": {},
   "outputs": [],
   "source": []
  },
  {
   "cell_type": "code",
   "execution_count": 71,
   "metadata": {
    "ExecuteTime": {
     "end_time": "2018-06-24T18:56:31.234194Z",
     "start_time": "2018-06-24T18:56:31.182523Z"
    }
   },
   "outputs": [
    {
     "name": "stderr",
     "output_type": "stream",
     "text": [
      "/usr/local/anaconda3/envs/py36/lib/python3.6/site-packages/sklearn/metrics/classification.py:258: FutureWarning: elementwise comparison failed; returning scalar instead, but in the future will perform elementwise comparison\n",
      "  if np.all([l not in y_true for l in labels]):\n"
     ]
    },
    {
     "ename": "ValueError",
     "evalue": "At least one label specified must be in y_true",
     "output_type": "error",
     "traceback": [
      "\u001b[0;31m---------------------------------------------------------------------------\u001b[0m",
      "\u001b[0;31mValueError\u001b[0m                                Traceback (most recent call last)",
      "\u001b[0;32m<ipython-input-71-1ea520c4a59a>\u001b[0m in \u001b[0;36m<module>\u001b[0;34m()\u001b[0m\n\u001b[1;32m      5\u001b[0m \u001b[0mcm\u001b[0m \u001b[0;34m=\u001b[0m \u001b[0mConfusionMatrix\u001b[0m\u001b[0;34m(\u001b[0m\u001b[0mml_pipeline\u001b[0m\u001b[0;34m,\u001b[0m \u001b[0mclasses\u001b[0m\u001b[0;34m=\u001b[0m\u001b[0mlist\u001b[0m\u001b[0;34m(\u001b[0m\u001b[0mle\u001b[0m\u001b[0;34m.\u001b[0m\u001b[0mclasses_\u001b[0m\u001b[0;34m)\u001b[0m\u001b[0;34m)\u001b[0m\u001b[0;34m\u001b[0m\u001b[0m\n\u001b[1;32m      6\u001b[0m \u001b[0;34m\u001b[0m\u001b[0m\n\u001b[0;32m----> 7\u001b[0;31m \u001b[0mcm\u001b[0m\u001b[0;34m.\u001b[0m\u001b[0mscore\u001b[0m\u001b[0;34m(\u001b[0m\u001b[0mX_test\u001b[0m\u001b[0;34m,\u001b[0m \u001b[0my_test\u001b[0m\u001b[0;34m)\u001b[0m\u001b[0;34m\u001b[0m\u001b[0m\n\u001b[0m\u001b[1;32m      8\u001b[0m \u001b[0;34m\u001b[0m\u001b[0m\n\u001b[1;32m      9\u001b[0m \u001b[0mcm\u001b[0m\u001b[0;34m.\u001b[0m\u001b[0mpoof\u001b[0m\u001b[0;34m(\u001b[0m\u001b[0;34m)\u001b[0m\u001b[0;34m\u001b[0m\u001b[0m\n",
      "\u001b[0;32m/usr/local/anaconda3/envs/py36/lib/python3.6/site-packages/yellowbrick/classifier/confusion_matrix.py\u001b[0m in \u001b[0;36mscore\u001b[0;34m(self, X, y, **kwargs)\u001b[0m\n\u001b[1;32m    175\u001b[0m         \u001b[0;31m# Compute the confusion matrix and class counts\u001b[0m\u001b[0;34m\u001b[0m\u001b[0;34m\u001b[0m\u001b[0m\n\u001b[1;32m    176\u001b[0m         self.confusion_matrix_ = confusion_matrix_metric(\n\u001b[0;32m--> 177\u001b[0;31m             \u001b[0my\u001b[0m\u001b[0;34m,\u001b[0m \u001b[0my_pred\u001b[0m\u001b[0;34m,\u001b[0m \u001b[0mlabels\u001b[0m\u001b[0;34m=\u001b[0m\u001b[0mself\u001b[0m\u001b[0;34m.\u001b[0m\u001b[0mclasses_\u001b[0m\u001b[0;34m,\u001b[0m \u001b[0msample_weight\u001b[0m\u001b[0;34m=\u001b[0m\u001b[0mself\u001b[0m\u001b[0;34m.\u001b[0m\u001b[0msample_weight\u001b[0m\u001b[0;34m\u001b[0m\u001b[0m\n\u001b[0m\u001b[1;32m    178\u001b[0m         )\n\u001b[1;32m    179\u001b[0m         \u001b[0mself\u001b[0m\u001b[0;34m.\u001b[0m\u001b[0mclass_counts_\u001b[0m \u001b[0;34m=\u001b[0m \u001b[0mself\u001b[0m\u001b[0;34m.\u001b[0m\u001b[0mclass_counts\u001b[0m\u001b[0;34m(\u001b[0m\u001b[0my\u001b[0m\u001b[0;34m)\u001b[0m\u001b[0;34m\u001b[0m\u001b[0m\n",
      "\u001b[0;32m/usr/local/anaconda3/envs/py36/lib/python3.6/site-packages/sklearn/metrics/classification.py\u001b[0m in \u001b[0;36mconfusion_matrix\u001b[0;34m(y_true, y_pred, labels, sample_weight)\u001b[0m\n\u001b[1;32m    257\u001b[0m         \u001b[0mlabels\u001b[0m \u001b[0;34m=\u001b[0m \u001b[0mnp\u001b[0m\u001b[0;34m.\u001b[0m\u001b[0masarray\u001b[0m\u001b[0;34m(\u001b[0m\u001b[0mlabels\u001b[0m\u001b[0;34m)\u001b[0m\u001b[0;34m\u001b[0m\u001b[0m\n\u001b[1;32m    258\u001b[0m         \u001b[0;32mif\u001b[0m \u001b[0mnp\u001b[0m\u001b[0;34m.\u001b[0m\u001b[0mall\u001b[0m\u001b[0;34m(\u001b[0m\u001b[0;34m[\u001b[0m\u001b[0ml\u001b[0m \u001b[0;32mnot\u001b[0m \u001b[0;32min\u001b[0m \u001b[0my_true\u001b[0m \u001b[0;32mfor\u001b[0m \u001b[0ml\u001b[0m \u001b[0;32min\u001b[0m \u001b[0mlabels\u001b[0m\u001b[0;34m]\u001b[0m\u001b[0;34m)\u001b[0m\u001b[0;34m:\u001b[0m\u001b[0;34m\u001b[0m\u001b[0m\n\u001b[0;32m--> 259\u001b[0;31m             \u001b[0;32mraise\u001b[0m \u001b[0mValueError\u001b[0m\u001b[0;34m(\u001b[0m\u001b[0;34m\"At least one label specified must be in y_true\"\u001b[0m\u001b[0;34m)\u001b[0m\u001b[0;34m\u001b[0m\u001b[0m\n\u001b[0m\u001b[1;32m    260\u001b[0m \u001b[0;34m\u001b[0m\u001b[0m\n\u001b[1;32m    261\u001b[0m     \u001b[0;32mif\u001b[0m \u001b[0msample_weight\u001b[0m \u001b[0;32mis\u001b[0m \u001b[0;32mNone\u001b[0m\u001b[0;34m:\u001b[0m\u001b[0;34m\u001b[0m\u001b[0m\n",
      "\u001b[0;31mValueError\u001b[0m: At least one label specified must be in y_true"
     ]
    }
   ],
   "source": [
    "from yellowbrick.classifier import ConfusionMatrix\n",
    "#model = trained scikitlean model\n",
    "\n",
    "# The ConfusionMatrix visualizer taxes a model\n",
    "cm = ConfusionMatrix(ml_pipeline, classes=list(le.classes_))\n",
    "\n",
    "cm.score(X_test, y_test)\n",
    "\n",
    "cm.poof()"
   ]
  },
  {
   "cell_type": "code",
   "execution_count": null,
   "metadata": {},
   "outputs": [],
   "source": []
  },
  {
   "cell_type": "code",
   "execution_count": null,
   "metadata": {},
   "outputs": [],
   "source": []
  },
  {
   "cell_type": "code",
   "execution_count": 66,
   "metadata": {
    "ExecuteTime": {
     "end_time": "2018-06-24T18:53:50.284012Z",
     "start_time": "2018-06-24T18:53:50.276557Z"
    }
   },
   "outputs": [],
   "source": [
    "import pandas as pd\n",
    "from sklearn.feature_extraction.text import TfidfVectorizer, CountVectorizer\n",
    "from sklearn import manifold\n",
    "from yellowbrick.text import TSNEVisualizer\n",
    "from sklearn.feature_extraction.text import TfidfVectorizer"
   ]
  },
  {
   "cell_type": "code",
   "execution_count": 67,
   "metadata": {
    "ExecuteTime": {
     "end_time": "2018-06-24T18:54:02.969225Z",
     "start_time": "2018-06-24T18:53:50.499520Z"
    }
   },
   "outputs": [
    {
     "data": {
      "image/png": "[encoded data removed]",
      "text/plain": [
       "<Figure size 576x396 with 1 Axes>"
      ]
     },
     "metadata": {},
     "output_type": "display_data"
    }
   ],
   "source": [
    "tsne = TSNEVisualizer()\n",
    "tsne.fit(docs, labels)\n",
    "tsne.poof()"
   ]
  },
  {
   "cell_type": "code",
   "execution_count": null,
   "metadata": {},
   "outputs": [],
   "source": [
    "merged"
   ]
  },
  {
   "cell_type": "code",
   "execution_count": null,
   "metadata": {},
   "outputs": [],
   "source": []
  }
 ],
 "metadata": {
  "kernelspec": {
   "display_name": "Python [default]",
   "language": "python",
   "name": "python3"
  },
  "language_info": {
   "codemirror_mode": {
    "name": "ipython",
    "version": 3
   },
   "file_extension": ".py",
   "mimetype": "text/x-python",
   "name": "python",
   "nbconvert_exporter": "python",
   "pygments_lexer": "ipython3",
   "version": "3.6.5"
  }
 },
 "nbformat": 4,
 "nbformat_minor": 2
}
